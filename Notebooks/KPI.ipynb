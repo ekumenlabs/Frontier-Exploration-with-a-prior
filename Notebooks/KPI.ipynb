{
 "cells": [
  {
   "cell_type": "code",
   "execution_count": 1,
   "id": "c635d2d3-1197-447f-bece-023d9964ea99",
   "metadata": {},
   "outputs": [],
   "source": [
    "import bagpy\n",
    "from typing import *\n",
    "from os.path import join, exists\n",
    "from glob import glob\n",
    "import numpy as np\n",
    "import matplotlib.pyplot as plt"
   ]
  },
  {
   "cell_type": "code",
   "execution_count": 8,
   "id": "809a0ead-54e0-4e95-9327-27c9d8ab23ef",
   "metadata": {},
   "outputs": [],
   "source": [
    "def get_results_from_folder(folder: str) -> Dict[str, Tuple[List[float], List[float]]]:\n",
    "    utn_path = join(folder, \"UTN\")\n",
    "    maryland_path = join(folder, \"MARYLAND\")\n",
    "    if not exists(utn_path) or not exists(maryland_path):\n",
    "        print(f\"Skipping {folder} because of not having both maryland and UTN\")\n",
    "        return None\n",
    "    utn_bag_file = glob(join(utn_path, \"*.bag.active\"))[0]\n",
    "    maryland_bag_file = glob(join(maryland_path, \"*.bag.active\"))[0]\n",
    "    reader_utn = bagpy.bagreader(utn_bag_file)\n",
    "    reader_maryland = bagpy.bagreader(maryland_bag_file)\n",
    "    \n",
    "    def get_times_and_explores(reader: bagpy.bagreader) -> Tuple[List[float], List[float]]:\n",
    "        amt_of_non_unknown = []\n",
    "        timestamps = []\n",
    "        img_data =  reader.reader.read_messages(\"/map\")\n",
    "        i = 0\n",
    "        for d in img_data:\n",
    "            img = np.asarray(d.message.data)\n",
    "            amt_of_non_unknown.append(np.count_nonzero(img != -1))\n",
    "            timestamps.append(d.timestamp.to_sec())\n",
    "        timestamps = [t - timestamps[0] for t in timestamps]\n",
    "        amt_of_non_unknown = [0.0025 * item for item in amt_of_non_unknown]\n",
    "        return (timestamps, amt_of_non_unknown)\n",
    "    res = {\"UTN\": get_times_and_explores(reader_utn), \"MARYLAND\": get_times_and_explores(reader_maryland)}\n",
    "    return res"
   ]
  },
  {
   "cell_type": "code",
   "execution_count": 9,
   "id": "e31502b4-3f92-4b6e-8cef-209aed7c0c6b",
   "metadata": {},
   "outputs": [
    {
     "name": "stdout",
     "output_type": "stream",
     "text": [
      "[INFO]  Data folder /home/ramiro/Frontier-Exploration-with-a-prior/src/ROS/create_autonomy/outputs/test_3/UTN/2022-10-14-04-06-33.bag.ac already exists. Not creating.\n",
      "[INFO]  Data folder /home/ramiro/Frontier-Exploration-with-a-prior/src/ROS/create_autonomy/outputs/test_3/MARYLAND/2022-10-14-04-06-08.bag.ac already exists. Not creating.\n"
     ]
    }
   ],
   "source": [
    "res = get_results_from_folder(\"/home/ramiro/Frontier-Exploration-with-a-prior/src/ROS/create_autonomy/outputs/test_3\")"
   ]
  },
  {
   "cell_type": "code",
   "execution_count": 10,
   "id": "e7e7fd03-17ec-4413-b797-899cb678a114",
   "metadata": {},
   "outputs": [],
   "source": [
    "def plot_result(res: Dict):\n",
    "    plt.plot(res[\"UTN\"][0], res[\"UTN\"][1], label=\"UTN\")\n",
    "    plt.plot(res[\"MARYLAND\"][0], res[\"MARYLAND\"][1], label=\"MARYLAND\")\n",
    "    plt.legend()"
   ]
  },
  {
   "cell_type": "code",
   "execution_count": 11,
   "id": "bb8f5cb2-38e1-4ded-9154-a960fc756c32",
   "metadata": {},
   "outputs": [
    {
     "data": {
      "image/png": "[encoded data removed]",
      "text/plain": [
       "<Figure size 432x288 with 1 Axes>"
      ]
     },
     "metadata": {
      "needs_background": "light"
     },
     "output_type": "display_data"
    }
   ],
   "source": [
    "\n",
    "plot_result(res)"
   ]
  },
  {
   "cell_type": "code",
   "execution_count": 5,
   "id": "ad71651d-9019-41d9-a17c-352246f1c1d4",
   "metadata": {},
   "outputs": [
    {
     "name": "stdout",
     "output_type": "stream",
     "text": [
      "[INFO]  Successfully created the data folder /home/ramiro/Frontier-Exploration-with-a-prior/src/ROS/create_autonomy/outputs/test_1/UTN/2022-10-14-03-50-58.bag.ac.\n"
     ]
    }
   ],
   "source": []
  }
 ],
 "metadata": {
  "kernelspec": {
   "display_name": "Python 3 (ipykernel)",
   "language": "python",
   "name": "python3"
  },
  "language_info": {
   "codemirror_mode": {
    "name": "ipython",
    "version": 3
   },
   "file_extension": ".py",
   "mimetype": "text/x-python",
   "name": "python",
   "nbconvert_exporter": "python",
   "pygments_lexer": "ipython3",
   "version": "3.8.10"
  }
 },
 "nbformat": 4,
 "nbformat_minor": 5
}
