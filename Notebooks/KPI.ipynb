{
 "cells": [
  {
   "cell_type": "code",
   "execution_count": 1,
   "id": "c635d2d3-1197-447f-bece-023d9964ea99",
   "metadata": {},
   "outputs": [],
   "source": [
    "import bagpy\n",
    "from typing import *\n",
    "from os.path import join, exists\n",
    "from glob import glob\n",
    "import numpy as np\n",
    "import matplotlib.pyplot as plt\n",
    "import pandas as pd"
   ]
  },
  {
   "cell_type": "code",
   "execution_count": 2,
   "id": "809a0ead-54e0-4e95-9327-27c9d8ab23ef",
   "metadata": {},
   "outputs": [],
   "source": [
    "def get_results_from_folder(folder: str) -> Dict[str, Tuple[List[float], List[float]]]:\n",
    "    utn_path = join(folder, \"UTN\")\n",
    "    maryland_path = join(folder, \"MARYLAND\")\n",
    "    if not exists(utn_path) or not exists(maryland_path):\n",
    "        print(f\"Skipping {folder} because of not having both maryland and UTN\")\n",
    "        return None\n",
    "    utn_bag_file = glob(join(utn_path, \"*.bag.active\"))[0]\n",
    "    maryland_bag_file = glob(join(maryland_path, \"*.bag.active\"))[0]\n",
    "    reader_utn = bagpy.bagreader(utn_bag_file)\n",
    "    reader_maryland = bagpy.bagreader(maryland_bag_file)\n",
    "    \n",
    "    def get_odom_df(odom: list) -> pd.DataFrame:\n",
    "        dic = {\"timestamp\": [], \"x\":[], \"y\": []}\n",
    "        for o in odom:\n",
    "            dic[\"timestamp\"].append(o.timestamp.to_sec())\n",
    "            dic[\"x\"].append(o.message.pose.pose.position.x)\n",
    "            dic[\"y\"].append(o.message.pose.pose.position.y)\n",
    "        df = pd.DataFrame(dic)\n",
    "        df[\"timestamp\"] -= dic[\"timestamp\"][0]\n",
    "        df = df.set_index(\"timestamp\")\n",
    "        # compute cumulative distance traveled\n",
    "        ret = df.copy()\n",
    "        ret[\"x_diff\"] = df.x - df.x.shift(1)\n",
    "        ret[\"y_diff\"] = df.y - df.y.shift(1)\n",
    "        # euclidean distance.\n",
    "        ret[\"dist\"] = (ret.x_diff ** 2 + ret.y_diff ** 2) ** 0.5\n",
    "        ret = ret.iloc[1:, :]\n",
    "        ret[\"cum_sum\"] = ret.dist.cumsum()\n",
    "        # remove duplicates\n",
    "        ret = ret[~ret.index.duplicated(keep=\"first\")]\n",
    "        return ret\n",
    "        \n",
    "    def get_explored_df(reader: bagpy.bagreader) -> pd.DataFrame:\n",
    "        img_data =  reader.reader.read_messages(\"/map\")\n",
    "        amt_of_non_unknown = []\n",
    "        timestamps = []\n",
    "        for d in img_data:\n",
    "            img = np.asarray(d.message.data)\n",
    "            amt_of_non_unknown.append(np.count_nonzero(img != -1))\n",
    "            timestamps.append(d.timestamp.to_sec())\n",
    "        amt_of_non_unknown = [0.0025 * item for item in amt_of_non_unknown]\n",
    "        dic = {\"timestamp\": timestamps, \"m_2_explored\": amt_of_non_unknown}\n",
    "        df = pd.DataFrame(dic)\n",
    "        df[\"timestamp\"] -= dic[\"timestamp\"][0]\n",
    "        df = df.set_index(\"timestamp\")\n",
    "        return df\n",
    "    \n",
    "    def get_times_and_explores(reader: bagpy.bagreader) -> Tuple[List[float], List[float]]:\n",
    "        gts_data =  reader.reader.read_messages(\"/create1/gts\")\n",
    "        explored_df = get_explored_df(reader)\n",
    "        odoms = []\n",
    "        for odom in gts_data:\n",
    "            odoms.append(odom)\n",
    "        odom_df = get_odom_df(odoms)\n",
    "        return (explored_df, odom_df)\n",
    "    res = {\"UTN\": get_times_and_explores(reader_utn), \"MARYLAND\": get_times_and_explores(reader_maryland)}\n",
    "    return res"
   ]
  },
  {
   "cell_type": "code",
   "execution_count": 132,
   "id": "e31502b4-3f92-4b6e-8cef-209aed7c0c6b",
   "metadata": {},
   "outputs": [
    {
     "name": "stdout",
     "output_type": "stream",
     "text": [
      "[INFO]  Data folder /home/ramiro/Frontier-Exploration-with-a-prior/src/ROS/create_autonomy/outputs/test_7/UTN/2022-10-14-04-04-47.bag.ac already exists. Not creating.\n",
      "[INFO]  Data folder /home/ramiro/Frontier-Exploration-with-a-prior/src/ROS/create_autonomy/outputs/test_7/MARYLAND/2022-10-14-04-02-03.bag.ac already exists. Not creating.\n"
     ]
    }
   ],
   "source": []
  },
  {
   "cell_type": "code",
   "execution_count": 15,
   "id": "e7e7fd03-17ec-4413-b797-899cb678a114",
   "metadata": {},
   "outputs": [],
   "source": [
    "def plot_result(res: Dict):\n",
    "    utn_df=  pd.merge_asof(res[\"UTN\"][0], res[\"UTN\"][1], on=\"timestamp\")\n",
    "    maryland_df=  pd.merge_asof(res[\"MARYLAND\"][0], res[\"MARYLAND\"][1], on=\"timestamp\")\n",
    "    utn_df = utn_df.dropna()\n",
    "    maryland_df = maryland_df.dropna()\n",
    "    \n",
    "    plt.plot( utn_df[\"cum_sum\"], utn_df[\"m_2_explored\"], label=\"UTN\")\n",
    "    plt.plot( maryland_df[\"cum_sum\"], maryland_df[\"m_2_explored\"], label=\"MARYLAND\")\n",
    "    plt.ylabel(\"Explored area [m2]\")\n",
    "    plt.xlabel(\"Distance travelled [m]\")\n",
    "    \n",
    "    plt.legend()\n",
    "     "
   ]
  },
  {
   "cell_type": "code",
   "execution_count": 16,
   "id": "ad71651d-9019-41d9-a17c-352246f1c1d4",
   "metadata": {},
   "outputs": [],
   "source": [
    "worlds_df = pd.read_pickle(\"/home/ramiro/.gazebo/worlds_df.pkl\")"
   ]
  },
  {
   "cell_type": "code",
   "execution_count": 7,
   "id": "c168be4b-7043-4449-ae3a-98feffa77034",
   "metadata": {},
   "outputs": [
    {
     "name": "stdout",
     "output_type": "stream",
     "text": [
      "[INFO]  Data folder /home/ramiro/Frontier-Exploration-with-a-prior/src/ROS/create_autonomy/outputs/test_3/UTN/2022-10-14-04-06-33.bag.ac already exists. Not creating.\n",
      "[INFO]  Data folder /home/ramiro/Frontier-Exploration-with-a-prior/src/ROS/create_autonomy/outputs/test_3/MARYLAND/2022-10-14-04-06-08.bag.ac already exists. Not creating.\n"
     ]
    }
   ],
   "source": [
    "res_3 = get_results_from_folder(\"/home/ramiro/Frontier-Exploration-with-a-prior/src/ROS/create_autonomy/outputs/test_3\")"
   ]
  },
  {
   "cell_type": "code",
   "execution_count": 11,
   "id": "b5c2460a-2124-4085-b820-9750b92e2703",
   "metadata": {},
   "outputs": [
    {
     "name": "stdout",
     "output_type": "stream",
     "text": [
      "[INFO]  Data folder /home/ramiro/Frontier-Exploration-with-a-prior/src/ROS/create_autonomy/outputs/test_9/UTN/2022-10-14-03-40-44.bag.ac already exists. Not creating.\n",
      "[INFO]  Data folder /home/ramiro/Frontier-Exploration-with-a-prior/src/ROS/create_autonomy/outputs/test_9/MARYLAND/2022-10-14-03-40-48.bag.ac already exists. Not creating.\n"
     ]
    }
   ],
   "source": [
    "res_9 = get_results_from_folder(\"/home/ramiro/Frontier-Exploration-with-a-prior/src/ROS/create_autonomy/outputs/test_9\")"
   ]
  },
  {
   "cell_type": "code",
   "execution_count": 13,
   "id": "cc224815-1e71-4d47-bd0e-71624a63ca9f",
   "metadata": {},
   "outputs": [
    {
     "name": "stdout",
     "output_type": "stream",
     "text": [
      "[INFO]  Data folder /home/ramiro/Frontier-Exploration-with-a-prior/src/ROS/create_autonomy/outputs/test_7/UTN/2022-10-14-04-04-47.bag.ac already exists. Not creating.\n",
      "[INFO]  Data folder /home/ramiro/Frontier-Exploration-with-a-prior/src/ROS/create_autonomy/outputs/test_7/MARYLAND/2022-10-14-04-02-03.bag.ac already exists. Not creating.\n"
     ]
    }
   ],
   "source": [
    "res_7 = get_results_from_folder(\"/home/ramiro/Frontier-Exploration-with-a-prior/src/ROS/create_autonomy/outputs/test_7\")"
   ]
  },
  {
   "cell_type": "code",
   "execution_count": 12,
   "id": "b5025d74-bedf-4ff8-bc32-66b082034a3e",
   "metadata": {},
   "outputs": [
    {
     "data": {
      "image/png": "[encoded data removed]",
      "text/plain": [
       "<Figure size 432x288 with 1 Axes>"
      ]
     },
     "metadata": {
      "needs_background": "light"
     },
     "output_type": "display_data"
    }
   ],
   "source": [
    "plot_result(res_9)"
   ]
  },
  {
   "cell_type": "code",
   "execution_count": 25,
   "id": "b87bac35-4f6d-45ac-9f85-9da4a47e0f03",
   "metadata": {},
   "outputs": [
    {
     "data": {
      "text/plain": [
       "[<matplotlib.lines.Line2D at 0x7fa6bebd2bb0>]"
      ]
     },
     "execution_count": 25,
     "metadata": {},
     "output_type": "execute_result"
    },
    {
     "data": {
      "image/png": "[encoded data removed]",
      "text/plain": [
       "<Figure size 432x288 with 1 Axes>"
      ]
     },
     "metadata": {
      "needs_background": "light"
     },
     "output_type": "display_data"
    }
   ],
   "source": [
    "plt.plot(*worlds_df.loc[\"test_9\"].world.free_space_polygon.exterior.xy)"
   ]
  },
  {
   "cell_type": "code",
   "execution_count": 24,
   "id": "86400e64-0731-4a66-9c2c-6ddaf94a5a83",
   "metadata": {},
   "outputs": [
    {
     "name": "stdout",
     "output_type": "stream",
     "text": [
      "Area total: 1593.9369583629668\n"
     ]
    }
   ],
   "source": [
    "print(f\"Area total: {worlds_df.loc['test_9'].free_area}\")"
   ]
  },
  {
   "cell_type": "code",
   "execution_count": 14,
   "id": "f0ac213e-38a7-45cb-8cb7-cf76c555adaa",
   "metadata": {},
   "outputs": [
    {
     "data": {
      "image/png": "[encoded data removed]",
      "text/plain": [
       "<Figure size 432x288 with 1 Axes>"
      ]
     },
     "metadata": {
      "needs_background": "light"
     },
     "output_type": "display_data"
    }
   ],
   "source": [
    "plot_result(res_7)"
   ]
  },
  {
   "cell_type": "code",
   "execution_count": 33,
   "id": "be747807-cae2-456a-a7ac-02c5eaa2e066",
   "metadata": {},
   "outputs": [
    {
     "data": {
      "text/plain": [
       "[<matplotlib.lines.Line2D at 0x7fa6be9b4a00>]"
      ]
     },
     "execution_count": 33,
     "metadata": {},
     "output_type": "execute_result"
    },
    {
     "data": {
      "image/png": "[encoded data removed]",
      "text/plain": [
       "<Figure size 432x288 with 1 Axes>"
      ]
     },
     "metadata": {
      "needs_background": "light"
     },
     "output_type": "display_data"
    }
   ],
   "source": [
    "plt.plot(*worlds_df.loc[\"test_7\"].world.free_space_polygon.exterior.xy)"
   ]
  },
  {
   "cell_type": "code",
   "execution_count": 27,
   "id": "27af901d-88a6-4226-8d96-9da3fce8b878",
   "metadata": {},
   "outputs": [
    {
     "name": "stdout",
     "output_type": "stream",
     "text": [
      "Area total: 1588.816181110351\n"
     ]
    }
   ],
   "source": [
    "print(f\"Area total: {worlds_df.loc['test_7'].free_area}\")"
   ]
  },
  {
   "cell_type": "code",
   "execution_count": 31,
   "id": "1ace83e0-328d-44d1-b889-ce03e1f18fb9",
   "metadata": {},
   "outputs": [
    {
     "data": {
      "text/plain": [
       "[<matplotlib.lines.Line2D at 0x7fa6bea4fee0>]"
      ]
     },
     "execution_count": 31,
     "metadata": {},
     "output_type": "execute_result"
    },
    {
     "data": {
      "image/png": "[encoded data removed]",
      "text/plain": [
       "<Figure size 432x288 with 1 Axes>"
      ]
     },
     "metadata": {
      "needs_background": "light"
     },
     "output_type": "display_data"
    }
   ],
   "source": [
    "plt.plot(*worlds_df.loc[\"test_1\"].world.free_space_polygon.exterior.xy)"
   ]
  }
 ],
 "metadata": {
  "kernelspec": {
   "display_name": "Python 3 (ipykernel)",
   "language": "python",
   "name": "python3"
  },
  "language_info": {
   "codemirror_mode": {
    "name": "ipython",
    "version": 3
   },
   "file_extension": ".py",
   "mimetype": "text/x-python",
   "name": "python",
   "nbconvert_exporter": "python",
   "pygments_lexer": "ipython3",
   "version": "3.8.10"
  }
 },
 "nbformat": 4,
 "nbformat_minor": 5
}
