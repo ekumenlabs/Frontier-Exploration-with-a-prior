{
 "cells": [
  {
   "cell_type": "code",
   "execution_count": 1,
   "id": "c635d2d3-1197-447f-bece-023d9964ea99",
   "metadata": {},
   "outputs": [],
   "source": [
    "import bagpy\n",
    "from tqdm import tqdm\n",
    "from typing import *\n",
    "from shapely.geometry import *\n",
    "from os.path import join, exists\n",
    "from glob import glob\n",
    "import numpy as np\n",
    "import matplotlib.pyplot as plt\n",
    "import pandas as pd\n",
    "import pickle\n",
    "import geopandas as gpd"
   ]
  },
  {
   "cell_type": "code",
   "execution_count": 2,
   "id": "9e807fae-f6cd-423b-9c25-5f5e5d0ddbf7",
   "metadata": {},
   "outputs": [],
   "source": [
    "worlds_df = pd.read_pickle(\"/home/agusmazzeo/Documents/UTN/Proyecto/worlds_df.pkl\")"
   ]
  },
  {
   "cell_type": "code",
   "execution_count": 101,
   "id": "7d79dec9-fe88-475e-b999-f39b425d95e3",
   "metadata": {},
   "outputs": [
    {
     "data": {
      "text/plain": [
       "Index(['evaluation_7', 'evaluation_1', 'evaluation_5', 'evaluation_0',\n",
       "       'evaluation_9', 'evaluation_6', 'evaluation_3', 'evaluation_2',\n",
       "       'evaluation_8', 'evaluation_10',\n",
       "       ...\n",
       "       'evaluation_186', 'evaluation_190', 'evaluation_191', 'evaluation_192',\n",
       "       'evaluation_193', 'evaluation_194', 'evaluation_195', 'evaluation_196',\n",
       "       'evaluation_197', 'evaluation_198'],\n",
       "      dtype='object', length=163)"
      ]
     },
     "execution_count": 101,
     "metadata": {},
     "output_type": "execute_result"
    }
   ],
   "source": [
    "worlds_df.index"
   ]
  },
  {
   "cell_type": "code",
   "execution_count": 32,
   "id": "809a0ead-54e0-4e95-9327-27c9d8ab23ef",
   "metadata": {},
   "outputs": [],
   "source": [
    "class BagpyDataHandler:\n",
    "    \n",
    "    def __init__(self, worlds_df: pd.DataFrame, outputs_dir: str):\n",
    "        self.res_values = {}\n",
    "        self.report = {}\n",
    "        self.worlds = {}\n",
    "        cont = 0\n",
    "        for index in tqdm(worlds_df[worlds_df[\"finished_true\"]].index):\n",
    "            try:\n",
    "                cont+=1\n",
    "                # if cont == 10:\n",
    "                #     break\n",
    "                result = self.get_results_from_folder(join(outputs_dir, index))\n",
    "                if result is not None:\n",
    "                    self.res_values[index] = result\n",
    "                    self.worlds[index] = worlds_df.loc[index]\n",
    "                    self.report[index] = self.get_report_data(index, result)\n",
    "            except Exception:\n",
    "                continue\n",
    "        reform = {(outerKey, innerKey): values for outerKey, innerDict in self.report.items() for innerKey, values in innerDict.items()}\n",
    "        self.report_df = pd.DataFrame(reform)\n",
    "                \n",
    "    def get_report_data(self, index: str, result: Dict[str, Any]):\n",
    "        report = {}\n",
    "        world_polygon = self.worlds[index].world.free_space_polygon\n",
    "        if isinstance(world_polygon, MultiPolygon):\n",
    "            world_polygon = world_polygon.convex_hull\n",
    "        for key in result.keys():\n",
    "            if key not in report.keys():\n",
    "                report[key] = {}\n",
    "            poly = gpd.GeoDataFrame(geometry=[world_polygon.exterior])\n",
    "            report[key] = {\"trajectory\": poly.append(result[key][\"trajectory_df\"]), **self.get_exploration_data(key, index, result)}\n",
    "        return report\n",
    "    \n",
    "    def get_exploration_data(self, key: str, index: str, result: Dict[str, Any]):\n",
    "        free_area = self.worlds[index][\"free_area\"]\n",
    "        explored_per_distance = pd.merge_asof(result[key][\"explored_df\"], result[key][\"travelled_distance_df\"], on=\"timestamp\")\n",
    "        explored_area = explored_per_distance[\"m_2_explored\"].iloc[-1]\n",
    "        exploration = {\n",
    "            \"explored_percentage\": 100*explored_area/free_area,\n",
    "            \"total_time_sec\": explored_per_distance.index[-1],\n",
    "            \"dist_explored_20%\": explored_per_distance.loc[explored_per_distance[\"m_2_explored\"]<(20*free_area/100)].iloc[-1][\"cum_distance\"],\n",
    "            \"dist_explored_50%\": explored_per_distance.loc[explored_per_distance[\"m_2_explored\"]<(50*free_area/100)].iloc[-1][\"cum_distance\"],\n",
    "            \"dist_explored_80%\": explored_per_distance.loc[explored_per_distance[\"m_2_explored\"]<(80*free_area/100)].iloc[-1][\"cum_distance\"],\n",
    "            \"dist_total\": explored_per_distance.iloc[-1][\"cum_distance\"],\n",
    "        }\n",
    "        return exploration\n",
    "            \n",
    "    def get_results_from_folder(self, folder: str) -> Dict[str, Tuple[List[float], List[float]]]:\n",
    "        try:\n",
    "            utn_path = join(folder, \"UTN\")\n",
    "            utn_dist_path = join(folder, \"UTN_CON_DISTANCIA\")\n",
    "            maryland_path = join(folder, \"MARYLAND\")\n",
    "            if not exists(utn_path) or not exists(maryland_path) or not exists(utn_dist_path):\n",
    "                # print(f\"Skipping {folder} because of not having both maryland and UTN\")\n",
    "                return None\n",
    "            utn_bag_file = glob(join(utn_path, \"*.bag\"))[0]\n",
    "            utn_dist_bag_file = glob(join(utn_dist_path, \"*.bag\"))[0]\n",
    "            maryland_bag_file = glob(join(maryland_path, \"*.bag\"))[0]\n",
    "            reader_utn = bagpy.bagreader(utn_bag_file)\n",
    "            reader_utn_dist = bagpy.bagreader(utn_dist_bag_file)\n",
    "            reader_maryland = bagpy.bagreader(maryland_bag_file)\n",
    "            res = {\n",
    "                \"UTN\": self.get_times_and_explores(reader_utn),\n",
    "                \"UTN_DIST\": self.get_times_and_explores(reader_utn_dist),\n",
    "                \"MARYLAND\": self.get_times_and_explores(reader_maryland)}\n",
    "            return res\n",
    "        except Exception as ex:\n",
    "            print(f\"An error ocurred on {folder}: {ex}\")\n",
    "            return None\n",
    "    \n",
    "    @staticmethod\n",
    "    def get_explored_df(reader: bagpy.bagreader) -> pd.DataFrame:\n",
    "        explored_data =  reader.reader.read_messages(\"/create1/explored\")\n",
    "        amt_of_non_unknown = []\n",
    "        timestamps = []\n",
    "        for d in explored_data:\n",
    "            amt_of_non_unknown.append(d.message.data)\n",
    "            timestamps.append(d.timestamp.to_sec())\n",
    "        amt_of_non_unknown = [0.0025 * item for item in amt_of_non_unknown]\n",
    "        dic = {\"timestamp\": timestamps, \"m_2_explored\": amt_of_non_unknown}\n",
    "        df = pd.DataFrame(dic)\n",
    "        df[\"timestamp\"] -= dic[\"timestamp\"][0]\n",
    "        df = df.set_index(\"timestamp\")\n",
    "        return df\n",
    "\n",
    "    @staticmethod\n",
    "    def get_travelled_distance_df(reader: bagpy.bagreader) -> pd.DataFrame:\n",
    "        travelled_data =  reader.reader.read_messages(\"/create1/travelled_distance\")\n",
    "        cum_distance = []\n",
    "        timestamps = []\n",
    "        for d in travelled_data:\n",
    "            cum_distance.append(d.message.data)\n",
    "            timestamps.append(d.timestamp.to_sec())\n",
    "        dic = {\"timestamp\": timestamps, \"cum_distance\": cum_distance}\n",
    "        df = pd.DataFrame(dic)\n",
    "        df[\"timestamp\"] -= dic[\"timestamp\"][0]\n",
    "        df = df.set_index(\"timestamp\")\n",
    "        return df\n",
    "\n",
    "    @staticmethod\n",
    "    def get_trajectory_df(reader: bagpy.bagreader) -> gpd.GeoDataFrame:\n",
    "        gts =  reader.reader.read_messages(\"/create1/gts\")\n",
    "        xs = []\n",
    "        ys = []\n",
    "        timestamps = []\n",
    "        for d in gts:\n",
    "            xs.append(d.message.pose.pose.position.x)\n",
    "            ys.append(d.message.pose.pose.position.y)\n",
    "            timestamps.append(d.timestamp.to_sec())\n",
    "        dic = {\"timestamp\": timestamps, \"x\": xs, \"y\": ys}\n",
    "        df = pd.DataFrame(dic)\n",
    "        df[\"timestamp\"] -= dic[\"timestamp\"][0]\n",
    "        df = df.set_index(\"timestamp\")\n",
    "        return gpd.GeoDataFrame(df, geometry=gpd.points_from_xy(df.x, df.y))\n",
    "\n",
    "    def get_times_and_explores(self, reader: bagpy.bagreader) -> Tuple[List[float], List[float]]:\n",
    "        explored_df = self.get_explored_df(reader)\n",
    "        travelled_distance_df = self.get_travelled_distance_df(reader)\n",
    "        trajectory_df = self.get_trajectory_df(reader)\n",
    "        return {\"explored_df\": explored_df, \"travelled_distance_df\":travelled_distance_df, \"trajectory_df\":trajectory_df}\n",
    "\n",
    "    def plot_exp_by_dist(self, index: str):\n",
    "        res = self.res_values[index]\n",
    "        utn_df=  pd.merge_asof(res[\"UTN\"][\"explored_df\"], res[\"UTN\"][\"travelled_distance_df\"], on=\"timestamp\")\n",
    "        utn_dist_df = pd.merge_asof(res[\"UTN_DIST\"][\"explored_df\"], res[\"UTN_DIST\"][\"travelled_distance_df\"], on=\"timestamp\")\n",
    "        maryland_df=  pd.merge_asof(res[\"MARYLAND\"][\"explored_df\"], res[\"MARYLAND\"][\"travelled_distance_df\"], on=\"timestamp\")\n",
    "        utn_df = utn_df.dropna()\n",
    "        utn_dist_df = utn_dist_df.dropna()\n",
    "        maryland_df = maryland_df.dropna()\n",
    "\n",
    "        plt.plot( utn_df[\"timestamp\"], utn_df[\"m_2_explored\"], label=\"UTN\")\n",
    "        plt.plot( utn_dist_df[\"timestamp\"], utn_dist_df[\"m_2_explored\"], label=\"UTN_DIST\")\n",
    "        plt.plot( maryland_df[\"timestamp\"], maryland_df[\"m_2_explored\"], label=\"MARYLAND\")\n",
    "        plt.ylabel(\"Explored area [m2]\")\n",
    "        plt.xlabel(\"Distance travelled [m]\")\n",
    "\n",
    "        plt.legend()\n",
    "        \n",
    "    def plot_exp_percentage_by_dist(self, index: str):\n",
    "        total_area = self.worlds[index].loc['world'].total_area\n",
    "        res = self.res_values[index]\n",
    "        utn_df=  pd.merge_asof(res[\"UTN\"][\"explored_df\"], res[\"UTN\"][\"travelled_distance_df\"], on=\"timestamp\")\n",
    "        utn_dist_df = pd.merge_asof(res[\"UTN_DIST\"][\"explored_df\"], res[\"UTN_DIST\"][\"travelled_distance_df\"], on=\"timestamp\")\n",
    "        maryland_df=  pd.merge_asof(res[\"MARYLAND\"][\"explored_df\"], res[\"MARYLAND\"][\"travelled_distance_df\"], on=\"timestamp\")\n",
    "        utn_df = utn_df.dropna()\n",
    "        utn_dist_df = utn_dist_df.dropna()\n",
    "        maryland_df = maryland_df.dropna()\n",
    "\n",
    "        plt.plot( utn_df[\"cum_distance\"], 100*utn_df[\"m_2_explored\"]/total_area, label=\"UTN\")\n",
    "        plt.plot( utn_dist_df[\"cum_distance\"], 100*utn_dist_df[\"m_2_explored\"]/total_area, label=\"UTN_DIST\")\n",
    "        plt.plot( maryland_df[\"cum_distance\"], 100*maryland_df[\"m_2_explored\"]/total_area, label=\"MARYLAND\")\n",
    "        plt.ylabel(\"Explored area [%]\")\n",
    "        plt.xlabel(\"Distance travelled [m]\")\n",
    "\n",
    "        plt.legend()\n",
    "    \n",
    "    def plot_trajectory(self, index: str):\n",
    "        report = self.report[index]\n",
    "        report[\"UTN\"][\"trajectory\"].buffer(0.2).plot()\n",
    "        report[\"UTN_DIST\"][\"trajectory\"].buffer(0.2).plot()\n",
    "        report[\"MARYLAND\"][\"trajectory\"].buffer(0.2).plot()\n",
    "        "
   ]
  },
  {
   "cell_type": "code",
   "execution_count": 33,
   "id": "3bbe1329-3b54-407a-b452-bcb16730690e",
   "metadata": {},
   "outputs": [],
   "source": [
    "BASE_DIR = \"/home/agusmazzeo/Documents/UTN/Proyecto/outputs_2\""
   ]
  },
  {
   "cell_type": "code",
   "execution_count": 34,
   "id": "1c65ac27-0110-40e4-992d-7dcd1e2d1918",
   "metadata": {},
   "outputs": [
    {
     "name": "stderr",
     "output_type": "stream",
     "text": [
      "  0%|                                                                                                                    | 0/77 [00:00<?, ?it/s]"
     ]
    },
    {
     "name": "stdout",
     "output_type": "stream",
     "text": [
      "[INFO]  Data folder /home/agusmazzeo/Documents/UTN/Proyecto/outputs_2/evaluation_1/UTN/exploration_data_2022-10-26-12-47-03 already exists. Not creating.\n",
      "[INFO]  Data folder /home/agusmazzeo/Documents/UTN/Proyecto/outputs_2/evaluation_1/UTN_CON_DISTANCIA/exploration_data_2022-11-08-05-56-54 already exists. Not creating.\n",
      "[INFO]  Data folder /home/agusmazzeo/Documents/UTN/Proyecto/outputs_2/evaluation_1/MARYLAND/exploration_data_2022-10-26-12-47-02 already exists. Not creating.\n"
     ]
    },
    {
     "name": "stderr",
     "output_type": "stream",
     "text": [
      "/tmp/ipykernel_3540/2515814446.py:32: FutureWarning: The frame.append method is deprecated and will be removed from pandas in a future version. Use pandas.concat instead.\n",
      "  report[key] = {\"trajectory\": poly.append(result[key][\"trajectory_df\"]), **self.get_exploration_data(key, index, result)}\n",
      "/tmp/ipykernel_3540/2515814446.py:32: FutureWarning: The frame.append method is deprecated and will be removed from pandas in a future version. Use pandas.concat instead.\n",
      "  report[key] = {\"trajectory\": poly.append(result[key][\"trajectory_df\"]), **self.get_exploration_data(key, index, result)}\n",
      "/tmp/ipykernel_3540/2515814446.py:32: FutureWarning: The frame.append method is deprecated and will be removed from pandas in a future version. Use pandas.concat instead.\n",
      "  report[key] = {\"trajectory\": poly.append(result[key][\"trajectory_df\"]), **self.get_exploration_data(key, index, result)}\n",
      "  3%|██▊                                                                                                         | 2/77 [00:02<01:50,  1.48s/it]"
     ]
    },
    {
     "name": "stdout",
     "output_type": "stream",
     "text": [
      "[INFO]  Data folder /home/agusmazzeo/Documents/UTN/Proyecto/outputs_2/evaluation_5/UTN/exploration_data_2022-10-26-12-47-03 already exists. Not creating.\n",
      "[INFO]  Data folder /home/agusmazzeo/Documents/UTN/Proyecto/outputs_2/evaluation_5/UTN_CON_DISTANCIA/exploration_data_2022-11-08-05-56-53.orig already exists. Not creating.\n",
      "[INFO]  Data folder /home/agusmazzeo/Documents/UTN/Proyecto/outputs_2/evaluation_5/MARYLAND/exploration_data_2022-10-26-12-47-03 already exists. Not creating.\n"
     ]
    },
    {
     "name": "stderr",
     "output_type": "stream",
     "text": [
      "/tmp/ipykernel_3540/2515814446.py:32: FutureWarning: The frame.append method is deprecated and will be removed from pandas in a future version. Use pandas.concat instead.\n",
      "  report[key] = {\"trajectory\": poly.append(result[key][\"trajectory_df\"]), **self.get_exploration_data(key, index, result)}\n",
      "/tmp/ipykernel_3540/2515814446.py:32: FutureWarning: The frame.append method is deprecated and will be removed from pandas in a future version. Use pandas.concat instead.\n",
      "  report[key] = {\"trajectory\": poly.append(result[key][\"trajectory_df\"]), **self.get_exploration_data(key, index, result)}\n",
      "/tmp/ipykernel_3540/2515814446.py:32: FutureWarning: The frame.append method is deprecated and will be removed from pandas in a future version. Use pandas.concat instead.\n",
      "  report[key] = {\"trajectory\": poly.append(result[key][\"trajectory_df\"]), **self.get_exploration_data(key, index, result)}\n",
      "  4%|████▏                                                                                                       | 3/77 [00:08<03:52,  3.14s/it]"
     ]
    },
    {
     "name": "stdout",
     "output_type": "stream",
     "text": [
      "[INFO]  Data folder /home/agusmazzeo/Documents/UTN/Proyecto/outputs_2/evaluation_0/UTN/exploration_data_2022-10-26-13-13-06.orig already exists. Not creating.\n",
      "[INFO]  Data folder /home/agusmazzeo/Documents/UTN/Proyecto/outputs_2/evaluation_0/UTN_CON_DISTANCIA/exploration_data_2022-11-08-05-57-01 already exists. Not creating.\n",
      "[INFO]  Data folder /home/agusmazzeo/Documents/UTN/Proyecto/outputs_2/evaluation_0/MARYLAND/exploration_data_2022-10-26-13-07-41.orig already exists. Not creating.\n"
     ]
    },
    {
     "name": "stderr",
     "output_type": "stream",
     "text": [
      "/tmp/ipykernel_3540/2515814446.py:32: FutureWarning: The frame.append method is deprecated and will be removed from pandas in a future version. Use pandas.concat instead.\n",
      "  report[key] = {\"trajectory\": poly.append(result[key][\"trajectory_df\"]), **self.get_exploration_data(key, index, result)}\n",
      "/tmp/ipykernel_3540/2515814446.py:32: FutureWarning: The frame.append method is deprecated and will be removed from pandas in a future version. Use pandas.concat instead.\n",
      "  report[key] = {\"trajectory\": poly.append(result[key][\"trajectory_df\"]), **self.get_exploration_data(key, index, result)}\n",
      "/tmp/ipykernel_3540/2515814446.py:32: FutureWarning: The frame.append method is deprecated and will be removed from pandas in a future version. Use pandas.concat instead.\n",
      "  report[key] = {\"trajectory\": poly.append(result[key][\"trajectory_df\"]), **self.get_exploration_data(key, index, result)}\n",
      "  5%|█████▌                                                                                                      | 4/77 [00:12<04:03,  3.33s/it]"
     ]
    },
    {
     "name": "stdout",
     "output_type": "stream",
     "text": [
      "[INFO]  Data folder /home/agusmazzeo/Documents/UTN/Proyecto/outputs_2/evaluation_9/UTN/exploration_data_2022-10-26-13-31-21.orig already exists. Not creating.\n",
      "[INFO]  Data folder /home/agusmazzeo/Documents/UTN/Proyecto/outputs_2/evaluation_9/UTN_CON_DISTANCIA/exploration_data_2022-11-08-06-50-05.orig already exists. Not creating.\n",
      "[INFO]  Data folder /home/agusmazzeo/Documents/UTN/Proyecto/outputs_2/evaluation_9/MARYLAND/exploration_data_2022-10-26-13-14-26.orig already exists. Not creating.\n"
     ]
    },
    {
     "name": "stderr",
     "output_type": "stream",
     "text": [
      "/tmp/ipykernel_3540/2515814446.py:32: FutureWarning: The frame.append method is deprecated and will be removed from pandas in a future version. Use pandas.concat instead.\n",
      "  report[key] = {\"trajectory\": poly.append(result[key][\"trajectory_df\"]), **self.get_exploration_data(key, index, result)}\n",
      "/tmp/ipykernel_3540/2515814446.py:32: FutureWarning: The frame.append method is deprecated and will be removed from pandas in a future version. Use pandas.concat instead.\n",
      "  report[key] = {\"trajectory\": poly.append(result[key][\"trajectory_df\"]), **self.get_exploration_data(key, index, result)}\n",
      "/tmp/ipykernel_3540/2515814446.py:32: FutureWarning: The frame.append method is deprecated and will be removed from pandas in a future version. Use pandas.concat instead.\n",
      "  report[key] = {\"trajectory\": poly.append(result[key][\"trajectory_df\"]), **self.get_exploration_data(key, index, result)}\n",
      "  6%|███████                                                                                                     | 5/77 [00:14<03:41,  3.08s/it]"
     ]
    },
    {
     "name": "stdout",
     "output_type": "stream",
     "text": [
      "[INFO]  Data folder /home/agusmazzeo/Documents/UTN/Proyecto/outputs_2/evaluation_6/UTN/exploration_data_2022-10-26-13-46-33 already exists. Not creating.\n",
      "[INFO]  Data folder /home/agusmazzeo/Documents/UTN/Proyecto/outputs_2/evaluation_6/UTN_CON_DISTANCIA/exploration_data_2022-11-08-06-50-05.orig already exists. Not creating.\n",
      "[INFO]  Data folder /home/agusmazzeo/Documents/UTN/Proyecto/outputs_2/evaluation_6/MARYLAND/exploration_data_2022-10-26-13-31-39.orig already exists. Not creating.\n"
     ]
    },
    {
     "name": "stderr",
     "output_type": "stream",
     "text": [
      "/tmp/ipykernel_3540/2515814446.py:32: FutureWarning: The frame.append method is deprecated and will be removed from pandas in a future version. Use pandas.concat instead.\n",
      "  report[key] = {\"trajectory\": poly.append(result[key][\"trajectory_df\"]), **self.get_exploration_data(key, index, result)}\n",
      "/tmp/ipykernel_3540/2515814446.py:32: FutureWarning: The frame.append method is deprecated and will be removed from pandas in a future version. Use pandas.concat instead.\n",
      "  report[key] = {\"trajectory\": poly.append(result[key][\"trajectory_df\"]), **self.get_exploration_data(key, index, result)}\n",
      "/tmp/ipykernel_3540/2515814446.py:32: FutureWarning: The frame.append method is deprecated and will be removed from pandas in a future version. Use pandas.concat instead.\n",
      "  report[key] = {\"trajectory\": poly.append(result[key][\"trajectory_df\"]), **self.get_exploration_data(key, index, result)}\n",
      "  8%|████████▍                                                                                                   | 6/77 [00:19<04:24,  3.73s/it]"
     ]
    },
    {
     "name": "stdout",
     "output_type": "stream",
     "text": [
      "[INFO]  Data folder /home/agusmazzeo/Documents/UTN/Proyecto/outputs_2/evaluation_3/UTN/exploration_data_2022-10-26-13-59-18.orig already exists. Not creating.\n",
      "[INFO]  Data folder /home/agusmazzeo/Documents/UTN/Proyecto/outputs_2/evaluation_3/UTN_CON_DISTANCIA/exploration_data_2022-11-08-06-50-05.orig already exists. Not creating.\n",
      "[INFO]  Data folder /home/agusmazzeo/Documents/UTN/Proyecto/outputs_2/evaluation_3/MARYLAND/exploration_data_2022-10-26-13-47-11.orig already exists. Not creating.\n"
     ]
    },
    {
     "name": "stderr",
     "output_type": "stream",
     "text": [
      "/tmp/ipykernel_3540/2515814446.py:32: FutureWarning: The frame.append method is deprecated and will be removed from pandas in a future version. Use pandas.concat instead.\n",
      "  report[key] = {\"trajectory\": poly.append(result[key][\"trajectory_df\"]), **self.get_exploration_data(key, index, result)}\n",
      "/tmp/ipykernel_3540/2515814446.py:32: FutureWarning: The frame.append method is deprecated and will be removed from pandas in a future version. Use pandas.concat instead.\n",
      "  report[key] = {\"trajectory\": poly.append(result[key][\"trajectory_df\"]), **self.get_exploration_data(key, index, result)}\n",
      "/tmp/ipykernel_3540/2515814446.py:32: FutureWarning: The frame.append method is deprecated and will be removed from pandas in a future version. Use pandas.concat instead.\n",
      "  report[key] = {\"trajectory\": poly.append(result[key][\"trajectory_df\"]), **self.get_exploration_data(key, index, result)}\n",
      "  9%|█████████▊                                                                                                  | 7/77 [00:24<04:33,  3.91s/it]"
     ]
    },
    {
     "name": "stdout",
     "output_type": "stream",
     "text": [
      "An error ocurred on /home/agusmazzeo/Documents/UTN/Proyecto/outputs_2/evaluation_2: list index out of range\n",
      "[INFO]  Data folder /home/agusmazzeo/Documents/UTN/Proyecto/outputs_2/evaluation_8/UTN/exploration_data_2022-10-26-14-27-24 already exists. Not creating.\n",
      "[INFO]  Data folder /home/agusmazzeo/Documents/UTN/Proyecto/outputs_2/evaluation_8/UTN_CON_DISTANCIA/exploration_data_2022-11-08-07-07-22 already exists. Not creating.\n",
      "[INFO]  Data folder /home/agusmazzeo/Documents/UTN/Proyecto/outputs_2/evaluation_8/MARYLAND/exploration_data_2022-10-26-14-26-27 already exists. Not creating.\n"
     ]
    },
    {
     "name": "stderr",
     "output_type": "stream",
     "text": [
      "/tmp/ipykernel_3540/2515814446.py:32: FutureWarning: The frame.append method is deprecated and will be removed from pandas in a future version. Use pandas.concat instead.\n",
      "  report[key] = {\"trajectory\": poly.append(result[key][\"trajectory_df\"]), **self.get_exploration_data(key, index, result)}\n",
      "/tmp/ipykernel_3540/2515814446.py:32: FutureWarning: The frame.append method is deprecated and will be removed from pandas in a future version. Use pandas.concat instead.\n",
      "  report[key] = {\"trajectory\": poly.append(result[key][\"trajectory_df\"]), **self.get_exploration_data(key, index, result)}\n",
      "/tmp/ipykernel_3540/2515814446.py:32: FutureWarning: The frame.append method is deprecated and will be removed from pandas in a future version. Use pandas.concat instead.\n",
      "  report[key] = {\"trajectory\": poly.append(result[key][\"trajectory_df\"]), **self.get_exploration_data(key, index, result)}\n",
      " 12%|████████████▌                                                                                               | 9/77 [00:26<02:51,  2.51s/it]"
     ]
    },
    {
     "name": "stdout",
     "output_type": "stream",
     "text": [
      "[INFO]  Data folder /home/agusmazzeo/Documents/UTN/Proyecto/outputs_2/evaluation_10/UTN/exploration_data_2022-10-26-14-46-41.orig already exists. Not creating.\n",
      "[INFO]  Data folder /home/agusmazzeo/Documents/UTN/Proyecto/outputs_2/evaluation_10/UTN_CON_DISTANCIA/exploration_data_2022-11-08-07-16-03 already exists. Not creating.\n",
      "[INFO]  Data folder /home/agusmazzeo/Documents/UTN/Proyecto/outputs_2/evaluation_10/MARYLAND/exploration_data_2022-10-26-14-38-17 already exists. Not creating.\n"
     ]
    },
    {
     "name": "stderr",
     "output_type": "stream",
     "text": [
      "/tmp/ipykernel_3540/2515814446.py:32: FutureWarning: The frame.append method is deprecated and will be removed from pandas in a future version. Use pandas.concat instead.\n",
      "  report[key] = {\"trajectory\": poly.append(result[key][\"trajectory_df\"]), **self.get_exploration_data(key, index, result)}\n",
      "/tmp/ipykernel_3540/2515814446.py:32: FutureWarning: The frame.append method is deprecated and will be removed from pandas in a future version. Use pandas.concat instead.\n",
      "  report[key] = {\"trajectory\": poly.append(result[key][\"trajectory_df\"]), **self.get_exploration_data(key, index, result)}\n",
      "/tmp/ipykernel_3540/2515814446.py:32: FutureWarning: The frame.append method is deprecated and will be removed from pandas in a future version. Use pandas.concat instead.\n",
      "  report[key] = {\"trajectory\": poly.append(result[key][\"trajectory_df\"]), **self.get_exploration_data(key, index, result)}\n",
      " 13%|█████████████▉                                                                                             | 10/77 [00:32<03:54,  3.51s/it]"
     ]
    },
    {
     "name": "stdout",
     "output_type": "stream",
     "text": [
      "[INFO]  Data folder /home/agusmazzeo/Documents/UTN/Proyecto/outputs_2/evaluation_12/UTN/exploration_data_2022-10-26-15-10-29.orig already exists. Not creating.\n",
      "[INFO]  Successfully created the data folder /home/agusmazzeo/Documents/UTN/Proyecto/outputs_2/evaluation_12/UTN_CON_DISTANCIA/exploration_data_2022-11-08-07-21-09.\n",
      "[INFO]  Data folder /home/agusmazzeo/Documents/UTN/Proyecto/outputs_2/evaluation_12/MARYLAND/exploration_data_2022-10-26-14-50-01 already exists. Not creating.\n"
     ]
    },
    {
     "name": "stderr",
     "output_type": "stream",
     "text": [
      "/tmp/ipykernel_3540/2515814446.py:32: FutureWarning: The frame.append method is deprecated and will be removed from pandas in a future version. Use pandas.concat instead.\n",
      "  report[key] = {\"trajectory\": poly.append(result[key][\"trajectory_df\"]), **self.get_exploration_data(key, index, result)}\n",
      "/tmp/ipykernel_3540/2515814446.py:32: FutureWarning: The frame.append method is deprecated and will be removed from pandas in a future version. Use pandas.concat instead.\n",
      "  report[key] = {\"trajectory\": poly.append(result[key][\"trajectory_df\"]), **self.get_exploration_data(key, index, result)}\n",
      "/tmp/ipykernel_3540/2515814446.py:32: FutureWarning: The frame.append method is deprecated and will be removed from pandas in a future version. Use pandas.concat instead.\n",
      "  report[key] = {\"trajectory\": poly.append(result[key][\"trajectory_df\"]), **self.get_exploration_data(key, index, result)}\n",
      " 14%|███████████████▎                                                                                           | 11/77 [00:36<03:54,  3.56s/it]/tmp/ipykernel_3540/2515814446.py:32: FutureWarning: The frame.append method is deprecated and will be removed from pandas in a future version. Use pandas.concat instead.\n",
      "  report[key] = {\"trajectory\": poly.append(result[key][\"trajectory_df\"]), **self.get_exploration_data(key, index, result)}\n",
      " 16%|████████████████▋                                                                                          | 12/77 [00:36<02:51,  2.64s/it]"
     ]
    },
    {
     "name": "stdout",
     "output_type": "stream",
     "text": [
      "[INFO]  Data folder /home/agusmazzeo/Documents/UTN/Proyecto/outputs_2/evaluation_19/UTN/exploration_data_2022-10-26-15-13-20 already exists. Not creating.\n",
      "[INFO]  Successfully created the data folder /home/agusmazzeo/Documents/UTN/Proyecto/outputs_2/evaluation_19/UTN_CON_DISTANCIA/exploration_data_2022-11-08-07-26-29.orig.\n",
      "[INFO]  Data folder /home/agusmazzeo/Documents/UTN/Proyecto/outputs_2/evaluation_19/MARYLAND/exploration_data_2022-10-26-15-11-43 already exists. Not creating.\n",
      "[INFO]  Data folder /home/agusmazzeo/Documents/UTN/Proyecto/outputs_2/evaluation_16/UTN/exploration_data_2022-10-26-15-17-22 already exists. Not creating.\n",
      "[INFO]  Data folder /home/agusmazzeo/Documents/UTN/Proyecto/outputs_2/evaluation_16/UTN_CON_DISTANCIA/exploration_data_2022-11-08-07-28-07 already exists. Not creating.\n",
      "[INFO]  Data folder /home/agusmazzeo/Documents/UTN/Proyecto/outputs_2/evaluation_16/MARYLAND/exploration_data_2022-10-26-15-15-01 already exists. Not creating.\n"
     ]
    },
    {
     "name": "stderr",
     "output_type": "stream",
     "text": [
      "/tmp/ipykernel_3540/2515814446.py:32: FutureWarning: The frame.append method is deprecated and will be removed from pandas in a future version. Use pandas.concat instead.\n",
      "  report[key] = {\"trajectory\": poly.append(result[key][\"trajectory_df\"]), **self.get_exploration_data(key, index, result)}\n",
      "/tmp/ipykernel_3540/2515814446.py:32: FutureWarning: The frame.append method is deprecated and will be removed from pandas in a future version. Use pandas.concat instead.\n",
      "  report[key] = {\"trajectory\": poly.append(result[key][\"trajectory_df\"]), **self.get_exploration_data(key, index, result)}\n",
      "/tmp/ipykernel_3540/2515814446.py:32: FutureWarning: The frame.append method is deprecated and will be removed from pandas in a future version. Use pandas.concat instead.\n",
      "  report[key] = {\"trajectory\": poly.append(result[key][\"trajectory_df\"]), **self.get_exploration_data(key, index, result)}\n",
      " 17%|██████████████████                                                                                         | 13/77 [00:40<03:15,  3.05s/it]"
     ]
    },
    {
     "name": "stdout",
     "output_type": "stream",
     "text": [
      "[INFO]  Data folder /home/agusmazzeo/Documents/UTN/Proyecto/outputs_2/evaluation_11/UTN/exploration_data_2022-10-26-15-42-37.orig already exists. Not creating.\n",
      "[INFO]  Successfully created the data folder /home/agusmazzeo/Documents/UTN/Proyecto/outputs_2/evaluation_11/UTN_CON_DISTANCIA/exploration_data_2022-11-08-07-30-14.\n",
      "[INFO]  Data folder /home/agusmazzeo/Documents/UTN/Proyecto/outputs_2/evaluation_11/MARYLAND/exploration_data_2022-10-26-15-38-14 already exists. Not creating.\n"
     ]
    },
    {
     "name": "stderr",
     "output_type": "stream",
     "text": [
      "/tmp/ipykernel_3540/2515814446.py:32: FutureWarning: The frame.append method is deprecated and will be removed from pandas in a future version. Use pandas.concat instead.\n",
      "  report[key] = {\"trajectory\": poly.append(result[key][\"trajectory_df\"]), **self.get_exploration_data(key, index, result)}\n",
      "/tmp/ipykernel_3540/2515814446.py:32: FutureWarning: The frame.append method is deprecated and will be removed from pandas in a future version. Use pandas.concat instead.\n",
      "  report[key] = {\"trajectory\": poly.append(result[key][\"trajectory_df\"]), **self.get_exploration_data(key, index, result)}\n",
      "/tmp/ipykernel_3540/2515814446.py:32: FutureWarning: The frame.append method is deprecated and will be removed from pandas in a future version. Use pandas.concat instead.\n",
      "  report[key] = {\"trajectory\": poly.append(result[key][\"trajectory_df\"]), **self.get_exploration_data(key, index, result)}\n",
      " 18%|███████████████████▍                                                                                       | 14/77 [00:44<03:21,  3.21s/it]"
     ]
    },
    {
     "name": "stdout",
     "output_type": "stream",
     "text": [
      "[INFO]  Data folder /home/agusmazzeo/Documents/UTN/Proyecto/outputs_2/evaluation_14/UTN/exploration_data_2022-10-26-15-52-20 already exists. Not creating.\n",
      "[INFO]  Successfully created the data folder /home/agusmazzeo/Documents/UTN/Proyecto/outputs_2/evaluation_14/UTN_CON_DISTANCIA/exploration_data_2022-11-08-07-48-38.\n",
      "[INFO]  Data folder /home/agusmazzeo/Documents/UTN/Proyecto/outputs_2/evaluation_14/MARYLAND/exploration_data_2022-10-26-15-44-24 already exists. Not creating.\n"
     ]
    },
    {
     "name": "stderr",
     "output_type": "stream",
     "text": [
      "/tmp/ipykernel_3540/2515814446.py:32: FutureWarning: The frame.append method is deprecated and will be removed from pandas in a future version. Use pandas.concat instead.\n",
      "  report[key] = {\"trajectory\": poly.append(result[key][\"trajectory_df\"]), **self.get_exploration_data(key, index, result)}\n",
      "/tmp/ipykernel_3540/2515814446.py:32: FutureWarning: The frame.append method is deprecated and will be removed from pandas in a future version. Use pandas.concat instead.\n",
      "  report[key] = {\"trajectory\": poly.append(result[key][\"trajectory_df\"]), **self.get_exploration_data(key, index, result)}\n",
      "/tmp/ipykernel_3540/2515814446.py:32: FutureWarning: The frame.append method is deprecated and will be removed from pandas in a future version. Use pandas.concat instead.\n",
      "  report[key] = {\"trajectory\": poly.append(result[key][\"trajectory_df\"]), **self.get_exploration_data(key, index, result)}\n",
      " 19%|████████████████████▊                                                                                      | 15/77 [00:48<03:38,  3.53s/it]"
     ]
    },
    {
     "name": "stdout",
     "output_type": "stream",
     "text": [
      "[INFO]  Data folder /home/agusmazzeo/Documents/UTN/Proyecto/outputs_2/evaluation_18/UTN/exploration_data_2022-10-26-16-07-38.orig already exists. Not creating.\n",
      "[INFO]  Successfully created the data folder /home/agusmazzeo/Documents/UTN/Proyecto/outputs_2/evaluation_18/UTN_CON_DISTANCIA/exploration_data_2022-11-08-08-01-02.orig.\n",
      "[INFO]  Data folder /home/agusmazzeo/Documents/UTN/Proyecto/outputs_2/evaluation_18/MARYLAND/exploration_data_2022-10-26-16-01-14.orig already exists. Not creating.\n"
     ]
    },
    {
     "name": "stderr",
     "output_type": "stream",
     "text": [
      "/tmp/ipykernel_3540/2515814446.py:32: FutureWarning: The frame.append method is deprecated and will be removed from pandas in a future version. Use pandas.concat instead.\n",
      "  report[key] = {\"trajectory\": poly.append(result[key][\"trajectory_df\"]), **self.get_exploration_data(key, index, result)}\n",
      "/tmp/ipykernel_3540/2515814446.py:32: FutureWarning: The frame.append method is deprecated and will be removed from pandas in a future version. Use pandas.concat instead.\n",
      "  report[key] = {\"trajectory\": poly.append(result[key][\"trajectory_df\"]), **self.get_exploration_data(key, index, result)}\n",
      "/tmp/ipykernel_3540/2515814446.py:32: FutureWarning: The frame.append method is deprecated and will be removed from pandas in a future version. Use pandas.concat instead.\n",
      "  report[key] = {\"trajectory\": poly.append(result[key][\"trajectory_df\"]), **self.get_exploration_data(key, index, result)}\n",
      " 21%|██████████████████████▏                                                                                    | 16/77 [00:53<04:03,  4.00s/it]"
     ]
    },
    {
     "name": "stdout",
     "output_type": "stream",
     "text": [
      "[INFO]  Successfully created the data folder /home/agusmazzeo/Documents/UTN/Proyecto/outputs_2/evaluation_17/UTN/exploration_data_2022-10-26-16-28-15.\n",
      "[INFO]  Successfully created the data folder /home/agusmazzeo/Documents/UTN/Proyecto/outputs_2/evaluation_17/UTN_CON_DISTANCIA/exploration_data_2022-11-08-08-03-04.\n",
      "[INFO]  Data folder /home/agusmazzeo/Documents/UTN/Proyecto/outputs_2/evaluation_17/MARYLAND/exploration_data_2022-10-26-16-15-36 already exists. Not creating.\n"
     ]
    },
    {
     "name": "stderr",
     "output_type": "stream",
     "text": [
      "/tmp/ipykernel_3540/2515814446.py:32: FutureWarning: The frame.append method is deprecated and will be removed from pandas in a future version. Use pandas.concat instead.\n",
      "  report[key] = {\"trajectory\": poly.append(result[key][\"trajectory_df\"]), **self.get_exploration_data(key, index, result)}\n",
      "/tmp/ipykernel_3540/2515814446.py:32: FutureWarning: The frame.append method is deprecated and will be removed from pandas in a future version. Use pandas.concat instead.\n",
      "  report[key] = {\"trajectory\": poly.append(result[key][\"trajectory_df\"]), **self.get_exploration_data(key, index, result)}\n",
      "/tmp/ipykernel_3540/2515814446.py:32: FutureWarning: The frame.append method is deprecated and will be removed from pandas in a future version. Use pandas.concat instead.\n",
      "  report[key] = {\"trajectory\": poly.append(result[key][\"trajectory_df\"]), **self.get_exploration_data(key, index, result)}\n",
      " 22%|███████████████████████▌                                                                                   | 17/77 [00:57<03:55,  3.92s/it]"
     ]
    },
    {
     "name": "stdout",
     "output_type": "stream",
     "text": [
      "[INFO]  Successfully created the data folder /home/agusmazzeo/Documents/UTN/Proyecto/outputs_2/evaluation_21/UTN/exploration_data_2022-10-26-16-38-05.\n",
      "[INFO]  Successfully created the data folder /home/agusmazzeo/Documents/UTN/Proyecto/outputs_2/evaluation_21/UTN_CON_DISTANCIA/exploration_data_2022-11-08-08-08-15.orig.\n",
      "[INFO]  Data folder /home/agusmazzeo/Documents/UTN/Proyecto/outputs_2/evaluation_21/MARYLAND/exploration_data_2022-10-26-16-32-28 already exists. Not creating.\n"
     ]
    },
    {
     "name": "stderr",
     "output_type": "stream",
     "text": [
      "/tmp/ipykernel_3540/2515814446.py:32: FutureWarning: The frame.append method is deprecated and will be removed from pandas in a future version. Use pandas.concat instead.\n",
      "  report[key] = {\"trajectory\": poly.append(result[key][\"trajectory_df\"]), **self.get_exploration_data(key, index, result)}\n",
      "/tmp/ipykernel_3540/2515814446.py:32: FutureWarning: The frame.append method is deprecated and will be removed from pandas in a future version. Use pandas.concat instead.\n",
      "  report[key] = {\"trajectory\": poly.append(result[key][\"trajectory_df\"]), **self.get_exploration_data(key, index, result)}\n",
      "/tmp/ipykernel_3540/2515814446.py:32: FutureWarning: The frame.append method is deprecated and will be removed from pandas in a future version. Use pandas.concat instead.\n",
      "  report[key] = {\"trajectory\": poly.append(result[key][\"trajectory_df\"]), **self.get_exploration_data(key, index, result)}\n",
      " 23%|█████████████████████████                                                                                  | 18/77 [01:01<03:53,  3.96s/it]"
     ]
    },
    {
     "name": "stdout",
     "output_type": "stream",
     "text": [
      "[INFO]  Data folder /home/agusmazzeo/Documents/UTN/Proyecto/outputs_2/evaluation_23/UTN/exploration_data_2022-10-26-17-00-03.orig already exists. Not creating.\n",
      "[INFO]  Data folder /home/agusmazzeo/Documents/UTN/Proyecto/outputs_2/evaluation_23/UTN_CON_DISTANCIA/exploration_data_2022-11-08-08-10-58 already exists. Not creating.\n",
      "[INFO]  Data folder /home/agusmazzeo/Documents/UTN/Proyecto/outputs_2/evaluation_23/MARYLAND/exploration_data_2022-10-26-16-58-02.orig already exists. Not creating.\n"
     ]
    },
    {
     "name": "stderr",
     "output_type": "stream",
     "text": [
      "/tmp/ipykernel_3540/2515814446.py:32: FutureWarning: The frame.append method is deprecated and will be removed from pandas in a future version. Use pandas.concat instead.\n",
      "  report[key] = {\"trajectory\": poly.append(result[key][\"trajectory_df\"]), **self.get_exploration_data(key, index, result)}\n",
      "/tmp/ipykernel_3540/2515814446.py:32: FutureWarning: The frame.append method is deprecated and will be removed from pandas in a future version. Use pandas.concat instead.\n",
      "  report[key] = {\"trajectory\": poly.append(result[key][\"trajectory_df\"]), **self.get_exploration_data(key, index, result)}\n",
      "/tmp/ipykernel_3540/2515814446.py:32: FutureWarning: The frame.append method is deprecated and will be removed from pandas in a future version. Use pandas.concat instead.\n",
      "  report[key] = {\"trajectory\": poly.append(result[key][\"trajectory_df\"]), **self.get_exploration_data(key, index, result)}\n",
      " 25%|██████████████████████████▍                                                                                | 19/77 [01:08<04:44,  4.90s/it]"
     ]
    },
    {
     "name": "stdout",
     "output_type": "stream",
     "text": [
      "[INFO]  Data folder /home/agusmazzeo/Documents/UTN/Proyecto/outputs_2/evaluation_25/UTN/exploration_data_2022-10-26-17-12-44.orig already exists. Not creating.\n",
      "[INFO]  Data folder /home/agusmazzeo/Documents/UTN/Proyecto/outputs_2/evaluation_25/UTN_CON_DISTANCIA/exploration_data_2022-11-08-08-29-27 already exists. Not creating.\n",
      "[INFO]  Successfully created the data folder /home/agusmazzeo/Documents/UTN/Proyecto/outputs_2/evaluation_25/MARYLAND/exploration_data_2022-10-26-17-05-34.\n"
     ]
    },
    {
     "name": "stderr",
     "output_type": "stream",
     "text": [
      "/tmp/ipykernel_3540/2515814446.py:32: FutureWarning: The frame.append method is deprecated and will be removed from pandas in a future version. Use pandas.concat instead.\n",
      "  report[key] = {\"trajectory\": poly.append(result[key][\"trajectory_df\"]), **self.get_exploration_data(key, index, result)}\n",
      "/tmp/ipykernel_3540/2515814446.py:32: FutureWarning: The frame.append method is deprecated and will be removed from pandas in a future version. Use pandas.concat instead.\n",
      "  report[key] = {\"trajectory\": poly.append(result[key][\"trajectory_df\"]), **self.get_exploration_data(key, index, result)}\n",
      "/tmp/ipykernel_3540/2515814446.py:32: FutureWarning: The frame.append method is deprecated and will be removed from pandas in a future version. Use pandas.concat instead.\n",
      "  report[key] = {\"trajectory\": poly.append(result[key][\"trajectory_df\"]), **self.get_exploration_data(key, index, result)}\n",
      " 26%|███████████████████████████▊                                                                               | 20/77 [01:16<05:30,  5.79s/it]"
     ]
    },
    {
     "name": "stdout",
     "output_type": "stream",
     "text": [
      "[INFO]  Successfully created the data folder /home/agusmazzeo/Documents/UTN/Proyecto/outputs_2/evaluation_22/UTN/exploration_data_2022-10-26-17-54-35.\n",
      "[INFO]  Data folder /home/agusmazzeo/Documents/UTN/Proyecto/outputs_2/evaluation_22/UTN_CON_DISTANCIA/exploration_data_2022-11-08-08-30-01.orig already exists. Not creating.\n",
      "[INFO]  Data folder /home/agusmazzeo/Documents/UTN/Proyecto/outputs_2/evaluation_22/MARYLAND/exploration_data_2022-10-26-17-32-37.orig already exists. Not creating.\n"
     ]
    },
    {
     "name": "stderr",
     "output_type": "stream",
     "text": [
      "/tmp/ipykernel_3540/2515814446.py:32: FutureWarning: The frame.append method is deprecated and will be removed from pandas in a future version. Use pandas.concat instead.\n",
      "  report[key] = {\"trajectory\": poly.append(result[key][\"trajectory_df\"]), **self.get_exploration_data(key, index, result)}\n",
      "/tmp/ipykernel_3540/2515814446.py:32: FutureWarning: The frame.append method is deprecated and will be removed from pandas in a future version. Use pandas.concat instead.\n",
      "  report[key] = {\"trajectory\": poly.append(result[key][\"trajectory_df\"]), **self.get_exploration_data(key, index, result)}\n",
      "/tmp/ipykernel_3540/2515814446.py:32: FutureWarning: The frame.append method is deprecated and will be removed from pandas in a future version. Use pandas.concat instead.\n",
      "  report[key] = {\"trajectory\": poly.append(result[key][\"trajectory_df\"]), **self.get_exploration_data(key, index, result)}\n",
      " 27%|█████████████████████████████▏                                                                             | 21/77 [01:20<04:51,  5.20s/it]"
     ]
    },
    {
     "name": "stdout",
     "output_type": "stream",
     "text": [
      "[INFO]  Data folder /home/agusmazzeo/Documents/UTN/Proyecto/outputs_2/evaluation_27/UTN/exploration_data_2022-10-26-18-05-50.orig already exists. Not creating.\n",
      "[INFO]  Data folder /home/agusmazzeo/Documents/UTN/Proyecto/outputs_2/evaluation_27/UTN_CON_DISTANCIA/exploration_data_2022-11-08-08-41-49 already exists. Not creating.\n",
      "[INFO]  Data folder /home/agusmazzeo/Documents/UTN/Proyecto/outputs_2/evaluation_27/MARYLAND/exploration_data_2022-10-26-18-00-15 already exists. Not creating.\n"
     ]
    },
    {
     "name": "stderr",
     "output_type": "stream",
     "text": [
      "/tmp/ipykernel_3540/2515814446.py:32: FutureWarning: The frame.append method is deprecated and will be removed from pandas in a future version. Use pandas.concat instead.\n",
      "  report[key] = {\"trajectory\": poly.append(result[key][\"trajectory_df\"]), **self.get_exploration_data(key, index, result)}\n",
      "/tmp/ipykernel_3540/2515814446.py:32: FutureWarning: The frame.append method is deprecated and will be removed from pandas in a future version. Use pandas.concat instead.\n",
      "  report[key] = {\"trajectory\": poly.append(result[key][\"trajectory_df\"]), **self.get_exploration_data(key, index, result)}\n",
      "/tmp/ipykernel_3540/2515814446.py:32: FutureWarning: The frame.append method is deprecated and will be removed from pandas in a future version. Use pandas.concat instead.\n",
      "  report[key] = {\"trajectory\": poly.append(result[key][\"trajectory_df\"]), **self.get_exploration_data(key, index, result)}\n",
      " 29%|██████████████████████████████▌                                                                            | 22/77 [01:26<04:59,  5.45s/it]"
     ]
    },
    {
     "name": "stdout",
     "output_type": "stream",
     "text": [
      "[INFO]  Data folder /home/agusmazzeo/Documents/UTN/Proyecto/outputs_2/evaluation_26/UTN/exploration_data_2022-10-26-18-24-46 already exists. Not creating.\n",
      "[INFO]  Data folder /home/agusmazzeo/Documents/UTN/Proyecto/outputs_2/evaluation_26/UTN_CON_DISTANCIA/exploration_data_2022-11-08-08-53-57 already exists. Not creating.\n",
      "[INFO]  Successfully created the data folder /home/agusmazzeo/Documents/UTN/Proyecto/outputs_2/evaluation_26/MARYLAND/exploration_data_2022-10-26-18-13-00.orig.\n"
     ]
    },
    {
     "name": "stderr",
     "output_type": "stream",
     "text": [
      "/tmp/ipykernel_3540/2515814446.py:32: FutureWarning: The frame.append method is deprecated and will be removed from pandas in a future version. Use pandas.concat instead.\n",
      "  report[key] = {\"trajectory\": poly.append(result[key][\"trajectory_df\"]), **self.get_exploration_data(key, index, result)}\n",
      " 30%|███████████████████████████████▉                                                                           | 23/77 [01:29<04:13,  4.70s/it]"
     ]
    },
    {
     "name": "stdout",
     "output_type": "stream",
     "text": [
      "[INFO]  Successfully created the data folder /home/agusmazzeo/Documents/UTN/Proyecto/outputs_2/evaluation_29/UTN/exploration_data_2022-10-26-18-32-08.orig.\n",
      "[INFO]  Data folder /home/agusmazzeo/Documents/UTN/Proyecto/outputs_2/evaluation_29/UTN_CON_DISTANCIA/exploration_data_2022-11-08-08-59-36.orig already exists. Not creating.\n",
      "[INFO]  Successfully created the data folder /home/agusmazzeo/Documents/UTN/Proyecto/outputs_2/evaluation_29/MARYLAND/exploration_data_2022-10-26-18-29-21.orig.\n"
     ]
    },
    {
     "name": "stderr",
     "output_type": "stream",
     "text": [
      "/tmp/ipykernel_3540/2515814446.py:32: FutureWarning: The frame.append method is deprecated and will be removed from pandas in a future version. Use pandas.concat instead.\n",
      "  report[key] = {\"trajectory\": poly.append(result[key][\"trajectory_df\"]), **self.get_exploration_data(key, index, result)}\n",
      "/tmp/ipykernel_3540/2515814446.py:32: FutureWarning: The frame.append method is deprecated and will be removed from pandas in a future version. Use pandas.concat instead.\n",
      "  report[key] = {\"trajectory\": poly.append(result[key][\"trajectory_df\"]), **self.get_exploration_data(key, index, result)}\n",
      "/tmp/ipykernel_3540/2515814446.py:32: FutureWarning: The frame.append method is deprecated and will be removed from pandas in a future version. Use pandas.concat instead.\n",
      "  report[key] = {\"trajectory\": poly.append(result[key][\"trajectory_df\"]), **self.get_exploration_data(key, index, result)}\n",
      " 31%|█████████████████████████████████▎                                                                         | 24/77 [01:33<04:04,  4.61s/it]"
     ]
    },
    {
     "name": "stdout",
     "output_type": "stream",
     "text": [
      "[INFO]  Successfully created the data folder /home/agusmazzeo/Documents/UTN/Proyecto/outputs_2/evaluation_32/UTN/exploration_data_2022-10-26-18-58-41.orig.\n",
      "[INFO]  Data folder /home/agusmazzeo/Documents/UTN/Proyecto/outputs_2/evaluation_32/UTN_CON_DISTANCIA/exploration_data_2022-11-08-09-08-27 already exists. Not creating.\n",
      "[INFO]  Data folder /home/agusmazzeo/Documents/UTN/Proyecto/outputs_2/evaluation_32/MARYLAND/exploration_data_2022-10-26-18-54-05 already exists. Not creating.\n"
     ]
    },
    {
     "name": "stderr",
     "output_type": "stream",
     "text": [
      "/tmp/ipykernel_3540/2515814446.py:32: FutureWarning: The frame.append method is deprecated and will be removed from pandas in a future version. Use pandas.concat instead.\n",
      "  report[key] = {\"trajectory\": poly.append(result[key][\"trajectory_df\"]), **self.get_exploration_data(key, index, result)}\n",
      "/tmp/ipykernel_3540/2515814446.py:32: FutureWarning: The frame.append method is deprecated and will be removed from pandas in a future version. Use pandas.concat instead.\n",
      "  report[key] = {\"trajectory\": poly.append(result[key][\"trajectory_df\"]), **self.get_exploration_data(key, index, result)}\n",
      "/tmp/ipykernel_3540/2515814446.py:32: FutureWarning: The frame.append method is deprecated and will be removed from pandas in a future version. Use pandas.concat instead.\n",
      "  report[key] = {\"trajectory\": poly.append(result[key][\"trajectory_df\"]), **self.get_exploration_data(key, index, result)}\n",
      " 32%|██████████████████████████████████▋                                                                        | 25/77 [01:36<03:42,  4.27s/it]"
     ]
    },
    {
     "name": "stdout",
     "output_type": "stream",
     "text": [
      "[INFO]  Successfully created the data folder /home/agusmazzeo/Documents/UTN/Proyecto/outputs_2/evaluation_31/UTN/exploration_data_2022-10-26-19-09-11.orig.\n",
      "[INFO]  Data folder /home/agusmazzeo/Documents/UTN/Proyecto/outputs_2/evaluation_31/UTN_CON_DISTANCIA/exploration_data_2022-11-08-09-12-47 already exists. Not creating.\n",
      "[INFO]  Data folder /home/agusmazzeo/Documents/UTN/Proyecto/outputs_2/evaluation_31/MARYLAND/exploration_data_2022-10-26-19-06-02.orig already exists. Not creating.\n"
     ]
    },
    {
     "name": "stderr",
     "output_type": "stream",
     "text": [
      "/tmp/ipykernel_3540/2515814446.py:32: FutureWarning: The frame.append method is deprecated and will be removed from pandas in a future version. Use pandas.concat instead.\n",
      "  report[key] = {\"trajectory\": poly.append(result[key][\"trajectory_df\"]), **self.get_exploration_data(key, index, result)}\n",
      "/tmp/ipykernel_3540/2515814446.py:32: FutureWarning: The frame.append method is deprecated and will be removed from pandas in a future version. Use pandas.concat instead.\n",
      "  report[key] = {\"trajectory\": poly.append(result[key][\"trajectory_df\"]), **self.get_exploration_data(key, index, result)}\n",
      "/tmp/ipykernel_3540/2515814446.py:32: FutureWarning: The frame.append method is deprecated and will be removed from pandas in a future version. Use pandas.concat instead.\n",
      "  report[key] = {\"trajectory\": poly.append(result[key][\"trajectory_df\"]), **self.get_exploration_data(key, index, result)}\n",
      " 34%|████████████████████████████████████▏                                                                      | 26/77 [01:45<04:46,  5.62s/it]"
     ]
    },
    {
     "name": "stdout",
     "output_type": "stream",
     "text": [
      "[INFO]  Data folder /home/agusmazzeo/Documents/UTN/Proyecto/outputs_2/evaluation_30/UTN/exploration_data_2022-10-26-19-31-26.orig already exists. Not creating.\n",
      "[INFO]  Successfully created the data folder /home/agusmazzeo/Documents/UTN/Proyecto/outputs_2/evaluation_30/UTN_CON_DISTANCIA/exploration_data_2022-11-08-09-29-38.orig.\n",
      "[INFO]  Data folder /home/agusmazzeo/Documents/UTN/Proyecto/outputs_2/evaluation_30/MARYLAND/exploration_data_2022-10-26-19-14-50.orig already exists. Not creating.\n"
     ]
    },
    {
     "name": "stderr",
     "output_type": "stream",
     "text": [
      "/tmp/ipykernel_3540/2515814446.py:32: FutureWarning: The frame.append method is deprecated and will be removed from pandas in a future version. Use pandas.concat instead.\n",
      "  report[key] = {\"trajectory\": poly.append(result[key][\"trajectory_df\"]), **self.get_exploration_data(key, index, result)}\n",
      "/tmp/ipykernel_3540/2515814446.py:32: FutureWarning: The frame.append method is deprecated and will be removed from pandas in a future version. Use pandas.concat instead.\n",
      "  report[key] = {\"trajectory\": poly.append(result[key][\"trajectory_df\"]), **self.get_exploration_data(key, index, result)}\n",
      "/tmp/ipykernel_3540/2515814446.py:32: FutureWarning: The frame.append method is deprecated and will be removed from pandas in a future version. Use pandas.concat instead.\n",
      "  report[key] = {\"trajectory\": poly.append(result[key][\"trajectory_df\"]), **self.get_exploration_data(key, index, result)}\n",
      " 35%|█████████████████████████████████████▌                                                                     | 27/77 [01:48<04:04,  4.89s/it]"
     ]
    },
    {
     "name": "stdout",
     "output_type": "stream",
     "text": [
      "[INFO]  Successfully created the data folder /home/agusmazzeo/Documents/UTN/Proyecto/outputs_2/evaluation_35/UTN/exploration_data_2022-10-26-19-58-29.\n",
      "[INFO]  Data folder /home/agusmazzeo/Documents/UTN/Proyecto/outputs_2/evaluation_35/UTN_CON_DISTANCIA/exploration_data_2022-11-08-09-32-35.orig already exists. Not creating.\n",
      "[INFO]  Successfully created the data folder /home/agusmazzeo/Documents/UTN/Proyecto/outputs_2/evaluation_35/MARYLAND/exploration_data_2022-10-26-19-36-38.orig.\n"
     ]
    },
    {
     "name": "stderr",
     "output_type": "stream",
     "text": [
      "/tmp/ipykernel_3540/2515814446.py:32: FutureWarning: The frame.append method is deprecated and will be removed from pandas in a future version. Use pandas.concat instead.\n",
      "  report[key] = {\"trajectory\": poly.append(result[key][\"trajectory_df\"]), **self.get_exploration_data(key, index, result)}\n",
      "/tmp/ipykernel_3540/2515814446.py:32: FutureWarning: The frame.append method is deprecated and will be removed from pandas in a future version. Use pandas.concat instead.\n",
      "  report[key] = {\"trajectory\": poly.append(result[key][\"trajectory_df\"]), **self.get_exploration_data(key, index, result)}\n",
      "/tmp/ipykernel_3540/2515814446.py:32: FutureWarning: The frame.append method is deprecated and will be removed from pandas in a future version. Use pandas.concat instead.\n",
      "  report[key] = {\"trajectory\": poly.append(result[key][\"trajectory_df\"]), **self.get_exploration_data(key, index, result)}\n",
      " 36%|██████████████████████████████████████▉                                                                    | 28/77 [01:54<04:07,  5.05s/it]"
     ]
    },
    {
     "name": "stdout",
     "output_type": "stream",
     "text": [
      "[INFO]  Data folder /home/agusmazzeo/Documents/UTN/Proyecto/outputs_2/evaluation_34/UTN/exploration_data_2022-10-26-20-09-22.orig already exists. Not creating.\n",
      "[INFO]  Successfully created the data folder /home/agusmazzeo/Documents/UTN/Proyecto/outputs_2/evaluation_34/UTN_CON_DISTANCIA/exploration_data_2022-11-08-09-34-38.\n",
      "[INFO]  Data folder /home/agusmazzeo/Documents/UTN/Proyecto/outputs_2/evaluation_34/MARYLAND/exploration_data_2022-10-26-20-06-14.orig already exists. Not creating.\n"
     ]
    },
    {
     "name": "stderr",
     "output_type": "stream",
     "text": [
      "/tmp/ipykernel_3540/2515814446.py:32: FutureWarning: The frame.append method is deprecated and will be removed from pandas in a future version. Use pandas.concat instead.\n",
      "  report[key] = {\"trajectory\": poly.append(result[key][\"trajectory_df\"]), **self.get_exploration_data(key, index, result)}\n",
      "/tmp/ipykernel_3540/2515814446.py:32: FutureWarning: The frame.append method is deprecated and will be removed from pandas in a future version. Use pandas.concat instead.\n",
      "  report[key] = {\"trajectory\": poly.append(result[key][\"trajectory_df\"]), **self.get_exploration_data(key, index, result)}\n",
      "/tmp/ipykernel_3540/2515814446.py:32: FutureWarning: The frame.append method is deprecated and will be removed from pandas in a future version. Use pandas.concat instead.\n",
      "  report[key] = {\"trajectory\": poly.append(result[key][\"trajectory_df\"]), **self.get_exploration_data(key, index, result)}\n",
      " 38%|████████████████████████████████████████▎                                                                  | 29/77 [01:58<03:43,  4.66s/it]"
     ]
    },
    {
     "name": "stdout",
     "output_type": "stream",
     "text": [
      "[INFO]  Data folder /home/agusmazzeo/Documents/UTN/Proyecto/outputs_2/evaluation_33/UTN/exploration_data_2022-10-26-20-34-47.orig already exists. Not creating.\n",
      "[INFO]  Data folder /home/agusmazzeo/Documents/UTN/Proyecto/outputs_2/evaluation_33/UTN_CON_DISTANCIA/exploration_data_2022-11-08-09-55-25 already exists. Not creating.\n",
      "[INFO]  Data folder /home/agusmazzeo/Documents/UTN/Proyecto/outputs_2/evaluation_33/MARYLAND/exploration_data_2022-10-26-20-10-11 already exists. Not creating.\n"
     ]
    },
    {
     "name": "stderr",
     "output_type": "stream",
     "text": [
      "/tmp/ipykernel_3540/2515814446.py:32: FutureWarning: The frame.append method is deprecated and will be removed from pandas in a future version. Use pandas.concat instead.\n",
      "  report[key] = {\"trajectory\": poly.append(result[key][\"trajectory_df\"]), **self.get_exploration_data(key, index, result)}\n",
      "/tmp/ipykernel_3540/2515814446.py:32: FutureWarning: The frame.append method is deprecated and will be removed from pandas in a future version. Use pandas.concat instead.\n",
      "  report[key] = {\"trajectory\": poly.append(result[key][\"trajectory_df\"]), **self.get_exploration_data(key, index, result)}\n",
      "/tmp/ipykernel_3540/2515814446.py:32: FutureWarning: The frame.append method is deprecated and will be removed from pandas in a future version. Use pandas.concat instead.\n",
      "  report[key] = {\"trajectory\": poly.append(result[key][\"trajectory_df\"]), **self.get_exploration_data(key, index, result)}\n",
      " 39%|█████████████████████████████████████████▋                                                                 | 30/77 [02:01<03:27,  4.41s/it]"
     ]
    },
    {
     "name": "stdout",
     "output_type": "stream",
     "text": [
      "[INFO]  Data folder /home/agusmazzeo/Documents/UTN/Proyecto/outputs_2/evaluation_39/UTN/exploration_data_2022-10-26-20-42-48.orig already exists. Not creating.\n",
      "[INFO]  Data folder /home/agusmazzeo/Documents/UTN/Proyecto/outputs_2/evaluation_39/UTN_CON_DISTANCIA/exploration_data_2022-11-08-10-02-52 already exists. Not creating.\n",
      "[INFO]  Data folder /home/agusmazzeo/Documents/UTN/Proyecto/outputs_2/evaluation_39/MARYLAND/exploration_data_2022-10-26-20-35-53 already exists. Not creating.\n"
     ]
    },
    {
     "name": "stderr",
     "output_type": "stream",
     "text": [
      "/tmp/ipykernel_3540/2515814446.py:32: FutureWarning: The frame.append method is deprecated and will be removed from pandas in a future version. Use pandas.concat instead.\n",
      "  report[key] = {\"trajectory\": poly.append(result[key][\"trajectory_df\"]), **self.get_exploration_data(key, index, result)}\n",
      "/tmp/ipykernel_3540/2515814446.py:32: FutureWarning: The frame.append method is deprecated and will be removed from pandas in a future version. Use pandas.concat instead.\n",
      "  report[key] = {\"trajectory\": poly.append(result[key][\"trajectory_df\"]), **self.get_exploration_data(key, index, result)}\n",
      "/tmp/ipykernel_3540/2515814446.py:32: FutureWarning: The frame.append method is deprecated and will be removed from pandas in a future version. Use pandas.concat instead.\n",
      "  report[key] = {\"trajectory\": poly.append(result[key][\"trajectory_df\"]), **self.get_exploration_data(key, index, result)}\n",
      "100%|███████████████████████████████████████████████████████████████████████████████████████████████████████████| 77/77 [02:04<00:00,  1.62s/it]"
     ]
    },
    {
     "name": "stdout",
     "output_type": "stream",
     "text": [
      "An error ocurred on /home/agusmazzeo/Documents/UTN/Proyecto/outputs_2/evaluation_36: list index out of range\n",
      "An error ocurred on /home/agusmazzeo/Documents/UTN/Proyecto/outputs_2/evaluation_44: list index out of range\n"
     ]
    },
    {
     "name": "stderr",
     "output_type": "stream",
     "text": [
      "\n"
     ]
    }
   ],
   "source": [
    "bdh = BagpyDataHandler(worlds_df, BASE_DIR) "
   ]
  },
  {
   "cell_type": "code",
   "execution_count": 35,
   "id": "6d47bc23-be59-435a-8311-4b90f6986f39",
   "metadata": {},
   "outputs": [],
   "source": [
    "reform = {(outerKey, innerKey): values for outerKey, innerDict in bdh.report.items() for innerKey, values in innerDict.items()}\n",
    "data_check = pd.DataFrame(reform).T"
   ]
  },
  {
   "cell_type": "markdown",
   "id": "2efa6337-9b50-46ae-aea0-4343d2f0aa8f",
   "metadata": {},
   "source": [
    "## KPIs"
   ]
  },
  {
   "cell_type": "markdown",
   "id": "663c52dd-afb5-4adc-9b9f-83d9f4df981c",
   "metadata": {},
   "source": [
    "- Graficar diferencia de distancia en funcion del area total de cada corrida\n",
    "- Casos de exito frente al total de corridas (numero en porcentaje)"
   ]
  },
  {
   "cell_type": "code",
   "execution_count": 83,
   "id": "679ce6d6-0e51-48b0-9b44-759e3e9882ba",
   "metadata": {},
   "outputs": [
    {
     "data": {
      "text/html": [
       "<div>\n",
       "<style scoped>\n",
       "    .dataframe tbody tr th:only-of-type {\n",
       "        vertical-align: middle;\n",
       "    }\n",
       "\n",
       "    .dataframe tbody tr th {\n",
       "        vertical-align: top;\n",
       "    }\n",
       "\n",
       "    .dataframe thead th {\n",
       "        text-align: right;\n",
       "    }\n",
       "</style>\n",
       "<table border=\"1\" class=\"dataframe\">\n",
       "  <thead>\n",
       "    <tr style=\"text-align: right;\">\n",
       "      <th></th>\n",
       "      <th></th>\n",
       "      <th>trajectory</th>\n",
       "      <th>explored_percentage</th>\n",
       "      <th>total_time_sec</th>\n",
       "      <th>dist_explored_20%</th>\n",
       "      <th>dist_explored_50%</th>\n",
       "      <th>dist_explored_80%</th>\n",
       "      <th>dist_total</th>\n",
       "    </tr>\n",
       "  </thead>\n",
       "  <tbody>\n",
       "    <tr>\n",
       "      <th rowspan=\"3\" valign=\"top\">evaluation_1</th>\n",
       "      <th>UTN</th>\n",
       "      <td>...</td>\n",
       "      <td>99.253369</td>\n",
       "      <td>226</td>\n",
       "      <td>14.52432</td>\n",
       "      <td>17.961302</td>\n",
       "      <td>39.737892</td>\n",
       "      <td>112.529877</td>\n",
       "    </tr>\n",
       "    <tr>\n",
       "      <th>UTN_DIST</th>\n",
       "      <td>...</td>\n",
       "      <td>99.542095</td>\n",
       "      <td>270</td>\n",
       "      <td>13.293391</td>\n",
       "      <td>18.083689</td>\n",
       "      <td>37.723267</td>\n",
       "      <td>118.348862</td>\n",
       "    </tr>\n",
       "    <tr>\n",
       "      <th>MARYLAND</th>\n",
       "      <td>...</td>\n",
       "      <td>99.40581</td>\n",
       "      <td>169</td>\n",
       "      <td>13.914962</td>\n",
       "      <td>15.895142</td>\n",
       "      <td>44.387676</td>\n",
       "      <td>108.526428</td>\n",
       "    </tr>\n",
       "    <tr>\n",
       "      <th rowspan=\"2\" valign=\"top\">evaluation_5</th>\n",
       "      <th>UTN</th>\n",
       "      <td>...</td>\n",
       "      <td>96.895545</td>\n",
       "      <td>527</td>\n",
       "      <td>10.656135</td>\n",
       "      <td>30.3794</td>\n",
       "      <td>151.865677</td>\n",
       "      <td>459.137726</td>\n",
       "    </tr>\n",
       "    <tr>\n",
       "      <th>UTN_DIST</th>\n",
       "      <td>...</td>\n",
       "      <td>99.140008</td>\n",
       "      <td>282</td>\n",
       "      <td>5.650729</td>\n",
       "      <td>30.245169</td>\n",
       "      <td>70.292816</td>\n",
       "      <td>184.379929</td>\n",
       "    </tr>\n",
       "    <tr>\n",
       "      <th>...</th>\n",
       "      <th>...</th>\n",
       "      <td>...</td>\n",
       "      <td>...</td>\n",
       "      <td>...</td>\n",
       "      <td>...</td>\n",
       "      <td>...</td>\n",
       "      <td>...</td>\n",
       "      <td>...</td>\n",
       "    </tr>\n",
       "    <tr>\n",
       "      <th rowspan=\"2\" valign=\"top\">evaluation_33</th>\n",
       "      <th>UTN_DIST</th>\n",
       "      <td>...</td>\n",
       "      <td>99.496227</td>\n",
       "      <td>232</td>\n",
       "      <td>9.537879</td>\n",
       "      <td>23.542955</td>\n",
       "      <td>47.008404</td>\n",
       "      <td>177.332336</td>\n",
       "    </tr>\n",
       "    <tr>\n",
       "      <th>MARYLAND</th>\n",
       "      <td>...</td>\n",
       "      <td>99.375003</td>\n",
       "      <td>238</td>\n",
       "      <td>7.226241</td>\n",
       "      <td>44.089092</td>\n",
       "      <td>82.16729</td>\n",
       "      <td>179.544876</td>\n",
       "    </tr>\n",
       "    <tr>\n",
       "      <th rowspan=\"3\" valign=\"top\">evaluation_39</th>\n",
       "      <th>UTN</th>\n",
       "      <td>...</td>\n",
       "      <td>99.551005</td>\n",
       "      <td>202</td>\n",
       "      <td>7.477966</td>\n",
       "      <td>18.787392</td>\n",
       "      <td>30.282663</td>\n",
       "      <td>140.940308</td>\n",
       "    </tr>\n",
       "    <tr>\n",
       "      <th>UTN_DIST</th>\n",
       "      <td>...</td>\n",
       "      <td>99.396793</td>\n",
       "      <td>161</td>\n",
       "      <td>3.569335</td>\n",
       "      <td>16.381506</td>\n",
       "      <td>27.796432</td>\n",
       "      <td>146.303757</td>\n",
       "    </tr>\n",
       "    <tr>\n",
       "      <th>MARYLAND</th>\n",
       "      <td>...</td>\n",
       "      <td>99.532664</td>\n",
       "      <td>180</td>\n",
       "      <td>5.228685</td>\n",
       "      <td>24.104948</td>\n",
       "      <td>36.968021</td>\n",
       "      <td>146.766327</td>\n",
       "    </tr>\n",
       "  </tbody>\n",
       "</table>\n",
       "<p>81 rows × 7 columns</p>\n",
       "</div>"
      ],
      "text/plain": [
       "                                                               trajectory  \\\n",
       "evaluation_1  UTN                                                     ...   \n",
       "              UTN_DIST                                                ...   \n",
       "              MARYLAND                                                ...   \n",
       "evaluation_5  UTN                                                     ...   \n",
       "              UTN_DIST                                                ...   \n",
       "...                                                                   ...   \n",
       "evaluation_33 UTN_DIST                                                ...   \n",
       "              MARYLAND                                                ...   \n",
       "evaluation_39 UTN                                                     ...   \n",
       "              UTN_DIST                                                ...   \n",
       "              MARYLAND                                                ...   \n",
       "\n",
       "                       explored_percentage total_time_sec dist_explored_20%  \\\n",
       "evaluation_1  UTN                99.253369            226          14.52432   \n",
       "              UTN_DIST           99.542095            270         13.293391   \n",
       "              MARYLAND            99.40581            169         13.914962   \n",
       "evaluation_5  UTN                96.895545            527         10.656135   \n",
       "              UTN_DIST           99.140008            282          5.650729   \n",
       "...                                    ...            ...               ...   \n",
       "evaluation_33 UTN_DIST           99.496227            232          9.537879   \n",
       "              MARYLAND           99.375003            238          7.226241   \n",
       "evaluation_39 UTN                99.551005            202          7.477966   \n",
       "              UTN_DIST           99.396793            161          3.569335   \n",
       "              MARYLAND           99.532664            180          5.228685   \n",
       "\n",
       "                       dist_explored_50% dist_explored_80%  dist_total  \n",
       "evaluation_1  UTN              17.961302         39.737892  112.529877  \n",
       "              UTN_DIST         18.083689         37.723267  118.348862  \n",
       "              MARYLAND         15.895142         44.387676  108.526428  \n",
       "evaluation_5  UTN                30.3794        151.865677  459.137726  \n",
       "              UTN_DIST         30.245169         70.292816  184.379929  \n",
       "...                                  ...               ...         ...  \n",
       "evaluation_33 UTN_DIST         23.542955         47.008404  177.332336  \n",
       "              MARYLAND         44.089092          82.16729  179.544876  \n",
       "evaluation_39 UTN              18.787392         30.282663  140.940308  \n",
       "              UTN_DIST         16.381506         27.796432  146.303757  \n",
       "              MARYLAND         24.104948         36.968021  146.766327  \n",
       "\n",
       "[81 rows x 7 columns]"
      ]
     },
     "execution_count": 83,
     "metadata": {},
     "output_type": "execute_result"
    }
   ],
   "source": [
    "data_check"
   ]
  },
  {
   "cell_type": "code",
   "execution_count": 41,
   "id": "a48a03cb-9847-4966-8dd8-ac1212373599",
   "metadata": {},
   "outputs": [],
   "source": [
    "dist_diff_v1 = {}\n",
    "for evaluation in data_check.index:\n",
    "    data = data_check.loc[evaluation[0]]\n",
    "    total_area = bdh.worlds[evaluation[0]]['free_area']\n",
    "    dist_diff_v1[evaluation[0]] = {\n",
    "        'diff': int(data.loc['MARYLAND']['dist_total']-data.loc['UTN']['dist_total']),\n",
    "        'total_area': total_area\n",
    "    }\n",
    "dist_diff_v1_df = pd.DataFrame(dist_diff_v1).T.sort_values('total_area')"
   ]
  },
  {
   "cell_type": "code",
   "execution_count": 100,
   "id": "46ebe792-0230-4172-b3d5-763cd8317d83",
   "metadata": {},
   "outputs": [
    {
     "data": {
      "text/plain": [
       "<AxesSubplot:>"
      ]
     },
     "execution_count": 100,
     "metadata": {},
     "output_type": "execute_result"
    },
    {
     "data": {
      "image/png": "[encoded data removed]",
      "text/plain": [
       "<Figure size 640x480 with 1 Axes>"
      ]
     },
     "metadata": {},
     "output_type": "display_data"
    }
   ],
   "source": [
    "dist_diff_v1_df['diff'].hist()"
   ]
  },
  {
   "cell_type": "code",
   "execution_count": 89,
   "id": "3332593c-ab2f-4c1e-af98-939948682f9a",
   "metadata": {},
   "outputs": [
    {
     "data": {
      "text/plain": [
       "<AxesSubplot:ylabel='Density'>"
      ]
     },
     "execution_count": 89,
     "metadata": {},
     "output_type": "execute_result"
    },
    {
     "data": {
      "image/png": "[encoded data removed]",
      "text/plain": [
       "<Figure size 640x480 with 1 Axes>"
      ]
     },
     "metadata": {},
     "output_type": "display_data"
    }
   ],
   "source": [
    "dist_diff_v1_df['diff'].plot.density(grid=True)"
   ]
  },
  {
   "cell_type": "code",
   "execution_count": 75,
   "id": "9bca7721-ea07-4063-b253-e81ad3f2c92d",
   "metadata": {},
   "outputs": [
    {
     "data": {
      "text/plain": [
       "<AxesSubplot:>"
      ]
     },
     "execution_count": 75,
     "metadata": {},
     "output_type": "execute_result"
    },
    {
     "data": {
      "image/png": "[encoded data removed]",
      "text/plain": [
       "<Figure size 640x480 with 1 Axes>"
      ]
     },
     "metadata": {},
     "output_type": "display_data"
    }
   ],
   "source": [
    "dist_diff_v1_df.sort_values('diff').plot(y='diff', grid=True)"
   ]
  },
  {
   "cell_type": "markdown",
   "id": "424631d9-77d1-4b2c-95de-e0b9182372dc",
   "metadata": {},
   "source": [
    "### Promedio de la mejora porcentual de velocidad"
   ]
  },
  {
   "cell_type": "code",
   "execution_count": 76,
   "id": "43e22d47-e916-4c7f-9209-54ceb872921a",
   "metadata": {},
   "outputs": [
    {
     "data": {
      "text/plain": [
       "-61.333333333333336"
      ]
     },
     "execution_count": 76,
     "metadata": {},
     "output_type": "execute_result"
    }
   ],
   "source": [
    "dist_diff_v1_df['diff'].mean()"
   ]
  },
  {
   "cell_type": "markdown",
   "id": "f7cfd3ce-5f6a-4b38-96cc-34f7d040383d",
   "metadata": {},
   "source": [
    "### Cantidad de casos exitosos UTN vs Maryland"
   ]
  },
  {
   "cell_type": "code",
   "execution_count": 78,
   "id": "f2c0a681-7e20-4536-a0f0-3a0dd802f991",
   "metadata": {},
   "outputs": [
    {
     "data": {
      "text/plain": [
       "22.22222222222222"
      ]
     },
     "execution_count": 78,
     "metadata": {},
     "output_type": "execute_result"
    }
   ],
   "source": [
    "100*dist_diff_v1_df.loc[dist_diff_v1_df['diff']>=0].shape[0]/dist_diff_v1_df.shape[0]"
   ]
  },
  {
   "cell_type": "code",
   "execution_count": 53,
   "id": "858f9b43-c2fa-41a1-a952-603b20293548",
   "metadata": {},
   "outputs": [],
   "source": [
    "dist_diff_v2 = {}\n",
    "for evaluation in data_check.index:\n",
    "    data = data_check.loc[evaluation[0]]\n",
    "    total_area = bdh.worlds[evaluation[0]]['free_area']\n",
    "    dist_diff_v2[evaluation[0]] = {\n",
    "        'diff': 100*int(data.loc['MARYLAND']['dist_explored_80%']-data.loc['UTN_DIST']['dist_explored_80%'])/int(data.loc['MARYLAND']['dist_explored_80%']),\n",
    "        'total_area': total_area\n",
    "    }\n",
    "dist_diff_v2_df = pd.DataFrame(dist_diff_v2).T.sort_values('total_area')"
   ]
  },
  {
   "cell_type": "markdown",
   "id": "26b62eed-45b8-46a4-9475-87ded79d64a3",
   "metadata": {},
   "source": [
    "### UTN distancia vs Maryland grafico"
   ]
  },
  {
   "cell_type": "code",
   "execution_count": 99,
   "id": "2fe31b1e-e25c-4f40-b31d-0fafbbd9dceb",
   "metadata": {},
   "outputs": [
    {
     "data": {
      "text/plain": [
       "<AxesSubplot:>"
      ]
     },
     "execution_count": 99,
     "metadata": {},
     "output_type": "execute_result"
    },
    {
     "data": {
      "image/png": "[encoded data removed]",
      "text/plain": [
       "<Figure size 640x480 with 1 Axes>"
      ]
     },
     "metadata": {},
     "output_type": "display_data"
    }
   ],
   "source": [
    "dist_diff_v2_df['diff'].hist()"
   ]
  },
  {
   "cell_type": "code",
   "execution_count": 90,
   "id": "3cf57a0c-be2b-4b3e-a32c-d9830586cf25",
   "metadata": {},
   "outputs": [
    {
     "data": {
      "text/plain": [
       "<AxesSubplot:ylabel='Density'>"
      ]
     },
     "execution_count": 90,
     "metadata": {},
     "output_type": "execute_result"
    },
    {
     "data": {
      "image/png": "[encoded data removed]",
      "text/plain": [
       "<Figure size 640x480 with 1 Axes>"
      ]
     },
     "metadata": {},
     "output_type": "display_data"
    }
   ],
   "source": [
    "dist_diff_v2_df['diff'].plot.density(grid=True)"
   ]
  },
  {
   "cell_type": "code",
   "execution_count": 70,
   "id": "0bdf68c4-f478-4acd-a85f-30827e93acd6",
   "metadata": {},
   "outputs": [
    {
     "data": {
      "text/plain": [
       "<AxesSubplot:>"
      ]
     },
     "execution_count": 70,
     "metadata": {},
     "output_type": "execute_result"
    },
    {
     "data": {
      "image/png": "[encoded data removed]",
      "text/plain": [
       "<Figure size 640x480 with 1 Axes>"
      ]
     },
     "metadata": {},
     "output_type": "display_data"
    }
   ],
   "source": [
    "dist_diff_v2_df.sort_values('diff').plot(y='diff', grid=True)"
   ]
  },
  {
   "cell_type": "markdown",
   "id": "b29011a8-b904-4b8e-91f1-2d137206ad2a",
   "metadata": {},
   "source": [
    "### Promedio de la mejora porcentual de velocidad"
   ]
  },
  {
   "cell_type": "code",
   "execution_count": 71,
   "id": "57ca6da7-e92f-4b4c-8d17-76af6488cd12",
   "metadata": {},
   "outputs": [
    {
     "data": {
      "text/plain": [
       "14.088324052779681"
      ]
     },
     "execution_count": 71,
     "metadata": {},
     "output_type": "execute_result"
    }
   ],
   "source": [
    "dist_diff_v2_df['diff'].mean()"
   ]
  },
  {
   "cell_type": "markdown",
   "id": "3b46f588-cb8a-419b-a07a-c0a5ab7bb155",
   "metadata": {},
   "source": [
    "### Cantidad de casos exitosos UTN vs Maryland"
   ]
  },
  {
   "cell_type": "code",
   "execution_count": 73,
   "id": "40f886b5-cf82-40ff-8088-8b36e5b1b73d",
   "metadata": {},
   "outputs": [
    {
     "data": {
      "text/plain": [
       "80.0"
      ]
     },
     "execution_count": 73,
     "metadata": {},
     "output_type": "execute_result"
    }
   ],
   "source": [
    "100*dist_diff_v2_df.loc[dist_diff_v2_df['diff']>=0].shape[0]/dist_diff_v2_df.shape[0]"
   ]
  }
 ],
 "metadata": {
  "kernelspec": {
   "display_name": "Python 3 (ipykernel)",
   "language": "python",
   "name": "python3"
  },
  "language_info": {
   "codemirror_mode": {
    "name": "ipython",
    "version": 3
   },
   "file_extension": ".py",
   "mimetype": "text/x-python",
   "name": "python",
   "nbconvert_exporter": "python",
   "pygments_lexer": "ipython3",
   "version": "3.9.1"
  }
 },
 "nbformat": 4,
 "nbformat_minor": 5
}
