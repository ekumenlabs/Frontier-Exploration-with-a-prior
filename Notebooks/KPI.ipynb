{
 "cells": [
  {
   "cell_type": "code",
   "execution_count": 6,
   "id": "c635d2d3-1197-447f-bece-023d9964ea99",
   "metadata": {},
   "outputs": [],
   "source": [
    "import bagpy\n",
    "from tqdm import tqdm\n",
    "from typing import *\n",
    "from shapely.geometry import *\n",
    "from os.path import join, exists\n",
    "from glob import glob\n",
    "import numpy as np\n",
    "import matplotlib.pyplot as plt\n",
    "import pandas as pd\n",
    "import pickle\n",
    "import geopandas as gpd"
   ]
  },
  {
   "cell_type": "code",
   "execution_count": 7,
   "id": "9e807fae-f6cd-423b-9c25-5f5e5d0ddbf7",
   "metadata": {},
   "outputs": [],
   "source": [
    "worlds_df = pd.read_pickle(\"/home/agusmazzeo/Documents/UTN/Proyecto/worlds_df.pkl\")"
   ]
  },
  {
   "cell_type": "code",
   "execution_count": 8,
   "id": "7d79dec9-fe88-475e-b999-f39b425d95e3",
   "metadata": {},
   "outputs": [
    {
     "data": {
      "text/html": [
       "<div>\n",
       "<style scoped>\n",
       "    .dataframe tbody tr th:only-of-type {\n",
       "        vertical-align: middle;\n",
       "    }\n",
       "\n",
       "    .dataframe tbody tr th {\n",
       "        vertical-align: top;\n",
       "    }\n",
       "\n",
       "    .dataframe thead th {\n",
       "        text-align: right;\n",
       "    }\n",
       "</style>\n",
       "<table border=\"1\" class=\"dataframe\">\n",
       "  <thead>\n",
       "    <tr style=\"text-align: right;\">\n",
       "      <th></th>\n",
       "      <th>world</th>\n",
       "      <th>world_dir</th>\n",
       "      <th>starting_point</th>\n",
       "      <th>free_area</th>\n",
       "      <th>finished_false</th>\n",
       "      <th>finished_true</th>\n",
       "    </tr>\n",
       "  </thead>\n",
       "  <tbody>\n",
       "    <tr>\n",
       "      <th>evaluation_7</th>\n",
       "      <td>&lt;FrontierExploration.preprocessing.layout.synt...</td>\n",
       "      <td>/home/ramiro/.gazeboworlds/evaluation_7.world</td>\n",
       "      <td>(44.3730343170481, 45.43376604621937)</td>\n",
       "      <td>1586.841949</td>\n",
       "      <td>True</td>\n",
       "      <td>True</td>\n",
       "    </tr>\n",
       "    <tr>\n",
       "      <th>evaluation_1</th>\n",
       "      <td>&lt;FrontierExploration.preprocessing.layout.synt...</td>\n",
       "      <td>/home/ramiro/.gazeboworlds/evaluation_1.world</td>\n",
       "      <td>(38.13039752687315, 44.08558532764939)</td>\n",
       "      <td>1207.029552</td>\n",
       "      <td>True</td>\n",
       "      <td>True</td>\n",
       "    </tr>\n",
       "    <tr>\n",
       "      <th>evaluation_5</th>\n",
       "      <td>&lt;FrontierExploration.preprocessing.layout.synt...</td>\n",
       "      <td>/home/ramiro/.gazeboworlds/evaluation_5.world</td>\n",
       "      <td>(30.162369766644044, 17.229534857934745)</td>\n",
       "      <td>1470.062424</td>\n",
       "      <td>True</td>\n",
       "      <td>True</td>\n",
       "    </tr>\n",
       "    <tr>\n",
       "      <th>evaluation_0</th>\n",
       "      <td>&lt;FrontierExploration.preprocessing.layout.synt...</td>\n",
       "      <td>/home/ramiro/.gazeboworlds/evaluation_0.world</td>\n",
       "      <td>(47.59203620653866, 21.969882899768308)</td>\n",
       "      <td>1093.128472</td>\n",
       "      <td>True</td>\n",
       "      <td>True</td>\n",
       "    </tr>\n",
       "    <tr>\n",
       "      <th>evaluation_9</th>\n",
       "      <td>&lt;FrontierExploration.preprocessing.layout.synt...</td>\n",
       "      <td>/home/ramiro/.gazeboworlds/evaluation_9.world</td>\n",
       "      <td>(27.146833573506807, 26.35109100999387)</td>\n",
       "      <td>1227.752651</td>\n",
       "      <td>True</td>\n",
       "      <td>True</td>\n",
       "    </tr>\n",
       "    <tr>\n",
       "      <th>...</th>\n",
       "      <td>...</td>\n",
       "      <td>...</td>\n",
       "      <td>...</td>\n",
       "      <td>...</td>\n",
       "      <td>...</td>\n",
       "      <td>...</td>\n",
       "    </tr>\n",
       "    <tr>\n",
       "      <th>evaluation_194</th>\n",
       "      <td>&lt;FrontierExploration.preprocessing.layout.synt...</td>\n",
       "      <td>/home/ramiro/.gazeboworlds/evaluation_194.world</td>\n",
       "      <td>(22.244891259682838, 5.356341056526373)</td>\n",
       "      <td>891.868292</td>\n",
       "      <td>False</td>\n",
       "      <td>False</td>\n",
       "    </tr>\n",
       "    <tr>\n",
       "      <th>evaluation_195</th>\n",
       "      <td>&lt;FrontierExploration.preprocessing.layout.synt...</td>\n",
       "      <td>/home/ramiro/.gazeboworlds/evaluation_195.world</td>\n",
       "      <td>(41.545717721344076, 10.354559752761045)</td>\n",
       "      <td>712.452498</td>\n",
       "      <td>False</td>\n",
       "      <td>False</td>\n",
       "    </tr>\n",
       "    <tr>\n",
       "      <th>evaluation_196</th>\n",
       "      <td>&lt;FrontierExploration.preprocessing.layout.synt...</td>\n",
       "      <td>/home/ramiro/.gazeboworlds/evaluation_196.world</td>\n",
       "      <td>(11.235190104396708, 7.134928722218135)</td>\n",
       "      <td>1313.795085</td>\n",
       "      <td>False</td>\n",
       "      <td>False</td>\n",
       "    </tr>\n",
       "    <tr>\n",
       "      <th>evaluation_197</th>\n",
       "      <td>&lt;FrontierExploration.preprocessing.layout.synt...</td>\n",
       "      <td>/home/ramiro/.gazeboworlds/evaluation_197.world</td>\n",
       "      <td>(49.83808475194827, 15.364919697504677)</td>\n",
       "      <td>1454.669774</td>\n",
       "      <td>False</td>\n",
       "      <td>False</td>\n",
       "    </tr>\n",
       "    <tr>\n",
       "      <th>evaluation_198</th>\n",
       "      <td>&lt;FrontierExploration.preprocessing.layout.synt...</td>\n",
       "      <td>/home/ramiro/.gazeboworlds/evaluation_198.world</td>\n",
       "      <td>(23.332863952154987, 44.063114478310496)</td>\n",
       "      <td>1369.798088</td>\n",
       "      <td>False</td>\n",
       "      <td>False</td>\n",
       "    </tr>\n",
       "  </tbody>\n",
       "</table>\n",
       "<p>163 rows × 6 columns</p>\n",
       "</div>"
      ],
      "text/plain": [
       "                                                            world  \\\n",
       "evaluation_7    <FrontierExploration.preprocessing.layout.synt...   \n",
       "evaluation_1    <FrontierExploration.preprocessing.layout.synt...   \n",
       "evaluation_5    <FrontierExploration.preprocessing.layout.synt...   \n",
       "evaluation_0    <FrontierExploration.preprocessing.layout.synt...   \n",
       "evaluation_9    <FrontierExploration.preprocessing.layout.synt...   \n",
       "...                                                           ...   \n",
       "evaluation_194  <FrontierExploration.preprocessing.layout.synt...   \n",
       "evaluation_195  <FrontierExploration.preprocessing.layout.synt...   \n",
       "evaluation_196  <FrontierExploration.preprocessing.layout.synt...   \n",
       "evaluation_197  <FrontierExploration.preprocessing.layout.synt...   \n",
       "evaluation_198  <FrontierExploration.preprocessing.layout.synt...   \n",
       "\n",
       "                                                      world_dir  \\\n",
       "evaluation_7      /home/ramiro/.gazeboworlds/evaluation_7.world   \n",
       "evaluation_1      /home/ramiro/.gazeboworlds/evaluation_1.world   \n",
       "evaluation_5      /home/ramiro/.gazeboworlds/evaluation_5.world   \n",
       "evaluation_0      /home/ramiro/.gazeboworlds/evaluation_0.world   \n",
       "evaluation_9      /home/ramiro/.gazeboworlds/evaluation_9.world   \n",
       "...                                                         ...   \n",
       "evaluation_194  /home/ramiro/.gazeboworlds/evaluation_194.world   \n",
       "evaluation_195  /home/ramiro/.gazeboworlds/evaluation_195.world   \n",
       "evaluation_196  /home/ramiro/.gazeboworlds/evaluation_196.world   \n",
       "evaluation_197  /home/ramiro/.gazeboworlds/evaluation_197.world   \n",
       "evaluation_198  /home/ramiro/.gazeboworlds/evaluation_198.world   \n",
       "\n",
       "                                          starting_point    free_area  \\\n",
       "evaluation_7       (44.3730343170481, 45.43376604621937)  1586.841949   \n",
       "evaluation_1      (38.13039752687315, 44.08558532764939)  1207.029552   \n",
       "evaluation_5    (30.162369766644044, 17.229534857934745)  1470.062424   \n",
       "evaluation_0     (47.59203620653866, 21.969882899768308)  1093.128472   \n",
       "evaluation_9     (27.146833573506807, 26.35109100999387)  1227.752651   \n",
       "...                                                  ...          ...   \n",
       "evaluation_194   (22.244891259682838, 5.356341056526373)   891.868292   \n",
       "evaluation_195  (41.545717721344076, 10.354559752761045)   712.452498   \n",
       "evaluation_196   (11.235190104396708, 7.134928722218135)  1313.795085   \n",
       "evaluation_197   (49.83808475194827, 15.364919697504677)  1454.669774   \n",
       "evaluation_198  (23.332863952154987, 44.063114478310496)  1369.798088   \n",
       "\n",
       "                finished_false  finished_true  \n",
       "evaluation_7              True           True  \n",
       "evaluation_1              True           True  \n",
       "evaluation_5              True           True  \n",
       "evaluation_0              True           True  \n",
       "evaluation_9              True           True  \n",
       "...                        ...            ...  \n",
       "evaluation_194           False          False  \n",
       "evaluation_195           False          False  \n",
       "evaluation_196           False          False  \n",
       "evaluation_197           False          False  \n",
       "evaluation_198           False          False  \n",
       "\n",
       "[163 rows x 6 columns]"
      ]
     },
     "execution_count": 8,
     "metadata": {},
     "output_type": "execute_result"
    }
   ],
   "source": [
    "worlds_df"
   ]
  },
  {
   "cell_type": "code",
   "execution_count": 160,
   "id": "809a0ead-54e0-4e95-9327-27c9d8ab23ef",
   "metadata": {},
   "outputs": [],
   "source": [
    "class BagpyDataHandler:\n",
    "    \n",
    "    def __init__(self, worlds_df: pd.DataFrame, outputs_dir: str):\n",
    "        self.res_values = {}\n",
    "        self.report = {}\n",
    "        self.worlds = {}\n",
    "        count=0\n",
    "        for index in tqdm(worlds_df[worlds_df[\"finished_true\"]].index):\n",
    "            if count==10:\n",
    "                break\n",
    "            count+=1\n",
    "            result = self.get_results_from_folder(join(outputs_dir, index))\n",
    "            if result is not None:\n",
    "                self.res_values[index] = result\n",
    "                self.worlds[index] = worlds_df.loc[index]\n",
    "                self.report[index] = self.get_report_data(index, result)\n",
    "                \n",
    "    def get_report_data(self, index: str, result: Dict[str, Any]):\n",
    "        report = {}\n",
    "        world_polygon = self.worlds[index].world.free_space_polygon\n",
    "        if isinstance(world_polygon, MultiPolygon):\n",
    "            world_polygon = world_polygon.convex_hull\n",
    "        for key in result.keys():\n",
    "            if key not in report.keys():\n",
    "                report[key] = {}\n",
    "            poly = gpd.GeoDataFrame(geometry=[world_polygon.exterior])\n",
    "            report[key] = {\"trajectory\": poly.append(result[key][\"trajectory_df\"]), **self.get_exploration_data(key, index, result)}\n",
    "        return report\n",
    "    \n",
    "    def get_exploration_data(self, key: str, index: str, result: Dict[str, Any]):\n",
    "        free_area = self.worlds[index][\"free_area\"]\n",
    "        explored_per_distance = pd.merge_asof(result[key][\"explored_df\"], result[key][\"travelled_distance_df\"], on=\"timestamp\")\n",
    "        explored_area = explored_per_distance[\"m_2_explored\"].iloc[-1]\n",
    "        exploration = {\n",
    "            \"explored_percentage\": 100*explored_area/free_area,\n",
    "            \"total_time_sec\": explored_per_distance.index[-1],\n",
    "            \"dist_explored_20%\": explored_per_distance.loc[explored_per_distance[\"m_2_explored\"]<(20*free_area/100)].iloc[-1][\"cum_distance\"],\n",
    "            \"dist_explored_50%\": explored_per_distance.loc[explored_per_distance[\"m_2_explored\"]<(50*free_area/100)].iloc[-1][\"cum_distance\"],\n",
    "            \"dist_explored_80%\": explored_per_distance.loc[explored_per_distance[\"m_2_explored\"]<(80*free_area/100)].iloc[-1][\"cum_distance\"],\n",
    "            \"dist_total\": explored_per_distance.iloc[-1][\"cum_distance\"],\n",
    "        }\n",
    "        return exploration\n",
    "            \n",
    "    def get_results_from_folder(self, folder: str) -> Dict[str, Tuple[List[float], List[float]]]:\n",
    "        try:\n",
    "            utn_path = join(folder, \"UTN\")\n",
    "            maryland_path = join(folder, \"MARYLAND\")\n",
    "            if not exists(utn_path) or not exists(maryland_path):\n",
    "                # print(f\"Skipping {folder} because of not having both maryland and UTN\")\n",
    "                return None\n",
    "            utn_bag_file = glob(join(utn_path, \"*.bag\"))[0]\n",
    "            maryland_bag_file = glob(join(maryland_path, \"*.bag\"))[0]\n",
    "            reader_utn = bagpy.bagreader(utn_bag_file)\n",
    "            reader_maryland = bagpy.bagreader(maryland_bag_file)\n",
    "            res = {\"UTN\": self.get_times_and_explores(reader_utn), \"MARYLAND\": self.get_times_and_explores(reader_maryland)}\n",
    "            return res\n",
    "        except Exception as ex:\n",
    "            print(f\"An error ocurred on {folder}: {ex}\")\n",
    "            return None\n",
    "    \n",
    "    @staticmethod\n",
    "    def get_explored_df(reader: bagpy.bagreader) -> pd.DataFrame:\n",
    "        explored_data =  reader.reader.read_messages(\"/create1/explored\")\n",
    "        amt_of_non_unknown = []\n",
    "        timestamps = []\n",
    "        for d in explored_data:\n",
    "            amt_of_non_unknown.append(d.message.data)\n",
    "            timestamps.append(d.timestamp.to_sec())\n",
    "        amt_of_non_unknown = [0.0025 * item for item in amt_of_non_unknown]\n",
    "        dic = {\"timestamp\": timestamps, \"m_2_explored\": amt_of_non_unknown}\n",
    "        df = pd.DataFrame(dic)\n",
    "        df[\"timestamp\"] -= dic[\"timestamp\"][0]\n",
    "        df = df.set_index(\"timestamp\")\n",
    "        return df\n",
    "\n",
    "    @staticmethod\n",
    "    def get_travelled_distance_df(reader: bagpy.bagreader) -> pd.DataFrame:\n",
    "        travelled_data =  reader.reader.read_messages(\"/create1/travelled_distance\")\n",
    "        cum_distance = []\n",
    "        timestamps = []\n",
    "        for d in travelled_data:\n",
    "            cum_distance.append(d.message.data)\n",
    "            timestamps.append(d.timestamp.to_sec())\n",
    "        dic = {\"timestamp\": timestamps, \"cum_distance\": cum_distance}\n",
    "        df = pd.DataFrame(dic)\n",
    "        df[\"timestamp\"] -= dic[\"timestamp\"][0]\n",
    "        df = df.set_index(\"timestamp\")\n",
    "        return df\n",
    "\n",
    "    @staticmethod\n",
    "    def get_trajectory_df(reader: bagpy.bagreader) -> gpd.GeoDataFrame:\n",
    "        gts =  reader.reader.read_messages(\"/create1/gts\")\n",
    "        xs = []\n",
    "        ys = []\n",
    "        timestamps = []\n",
    "        for d in gts:\n",
    "            xs.append(d.message.pose.pose.position.x)\n",
    "            ys.append(d.message.pose.pose.position.y)\n",
    "            timestamps.append(d.timestamp.to_sec())\n",
    "        dic = {\"timestamp\": timestamps, \"x\": xs, \"y\": ys}\n",
    "        df = pd.DataFrame(dic)\n",
    "        df[\"timestamp\"] -= dic[\"timestamp\"][0]\n",
    "        df = df.set_index(\"timestamp\")\n",
    "        return gpd.GeoDataFrame(df, geometry=gpd.points_from_xy(df.x, df.y))\n",
    "\n",
    "    def get_times_and_explores(self, reader: bagpy.bagreader) -> Tuple[List[float], List[float]]:\n",
    "        explored_df = self.get_explored_df(reader)\n",
    "        travelled_distance_df = self.get_travelled_distance_df(reader)\n",
    "        trajectory_df = self.get_trajectory_df(reader)\n",
    "        return {\"explored_df\": explored_df, \"travelled_distance_df\":travelled_distance_df, \"trajectory_df\":trajectory_df}\n",
    "\n",
    "    def plot_exp_by_dist(self, index: str):\n",
    "        res = self.res_values[index]\n",
    "        utn_df=  pd.merge_asof(res[\"UTN\"][\"explored_df\"], res[\"UTN\"][\"travelled_distance_df\"], on=\"timestamp\")\n",
    "        maryland_df=  pd.merge_asof(res[\"MARYLAND\"][\"explored_df\"], res[\"MARYLAND\"][\"travelled_distance_df\"], on=\"timestamp\")\n",
    "        utn_df = utn_df.dropna()\n",
    "        maryland_df = maryland_df.dropna()\n",
    "\n",
    "        plt.plot( utn_df[\"timestamp\"], utn_df[\"m_2_explored\"], label=\"UTN\")\n",
    "        plt.plot( maryland_df[\"timestamp\"], maryland_df[\"m_2_explored\"], label=\"MARYLAND\")\n",
    "        plt.ylabel(\"Explored area [m2]\")\n",
    "        plt.xlabel(\"Distance travelled [m]\")\n",
    "\n",
    "        plt.legend()\n",
    "    \n",
    "    def plot_trajectory(self, index: str):\n",
    "        report = self.report[index]\n",
    "        report[\"UTN\"][\"trajectory\"].buffer(0.2).plot()\n",
    "        report[\"MARYLAND\"][\"trajectory\"].buffer(0.2).plot()\n",
    "        "
   ]
  },
  {
   "cell_type": "code",
   "execution_count": 161,
   "id": "3bbe1329-3b54-407a-b452-bcb16730690e",
   "metadata": {},
   "outputs": [],
   "source": [
    "BASE_DIR = \"/home/agusmazzeo/Documents/UTN/Proyecto/outputs\""
   ]
  },
  {
   "cell_type": "code",
   "execution_count": 162,
   "id": "1c65ac27-0110-40e4-992d-7dcd1e2d1918",
   "metadata": {},
   "outputs": [
    {
     "name": "stderr",
     "output_type": "stream",
     "text": [
      "  0%|                                                                                                         | 0/77 [00:00<?, ?it/s]"
     ]
    },
    {
     "name": "stdout",
     "output_type": "stream",
     "text": [
      "[INFO]  Data folder /home/agusmazzeo/Documents/UTN/Proyecto/outputs/evaluation_1/UTN/exploration_data_2022-10-26-12-47-03 already exists. Not creating.\n",
      "[INFO]  Data folder /home/agusmazzeo/Documents/UTN/Proyecto/outputs/evaluation_1/MARYLAND/exploration_data_2022-10-26-12-47-02 already exists. Not creating.\n"
     ]
    },
    {
     "name": "stderr",
     "output_type": "stream",
     "text": [
      "/tmp/ipykernel_11250/411877001.py:27: FutureWarning: The frame.append method is deprecated and will be removed from pandas in a future version. Use pandas.concat instead.\n",
      "  report[key] = {\"trajectory\": poly.append(result[key][\"trajectory_df\"]), **self.get_exploration_data(key, index, result)}\n",
      "/tmp/ipykernel_11250/411877001.py:27: FutureWarning: The frame.append method is deprecated and will be removed from pandas in a future version. Use pandas.concat instead.\n",
      "  report[key] = {\"trajectory\": poly.append(result[key][\"trajectory_df\"]), **self.get_exploration_data(key, index, result)}\n",
      "  3%|██▌                                                                                              | 2/77 [00:01<01:11,  1.05it/s]"
     ]
    },
    {
     "name": "stdout",
     "output_type": "stream",
     "text": [
      "[INFO]  Data folder /home/agusmazzeo/Documents/UTN/Proyecto/outputs/evaluation_5/UTN/exploration_data_2022-10-26-12-47-03 already exists. Not creating.\n",
      "[INFO]  Data folder /home/agusmazzeo/Documents/UTN/Proyecto/outputs/evaluation_5/MARYLAND/exploration_data_2022-10-26-12-47-03 already exists. Not creating.\n"
     ]
    },
    {
     "name": "stderr",
     "output_type": "stream",
     "text": [
      "/tmp/ipykernel_11250/411877001.py:27: FutureWarning: The frame.append method is deprecated and will be removed from pandas in a future version. Use pandas.concat instead.\n",
      "  report[key] = {\"trajectory\": poly.append(result[key][\"trajectory_df\"]), **self.get_exploration_data(key, index, result)}\n",
      "/tmp/ipykernel_11250/411877001.py:27: FutureWarning: The frame.append method is deprecated and will be removed from pandas in a future version. Use pandas.concat instead.\n",
      "  report[key] = {\"trajectory\": poly.append(result[key][\"trajectory_df\"]), **self.get_exploration_data(key, index, result)}\n",
      "  4%|███▊                                                                                             | 3/77 [00:05<02:33,  2.07s/it]"
     ]
    },
    {
     "name": "stdout",
     "output_type": "stream",
     "text": [
      "[INFO]  Data folder /home/agusmazzeo/Documents/UTN/Proyecto/outputs/evaluation_0/UTN/exploration_data_2022-10-26-13-13-06.orig already exists. Not creating.\n",
      "[INFO]  Data folder /home/agusmazzeo/Documents/UTN/Proyecto/outputs/evaluation_0/MARYLAND/exploration_data_2022-10-26-13-07-41.orig already exists. Not creating.\n"
     ]
    },
    {
     "name": "stderr",
     "output_type": "stream",
     "text": [
      "/tmp/ipykernel_11250/411877001.py:27: FutureWarning: The frame.append method is deprecated and will be removed from pandas in a future version. Use pandas.concat instead.\n",
      "  report[key] = {\"trajectory\": poly.append(result[key][\"trajectory_df\"]), **self.get_exploration_data(key, index, result)}\n",
      "/tmp/ipykernel_11250/411877001.py:27: FutureWarning: The frame.append method is deprecated and will be removed from pandas in a future version. Use pandas.concat instead.\n",
      "  report[key] = {\"trajectory\": poly.append(result[key][\"trajectory_df\"]), **self.get_exploration_data(key, index, result)}\n",
      "  5%|█████                                                                                            | 4/77 [00:07<02:40,  2.20s/it]"
     ]
    },
    {
     "name": "stdout",
     "output_type": "stream",
     "text": [
      "[INFO]  Data folder /home/agusmazzeo/Documents/UTN/Proyecto/outputs/evaluation_9/UTN/exploration_data_2022-10-26-13-31-21.orig already exists. Not creating.\n",
      "[INFO]  Data folder /home/agusmazzeo/Documents/UTN/Proyecto/outputs/evaluation_9/MARYLAND/exploration_data_2022-10-26-13-14-26.orig already exists. Not creating.\n"
     ]
    },
    {
     "name": "stderr",
     "output_type": "stream",
     "text": [
      "/tmp/ipykernel_11250/411877001.py:27: FutureWarning: The frame.append method is deprecated and will be removed from pandas in a future version. Use pandas.concat instead.\n",
      "  report[key] = {\"trajectory\": poly.append(result[key][\"trajectory_df\"]), **self.get_exploration_data(key, index, result)}\n",
      "/tmp/ipykernel_11250/411877001.py:27: FutureWarning: The frame.append method is deprecated and will be removed from pandas in a future version. Use pandas.concat instead.\n",
      "  report[key] = {\"trajectory\": poly.append(result[key][\"trajectory_df\"]), **self.get_exploration_data(key, index, result)}\n",
      "  6%|██████▎                                                                                          | 5/77 [00:09<02:30,  2.10s/it]"
     ]
    },
    {
     "name": "stdout",
     "output_type": "stream",
     "text": [
      "[INFO]  Data folder /home/agusmazzeo/Documents/UTN/Proyecto/outputs/evaluation_6/UTN/exploration_data_2022-10-26-13-46-33 already exists. Not creating.\n",
      "[INFO]  Data folder /home/agusmazzeo/Documents/UTN/Proyecto/outputs/evaluation_6/MARYLAND/exploration_data_2022-10-26-13-31-39.orig already exists. Not creating.\n"
     ]
    },
    {
     "name": "stderr",
     "output_type": "stream",
     "text": [
      "/tmp/ipykernel_11250/411877001.py:27: FutureWarning: The frame.append method is deprecated and will be removed from pandas in a future version. Use pandas.concat instead.\n",
      "  report[key] = {\"trajectory\": poly.append(result[key][\"trajectory_df\"]), **self.get_exploration_data(key, index, result)}\n",
      "/tmp/ipykernel_11250/411877001.py:27: FutureWarning: The frame.append method is deprecated and will be removed from pandas in a future version. Use pandas.concat instead.\n",
      "  report[key] = {\"trajectory\": poly.append(result[key][\"trajectory_df\"]), **self.get_exploration_data(key, index, result)}\n",
      "  8%|███████▌                                                                                         | 6/77 [00:12<02:45,  2.32s/it]"
     ]
    },
    {
     "name": "stdout",
     "output_type": "stream",
     "text": [
      "[INFO]  Data folder /home/agusmazzeo/Documents/UTN/Proyecto/outputs/evaluation_3/UTN/exploration_data_2022-10-26-13-59-18.orig already exists. Not creating.\n",
      "[INFO]  Data folder /home/agusmazzeo/Documents/UTN/Proyecto/outputs/evaluation_3/MARYLAND/exploration_data_2022-10-26-13-47-11.orig already exists. Not creating.\n"
     ]
    },
    {
     "name": "stderr",
     "output_type": "stream",
     "text": [
      "/tmp/ipykernel_11250/411877001.py:27: FutureWarning: The frame.append method is deprecated and will be removed from pandas in a future version. Use pandas.concat instead.\n",
      "  report[key] = {\"trajectory\": poly.append(result[key][\"trajectory_df\"]), **self.get_exploration_data(key, index, result)}\n",
      "/tmp/ipykernel_11250/411877001.py:27: FutureWarning: The frame.append method is deprecated and will be removed from pandas in a future version. Use pandas.concat instead.\n",
      "  report[key] = {\"trajectory\": poly.append(result[key][\"trajectory_df\"]), **self.get_exploration_data(key, index, result)}\n",
      "  9%|████████▊                                                                                        | 7/77 [00:15<02:56,  2.52s/it]"
     ]
    },
    {
     "name": "stdout",
     "output_type": "stream",
     "text": [
      "An error ocurred on /home/agusmazzeo/Documents/UTN/Proyecto/outputs/evaluation_2: list index out of range\n",
      "[INFO]  Data folder /home/agusmazzeo/Documents/UTN/Proyecto/outputs/evaluation_8/UTN/exploration_data_2022-10-26-14-27-24 already exists. Not creating.\n",
      "[INFO]  Data folder /home/agusmazzeo/Documents/UTN/Proyecto/outputs/evaluation_8/MARYLAND/exploration_data_2022-10-26-14-26-27 already exists. Not creating.\n"
     ]
    },
    {
     "name": "stderr",
     "output_type": "stream",
     "text": [
      "/tmp/ipykernel_11250/411877001.py:27: FutureWarning: The frame.append method is deprecated and will be removed from pandas in a future version. Use pandas.concat instead.\n",
      "  report[key] = {\"trajectory\": poly.append(result[key][\"trajectory_df\"]), **self.get_exploration_data(key, index, result)}\n",
      "/tmp/ipykernel_11250/411877001.py:27: FutureWarning: The frame.append method is deprecated and will be removed from pandas in a future version. Use pandas.concat instead.\n",
      "  report[key] = {\"trajectory\": poly.append(result[key][\"trajectory_df\"]), **self.get_exploration_data(key, index, result)}\n",
      " 12%|███████████▎                                                                                     | 9/77 [00:16<01:51,  1.64s/it]"
     ]
    },
    {
     "name": "stdout",
     "output_type": "stream",
     "text": [
      "[INFO]  Data folder /home/agusmazzeo/Documents/UTN/Proyecto/outputs/evaluation_10/UTN/exploration_data_2022-10-26-14-46-41.orig already exists. Not creating.\n",
      "[INFO]  Data folder /home/agusmazzeo/Documents/UTN/Proyecto/outputs/evaluation_10/MARYLAND/exploration_data_2022-10-26-14-38-17 already exists. Not creating.\n"
     ]
    },
    {
     "name": "stderr",
     "output_type": "stream",
     "text": [
      "/tmp/ipykernel_11250/411877001.py:27: FutureWarning: The frame.append method is deprecated and will be removed from pandas in a future version. Use pandas.concat instead.\n",
      "  report[key] = {\"trajectory\": poly.append(result[key][\"trajectory_df\"]), **self.get_exploration_data(key, index, result)}\n",
      "/tmp/ipykernel_11250/411877001.py:27: FutureWarning: The frame.append method is deprecated and will be removed from pandas in a future version. Use pandas.concat instead.\n",
      "  report[key] = {\"trajectory\": poly.append(result[key][\"trajectory_df\"]), **self.get_exploration_data(key, index, result)}\n",
      " 13%|████████████▍                                                                                   | 10/77 [00:20<02:17,  2.05s/it]\n"
     ]
    }
   ],
   "source": [
    "bdh = BagpyDataHandler(worlds_df, BASE_DIR) "
   ]
  },
  {
   "cell_type": "code",
   "execution_count": 173,
   "id": "611886e3-9853-4310-81df-e341128b3dd5",
   "metadata": {},
   "outputs": [
    {
     "data": {
      "text/html": [
       "<div>\n",
       "<style scoped>\n",
       "    .dataframe tbody tr th:only-of-type {\n",
       "        vertical-align: middle;\n",
       "    }\n",
       "\n",
       "    .dataframe tbody tr th {\n",
       "        vertical-align: top;\n",
       "    }\n",
       "\n",
       "    .dataframe thead th {\n",
       "        text-align: right;\n",
       "    }\n",
       "</style>\n",
       "<table border=\"1\" class=\"dataframe\">\n",
       "  <thead>\n",
       "    <tr style=\"text-align: right;\">\n",
       "      <th></th>\n",
       "      <th>trajectory</th>\n",
       "      <th>explored_percentage</th>\n",
       "      <th>total_time_min</th>\n",
       "      <th>dist_explored_20%</th>\n",
       "      <th>dist_explored_50%</th>\n",
       "      <th>dist_explored_80%</th>\n",
       "      <th>dist_total</th>\n",
       "    </tr>\n",
       "  </thead>\n",
       "  <tbody>\n",
       "    <tr>\n",
       "      <th>UTN</th>\n",
       "      <td>...</td>\n",
       "      <td>99.476348</td>\n",
       "      <td>421</td>\n",
       "      <td>6.562366</td>\n",
       "      <td>42.59753</td>\n",
       "      <td>72.570625</td>\n",
       "      <td>237.277527</td>\n",
       "    </tr>\n",
       "    <tr>\n",
       "      <th>MARYLAND</th>\n",
       "      <td>...</td>\n",
       "      <td>99.387183</td>\n",
       "      <td>207</td>\n",
       "      <td>9.798131</td>\n",
       "      <td>30.779104</td>\n",
       "      <td>55.964676</td>\n",
       "      <td>127.377296</td>\n",
       "    </tr>\n",
       "  </tbody>\n",
       "</table>\n",
       "</div>"
      ],
      "text/plain": [
       "                                                 trajectory  \\\n",
       "UTN                                                     ...   \n",
       "MARYLAND                                                ...   \n",
       "\n",
       "         explored_percentage total_time_min dist_explored_20%  \\\n",
       "UTN                99.476348            421          6.562366   \n",
       "MARYLAND           99.387183            207          9.798131   \n",
       "\n",
       "         dist_explored_50% dist_explored_80%  dist_total  \n",
       "UTN               42.59753         72.570625  237.277527  \n",
       "MARYLAND         30.779104         55.964676  127.377296  "
      ]
     },
     "execution_count": 173,
     "metadata": {},
     "output_type": "execute_result"
    }
   ],
   "source": [
    "pd.DataFrame(bdh.report['evaluation_3']).T"
   ]
  },
  {
   "cell_type": "code",
   "execution_count": null,
   "id": "6d47bc23-be59-435a-8311-4b90f6986f39",
   "metadata": {},
   "outputs": [],
   "source": [
    "reform = {(outerKey, innerKey): values for outerKey, innerDict in dictionary.iteritems() for innerKey, values in innerDict.iteritems()}"
   ]
  },
  {
   "cell_type": "code",
   "execution_count": 153,
   "id": "8ac4a894-55e2-478c-b94c-7e880d50ff43",
   "metadata": {},
   "outputs": [
    {
     "data": {
      "text/plain": [
       "MultiIndex([( 'evaluation_1',      'UTN'),\n",
       "            ( 'evaluation_1', 'MARYLAND'),\n",
       "            ( 'evaluation_5',      'UTN'),\n",
       "            ( 'evaluation_5', 'MARYLAND'),\n",
       "            ( 'evaluation_0',      'UTN'),\n",
       "            ( 'evaluation_0', 'MARYLAND'),\n",
       "            ( 'evaluation_9',      'UTN'),\n",
       "            ( 'evaluation_9', 'MARYLAND'),\n",
       "            ( 'evaluation_6',      'UTN'),\n",
       "            ( 'evaluation_6', 'MARYLAND'),\n",
       "            ( 'evaluation_3',      'UTN'),\n",
       "            ( 'evaluation_3', 'MARYLAND'),\n",
       "            ( 'evaluation_8',      'UTN'),\n",
       "            ( 'evaluation_8', 'MARYLAND'),\n",
       "            ('evaluation_10',      'UTN'),\n",
       "            ('evaluation_10', 'MARYLAND')],\n",
       "           names=['world', 'algorithm'])"
      ]
     },
     "execution_count": 153,
     "metadata": {},
     "output_type": "execute_result"
    }
   ],
   "source": [
    "multi_index = pd.MultiIndex.from_product([bdh.report.keys(), [\"UTN\", \"MARYLAND\"]], names=[\"world\", \"algorithm\"])\n",
    "multi_index"
   ]
  },
  {
   "cell_type": "code",
   "execution_count": 159,
   "id": "b2590853-777d-4cb8-b558-a57b783a925f",
   "metadata": {},
   "outputs": [
    {
     "ename": "TypeError",
     "evalue": "from_dict() got an unexpected keyword argument 'index'",
     "output_type": "error",
     "traceback": [
      "\u001b[0;31m---------------------------------------------------------------------------\u001b[0m",
      "\u001b[0;31mTypeError\u001b[0m                                 Traceback (most recent call last)",
      "Cell \u001b[0;32mIn [159], line 1\u001b[0m\n\u001b[0;32m----> 1\u001b[0m \u001b[43mpd\u001b[49m\u001b[38;5;241;43m.\u001b[39;49m\u001b[43mDataFrame\u001b[49m\u001b[38;5;241;43m.\u001b[39;49m\u001b[43mfrom_dict\u001b[49m\u001b[43m(\u001b[49m\u001b[43mbdh\u001b[49m\u001b[38;5;241;43m.\u001b[39;49m\u001b[43mreport\u001b[49m\u001b[43m,\u001b[49m\u001b[43m \u001b[49m\u001b[43mindex\u001b[49m\u001b[38;5;241;43m=\u001b[39;49m\u001b[43mmulti_index\u001b[49m\u001b[43m,\u001b[49m\u001b[43m \u001b[49m\u001b[43morient\u001b[49m\u001b[38;5;241;43m=\u001b[39;49m\u001b[38;5;124;43m'\u001b[39;49m\u001b[38;5;124;43mindex\u001b[39;49m\u001b[38;5;124;43m'\u001b[39;49m\u001b[43m)\u001b[49m\n",
      "\u001b[0;31mTypeError\u001b[0m: from_dict() got an unexpected keyword argument 'index'"
     ]
    }
   ],
   "source": [
    "pd.DataFrame(bdh.report, index=multi_index, orient='index')"
   ]
  }
 ],
 "metadata": {
  "kernelspec": {
   "display_name": "Python 3 (ipykernel)",
   "language": "python",
   "name": "python3"
  },
  "language_info": {
   "codemirror_mode": {
    "name": "ipython",
    "version": 3
   },
   "file_extension": ".py",
   "mimetype": "text/x-python",
   "name": "python",
   "nbconvert_exporter": "python",
   "pygments_lexer": "ipython3",
   "version": "3.9.1"
  }
 },
 "nbformat": 4,
 "nbformat_minor": 5
}
