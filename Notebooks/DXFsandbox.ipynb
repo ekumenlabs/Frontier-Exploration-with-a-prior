{
  "nbformat": 4,
  "nbformat_minor": 0,
  "metadata": {
    "colab": {
      "name": "DXFsandbox.ipynb",
      "provenance": [],
      "collapsed_sections": []
    },
    "kernelspec": {
      "name": "python3",
      "display_name": "Python 3"
    },
    "language_info": {
      "name": "python"
    }
  },
  "cells": [
    {
      "cell_type": "markdown",
      "source": [
        "# Proyecto Final: Lectura de planos CAD"
      ],
      "metadata": {
        "id": "UGPNtbeuQZVF"
      }
    },
    {
      "cell_type": "markdown",
      "source": [
        "Pruebas realizadas sobre [floor plan](https://drive.google.com/file/d/1Xw-cIvnZdvCMmrIfRs5FkywCXhw-ASOz/view?usp=sharing) el cual puede ser observado con AutoCAD o [ShareCAD](https://sharecad.org/) o [Autodesk Viewer](https://viewer.autodesk.com/)"
      ],
      "metadata": {
        "id": "MaDgf6dhUuwt"
      }
    },
    {
      "cell_type": "code",
      "execution_count": 106,
      "metadata": {
        "colab": {
          "base_uri": "https://localhost:8080/"
        },
        "id": "gj25tzwuStVD",
        "outputId": "1aa418a6-dc0b-4f82-a72c-3a6aab44f453"
      },
      "outputs": [
        {
          "output_type": "stream",
          "name": "stdout",
          "text": [
            "Requirement already satisfied: ezdxf in /usr/local/lib/python3.7/dist-packages (0.17.2)\n",
            "Requirement already satisfied: geopandas in /usr/local/lib/python3.7/dist-packages (0.10.2)\n",
            "Requirement already satisfied: typing-extensions in /usr/local/lib/python3.7/dist-packages (from ezdxf) (4.2.0)\n",
            "Requirement already satisfied: pyparsing>=2.0.1 in /usr/local/lib/python3.7/dist-packages (from ezdxf) (3.0.8)\n",
            "Requirement already satisfied: pandas>=0.25.0 in /usr/local/lib/python3.7/dist-packages (from geopandas) (1.3.5)\n",
            "Requirement already satisfied: pyproj>=2.2.0 in /usr/local/lib/python3.7/dist-packages (from geopandas) (3.2.1)\n",
            "Requirement already satisfied: shapely>=1.6 in /usr/local/lib/python3.7/dist-packages (from geopandas) (1.8.1.post1)\n",
            "Requirement already satisfied: fiona>=1.8 in /usr/local/lib/python3.7/dist-packages (from geopandas) (1.8.21)\n",
            "Requirement already satisfied: click-plugins>=1.0 in /usr/local/lib/python3.7/dist-packages (from fiona>=1.8->geopandas) (1.1.1)\n",
            "Requirement already satisfied: cligj>=0.5 in /usr/local/lib/python3.7/dist-packages (from fiona>=1.8->geopandas) (0.7.2)\n",
            "Requirement already satisfied: setuptools in /usr/local/lib/python3.7/dist-packages (from fiona>=1.8->geopandas) (57.4.0)\n",
            "Requirement already satisfied: attrs>=17 in /usr/local/lib/python3.7/dist-packages (from fiona>=1.8->geopandas) (21.4.0)\n",
            "Requirement already satisfied: certifi in /usr/local/lib/python3.7/dist-packages (from fiona>=1.8->geopandas) (2021.10.8)\n",
            "Requirement already satisfied: click>=4.0 in /usr/local/lib/python3.7/dist-packages (from fiona>=1.8->geopandas) (7.1.2)\n",
            "Requirement already satisfied: six>=1.7 in /usr/local/lib/python3.7/dist-packages (from fiona>=1.8->geopandas) (1.15.0)\n",
            "Requirement already satisfied: munch in /usr/local/lib/python3.7/dist-packages (from fiona>=1.8->geopandas) (2.5.0)\n",
            "Requirement already satisfied: pytz>=2017.3 in /usr/local/lib/python3.7/dist-packages (from pandas>=0.25.0->geopandas) (2022.1)\n",
            "Requirement already satisfied: numpy>=1.17.3 in /usr/local/lib/python3.7/dist-packages (from pandas>=0.25.0->geopandas) (1.21.6)\n",
            "Requirement already satisfied: python-dateutil>=2.7.3 in /usr/local/lib/python3.7/dist-packages (from pandas>=0.25.0->geopandas) (2.8.2)\n"
          ]
        }
      ],
      "source": [
        "!python -m pip install ezdxf geopandas"
      ]
    },
    {
      "cell_type": "code",
      "source": [
        "import ezdxf\n",
        "import geopandas as gpd\n",
        "import pandas as pd\n",
        "import fiona; help(fiona.open)\n",
        "import numpy as np\n",
        "from shapely.geometry import Polygon, box\n",
        "import shapely.ops as so\n",
        "import matplotlib.pyplot as plt"
      ],
      "metadata": {
        "colab": {
          "base_uri": "https://localhost:8080/"
        },
        "id": "ucxCZ6y0Miwy",
        "outputId": "77499ff6-b987-4b0d-ea2e-645487b09024"
      },
      "execution_count": 107,
      "outputs": [
        {
          "output_type": "stream",
          "name": "stdout",
          "text": [
            "Help on function open in module fiona:\n",
            "\n",
            "open(fp, mode='r', driver=None, schema=None, crs=None, encoding=None, layer=None, vfs=None, enabled_drivers=None, crs_wkt=None, **kwargs)\n",
            "    Open a collection for read, append, or write\n",
            "    \n",
            "    In write mode, a driver name such as \"ESRI Shapefile\" or \"GPX\" (see\n",
            "    OGR docs or ``ogr2ogr --help`` on the command line) and a schema\n",
            "    mapping such as:\n",
            "    \n",
            "      {'geometry': 'Point',\n",
            "       'properties': [('class', 'int'), ('label', 'str'),\n",
            "                      ('value', 'float')]}\n",
            "    \n",
            "    must be provided. If a particular ordering of properties (\"fields\"\n",
            "    in GIS parlance) in the written file is desired, a list of (key,\n",
            "    value) pairs as above or an ordered dict is required. If no ordering\n",
            "    is needed, a standard dict will suffice.\n",
            "    \n",
            "    A coordinate reference system for collections in write mode can be\n",
            "    defined by the ``crs`` parameter. It takes Proj4 style mappings like\n",
            "    \n",
            "      {'proj': 'longlat', 'ellps': 'WGS84', 'datum': 'WGS84',\n",
            "       'no_defs': True}\n",
            "    \n",
            "    short hand strings like\n",
            "    \n",
            "      EPSG:4326\n",
            "    \n",
            "    or WKT representations of coordinate reference systems.\n",
            "    \n",
            "    The drivers used by Fiona will try to detect the encoding of data\n",
            "    files. If they fail, you may provide the proper ``encoding``, such\n",
            "    as 'Windows-1252' for the Natural Earth datasets.\n",
            "    \n",
            "    When the provided path is to a file containing multiple named layers\n",
            "    of data, a layer can be singled out by ``layer``.\n",
            "    \n",
            "    The drivers enabled for opening datasets may be restricted to those\n",
            "    listed in the ``enabled_drivers`` parameter. This and the ``driver``\n",
            "    parameter afford much control over opening of files.\n",
            "    \n",
            "      # Trying only the GeoJSON driver when opening to read, the\n",
            "      # following raises ``DataIOError``:\n",
            "      fiona.open('example.shp', driver='GeoJSON')\n",
            "    \n",
            "      # Trying first the GeoJSON driver, then the Shapefile driver,\n",
            "      # the following succeeds:\n",
            "      fiona.open(\n",
            "          'example.shp', enabled_drivers=['GeoJSON', 'ESRI Shapefile'])\n",
            "    \n",
            "    Parameters\n",
            "    ----------\n",
            "    fp : URI (str or pathlib.Path), or file-like object\n",
            "        A dataset resource identifier or file object.\n",
            "    mode : str\n",
            "        One of 'r', to read (the default); 'a', to append; or 'w', to\n",
            "        write.\n",
            "    driver : str\n",
            "        In 'w' mode a format driver name is required. In 'r' or 'a'\n",
            "        mode this parameter has no effect.\n",
            "    schema : dict\n",
            "        Required in 'w' mode, has no effect in 'r' or 'a' mode.\n",
            "    crs : str or dict\n",
            "        Required in 'w' mode, has no effect in 'r' or 'a' mode.\n",
            "    encoding : str\n",
            "        Name of the encoding used to encode or decode the dataset.\n",
            "    layer : int or str\n",
            "        The integer index or name of a layer in a multi-layer dataset.\n",
            "    vfs : str\n",
            "        This is a deprecated parameter. A URI scheme such as \"zip://\"\n",
            "        should be used instead.\n",
            "    enabled_drivers : list\n",
            "        An optional list of driver names to used when opening a\n",
            "        collection.\n",
            "    crs_wkt : str\n",
            "        An optional WKT representation of a coordinate reference\n",
            "        system.\n",
            "    kwargs : mapping\n",
            "        Other driver-specific parameters that will be interpreted by\n",
            "        the OGR library as layer creation or opening options.\n",
            "    \n",
            "    Returns\n",
            "    -------\n",
            "    Collection\n",
            "\n"
          ]
        }
      ]
    },
    {
      "cell_type": "markdown",
      "source": [
        "## Definicion de clases custom"
      ],
      "metadata": {
        "id": "biJN-RtFHimF"
      }
    },
    {
      "cell_type": "code",
      "source": [
        "class Square(Polygon):\n",
        "  def __init__(self, side:float, start_x: float=0, start_y: float=0):\n",
        "    end_x = start_x+side\n",
        "    end_y = start_y+side\n",
        "    return super().__init__([(start_x, start_y), (end_x, start_y), (end_x, end_y), (start_x, end_y)])"
      ],
      "metadata": {
        "id": "Emlxj2EpHg_A"
      },
      "execution_count": 108,
      "outputs": []
    },
    {
      "cell_type": "markdown",
      "source": [
        "## Lectura del plano en formato .dxf"
      ],
      "metadata": {
        "id": "Uz0WeR-8Hs_f"
      }
    },
    {
      "cell_type": "code",
      "source": [
        "doc = ezdxf.readfile(\"/content/drive/MyDrive/Proyecto final/Floor plan.dxf\")\n",
        "clean_doc = ezdxf.new('R2010')\n",
        "msp = doc.modelspace()\n",
        "clean_msp = clean_doc.modelspace()\n",
        "\n",
        "for e in msp.query(\"LINE [layer=='xref-Bishop-Overland-08$0$A-WALL']\"):\n",
        "    clean_msp.add_line(start=e.dxf.start, end=e.dxf.end)\n",
        "\n",
        "clean_doc.saveas(\"/content/drive/MyDrive/Proyecto final/Floor plan clean.dxf\")"
      ],
      "metadata": {
        "id": "UJK0amD-R7ZL"
      },
      "execution_count": 109,
      "outputs": []
    },
    {
      "cell_type": "code",
      "source": [
        "layout = gpd.read_file(\"/content/drive/MyDrive/Proyecto final/Floor plan clean.dxf\")\n",
        "layout.plot(figsize=(20,20))"
      ],
      "metadata": {
        "id": "vDkASrLia-vT",
        "colab": {
          "base_uri": "https://localhost:8080/",
          "height": 861
        },
        "outputId": "837693f5-8247-44ce-f6ed-e57deaf0c13f"
      },
      "execution_count": 110,
      "outputs": [
        {
          "output_type": "execute_result",
          "data": {
            "text/plain": [
              "<matplotlib.axes._subplots.AxesSubplot at 0x7f93629232d0>"
            ]
          },
          "metadata": {},
          "execution_count": 110
        },
        {
          "output_type": "display_data",
          "data": {
            "text/plain": [
              "<Figure size 1440x1440 with 1 Axes>"
            ],
            "image/png": "[encoded data removed]"
          },
          "metadata": {
            "needs_background": "light"
          }
        }
      ]
    },
    {
      "cell_type": "markdown",
      "source": [
        "## Conversion de plano a grilla de ocupacion\n",
        "Una vez levantado el plano de CAD, procedemos a crear una grilla de ocupacion, definida por cuadrados de lado `square_size`, los cuales se buscaran superponer al plano obtenido.\n",
        "Asi, los poligonos que coincidan con las lineas del plano seran aquellos que formaran parte de los **bloques ocupados** en la grilla de ocupacion."
      ],
      "metadata": {
        "id": "AdRGNEETGNA1"
      }
    },
    {
      "cell_type": "code",
      "source": [
        "clean_layout = layout['geometry']\n",
        "xmin, ymin, xmax, ymax = clean_layout.total_bounds\n",
        "\n",
        "polygons_list = []\n",
        "square_size = 10\n",
        "for xstart in range(int(xmin), int(xmax), square_size):\n",
        "  for ystart in range(int(ymin), int(ymax), square_size):\n",
        "    polygons_list.append(Square(square_size, xstart, ystart))\n",
        "\n",
        "\n",
        "shape = gpd.GeoDataFrame(geometry=polygons_list)\n",
        "shape[\"intersects\"]= shape.intersects(clean_layout.unary_union)\n",
        "occupied_blocks = shape.query(\"intersects == True\")\n",
        "occupied_blocks.plot(figsize=(20,20))"
      ],
      "metadata": {
        "colab": {
          "base_uri": "https://localhost:8080/",
          "height": 861
        },
        "id": "OZQ3ig-DF0s8",
        "outputId": "926e9ceb-8862-4ae1-9e45-56210f79bf52"
      },
      "execution_count": 118,
      "outputs": [
        {
          "output_type": "execute_result",
          "data": {
            "text/plain": [
              "<matplotlib.axes._subplots.AxesSubplot at 0x7f935862d7d0>"
            ]
          },
          "metadata": {},
          "execution_count": 118
        },
        {
          "output_type": "display_data",
          "data": {
            "text/plain": [
              "<Figure size 1440x1440 with 1 Axes>"
            ],
            "image/png": "[encoded data removed]"
          },
          "metadata": {
            "needs_background": "light"
          }
        }
      ]
    },
    {
      "cell_type": "code",
      "source": [
        "def get_center(item):\n",
        "  xmin, ymin, xmax, ymax = item[\"geometry\"].bounds\n",
        "  return pd.Series([(xmax+xmin)/2, (ymax+ymin)/2, int(item[\"intersects\"])], index=['axis_x', 'axis_y', 'occuped'])\n",
        "occupancy_grid = shape.apply(get_center, axis=1, result_type='expand')"
      ],
      "metadata": {
        "id": "foNIwcufH-xd"
      },
      "execution_count": 122,
      "outputs": []
    },
    {
      "cell_type": "code",
      "source": [
        ""
      ],
      "metadata": {
        "colab": {
          "base_uri": "https://localhost:8080/",
          "height": 654
        },
        "id": "VNsD4cY6NGDM",
        "outputId": "09942dc3-c897-44e8-aa60-afa8829204eb"
      },
      "execution_count": 125,
      "outputs": [
        {
          "output_type": "execute_result",
          "data": {
            "text/plain": [
              "      axis_x  axis_y  occuped\n",
              "0     -643.0  -211.0      0.0\n",
              "1     -643.0  -201.0      0.0\n",
              "2     -643.0  -191.0      0.0\n",
              "3     -643.0  -181.0      0.0\n",
              "4     -643.0  -171.0      0.0\n",
              "...      ...     ...      ...\n",
              "4555   147.0   309.0      1.0\n",
              "4556   147.0   319.0      0.0\n",
              "4557   147.0   329.0      0.0\n",
              "4558   147.0   339.0      0.0\n",
              "4559   147.0   349.0      0.0\n",
              "\n",
              "[4560 rows x 3 columns]"
            ],
            "text/html": [
              "\n",
              "  <div id=\"df-dcc91583-f18f-41b7-b1ca-eaee393fe7a3\">\n",
              "    <div class=\"colab-df-container\">\n",
              "      <div>\n",
              "<style scoped>\n",
              "    .dataframe tbody tr th:only-of-type {\n",
              "        vertical-align: middle;\n",
              "    }\n",
              "\n",
              "    .dataframe tbody tr th {\n",
              "        vertical-align: top;\n",
              "    }\n",
              "\n",
              "    .dataframe thead th {\n",
              "        text-align: right;\n",
              "    }\n",
              "</style>\n",
              "<table border=\"1\" class=\"dataframe\">\n",
              "  <thead>\n",
              "    <tr style=\"text-align: right;\">\n",
              "      <th></th>\n",
              "      <th>axis_x</th>\n",
              "      <th>axis_y</th>\n",
              "      <th>occuped</th>\n",
              "    </tr>\n",
              "  </thead>\n",
              "  <tbody>\n",
              "    <tr>\n",
              "      <th>0</th>\n",
              "      <td>-643.0</td>\n",
              "      <td>-211.0</td>\n",
              "      <td>0.0</td>\n",
              "    </tr>\n",
              "    <tr>\n",
              "      <th>1</th>\n",
              "      <td>-643.0</td>\n",
              "      <td>-201.0</td>\n",
              "      <td>0.0</td>\n",
              "    </tr>\n",
              "    <tr>\n",
              "      <th>2</th>\n",
              "      <td>-643.0</td>\n",
              "      <td>-191.0</td>\n",
              "      <td>0.0</td>\n",
              "    </tr>\n",
              "    <tr>\n",
              "      <th>3</th>\n",
              "      <td>-643.0</td>\n",
              "      <td>-181.0</td>\n",
              "      <td>0.0</td>\n",
              "    </tr>\n",
              "    <tr>\n",
              "      <th>4</th>\n",
              "      <td>-643.0</td>\n",
              "      <td>-171.0</td>\n",
              "      <td>0.0</td>\n",
              "    </tr>\n",
              "    <tr>\n",
              "      <th>...</th>\n",
              "      <td>...</td>\n",
              "      <td>...</td>\n",
              "      <td>...</td>\n",
              "    </tr>\n",
              "    <tr>\n",
              "      <th>4555</th>\n",
              "      <td>147.0</td>\n",
              "      <td>309.0</td>\n",
              "      <td>1.0</td>\n",
              "    </tr>\n",
              "    <tr>\n",
              "      <th>4556</th>\n",
              "      <td>147.0</td>\n",
              "      <td>319.0</td>\n",
              "      <td>0.0</td>\n",
              "    </tr>\n",
              "    <tr>\n",
              "      <th>4557</th>\n",
              "      <td>147.0</td>\n",
              "      <td>329.0</td>\n",
              "      <td>0.0</td>\n",
              "    </tr>\n",
              "    <tr>\n",
              "      <th>4558</th>\n",
              "      <td>147.0</td>\n",
              "      <td>339.0</td>\n",
              "      <td>0.0</td>\n",
              "    </tr>\n",
              "    <tr>\n",
              "      <th>4559</th>\n",
              "      <td>147.0</td>\n",
              "      <td>349.0</td>\n",
              "      <td>0.0</td>\n",
              "    </tr>\n",
              "  </tbody>\n",
              "</table>\n",
              "<p>4560 rows × 3 columns</p>\n",
              "</div>\n",
              "      <button class=\"colab-df-convert\" onclick=\"convertToInteractive('df-dcc91583-f18f-41b7-b1ca-eaee393fe7a3')\"\n",
              "              title=\"Convert this dataframe to an interactive table.\"\n",
              "              style=\"display:none;\">\n",
              "        \n",
              "  <svg xmlns=\"http://www.w3.org/2000/svg\" height=\"24px\"viewBox=\"0 0 24 24\"\n",
              "       width=\"24px\">\n",
              "    <path d=\"M0 0h24v24H0V0z\" fill=\"none\"/>\n",
              "    <path d=\"M18.56 5.44l.94 2.06.94-2.06 2.06-.94-2.06-.94-.94-2.06-.94 2.06-2.06.94zm-11 1L8.5 8.5l.94-2.06 2.06-.94-2.06-.94L8.5 2.5l-.94 2.06-2.06.94zm10 10l.94 2.06.94-2.06 2.06-.94-2.06-.94-.94-2.06-.94 2.06-2.06.94z\"/><path d=\"M17.41 7.96l-1.37-1.37c-.4-.4-.92-.59-1.43-.59-.52 0-1.04.2-1.43.59L10.3 9.45l-7.72 7.72c-.78.78-.78 2.05 0 2.83L4 21.41c.39.39.9.59 1.41.59.51 0 1.02-.2 1.41-.59l7.78-7.78 2.81-2.81c.8-.78.8-2.07 0-2.86zM5.41 20L4 18.59l7.72-7.72 1.47 1.35L5.41 20z\"/>\n",
              "  </svg>\n",
              "      </button>\n",
              "      \n",
              "  <style>\n",
              "    .colab-df-container {\n",
              "      display:flex;\n",
              "      flex-wrap:wrap;\n",
              "      gap: 12px;\n",
              "    }\n",
              "\n",
              "    .colab-df-convert {\n",
              "      background-color: #E8F0FE;\n",
              "      border: none;\n",
              "      border-radius: 50%;\n",
              "      cursor: pointer;\n",
              "      display: none;\n",
              "      fill: #1967D2;\n",
              "      height: 32px;\n",
              "      padding: 0 0 0 0;\n",
              "      width: 32px;\n",
              "    }\n",
              "\n",
              "    .colab-df-convert:hover {\n",
              "      background-color: #E2EBFA;\n",
              "      box-shadow: 0px 1px 2px rgba(60, 64, 67, 0.3), 0px 1px 3px 1px rgba(60, 64, 67, 0.15);\n",
              "      fill: #174EA6;\n",
              "    }\n",
              "\n",
              "    [theme=dark] .colab-df-convert {\n",
              "      background-color: #3B4455;\n",
              "      fill: #D2E3FC;\n",
              "    }\n",
              "\n",
              "    [theme=dark] .colab-df-convert:hover {\n",
              "      background-color: #434B5C;\n",
              "      box-shadow: 0px 1px 3px 1px rgba(0, 0, 0, 0.15);\n",
              "      filter: drop-shadow(0px 1px 2px rgba(0, 0, 0, 0.3));\n",
              "      fill: #FFFFFF;\n",
              "    }\n",
              "  </style>\n",
              "\n",
              "      <script>\n",
              "        const buttonEl =\n",
              "          document.querySelector('#df-dcc91583-f18f-41b7-b1ca-eaee393fe7a3 button.colab-df-convert');\n",
              "        buttonEl.style.display =\n",
              "          google.colab.kernel.accessAllowed ? 'block' : 'none';\n",
              "\n",
              "        async function convertToInteractive(key) {\n",
              "          const element = document.querySelector('#df-dcc91583-f18f-41b7-b1ca-eaee393fe7a3');\n",
              "          const dataTable =\n",
              "            await google.colab.kernel.invokeFunction('convertToInteractive',\n",
              "                                                     [key], {});\n",
              "          if (!dataTable) return;\n",
              "\n",
              "          const docLinkHtml = 'Like what you see? Visit the ' +\n",
              "            '<a target=\"_blank\" href=https://colab.research.google.com/notebooks/data_table.ipynb>data table notebook</a>'\n",
              "            + ' to learn more about interactive tables.';\n",
              "          element.innerHTML = '';\n",
              "          dataTable['output_type'] = 'display_data';\n",
              "          await google.colab.output.renderOutput(dataTable, element);\n",
              "          const docLink = document.createElement('div');\n",
              "          docLink.innerHTML = docLinkHtml;\n",
              "          element.appendChild(docLink);\n",
              "        }\n",
              "      </script>\n",
              "    </div>\n",
              "  </div>\n",
              "  "
            ]
          },
          "metadata": {},
          "execution_count": 125
        }
      ]
    }
  ]
}