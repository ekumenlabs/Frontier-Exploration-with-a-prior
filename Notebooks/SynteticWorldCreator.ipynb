{
 "cells": [
  {
   "cell_type": "code",
   "execution_count": 10,
   "id": "3c7700cd-00bf-4a1c-b76e-c111b423f1df",
   "metadata": {},
   "outputs": [
    {
     "data": {
      "image/svg+xml": [
       "<svg xmlns=\"http://www.w3.org/2000/svg\" xmlns:xlink=\"http://www.w3.org/1999/xlink\" width=\"100.0\" height=\"100.0\" viewBox=\"-43.73242493901199 -27.812430361865182 76.839423333189 62.54337370254537\" preserveAspectRatio=\"xMinYMin meet\"><g transform=\"matrix(1,0,0,-1,0,6.918512978815002)\"><path fill-rule=\"evenodd\" fill=\"#66cc99\" stroke=\"#555555\" stroke-width=\"1.53678846666378\" opacity=\"0.6\" d=\"M -9.273930655034462,-24.966525793969293 L -9.273930655034462,-23.366482751015983 L -12.599218379319716,-23.366482751015983 L -12.599218379319716,-9.2732787126003 L -17.902819399612646,-9.2732787126003 L -17.902819399612646,6.8850387727842985 L -40.886520371116106,6.8850387727842985 L -40.886520371116106,31.8850387727843 L -2.824183780673984,31.8850387727843 L -2.824183780673984,22.178330938646308 L 1.9211872310730342,22.178330938646308 L 1.9211872310730342,25.112681225082234 L 26.921187231073034,25.112681225082234 L 26.921187231073034,19.993672877021623 L 30.261093826281126,19.993672877021623 L 30.261093826281126,-9.2732787126003 L 26.921187231073034,-9.2732787126003 L 26.921187231073034,-18.814523182187784 L 15.726069344965538,-18.814523182187784 L 15.726069344965538,-24.966525793969293 L -9.273930655034462,-24.966525793969293 z M 10.302453282906715,-9.951560646778113 L 11.432221294089505,-9.951560646778113 L 11.432221294089505,2.5484393532218874 L -1.067778705910495,2.5484393532218874 L -1.067778705910495,0.5462737804188151 L -2.197546717093285,0.5462737804188151 L -2.197546717093285,-11.953726219581185 L 10.302453282906715,-11.953726219581185 L 10.302453282906715,-9.951560646778113 z\" /></g></svg>"
      ],
      "text/plain": [
       "<shapely.geometry.polygon.Polygon at 0x7feb3969ee10>"
      ]
     },
     "execution_count": 10,
     "metadata": {},
     "output_type": "execute_result"
    }
   ],
   "source": [
    "from FrontierExploration.preprocessing.layout.syntetic import SynteticWorld\n",
    "\n",
    "\n",
    "world = SynteticWorld(\"testing\", \"./\", 5, n_in_rectangles=2, n_points=0)\n",
    "world.wall_polygon"
   ]
  }
 ],
 "metadata": {
  "kernelspec": {
   "display_name": "Python 3 (ipykernel)",
   "language": "python",
   "name": "python3"
  },
  "language_info": {
   "codemirror_mode": {
    "name": "ipython",
    "version": 3
   },
   "file_extension": ".py",
   "mimetype": "text/x-python",
   "name": "python",
   "nbconvert_exporter": "python",
   "pygments_lexer": "ipython3",
   "version": "3.7.13"
  }
 },
 "nbformat": 4,
 "nbformat_minor": 5
}
