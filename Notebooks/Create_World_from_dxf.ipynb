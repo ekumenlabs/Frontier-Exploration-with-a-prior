{
 "cells": [
  {
   "cell_type": "code",
   "execution_count": null,
   "id": "95efa7fd-9d32-4e12-b828-4a24cd243720",
   "metadata": {},
   "outputs": [],
   "source": [
    "#!/usr/bin/env python\n",
    "# Copyright (c) 2020 - The Procedural Generation for Gazebo authors\n",
    "# For information on the respective copyright owner see the NOTICE file\n",
    "#\n",
    "# Licensed under the Apache License, Version 2.0 (the \"License\");\n",
    "# you may not use this file except in compliance with the License.\n",
    "# You may obtain a copy of the License at\n",
    "#\n",
    "#     http://www.apache.org/licenses/LICENSE-2.0\n",
    "#\n",
    "# Unless required by applicable law or agreed to in writing, software\n",
    "# distributed under the License is distributed on an \"AS IS\" BASIS,\n",
    "# WITHOUT WARRANTIES OR CONDITIONS OF ANY KIND, either express or implied.\n",
    "# See the License for the specific language governing permissions and\n",
    "# limitations under the License.\n",
    "%env GAZEBO_MODEL_PATH=/home/ramiro/.gazebo/models\n",
    "import os\n",
    "from tqdm import tqdm\n",
    "import geopandas as gpd\n",
    "import argparse\n",
    "import datetime\n",
    "from pcg_gazebo.simulation import SimulationModel, \\\n",
    "    add_custom_gazebo_resource_path\n",
    "from pcg_gazebo.generators.creators import extrude\n",
    "from pcg_gazebo.generators.shapes import random_rectangles, \\\n",
    "    random_rectangle, random_points_to_triangulation, rectangle\n",
    "from pcg_gazebo.generators import WorldGenerator\n",
    "from shapely.geometry import shape, Polygon, MultiPolygon, box as Box, MultiLineString\n",
    "\n"
   ]
  },
  {
   "cell_type": "code",
   "execution_count": null,
   "id": "797dcd0c-54de-4e99-9ab2-2cf83287955a",
   "metadata": {},
   "outputs": [],
   "source": [
    "!python3.8 -m pip install rasterio"
   ]
  },
  {
   "cell_type": "code",
   "execution_count": null,
   "id": "04d85b4b-a6f0-44fd-9296-83cfebb57803",
   "metadata": {},
   "outputs": [],
   "source": [
    "from shapely.geometry import Polygon, LineString, MultiLineString\n",
    "import rasterio.features\n",
    "import shapely\n",
    "import matplotlib.pyplot as plt\n",
    "from FrontierExploration.preprocessing.grid.occupancy_grid import OccupancyGrid\n",
    "import numpy as np\n",
    "num_rays = 16\n",
    "ALLOWED_MOVEMENTS = [(np.cos(angle), np.sin(angle)) for angle in np.linspace(0, 2 * np.pi, num=num_rays, endpoint=False)]"
   ]
  },
  {
   "cell_type": "code",
   "execution_count": null,
   "id": "ce03450e-b911-4f12-82d9-ae1e54afee47",
   "metadata": {},
   "outputs": [],
   "source": [
    "wall_lines_transformed = shapely.affinity.affine_transform(wall_lines.buffer(0.5), [20 ,0 , 0, 20, 0 ,0 ])\n",
    "\n",
    "# (minx, miny, maxx, maxy)\n",
    "bounds = wall_lines_transformed.bounds\n",
    "\n",
    "# [a, b, d, e, xoff, yoff]\n",
    "tf_to_zero = [1, 0, 0, 1, -bounds[0], -bounds[1]]\n",
    "img_size = (int(bounds[3] - bounds[1]), int(bounds[2] - bounds[0]))\n",
    "wall_lines_transformed = shapely.affinity.affine_transform(wall_lines_transformed, tf_to_zero)\n",
    "\n",
    "img = rasterio.features.rasterize([wall_lines_transformed], out_shape=img_size, fill=0, default_value=100)\n",
    "# img [200:] = 50\n",
    "plt.imshow(img)\n",
    "\n",
    "# print(img)"
   ]
  },
  {
   "cell_type": "code",
   "execution_count": null,
   "id": "2572874d-17cd-4a94-9458-c3a9c1236c1f",
   "metadata": {},
   "outputs": [],
   "source": [
    "from rasterio.features import shapes"
   ]
  },
  {
   "cell_type": "code",
   "execution_count": null,
   "id": "dac33c2c-60e2-4c61-b205-6685c3a33a17",
   "metadata": {},
   "outputs": [],
   "source": [
    "shape = None\n",
    "for s in shapes(img):\n",
    "    # print(s[0][\"coordinates\"])\n",
    "    if shape is None:\n",
    "        shape = Polygon(*s[0][\"coordinates\"])\n",
    "    try:\n",
    "        shape = shape.union(Polygon(*s[0][\"coordinates\"]))\n",
    "    except:\n",
    "        # print(s)\n",
    "        pass\n",
    "\n",
    "shape.simplify(10)\n"
   ]
  },
  {
   "cell_type": "code",
   "execution_count": null,
   "id": "dffa8003-56dc-40bf-b5f2-807315aab5e6",
   "metadata": {},
   "outputs": [],
   "source": [
    "rays = LineString([[0, 0], ALLOWED_MOVEMENTS[0]* 20 * 120])\n",
    "for movement in ALLOWED_MOVEMENTS:\n",
    "    rays = rays.union(LineString([[0, 0], movement* 20 * 12]))\n",
    "\n",
    "rays"
   ]
  },
  {
   "cell_type": "code",
   "execution_count": null,
   "id": "c4a8d23f-3e13-4f34-afec-3eea3bba0db2",
   "metadata": {},
   "outputs": [],
   "source": [
    "rays = shapely.affinity.affine_transform(rays.buffer(1), [1, 0, 0, 1, 1000, 1000])\n",
    "for ray in rays:\n",
    "    if ray.coords[0] == inicio:\n",
    "        visibility += ray.length"
   ]
  },
  {
   "cell_type": "code",
   "execution_count": null,
   "id": "99190790-e5b4-450d-9e8a-10b9d60d8a13",
   "metadata": {},
   "outputs": [],
   "source": [
    "rays.intersection(shape)"
   ]
  },
  {
   "cell_type": "code",
   "execution_count": null,
   "id": "6298769b-9be9-4065-9dfd-ad4cfe070e2c",
   "metadata": {},
   "outputs": [],
   "source": [
    "grid = OccupancyGrid(0.05, x_cells=img_size[0], y_cells=img_size[1])\n",
    "grid._grid = img\n",
    "# grid.plot()\n",
    "# for cell in raycast:\n",
    "#     grid[tuple(cell)] = 100\n",
    "# grid.plot()\n"
   ]
  },
  {
   "cell_type": "code",
   "execution_count": null,
   "id": "676a1ebf-6a71-441a-8776-2ade2e5f9b06",
   "metadata": {},
   "outputs": [],
   "source": [
    "raycast = raycast_in_every_direction(start_cell=(50, 50), available_cells=grid.get_empty_cells(), range_in_cells=1, squarify=False, outermost=False)"
   ]
  },
  {
   "cell_type": "code",
   "execution_count": null,
   "id": "43414d62-3f01-48ce-9763-6b0f5cb89183",
   "metadata": {},
   "outputs": [],
   "source": [
    "wall_thickness = 0.1\n",
    "wall_height = 5\n",
    "world_name = \"rect_falop\"\n",
    "\n",
    "block_size = 1\n",
    "# Create a world generator to place\n",
    "# objects in the world\n",
    "world_generator = WorldGenerator()\n",
    "polygons = []\n",
    "layout = gpd.read_file(f\"{os.getcwd()}/files/small_house_polygon.dxf\")\n",
    "# wall_lines = layout.unary_union\n",
    "# wall_lines"
   ]
  },
  {
   "cell_type": "code",
   "execution_count": null,
   "id": "864324d4-4298-430d-b23c-a98d6e7542aa",
   "metadata": {},
   "outputs": [],
   "source": [
    "world_generator.world.add_model(\n",
    "    tag='ground_plane',\n",
    "    model=SimulationModel.from_gazebo_model('ground_plane'))\n",
    "     \n",
    "# # Retrieve the free space polygon where objects\n",
    "# # can be placed within the walls\n",
    "# free_space_polygon = world_generator.world.get_free_space_polygon(\n",
    "#     ground_plane_models=[walls_model.name],\n",
    "#     ignore_models=['ground_plane'])\n",
    "# # Add the workspace constraint to the\n",
    "# # generator\n",
    "# world_generator.add_constraint(\n",
    "#     name='room_workspace',\n",
    "#     type='workspace',\n",
    "#     frame='world',\n",
    "#     geometry_type='polygon',\n",
    "#     polygon=free_space_polygon\n",
    "# )\n",
    "\n",
    "# # Add constraint to place all object\n",
    "# # tangent to the ground\n",
    "# world_generator.add_constraint(\n",
    "#     name='tangent_to_ground_plane',\n",
    "#     type='tangent',\n",
    "#     frame='world',\n",
    "#     reference=dict(\n",
    "#         type='plane',\n",
    "#         args=dict(\n",
    "#             origin=[0, 0, 0],\n",
    "#             normal=[0, 0, 1]\n",
    "#         )\n",
    "#     )\n",
    "# )\n",
    "\n",
    "# orientation_dofs = ['yaw']\n",
    "# models = dict()\n",
    "# world_generator.add_asset(\n",
    "#     tag='box',\n",
    "#     description=dict(\n",
    "#         type='box',\n",
    "#         args=dict(\n",
    "#             size=\"__import__('numpy').random.uniform(1, 10, 3)\",\n",
    "#             name='cuboid',\n",
    "#             color='xkcd'\n",
    "#         )\n",
    "#     )\n",
    "# )\n",
    "# models['box'] = 120\n",
    "\n",
    "# # Add placement policy\n",
    "# placement_policy = dict(\n",
    "#     models=list(models.keys()),\n",
    "#     config=[\n",
    "#         dict(\n",
    "#             dofs=['x', 'y'],\n",
    "#             tag='workspace',\n",
    "#             workspace='room_workspace'\n",
    "#         ),\n",
    "#         dict(\n",
    "#             dofs=orientation_dofs,\n",
    "#             tag='uniform',\n",
    "#             mean=0,\n",
    "#             min=-3.141592653589793,\n",
    "#             max=3.141592653589793\n",
    "#         )\n",
    "#     ]\n",
    "# )\n",
    "\n",
    "# # Set local constraints\n",
    "# local_constraints = list()\n",
    "# for m in models:\n",
    "#     local_constraints.append(\n",
    "#         dict(model=m, constraint='tangent_to_ground_plane'))\n",
    "# # Place objects randomly on the free\n",
    "# # space within the walls\n",
    "# world_generator.add_engine(\n",
    "#     tag='placement_engine',\n",
    "#     engine_name='random_pose',\n",
    "#     models=list(models.keys()),\n",
    "#     max_num=models,\n",
    "#     model_picker='random',\n",
    "#     no_collision=True,\n",
    "#     min_distance=0.0,\n",
    "#     policies=[placement_policy],\n",
    "#     constraints=local_constraints\n",
    "# )\n",
    "# # Run placement engine\n",
    "# world_generator.run_engines(attach_models=True)\n",
    "    \n",
    "world_generator.world.name = world_name\n",
    "world_generator.world.show()"
   ]
  },
  {
   "cell_type": "code",
   "execution_count": null,
   "id": "d559c999-fb95-4c9f-85ef-6071ebf7e02f",
   "metadata": {},
   "outputs": [],
   "source": [
    "import sys\n",
    "# Export world to file and walls model as Gazebo model\n",
    "export_models_dir = \"/home/ramiro/.gazebo/models\"\n",
    "export_world_dir = \"/home/ramiro/.gazebo/worlds\"\n",
    "add_custom_gazebo_resource_path(export_models_dir)\n",
    "print(sys.getsizeof(world_generator))\n",
    "\n",
    "full_world_filename = world_generator.export_world(\n",
    "    output_dir=export_world_dir,\n",
    "    filename=world_generator.world.name + '.world',\n",
    "    models_output_dir=export_models_dir,\n",
    "    with_default_sun=False,\n",
    "    overwrite=True)\n",
    "\n",
    "print('World file: {}'.format(full_world_filename))"
   ]
  },
  {
   "cell_type": "code",
   "execution_count": 1,
   "id": "6d5d70ff-6102-47c7-a106-0d48ceb61283",
   "metadata": {},
   "outputs": [
    {
     "name": "stdout",
     "output_type": "stream",
     "text": [
      "env: GAZEBO_MODEL_PATH=/home/agusmazzeo/.gazebo/models\n"
     ]
    },
    {
     "name": "stderr",
     "output_type": "stream",
     "text": [
      "100%|███████████████████████████████████████████████████████████████████████████████████████████████████████████████████████████████████████████████████████████████████████████| 8/8 [00:03<00:00,  2.21it/s]\n"
     ]
    },
    {
     "data": {
      "text/plain": [
       "'/home/agusmazzeo/Documents/UTN/Proyecto/Frontier-Exploration-with-a-prior/Notebooks/files/worlds/plano_medrano_clean.world'"
      ]
     },
     "execution_count": 1,
     "metadata": {},
     "output_type": "execute_result"
    }
   ],
   "source": [
    "%env GAZEBO_MODEL_PATH=/home/agusmazzeo/.gazebo/models\n",
    "\n",
    "import os\n",
    "from FrontierExploration.preprocessing.layout.reader import LayoutReader\n",
    "\n",
    "base_dir = os.getcwd()\n",
    "files_dir = f\"{base_dir}/files\"\n",
    "\n",
    "layout_reader = LayoutReader(file_name=f\"plano_medrano_clean\", file_extension=\"dxf\", files_dir=f\"{files_dir}/\")\n",
    "layout_reader.create_gazebo_model(output_file_dir=f\"{files_dir}\", show=True)"
   ]
  },
  {
   "cell_type": "code",
   "execution_count": null,
   "id": "774497cb-0800-4690-be95-64d12684b3f2",
   "metadata": {},
   "outputs": [],
   "source": [
    "layout_reader.layout.iloc[0]['geometry']"
   ]
  },
  {
   "cell_type": "code",
   "execution_count": null,
   "id": "0a977e66-e030-4453-8068-03c36933b70d",
   "metadata": {},
   "outputs": [],
   "source": [
    "layout_reader.layout.iloc[1]['geometry']"
   ]
  },
  {
   "cell_type": "code",
   "execution_count": 3,
   "id": "00fb8691-5e4a-4bb8-a1dd-2f0fd64a6031",
   "metadata": {},
   "outputs": [],
   "source": [
    "polygon = layout_reader.layout.iloc[2]['geometry'].buffer(0.3)"
   ]
  },
  {
   "cell_type": "code",
   "execution_count": 4,
   "id": "739f2a45-2233-46e2-b1ec-99153aa25d81",
   "metadata": {},
   "outputs": [],
   "source": [
    "from FrontierExploration.preprocessing.layout.syntetic import SynteticWorld"
   ]
  },
  {
   "cell_type": "code",
   "execution_count": 5,
   "id": "00ab03e2-2c40-4ce4-8e74-a69c99aefa81",
   "metadata": {},
   "outputs": [],
   "source": [
    "medrano_world = SynteticWorld(name=\"plano_medrano_clean\", output_dir=files_dir, n_rectangles=1, external_polygon=polygon)"
   ]
  },
  {
   "cell_type": "code",
   "execution_count": null,
   "id": "508a23a7-d5ea-49cb-a684-cb876a067142",
   "metadata": {},
   "outputs": [
    {
     "name": "stdout",
     "output_type": "stream",
     "text": [
      "Creating world for plano_medrano_clean\n"
     ]
    }
   ],
   "source": [
    "medrano_world.create_world()"
   ]
  },
  {
   "cell_type": "code",
   "execution_count": null,
   "id": "79159705-6727-4f33-ab61-0bddcefabe14",
   "metadata": {},
   "outputs": [],
   "source": [
    "worlds = {\n",
    "    \"world\": medrano_world,\n",
    "    \"world_dir\":\"\"\n",
    "}"
   ]
  }
 ],
 "metadata": {
  "kernelspec": {
   "display_name": "Python 3 (ipykernel)",
   "language": "python",
   "name": "python3"
  },
  "language_info": {
   "codemirror_mode": {
    "name": "ipython",
    "version": 3
   },
   "file_extension": ".py",
   "mimetype": "text/x-python",
   "name": "python",
   "nbconvert_exporter": "python",
   "pygments_lexer": "ipython3",
   "version": "3.9.1"
  }
 },
 "nbformat": 4,
 "nbformat_minor": 5
}
