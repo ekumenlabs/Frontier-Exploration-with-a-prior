{
 "cells": [
  {
   "cell_type": "code",
   "execution_count": 1,
   "id": "95efa7fd-9d32-4e12-b828-4a24cd243720",
   "metadata": {},
   "outputs": [
    {
     "name": "stdout",
     "output_type": "stream",
     "text": [
      "env: GAZEBO_MODEL_PATH=/home/agusmazzeo/.gazebo/models\n"
     ]
    }
   ],
   "source": [
    "#!/usr/bin/env python\n",
    "# Copyright (c) 2020 - The Procedural Generation for Gazebo authors\n",
    "# For information on the respective copyright owner see the NOTICE file\n",
    "#\n",
    "# Licensed under the Apache License, Version 2.0 (the \"License\");\n",
    "# you may not use this file except in compliance with the License.\n",
    "# You may obtain a copy of the License at\n",
    "#\n",
    "#     http://www.apache.org/licenses/LICENSE-2.0\n",
    "#\n",
    "# Unless required by applicable law or agreed to in writing, software\n",
    "# distributed under the License is distributed on an \"AS IS\" BASIS,\n",
    "# WITHOUT WARRANTIES OR CONDITIONS OF ANY KIND, either express or implied.\n",
    "# See the License for the specific language governing permissions and\n",
    "# limitations under the License.\n",
    "%env GAZEBO_MODEL_PATH=/home/agusmazzeo/.gazebo/models\n",
    "import os\n",
    "from tqdm import tqdm\n",
    "import geopandas as gpd\n",
    "import argparse\n",
    "import datetime\n",
    "from pcg_gazebo.simulation import SimulationModel, \\\n",
    "    add_custom_gazebo_resource_path\n",
    "from pcg_gazebo.generators.creators import extrude\n",
    "from pcg_gazebo.generators.shapes import random_rectangles, \\\n",
    "    random_rectangle, random_points_to_triangulation, rectangle\n",
    "from pcg_gazebo.generators import WorldGenerator\n",
    "from shapely.geometry import shape, Polygon, MultiPolygon, box as Box, MultiLineString\n",
    "\n"
   ]
  },
  {
   "cell_type": "code",
   "execution_count": 6,
   "id": "797dcd0c-54de-4e99-9ab2-2cf83287955a",
   "metadata": {},
   "outputs": [
    {
     "name": "stdout",
     "output_type": "stream",
     "text": [
      "Defaulting to user installation because normal site-packages is not writeable\n",
      "Collecting rasterio\n",
      "  Downloading rasterio-1.3.2-cp38-cp38-manylinux_2_17_x86_64.manylinux2014_x86_64.whl (20.9 MB)\n",
      "\u001b[2K     \u001b[38;2;114;156;31m━━━━━━━━━━━━━━━━━━━━━━━━━━━━━━━━━━━━━━━━\u001b[0m \u001b[32m20.9/20.9 MB\u001b[0m \u001b[31m13.2 MB/s\u001b[0m eta \u001b[36m0:00:00\u001b[0mm eta \u001b[36m0:00:01\u001b[0m[36m0:00:01\u001b[0m\n",
      "\u001b[?25hRequirement already satisfied: certifi in /usr/lib/python3/dist-packages (from rasterio) (2019.11.28)\n",
      "Requirement already satisfied: attrs in /home/ramiro/.local/lib/python3.8/site-packages (from rasterio) (21.4.0)\n",
      "Collecting affine\n",
      "  Downloading affine-2.3.1-py2.py3-none-any.whl (16 kB)\n",
      "Requirement already satisfied: setuptools in /home/ramiro/.local/lib/python3.8/site-packages (from rasterio) (63.2.0)\n",
      "Requirement already satisfied: cligj>=0.5 in /home/ramiro/.local/lib/python3.8/site-packages (from rasterio) (0.7.2)\n",
      "Requirement already satisfied: click-plugins in /home/ramiro/.local/lib/python3.8/site-packages (from rasterio) (1.1.1)\n",
      "Collecting snuggs>=1.4.1\n",
      "  Downloading snuggs-1.4.7-py3-none-any.whl (5.4 kB)\n",
      "Requirement already satisfied: numpy>=1.18 in /home/ramiro/.local/lib/python3.8/site-packages (from rasterio) (1.22.3)\n",
      "Requirement already satisfied: click>=4.0 in /usr/lib/python3/dist-packages (from rasterio) (7.0)\n",
      "Requirement already satisfied: pyparsing>=2.1.6 in /home/ramiro/.local/lib/python3.8/site-packages (from snuggs>=1.4.1->rasterio) (3.0.8)\n",
      "Installing collected packages: affine, snuggs, rasterio\n",
      "Successfully installed affine-2.3.1 rasterio-1.3.2 snuggs-1.4.7\n",
      "--- Logging error ---\n",
      "Traceback (most recent call last):\n",
      "  File \"/home/ramiro/.local/lib/python3.8/site-packages/pip/_internal/utils/logging.py\", line 177, in emit\n",
      "    self.console.print(renderable, overflow=\"ignore\", crop=False, style=style)\n",
      "  File \"/home/ramiro/.local/lib/python3.8/site-packages/pip/_vendor/rich/console.py\", line 1752, in print\n",
      "    extend(render(renderable, render_options))\n",
      "  File \"/home/ramiro/.local/lib/python3.8/site-packages/pip/_vendor/rich/console.py\", line 1390, in render\n",
      "    for render_output in iter_render:\n",
      "  File \"/home/ramiro/.local/lib/python3.8/site-packages/pip/_internal/utils/logging.py\", line 134, in __rich_console__\n",
      "    for line in lines:\n",
      "  File \"/home/ramiro/.local/lib/python3.8/site-packages/pip/_vendor/rich/segment.py\", line 245, in split_lines\n",
      "    for segment in segments:\n",
      "  File \"/home/ramiro/.local/lib/python3.8/site-packages/pip/_vendor/rich/console.py\", line 1368, in render\n",
      "    renderable = rich_cast(renderable)\n",
      "  File \"/home/ramiro/.local/lib/python3.8/site-packages/pip/_vendor/rich/protocol.py\", line 36, in rich_cast\n",
      "    renderable = cast_method()\n",
      "  File \"/home/ramiro/.local/lib/python3.8/site-packages/pip/_internal/self_outdated_check.py\", line 130, in __rich__\n",
      "    pip_cmd = get_best_invocation_for_this_pip()\n",
      "  File \"/home/ramiro/.local/lib/python3.8/site-packages/pip/_internal/utils/entrypoints.py\", line 58, in get_best_invocation_for_this_pip\n",
      "    if found_executable and os.path.samefile(\n",
      "  File \"/usr/lib/python3.8/genericpath.py\", line 101, in samefile\n",
      "    s2 = os.stat(f2)\n",
      "FileNotFoundError: [Errno 2] No such file or directory: '/usr/bin/pip3.8'\n",
      "Call stack:\n",
      "  File \"/usr/lib/python3.8/runpy.py\", line 194, in _run_module_as_main\n",
      "    return _run_code(code, main_globals, None,\n",
      "  File \"/usr/lib/python3.8/runpy.py\", line 87, in _run_code\n",
      "    exec(code, run_globals)\n",
      "  File \"/home/ramiro/.local/lib/python3.8/site-packages/pip/__main__.py\", line 31, in <module>\n",
      "    sys.exit(_main())\n",
      "  File \"/home/ramiro/.local/lib/python3.8/site-packages/pip/_internal/cli/main.py\", line 70, in main\n",
      "    return command.main(cmd_args)\n",
      "  File \"/home/ramiro/.local/lib/python3.8/site-packages/pip/_internal/cli/base_command.py\", line 101, in main\n",
      "    return self._main(args)\n",
      "  File \"/home/ramiro/.local/lib/python3.8/site-packages/pip/_internal/cli/base_command.py\", line 223, in _main\n",
      "    self.handle_pip_version_check(options)\n",
      "  File \"/home/ramiro/.local/lib/python3.8/site-packages/pip/_internal/cli/req_command.py\", line 148, in handle_pip_version_check\n",
      "    pip_self_version_check(session, options)\n",
      "  File \"/home/ramiro/.local/lib/python3.8/site-packages/pip/_internal/self_outdated_check.py\", line 237, in pip_self_version_check\n",
      "    logger.info(\"[present-rich] %s\", upgrade_prompt)\n",
      "  File \"/usr/lib/python3.8/logging/__init__.py\", line 1446, in info\n",
      "    self._log(INFO, msg, args, **kwargs)\n",
      "  File \"/usr/lib/python3.8/logging/__init__.py\", line 1589, in _log\n",
      "    self.handle(record)\n",
      "  File \"/usr/lib/python3.8/logging/__init__.py\", line 1599, in handle\n",
      "    self.callHandlers(record)\n",
      "  File \"/usr/lib/python3.8/logging/__init__.py\", line 1661, in callHandlers\n",
      "    hdlr.handle(record)\n",
      "  File \"/usr/lib/python3.8/logging/__init__.py\", line 954, in handle\n",
      "    self.emit(record)\n",
      "  File \"/home/ramiro/.local/lib/python3.8/site-packages/pip/_internal/utils/logging.py\", line 179, in emit\n",
      "    self.handleError(record)\n",
      "Message: '[present-rich] %s'\n",
      "Arguments: (UpgradePrompt(old='22.1.2', new='22.2.2'),)\n"
     ]
    }
   ],
   "source": [
    "!python3.8 -m pip install rasterio"
   ]
  },
  {
   "cell_type": "code",
   "execution_count": 190,
   "id": "04d85b4b-a6f0-44fd-9296-83cfebb57803",
   "metadata": {},
   "outputs": [],
   "source": [
    "from shapely.geometry import Polygon, LineString, MultiLineString\n",
    "import rasterio.features\n",
    "import shapely\n",
    "import matplotlib.pyplot as plt\n",
    "from FrontierExploration.preprocessing.grid.occupancy_grid import OccupancyGrid\n",
    "import numpy as np\n",
    "num_rays = 16\n",
    "ALLOWED_MOVEMENTS = [(np.cos(angle), np.sin(angle)) for angle in np.linspace(0, 2 * np.pi, num=num_rays, endpoint=False)]"
   ]
  },
  {
   "cell_type": "code",
   "execution_count": 3,
   "id": "ce03450e-b911-4f12-82d9-ae1e54afee47",
   "metadata": {},
   "outputs": [
    {
     "ename": "NameError",
     "evalue": "name 'shapely' is not defined",
     "output_type": "error",
     "traceback": [
      "\u001b[0;31m---------------------------------------------------------------------------\u001b[0m",
      "\u001b[0;31mNameError\u001b[0m                                 Traceback (most recent call last)",
      "Input \u001b[0;32mIn [3]\u001b[0m, in \u001b[0;36m<cell line: 1>\u001b[0;34m()\u001b[0m\n\u001b[0;32m----> 1\u001b[0m wall_lines_transformed \u001b[38;5;241m=\u001b[39m \u001b[43mshapely\u001b[49m\u001b[38;5;241m.\u001b[39maffinity\u001b[38;5;241m.\u001b[39maffine_transform(wall_lines\u001b[38;5;241m.\u001b[39mbuffer(\u001b[38;5;241m0.5\u001b[39m), [\u001b[38;5;241m20\u001b[39m ,\u001b[38;5;241m0\u001b[39m , \u001b[38;5;241m0\u001b[39m, \u001b[38;5;241m20\u001b[39m, \u001b[38;5;241m0\u001b[39m ,\u001b[38;5;241m0\u001b[39m ])\n\u001b[1;32m      3\u001b[0m \u001b[38;5;66;03m# (minx, miny, maxx, maxy)\u001b[39;00m\n\u001b[1;32m      4\u001b[0m bounds \u001b[38;5;241m=\u001b[39m wall_lines_transformed\u001b[38;5;241m.\u001b[39mbounds\n",
      "\u001b[0;31mNameError\u001b[0m: name 'shapely' is not defined"
     ]
    }
   ],
   "source": [
    "wall_lines_transformed = shapely.affinity.affine_transform(wall_lines.buffer(0.5), [20 ,0 , 0, 20, 0 ,0 ])\n",
    "\n",
    "# (minx, miny, maxx, maxy)\n",
    "bounds = wall_lines_transformed.bounds\n",
    "\n",
    "# [a, b, d, e, xoff, yoff]\n",
    "tf_to_zero = [1, 0, 0, 1, -bounds[0], -bounds[1]]\n",
    "img_size = (int(bounds[3] - bounds[1]), int(bounds[2] - bounds[0]))\n",
    "wall_lines_transformed = shapely.affinity.affine_transform(wall_lines_transformed, tf_to_zero)\n",
    "\n",
    "img = rasterio.features.rasterize([wall_lines_transformed], out_shape=img_size, fill=0, default_value=100)\n",
    "# img [200:] = 50\n",
    "plt.imshow(img)\n",
    "\n",
    "# print(img)"
   ]
  },
  {
   "cell_type": "code",
   "execution_count": 307,
   "id": "2572874d-17cd-4a94-9458-c3a9c1236c1f",
   "metadata": {},
   "outputs": [],
   "source": [
    "from rasterio.features import shapes"
   ]
  },
  {
   "cell_type": "code",
   "execution_count": 300,
   "id": "dac33c2c-60e2-4c61-b205-6685c3a33a17",
   "metadata": {},
   "outputs": [
    {
     "data": {
      "image/svg+xml": [
       "<svg xmlns=\"http://www.w3.org/2000/svg\" xmlns:xlink=\"http://www.w3.org/1999/xlink\" width=\"300\" height=\"300\" viewBox=\"-141.16 -141.16 3811.3199999999997 3151.3199999999997\" preserveAspectRatio=\"xMinYMin meet\"><g transform=\"matrix(1,0,0,-1,0,2869.0)\"><g><path fill-rule=\"evenodd\" fill=\"#66cc99\" stroke=\"#555555\" stroke-width=\"25.4088\" opacity=\"0.6\" d=\"M 3516.0,2.0 L 3525.0,9.0 L 3529.0,17.0 L 3529.0,0.0 L 3516.0,2.0 z\" /><path fill-rule=\"evenodd\" fill=\"#66cc99\" stroke=\"#555555\" stroke-width=\"25.4088\" opacity=\"0.6\" d=\"M 1.0,1037.0 L 20.0,1020.0 L 830.0,1020.0 L 830.0,920.0 L 850.0,900.0 L 1610.0,900.0 L 1630.0,920.0 L 1630.0,1020.0 L 1750.0,1020.0 L 1768.0,1034.0 L 1770.0,1280.0 L 2150.0,1280.0 L 2150.0,20.0 L 2170.0,0.0 L 0.0,0.0 L 1.0,1037.0 z\" /><path fill-rule=\"evenodd\" fill=\"#66cc99\" stroke=\"#555555\" stroke-width=\"25.4088\" opacity=\"0.6\" d=\"M 2847.0,1281.0 L 2867.0,1298.0 L 2867.0,1342.0 L 2845.0,1360.0 L 2845.0,1572.0 L 2827.0,1592.0 L 2790.0,1591.0 L 2775.0,1572.0 L 2775.0,1360.0 L 2510.0,1360.0 L 2510.0,1572.0 L 2492.0,1592.0 L 2455.0,1591.0 L 2440.0,1572.0 L 2440.0,1360.0 L 2230.0,1360.0 L 2230.0,1710.0 L 2441.0,1710.0 L 2465.0,1692.0 L 2509.0,1710.0 L 2776.0,1710.0 L 2800.0,1692.0 L 2841.0,1703.0 L 2845.0,1760.0 L 2833.0,1777.0 L 2720.0,1780.0 L 2720.0,2050.0 L 2706.0,2068.0 L 2670.0,2070.0 L 2650.0,2050.0 L 2650.0,1780.0 L 2165.0,1771.0 L 2160.0,1360.0 L 1760.0,1360.0 L 1757.0,1608.0 L 1710.0,1620.0 L 1691.0,1600.0 L 1620.0,1600.0 L 1620.0,1710.0 L 1748.0,1693.0 L 1760.0,1760.0 L 1746.0,1778.0 L 1038.0,1776.0 L 1028.0,1728.0 L 1048.0,1710.0 L 1550.0,1710.0 L 1555.0,1509.0 L 1600.0,1500.0 L 1620.0,1530.0 L 1690.0,1530.0 L 1690.0,1100.0 L 1620.0,1100.0 L 1606.0,1128.0 L 1559.0,1125.0 L 1550.0,980.0 L 910.0,980.0 L 910.0,1711.0 L 926.0,1725.0 L 927.0,1762.0 L 907.0,1780.0 L 839.0,1779.0 L 822.0,1755.0 L 840.0,1711.0 L 840.0,1100.0 L 80.0,1100.0 L 80.0,1710.0 L 230.0,1710.0 L 250.0,1730.0 L 248.0,1766.0 L 230.0,1780.0 L 80.0,1780.0 L 80.0,1930.0 L 515.0,1930.0 L 515.0,1780.0 L 364.0,1778.0 L 350.0,1760.0 L 355.0,1719.0 L 702.0,1710.0 L 721.0,1725.0 L 722.0,1762.0 L 693.0,1807.0 L 655.0,1810.0 L 635.0,1780.0 L 585.0,1780.0 L 585.0,1930.0 L 635.0,1930.0 L 647.0,1903.0 L 685.0,1900.0 L 732.0,1948.0 L 731.0,1985.0 L 712.0,2000.0 L 80.0,2000.0 L 80.0,2790.0 L 850.0,2790.0 L 850.0,2643.0 L 875.0,2622.0 L 919.0,2639.0 L 920.0,2790.0 L 1290.0,2790.0 L 1290.0,2643.0 L 1315.0,2622.0 L 1359.0,2639.0 L 1360.0,2790.0 L 1610.0,2790.0 L 1610.0,2505.0 L 1359.0,2505.0 L 1345.0,2521.0 L 1308.0,2522.0 L 1291.0,2505.0 L 1175.0,2505.0 L 1157.0,2491.0 L 1169.0,2437.0 L 1290.0,2435.0 L 1290.0,2130.0 L 920.0,2130.0 L 920.0,2435.0 L 1041.0,2437.0 L 1055.0,2485.0 L 1035.0,2505.0 L 919.0,2505.0 L 902.0,2522.0 L 854.0,2512.0 L 850.0,1999.0 L 832.0,1975.0 L 834.0,1945.0 L 853.0,1930.0 L 947.0,1942.0 L 948.0,1986.0 L 920.0,2000.0 L 920.0,2060.0 L 1290.0,2060.0 L 1290.0,2000.0 L 1260.0,1980.0 L 1272.0,1933.0 L 1497.0,1934.0 L 1507.0,1982.0 L 1491.0,1999.0 L 1360.0,2000.0 L 1360.0,2435.0 L 1610.0,2435.0 L 1610.0,1996.0 L 1597.0,1955.0 L 1614.0,1931.0 L 1671.0,1935.0 L 1680.0,2495.0 L 1975.0,2790.0 L 3450.0,2790.0 L 3450.0,1360.0 L 3018.0,1360.0 L 2997.0,1335.0 L 2999.0,1295.0 L 3018.0,1280.0 L 3450.0,1280.0 L 3450.0,80.0 L 2230.0,80.0 L 2230.0,1280.0 L 2847.0,1281.0 z\" /><path fill-rule=\"evenodd\" fill=\"#66cc99\" stroke=\"#555555\" stroke-width=\"25.4088\" opacity=\"0.6\" d=\"M 1876.0,2790.0 L 1876.0,2789.0 L 1680.0,2594.0 L 1680.0,2790.0 L 1876.0,2790.0 z\" /><path fill-rule=\"evenodd\" fill=\"#66cc99\" stroke=\"#555555\" stroke-width=\"25.4088\" opacity=\"0.6\" d=\"M 0.0,2869.0 L 17.0,2869.0 L 1.0,2850.0 L 0.0,2850.0 L 0.0,2869.0 z\" /><path fill-rule=\"evenodd\" fill=\"#66cc99\" stroke=\"#555555\" stroke-width=\"25.4088\" opacity=\"0.6\" d=\"M 3528.0,2856.0 L 3521.0,2865.0 L 3513.0,2869.0 L 3529.0,2869.0 L 3528.0,2856.0 z\" /></g></g></svg>"
      ],
      "text/plain": [
       "<shapely.geometry.multipolygon.MultiPolygon at 0x7f37531e8340>"
      ]
     },
     "execution_count": 300,
     "metadata": {},
     "output_type": "execute_result"
    }
   ],
   "source": [
    "shape = None\n",
    "for s in shapes(img):\n",
    "    # print(s[0][\"coordinates\"])\n",
    "    if shape is None:\n",
    "        shape = Polygon(*s[0][\"coordinates\"])\n",
    "    try:\n",
    "        shape = shape.union(Polygon(*s[0][\"coordinates\"]))\n",
    "    except:\n",
    "        # print(s)\n",
    "        pass\n",
    "\n",
    "shape.simplify(10)\n"
   ]
  },
  {
   "cell_type": "code",
   "execution_count": 321,
   "id": "dffa8003-56dc-40bf-b5f2-807315aab5e6",
   "metadata": {},
   "outputs": [
    {
     "data": {
      "image/svg+xml": [
       "<svg xmlns=\"http://www.w3.org/2000/svg\" xmlns:xlink=\"http://www.w3.org/1999/xlink\" width=\"100.0\" height=\"100.0\" viewBox=\"-1.08 -1.08 2.16 2.16\" preserveAspectRatio=\"xMinYMin meet\"><g transform=\"matrix(1,0,0,-1,0,0.0)\"><g><polyline fill=\"none\" stroke=\"#66cc99\" stroke-width=\"0.0432\" points=\"0.0,0.0 1.0,0.0\" opacity=\"0.8\" /><polyline fill=\"none\" stroke=\"#66cc99\" stroke-width=\"0.0432\" points=\"0.0,0.0 0.9238795325112866,0.3826834323650898\" opacity=\"0.8\" /><polyline fill=\"none\" stroke=\"#66cc99\" stroke-width=\"0.0432\" points=\"0.0,0.0 0.7071067811865477,0.7071067811865476\" opacity=\"0.8\" /><polyline fill=\"none\" stroke=\"#66cc99\" stroke-width=\"0.0432\" points=\"0.0,0.0 0.38268343236508984,0.9238795325112866\" opacity=\"0.8\" /><polyline fill=\"none\" stroke=\"#66cc99\" stroke-width=\"0.0432\" points=\"0.0,0.0 6.123233995736766e-17,1.0\" opacity=\"0.8\" /><polyline fill=\"none\" stroke=\"#66cc99\" stroke-width=\"0.0432\" points=\"0.0,0.0 -0.3826834323650897,0.9238795325112867\" opacity=\"0.8\" /><polyline fill=\"none\" stroke=\"#66cc99\" stroke-width=\"0.0432\" points=\"0.0,0.0 -0.7071067811865475,0.7071067811865477\" opacity=\"0.8\" /><polyline fill=\"none\" stroke=\"#66cc99\" stroke-width=\"0.0432\" points=\"0.0,0.0 -0.9238795325112866,0.3826834323650899\" opacity=\"0.8\" /><polyline fill=\"none\" stroke=\"#66cc99\" stroke-width=\"0.0432\" points=\"0.0,0.0 -1.0,1.2246467991473532e-16\" opacity=\"0.8\" /><polyline fill=\"none\" stroke=\"#66cc99\" stroke-width=\"0.0432\" points=\"0.0,0.0 -0.9238795325112867,-0.38268343236508967\" opacity=\"0.8\" /><polyline fill=\"none\" stroke=\"#66cc99\" stroke-width=\"0.0432\" points=\"0.0,0.0 -0.7071067811865477,-0.7071067811865475\" opacity=\"0.8\" /><polyline fill=\"none\" stroke=\"#66cc99\" stroke-width=\"0.0432\" points=\"0.0,0.0 -0.38268343236509034,-0.9238795325112864\" opacity=\"0.8\" /><polyline fill=\"none\" stroke=\"#66cc99\" stroke-width=\"0.0432\" points=\"0.0,0.0 -1.8369701987210297e-16,-1.0\" opacity=\"0.8\" /><polyline fill=\"none\" stroke=\"#66cc99\" stroke-width=\"0.0432\" points=\"0.0,0.0 0.38268343236509006,-0.9238795325112866\" opacity=\"0.8\" /><polyline fill=\"none\" stroke=\"#66cc99\" stroke-width=\"0.0432\" points=\"0.0,0.0 0.7071067811865474,-0.7071067811865477\" opacity=\"0.8\" /><polyline fill=\"none\" stroke=\"#66cc99\" stroke-width=\"0.0432\" points=\"0.0,0.0 0.9238795325112864,-0.3826834323650904\" opacity=\"0.8\" /></g></g></svg>"
      ],
      "text/plain": [
       "<shapely.geometry.multilinestring.MultiLineString at 0x7f37530e3040>"
      ]
     },
     "execution_count": 321,
     "metadata": {},
     "output_type": "execute_result"
    }
   ],
   "source": [
    "rays = LineString([[0, 0], ALLOWED_MOVEMENTS[0]* 20 * 120])\n",
    "for movement in ALLOWED_MOVEMENTS:\n",
    "    rays = rays.union(LineString([[0, 0], movement* 20 * 12]))\n",
    "\n",
    "rays"
   ]
  },
  {
   "cell_type": "code",
   "execution_count": 322,
   "id": "c4a8d23f-3e13-4f34-afec-3eea3bba0db2",
   "metadata": {},
   "outputs": [
    {
     "ename": "SyntaxError",
     "evalue": "unexpected EOF while parsing (985482952.py, line 2)",
     "output_type": "error",
     "traceback": [
      "\u001b[0;36m  Input \u001b[0;32mIn [322]\u001b[0;36m\u001b[0m\n\u001b[0;31m    for ray in rays:\u001b[0m\n\u001b[0m                    ^\u001b[0m\n\u001b[0;31mSyntaxError\u001b[0m\u001b[0;31m:\u001b[0m unexpected EOF while parsing\n"
     ]
    }
   ],
   "source": [
    "rays = shapely.affinity.affine_transform(rays.buffer(1), [1, 0, 0, 1, 1000, 1000])\n",
    "for ray in rays:\n",
    "    if ray.coords[0] == inicio:\n",
    "        visibility += ray.length"
   ]
  },
  {
   "cell_type": "code",
   "execution_count": 319,
   "id": "99190790-e5b4-450d-9e8a-10b9d60d8a13",
   "metadata": {},
   "outputs": [
    {
     "data": {
      "image/svg+xml": [
       "<svg xmlns=\"http://www.w3.org/2000/svg\" xmlns:xlink=\"http://www.w3.org/1999/xlink\" width=\"100.0\" height=\"100.0\" viewBox=\"2496.7613009072998 1996.7613009072995 6.477398185400489 6.4773981854009435\" preserveAspectRatio=\"xMinYMin meet\"><g transform=\"matrix(1,0,0,-1,0,4000.0)\"><path fill-rule=\"evenodd\" fill=\"#66cc99\" stroke=\"#555555\" stroke-width=\"0.12954796370801888\" opacity=\"0.6\" d=\"M 2497.0730284110778,1999.4667351428375 L 2497.049183466408,1999.5619294980675 L 2497.030038209636,1999.6581792035186 L 2497.015638763366,1999.7552523852087 L 2497.006019817126,1999.8529151853204 L 2497.001204543796,1999.9509323256505 L 2497.001204543796,2000.0490676743495 L 2497.006019817126,2000.1470848146796 L 2497.015638763366,2000.2447476147913 L 2497.030038209636,2000.3418207964814 L 2497.049183466408,2000.4380705019325 L 2497.0730284110778,2000.5332648571625 L 2497.0870311010667,2000.579425539796 L 2497.091759230856,2000.6274310471515 L 2497.106158677126,2000.7245042288414 L 2497.1253039338917,2000.8207539342689 L 2497.149148878562,2000.9159482895088 L 2497.1776360665745,2001.0098579630057 L 2497.2106968697944,2001.1022567181158 L 2497.2482516418468,2001.1929219581398 L 2497.2902099100065,2001.2816352625996 L 2497.336470593168,2001.3681829134307 L 2497.3869222452186,2001.4523564096207 L 2497.4414433236884,2001.5339529698442 L 2497.4999024826284,2001.6127760209943 L 2497.530504209796,2001.6500643334398 L 2497.553243344426,2001.6926062621308 L 2497.6036949964664,2001.7767797583308 L 2497.6582160750445,2001.858376318723 L 2497.7166752339845,2001.937199369863 L 2497.7789316401286,2002.013059020234 L 2497.8448353123085,2002.085772517254 L 2497.9142274827473,2002.1551646876926 L 2497.9869409797675,2002.2210683598726 L 2498.062800630136,2002.2833247660146 L 2498.1416236812756,2002.3417839249546 L 2498.223220241669,2002.3963050035336 L 2498.307393737869,2002.4467566555736 L 2498.349935666559,2002.469495790203 L 2498.3872239790057,2002.5000975173716 L 2498.466047030156,2002.5585566763116 L 2498.5476435903793,2002.613077754782 L 2498.6318170865693,2002.663529406832 L 2498.718364737401,2002.7097900899935 L 2498.807078041861,2002.7517483581535 L 2498.8977432818842,2002.7893031302053 L 2498.9901420369943,2002.8223639334253 L 2499.0840517104903,2002.850851121438 L 2499.1792460657302,2002.8746960661078 L 2499.2754957711595,2002.893841322874 L 2499.372568952849,2002.908240769144 L 2499.4205744602036,2002.912968898933 L 2499.466735142836,2002.9269715889218 L 2499.561929498066,2002.950816533592 L 2499.6581792035195,2002.969961790364 L 2499.755252385209,2002.984361236634 L 2499.8529151853204,2002.993980182874 L 2499.9509323256507,2002.998795456204 L 2500.0490676743493,2002.998795456204 L 2500.1470848146796,2002.993980182874 L 2500.244747614791,2002.984361236634 L 2500.3418207964805,2002.969961790364 L 2500.438070501934,2002.950816533592 L 2500.533264857164,2002.9269715889218 L 2500.5794255397964,2002.912968898933 L 2500.627431047151,2002.908240769144 L 2500.7245042288405,2002.893841322874 L 2500.8207539342698,2002.8746960661078 L 2500.9159482895097,2002.850851121438 L 2501.0098579630057,2002.8223639334253 L 2501.1022567181158,2002.7893031302053 L 2501.192921958139,2002.7517483581535 L 2501.281635262599,2002.7097900899935 L 2501.3681829134307,2002.663529406832 L 2501.4523564096207,2002.613077754782 L 2501.533952969844,2002.5585566763116 L 2501.6127760209943,2002.5000975173716 L 2501.650064333441,2002.469495790203 L 2501.692606262131,2002.4467566555736 L 2501.776779758331,2002.3963050035336 L 2501.8583763187244,2002.3417839249546 L 2501.937199369864,2002.2833247660146 L 2502.0130590202325,2002.2210683598726 L 2502.0857725172527,2002.1551646876926 L 2502.1551646876915,2002.085772517254 L 2502.2210683598714,2002.013059020234 L 2502.2833247660155,2001.937199369863 L 2502.3417839249555,2001.858376318723 L 2502.3963050035336,2001.7767797583308 L 2502.446756655574,2001.6926062621308 L 2502.469495790204,2001.6500643334398 L 2502.5000975173716,2001.6127760209943 L 2502.5585566763116,2001.5339529698442 L 2502.6130777547814,2001.4523564096207 L 2502.663529406832,2001.3681829134307 L 2502.7097900899935,2001.2816352625996 L 2502.7517483581532,2001.1929219581398 L 2502.7893031302056,2001.1022567181158 L 2502.8223639334255,2001.0098579630057 L 2502.850851121438,2000.9159482895088 L 2502.8746960661083,2000.8207539342689 L 2502.893841322874,2000.7245042288414 L 2502.908240769144,2000.6274310471515 L 2502.9129688989333,2000.579425539796 L 2502.9269715889222,2000.5332648571625 L 2502.950816533592,2000.4380705019325 L 2502.969961790364,2000.3418207964814 L 2502.984361236634,2000.2447476147913 L 2502.993980182874,2000.1470848146796 L 2502.998795456204,2000.0490676743495 L 2502.998795456204,1999.9509323256505 L 2502.993980182874,1999.8529151853204 L 2502.984361236634,1999.7552523852087 L 2502.969961790364,1999.6581792035186 L 2502.950816533592,1999.5619294980675 L 2502.9269715889222,1999.4667351428375 L 2502.9129688989333,1999.420574460204 L 2502.908240769144,1999.3725689528485 L 2502.893841322874,1999.2754957711586 L 2502.8746960661083,1999.1792460657311 L 2502.850851121438,1999.0840517104912 L 2502.8223639334255,1998.9901420369943 L 2502.7893031302056,1998.8977432818842 L 2502.7517483581532,1998.8070780418602 L 2502.7097900899935,1998.7183647374004 L 2502.663529406832,1998.6318170865693 L 2502.6130777547814,1998.5476435903793 L 2502.5585566763116,1998.4660470301558 L 2502.5000975173716,1998.3872239790057 L 2502.469495790204,1998.3499356665602 L 2502.446756655574,1998.3073937378692 L 2502.3963050035336,1998.2232202416692 L 2502.3417839249555,1998.141623681277 L 2502.2833247660155,1998.062800630137 L 2502.2210683598714,1997.986940979766 L 2502.1551646876915,1997.914227482746 L 2502.0857725172527,1997.8448353123074 L 2502.0130590202325,1997.7789316401274 L 2501.937199369864,1997.7166752339854 L 2501.8583763187244,1997.6582160750454 L 2501.776779758331,1997.6036949964664 L 2501.692606262131,1997.5532433444264 L 2501.650064333441,1997.530504209797 L 2501.6127760209943,1997.4999024826284 L 2501.533952969844,1997.4414433236884 L 2501.4523564096207,1997.386922245218 L 2501.3681829134307,1997.336470593168 L 2501.281635262599,1997.2902099100065 L 2501.192921958139,1997.2482516418465 L 2501.1022567181158,1997.2106968697947 L 2501.0098579630057,1997.1776360665747 L 2500.9159482895097,1997.149148878562 L 2500.8207539342698,1997.1253039338922 L 2500.7245042288405,1997.106158677126 L 2500.627431047151,1997.091759230856 L 2500.5794255397964,1997.087031101067 L 2500.533264857164,1997.0730284110782 L 2500.438070501934,1997.049183466408 L 2500.3418207964805,1997.030038209636 L 2500.244747614791,1997.015638763366 L 2500.1470848146796,1997.006019817126 L 2500.0490676743493,1997.001204543796 L 2499.9509323256507,1997.001204543796 L 2499.8529151853204,1997.006019817126 L 2499.755252385209,1997.015638763366 L 2499.6581792035195,1997.030038209636 L 2499.561929498066,1997.049183466408 L 2499.466735142836,1997.0730284110782 L 2499.4205744602036,1997.087031101067 L 2499.372568952849,1997.091759230856 L 2499.2754957711595,1997.106158677126 L 2499.1792460657302,1997.1253039338922 L 2499.0840517104903,1997.149148878562 L 2498.9901420369943,1997.1776360665747 L 2498.8977432818842,1997.2106968697947 L 2498.807078041861,1997.2482516418465 L 2498.718364737401,1997.2902099100065 L 2498.6318170865693,1997.336470593168 L 2498.5476435903793,1997.386922245218 L 2498.466047030156,1997.4414433236884 L 2498.3872239790057,1997.4999024826284 L 2498.349935666559,1997.530504209797 L 2498.307393737869,1997.5532433444264 L 2498.223220241669,1997.6036949964664 L 2498.1416236812756,1997.6582160750454 L 2498.062800630136,1997.7166752339854 L 2497.9869409797675,1997.7789316401274 L 2497.9142274827473,1997.8448353123074 L 2497.8448353123085,1997.914227482746 L 2497.7789316401286,1997.986940979766 L 2497.7166752339845,1998.062800630137 L 2497.6582160750445,1998.141623681277 L 2497.6036949964664,1998.2232202416692 L 2497.553243344426,1998.3073937378692 L 2497.530504209796,1998.3499356665602 L 2497.4999024826284,1998.3872239790057 L 2497.4414433236884,1998.4660470301558 L 2497.3869222452186,1998.5476435903793 L 2497.336470593168,1998.6318170865693 L 2497.2902099100065,1998.7183647374004 L 2497.2482516418468,1998.8070780418602 L 2497.2106968697944,1998.8977432818842 L 2497.1776360665745,1998.9901420369943 L 2497.149148878562,1999.0840517104912 L 2497.1253039338917,1999.1792460657311 L 2497.106158677126,1999.2754957711586 L 2497.091759230856,1999.3725689528485 L 2497.0870311010667,1999.420574460204 L 2497.0730284110778,1999.4667351428375 z\" /></g></svg>"
      ],
      "text/plain": [
       "<shapely.geometry.polygon.Polygon at 0x7f37531c02b0>"
      ]
     },
     "execution_count": 319,
     "metadata": {},
     "output_type": "execute_result"
    }
   ],
   "source": [
    "rays.intersection(shape)"
   ]
  },
  {
   "cell_type": "code",
   "execution_count": 118,
   "id": "6298769b-9be9-4065-9dfd-ad4cfe070e2c",
   "metadata": {},
   "outputs": [],
   "source": [
    "grid = OccupancyGrid(0.05, x_cells=img_size[0], y_cells=img_size[1])\n",
    "grid._grid = img\n",
    "# grid.plot()\n",
    "# for cell in raycast:\n",
    "#     grid[tuple(cell)] = 100\n",
    "# grid.plot()\n"
   ]
  },
  {
   "cell_type": "code",
   "execution_count": 114,
   "id": "676a1ebf-6a71-441a-8776-2ade2e5f9b06",
   "metadata": {},
   "outputs": [],
   "source": [
    "raycast = raycast_in_every_direction(start_cell=(50, 50), available_cells=grid.get_empty_cells(), range_in_cells=1, squarify=False, outermost=False)"
   ]
  },
  {
   "cell_type": "code",
   "execution_count": 266,
   "id": "43414d62-3f01-48ce-9763-6b0f5cb89183",
   "metadata": {},
   "outputs": [
    {
     "data": {
      "image/svg+xml": [
       "<svg xmlns=\"http://www.w3.org/2000/svg\" xmlns:xlink=\"http://www.w3.org/1999/xlink\" width=\"100.0\" height=\"100.0\" viewBox=\"-2.062879409509726 -21.346339154800948 75.16799999999995 61.96799999999999\" preserveAspectRatio=\"xMinYMin meet\"><g transform=\"matrix(1,0,0,-1,0,19.27532169039809)\"><g><polyline fill=\"none\" stroke=\"#66cc99\" stroke-width=\"1.503359999999999\" points=\"32.92112059049024,37.23766084519904 26.92112059049024,37.23766084519904 26.92112059049024,33.88766084519904 26.52112059049024,33.88766084519904 26.52112059049024,37.23766084519904 18.12112059049024,37.23766084519904 18.12112059049024,33.88766084519904 17.72112059049024,33.88766084519904 17.72112059049024,37.23766084519904 1.321120590490227,37.23766084519904 1.321120590490227,20.43766084519903 14.37112059049024,20.43766084519903 14.37112059049024,20.03766084519904 13.82112059049024,20.03766084519904 13.82112059049024,19.43766084519903 13.42112059049024,19.43766084519903 13.42112059049024,20.03766084519904 11.42112059049024,20.03766084519904 11.42112059049024,16.03766084519905 13.42112059049024,16.03766084519905 13.42112059049024,16.63766084519903 13.82112059049024,16.63766084519903 13.82112059049024,16.03766084519905 14.17112059049025,16.03766084519905 14.17112059049025,15.63766084519903 7.721120590490227,15.63766084519903 7.721120590490227,16.03766084519905 11.02112059049024,16.03766084519905 11.02112059049024,20.03766084519904 1.321120590490227,20.03766084519904 1.321120590490227,16.03766084519905 4.721120590490227,16.03766084519905 4.721120590490227,15.63766084519903 1.321120590490227,15.63766084519904 1.321120590490227,2.437660845199042 17.52112059049024,2.437660845199042 17.52112059049024,15.63766084519903 17.17112059049024,15.63766084519903 17.17112059049024,16.03766084519905 18.27112059049024,16.03766084519905 18.27112059049024,15.63766084519903 17.92112059049024,15.63766084519903 17.92112059049024,0.0376608451990428 31.72112059049024,0.0376608451990428 31.72112059049024,3.037660845199043 32.12112059049025,3.037660845199043 32.12112059049025,2.437660845199042 34.52112059049024,2.437660845199042 34.52112059049023,12.03766084519904 32.12112059049025,12.03766084519904 32.12112059049025,11.43766084519904 31.72112059049024,11.43766084519904 31.72112059049024,15.63766084519903 21.27112059049025,15.63766084519903 21.27112059049025,16.03766084519905 34.92112059049025,16.03766084519905 34.92112059049024,15.23766084519903 34.52112059049023,15.23766084519903 34.52112059049023,15.63766084519903 32.12112059049025,15.63766084519903 32.12112059049025,12.43766084519904 34.52112059049023,12.43766084519904 34.52112059049023,12.83766084519904 34.92112059049024,12.83766084519904 34.92112059049024,7.637660845199042 43.92112059049024,7.637660845199044 43.92112059049024,16.03766084519905 53.72112059049024,16.03766084519905 53.72112059049024,21.83766084519902 54.12112059049024,21.83766084519902 54.12112059049024,16.03766084519905 56.62112059049024,16.03766084519905 56.62112059049024,15.28766084519904 56.22112059049024,15.28766084519904 56.22112059049024,15.63766084519903 49.92112059049023,15.63766084519903 49.92112059049023,15.28766084519904 49.52112059049025,15.28766084519904 49.52112059049025,15.63766084519903 44.32112059049024,15.63766084519903 44.32112059049024,7.637660845199044 49.52112059049025,7.637660845199044 49.52112059049025,12.28766084519904 49.92112059049023,12.28766084519904 49.92112059049023,7.637660845199044 56.22112059049024,7.637660845199044 56.22112059049024,12.28766084519904 56.62112059049024,12.28766084519904 56.62112059049024,7.637660845199044 57.07112059049024,7.637660845199044 57.07112059049024,7.037660845199043 44.32112059049024,7.037660845199043 44.32112059049024,-17.96233915480096 69.72112059049023,-17.96233915480096 69.72112059049023,7.037660845199043 60.67112059049024,7.037660845199043 60.67112059049024,7.637660845199044 69.72112059049023,7.637660845199044 69.72112059049023,37.23766084519904 39.52111905307681,37.23766084519904 33.32112059049024,31.03766084519901 33.32112059049024,20.03766084519904 32.67112059049024,20.03766084519904 32.67112059049024,20.43766084519903 32.92112059049024,20.43766084519903 32.92112059049024,30.13766084519904 26.92112059049024,30.13766084519904 26.92112059049024,20.43766084519903 29.87112059049024,20.43766084519903 29.87112059049024,20.03766084519904 25.92112059049024,20.03766084519904 25.92112059049024,20.43766084519903 26.52112059049024,20.43766084519903 26.52112059049024,22.63766084519904 18.12112059049024,22.63766084519904 18.12112059049024,20.43766084519903 18.72112059049026,20.43766084519903 18.72112059049026,20.03766084519904 17.37112059049024,20.03766084519904 17.37112059049024,20.43766084519903 17.72112059049024,20.43766084519903 17.72112059049024,30.88766084519904 18.12112059049024,30.88766084519904 18.12112059049024,30.53766084519904 20.82112059049026,30.53766084519904 20.82112059049026,30.13766084519904 18.12112059049024,30.13766084519904 18.12112059049024,23.03766084519903 26.52112059049024,23.03766084519903 26.52112059049024,30.13766084519904 23.82112059049024,30.13766084519904 23.82112059049024,30.53766084519904 26.52112059049024,30.53766084519904 26.52112059049024,30.88766084519904 26.92112059049024,30.88766084519904 26.92112059049024,30.53766084519904 32.92112059049024,30.53766084519904 32.92112059049024,37.23766084519904\" opacity=\"0.8\" /><polyline fill=\"none\" stroke=\"#66cc99\" stroke-width=\"1.503359999999999\" points=\"33.32112059049024,37.23766084519904 33.32112059049024,31.603346845199 38.95543459049026,37.23766084519904 33.32112059049024,37.23766084519904\" opacity=\"0.8\" /><polyline fill=\"none\" stroke=\"#66cc99\" stroke-width=\"1.503359999999999\" points=\"70.32112059049024,37.23766084519904 70.32112059049022,-18.56233915480095 43.72112059049024,-18.56233915480095 43.72112059049024,1.837660845199042 43.72112059049024,7.037660845199043 35.12112059049024,7.037660845199043 35.12112059049024,1.837660845199043 32.32112059049024,1.837660845199042 32.32112059049024,-0.5623391548009558 17.32112059049024,-0.5623391548009536 17.32112059049024,1.837660845199042 0.7211205904902727,1.837660845199042 0.7211205904902727,37.83766084519904 70.32112059049024,37.83766084519904 70.32112059049024,37.23766084519904\" opacity=\"0.8\" /></g></g></svg>"
      ],
      "text/plain": [
       "<shapely.geometry.multilinestring.MultiLineString at 0x7f375942c820>"
      ]
     },
     "execution_count": 266,
     "metadata": {},
     "output_type": "execute_result"
    }
   ],
   "source": [
    "wall_thickness = 0.1\n",
    "wall_height = 5\n",
    "world_name = \"rect_falop\"\n",
    "\n",
    "block_size = 1\n",
    "# Create a world generator to place\n",
    "# objects in the world\n",
    "world_generator = WorldGenerator()\n",
    "polygons = []\n",
    "layout = gpd.read_file(f\"{os.getcwd()}/files/small_house_clean.dxf\")\n",
    "wall_lines = layout.unary_union\n",
    "wall_lines"
   ]
  },
  {
   "cell_type": "code",
   "execution_count": 3,
   "id": "864324d4-4298-430d-b23c-a98d6e7542aa",
   "metadata": {},
   "outputs": [
    {
     "data": {
      "text/plain": [
       "SceneViewer(width=1311, height=713)"
      ]
     },
     "execution_count": 3,
     "metadata": {},
     "output_type": "execute_result"
    }
   ],
   "source": [
    "world_generator.world.add_model(\n",
    "    tag='ground_plane',\n",
    "    model=SimulationModel.from_gazebo_model('ground_plane'))\n",
    "     \n",
    "# # Retrieve the free space polygon where objects\n",
    "# # can be placed within the walls\n",
    "# free_space_polygon = world_generator.world.get_free_space_polygon(\n",
    "#     ground_plane_models=[walls_model.name],\n",
    "#     ignore_models=['ground_plane'])\n",
    "# # Add the workspace constraint to the\n",
    "# # generator\n",
    "# world_generator.add_constraint(\n",
    "#     name='room_workspace',\n",
    "#     type='workspace',\n",
    "#     frame='world',\n",
    "#     geometry_type='polygon',\n",
    "#     polygon=free_space_polygon\n",
    "# )\n",
    "\n",
    "# # Add constraint to place all object\n",
    "# # tangent to the ground\n",
    "# world_generator.add_constraint(\n",
    "#     name='tangent_to_ground_plane',\n",
    "#     type='tangent',\n",
    "#     frame='world',\n",
    "#     reference=dict(\n",
    "#         type='plane',\n",
    "#         args=dict(\n",
    "#             origin=[0, 0, 0],\n",
    "#             normal=[0, 0, 1]\n",
    "#         )\n",
    "#     )\n",
    "# )\n",
    "\n",
    "# orientation_dofs = ['yaw']\n",
    "# models = dict()\n",
    "# world_generator.add_asset(\n",
    "#     tag='box',\n",
    "#     description=dict(\n",
    "#         type='box',\n",
    "#         args=dict(\n",
    "#             size=\"__import__('numpy').random.uniform(1, 10, 3)\",\n",
    "#             name='cuboid',\n",
    "#             color='xkcd'\n",
    "#         )\n",
    "#     )\n",
    "# )\n",
    "# models['box'] = 120\n",
    "\n",
    "# # Add placement policy\n",
    "# placement_policy = dict(\n",
    "#     models=list(models.keys()),\n",
    "#     config=[\n",
    "#         dict(\n",
    "#             dofs=['x', 'y'],\n",
    "#             tag='workspace',\n",
    "#             workspace='room_workspace'\n",
    "#         ),\n",
    "#         dict(\n",
    "#             dofs=orientation_dofs,\n",
    "#             tag='uniform',\n",
    "#             mean=0,\n",
    "#             min=-3.141592653589793,\n",
    "#             max=3.141592653589793\n",
    "#         )\n",
    "#     ]\n",
    "# )\n",
    "\n",
    "# # Set local constraints\n",
    "# local_constraints = list()\n",
    "# for m in models:\n",
    "#     local_constraints.append(\n",
    "#         dict(model=m, constraint='tangent_to_ground_plane'))\n",
    "# # Place objects randomly on the free\n",
    "# # space within the walls\n",
    "# world_generator.add_engine(\n",
    "#     tag='placement_engine',\n",
    "#     engine_name='random_pose',\n",
    "#     models=list(models.keys()),\n",
    "#     max_num=models,\n",
    "#     model_picker='random',\n",
    "#     no_collision=True,\n",
    "#     min_distance=0.0,\n",
    "#     policies=[placement_policy],\n",
    "#     constraints=local_constraints\n",
    "# )\n",
    "# # Run placement engine\n",
    "# world_generator.run_engines(attach_models=True)\n",
    "    \n",
    "world_generator.world.name = world_name\n",
    "world_generator.world.show()"
   ]
  },
  {
   "cell_type": "code",
   "execution_count": 4,
   "id": "d559c999-fb95-4c9f-85ef-6071ebf7e02f",
   "metadata": {},
   "outputs": [
    {
     "name": "stdout",
     "output_type": "stream",
     "text": [
      "64\n",
      "World file: /home/agusmazzeo/.gazebo/worlds/rect_falop.world\n"
     ]
    }
   ],
   "source": [
    "import sys\n",
    "# Export world to file and walls model as Gazebo model\n",
    "export_models_dir = \"/home/agusmazzeo/.gazebo/models\"\n",
    "export_world_dir = \"/home/agusmazzeo/.gazebo/worlds\"\n",
    "add_custom_gazebo_resource_path(export_models_dir)\n",
    "print(sys.getsizeof(world_generator))\n",
    "\n",
    "full_world_filename = world_generator.export_world(\n",
    "    output_dir=export_world_dir,\n",
    "    filename=world_generator.world.name + '.world',\n",
    "    models_output_dir=export_models_dir,\n",
    "    with_default_sun=False,\n",
    "    overwrite=True)\n",
    "\n",
    "print('World file: {}'.format(full_world_filename))"
   ]
  },
  {
   "cell_type": "code",
   "execution_count": 1,
   "id": "6d5d70ff-6102-47c7-a106-0d48ceb61283",
   "metadata": {},
   "outputs": [
    {
     "name": "stdout",
     "output_type": "stream",
     "text": [
      "env: GAZEBO_MODEL_PATH=/home/ramiro/.gazebo/models\n"
     ]
    },
    {
     "name": "stderr",
     "output_type": "stream",
     "text": [
      "TopologyException: unable to assign free hole to a shell at -482.77292602758052 -12.632868238436229\n"
     ]
    },
    {
     "ename": "ValueError",
     "evalue": "No Shapely geometry can be created from null value",
     "output_type": "error",
     "traceback": [
      "\u001b[0;31m---------------------------------------------------------------------------\u001b[0m",
      "\u001b[0;31mValueError\u001b[0m                                Traceback (most recent call last)",
      "\u001b[0;32m/tmp/ipykernel_8201/2502116792.py\u001b[0m in \u001b[0;36m<module>\u001b[0;34m\u001b[0m\n\u001b[1;32m      7\u001b[0m \u001b[0mfiles_dir\u001b[0m \u001b[0;34m=\u001b[0m \u001b[0;34mf\"{base_dir}/files\"\u001b[0m\u001b[0;34m\u001b[0m\u001b[0;34m\u001b[0m\u001b[0m\n\u001b[1;32m      8\u001b[0m \u001b[0;34m\u001b[0m\u001b[0m\n\u001b[0;32m----> 9\u001b[0;31m \u001b[0mlayout_reader\u001b[0m \u001b[0;34m=\u001b[0m \u001b[0mLayoutReader\u001b[0m\u001b[0;34m(\u001b[0m\u001b[0mfile_name\u001b[0m\u001b[0;34m=\u001b[0m\u001b[0;34mf\"small_house_polygon\"\u001b[0m\u001b[0;34m,\u001b[0m \u001b[0mfile_extension\u001b[0m\u001b[0;34m=\u001b[0m\u001b[0;34m\"dxf\"\u001b[0m\u001b[0;34m,\u001b[0m \u001b[0mfiles_dir\u001b[0m\u001b[0;34m=\u001b[0m\u001b[0;34mf\"{files_dir}/\"\u001b[0m\u001b[0;34m)\u001b[0m\u001b[0;34m\u001b[0m\u001b[0;34m\u001b[0m\u001b[0m\n\u001b[0m\u001b[1;32m     10\u001b[0m \u001b[0mlayout_reader\u001b[0m\u001b[0;34m.\u001b[0m\u001b[0mcreate_gazebo_model\u001b[0m\u001b[0;34m(\u001b[0m\u001b[0moutput_file_dir\u001b[0m\u001b[0;34m=\u001b[0m\u001b[0;34m\"~/.gazebo\"\u001b[0m\u001b[0;34m,\u001b[0m \u001b[0mshow\u001b[0m\u001b[0;34m=\u001b[0m\u001b[0;32mTrue\u001b[0m\u001b[0;34m)\u001b[0m\u001b[0;34m\u001b[0m\u001b[0;34m\u001b[0m\u001b[0m\n",
      "\u001b[0;32m~/Documents/UTN/Proyecto/Frontier-Exploration-with-a-prior/src/FrontierExploration/preprocessing/layout/reader.py\u001b[0m in \u001b[0;36m__init__\u001b[0;34m(self, file_name, file_extension, files_dir)\u001b[0m\n\u001b[1;32m     33\u001b[0m         \u001b[0mself\u001b[0m\u001b[0;34m.\u001b[0m\u001b[0mlayout\u001b[0m \u001b[0;34m=\u001b[0m \u001b[0mgpd\u001b[0m\u001b[0;34m.\u001b[0m\u001b[0mread_file\u001b[0m\u001b[0;34m(\u001b[0m\u001b[0;34mf\"{files_dir}{file_name}.{file_extension}\"\u001b[0m\u001b[0;34m)\u001b[0m\u001b[0;34m\u001b[0m\u001b[0;34m\u001b[0m\u001b[0m\n\u001b[1;32m     34\u001b[0m         \u001b[0;31m# self.layout[\"geometry\"] = self.layout[\"geometry\"].apply(lambda x: x.buffer(0.3)) # buffer 30cm.\u001b[0m\u001b[0;34m\u001b[0m\u001b[0;34m\u001b[0m\u001b[0;34m\u001b[0m\u001b[0m\n\u001b[0;32m---> 35\u001b[0;31m         \u001b[0mbounds\u001b[0m \u001b[0;34m=\u001b[0m \u001b[0mself\u001b[0m\u001b[0;34m.\u001b[0m\u001b[0mlayout\u001b[0m\u001b[0;34m.\u001b[0m\u001b[0munary_union\u001b[0m\u001b[0;34m.\u001b[0m\u001b[0mbounds\u001b[0m\u001b[0;34m\u001b[0m\u001b[0;34m\u001b[0m\u001b[0m\n\u001b[0m\u001b[1;32m     36\u001b[0m         \u001b[0mtf_to_zero\u001b[0m \u001b[0;34m=\u001b[0m \u001b[0;34m[\u001b[0m\u001b[0;36m1\u001b[0m\u001b[0;34m,\u001b[0m \u001b[0;36m0\u001b[0m\u001b[0;34m,\u001b[0m \u001b[0;36m0\u001b[0m\u001b[0;34m,\u001b[0m \u001b[0;36m1\u001b[0m\u001b[0;34m,\u001b[0m \u001b[0;34m-\u001b[0m\u001b[0mbounds\u001b[0m\u001b[0;34m[\u001b[0m\u001b[0;36m0\u001b[0m\u001b[0;34m]\u001b[0m\u001b[0;34m,\u001b[0m \u001b[0;34m-\u001b[0m\u001b[0mbounds\u001b[0m\u001b[0;34m[\u001b[0m\u001b[0;36m1\u001b[0m\u001b[0;34m]\u001b[0m\u001b[0;34m]\u001b[0m\u001b[0;34m\u001b[0m\u001b[0;34m\u001b[0m\u001b[0m\n\u001b[1;32m     37\u001b[0m \u001b[0;34m\u001b[0m\u001b[0m\n",
      "\u001b[0;32m~/.local/lib/python3.7/site-packages/geopandas/base.py\u001b[0m in \u001b[0;36munary_union\u001b[0;34m(self)\u001b[0m\n\u001b[1;32m    726\u001b[0m         \u001b[0mPOLYGON\u001b[0m \u001b[0;34m(\u001b[0m\u001b[0;34m(\u001b[0m\u001b[0;36m0\u001b[0m \u001b[0;36m1\u001b[0m\u001b[0;34m,\u001b[0m \u001b[0;36m0\u001b[0m \u001b[0;36m2\u001b[0m\u001b[0;34m,\u001b[0m \u001b[0;36m2\u001b[0m \u001b[0;36m2\u001b[0m\u001b[0;34m,\u001b[0m \u001b[0;36m2\u001b[0m \u001b[0;36m0\u001b[0m\u001b[0;34m,\u001b[0m \u001b[0;36m1\u001b[0m \u001b[0;36m0\u001b[0m\u001b[0;34m,\u001b[0m \u001b[0;36m0\u001b[0m \u001b[0;36m0\u001b[0m\u001b[0;34m,\u001b[0m \u001b[0;36m0\u001b[0m \u001b[0;36m1\u001b[0m\u001b[0;34m)\u001b[0m\u001b[0;34m)\u001b[0m\u001b[0;34m\u001b[0m\u001b[0;34m\u001b[0m\u001b[0m\n\u001b[1;32m    727\u001b[0m         \"\"\"\n\u001b[0;32m--> 728\u001b[0;31m         \u001b[0;32mreturn\u001b[0m \u001b[0mself\u001b[0m\u001b[0;34m.\u001b[0m\u001b[0mgeometry\u001b[0m\u001b[0;34m.\u001b[0m\u001b[0mvalues\u001b[0m\u001b[0;34m.\u001b[0m\u001b[0munary_union\u001b[0m\u001b[0;34m(\u001b[0m\u001b[0;34m)\u001b[0m\u001b[0;34m\u001b[0m\u001b[0;34m\u001b[0m\u001b[0m\n\u001b[0m\u001b[1;32m    729\u001b[0m \u001b[0;34m\u001b[0m\u001b[0m\n\u001b[1;32m    730\u001b[0m     \u001b[0;31m#\u001b[0m\u001b[0;34m\u001b[0m\u001b[0;34m\u001b[0m\u001b[0;34m\u001b[0m\u001b[0m\n",
      "\u001b[0;32m~/.local/lib/python3.7/site-packages/geopandas/array.py\u001b[0m in \u001b[0;36munary_union\u001b[0;34m(self)\u001b[0m\n\u001b[1;32m    650\u001b[0m \u001b[0;34m\u001b[0m\u001b[0m\n\u001b[1;32m    651\u001b[0m     \u001b[0;32mdef\u001b[0m \u001b[0munary_union\u001b[0m\u001b[0;34m(\u001b[0m\u001b[0mself\u001b[0m\u001b[0;34m)\u001b[0m\u001b[0;34m:\u001b[0m\u001b[0;34m\u001b[0m\u001b[0;34m\u001b[0m\u001b[0m\n\u001b[0;32m--> 652\u001b[0;31m         \u001b[0;32mreturn\u001b[0m \u001b[0mvectorized\u001b[0m\u001b[0;34m.\u001b[0m\u001b[0munary_union\u001b[0m\u001b[0;34m(\u001b[0m\u001b[0mself\u001b[0m\u001b[0;34m.\u001b[0m\u001b[0mdata\u001b[0m\u001b[0;34m)\u001b[0m\u001b[0;34m\u001b[0m\u001b[0;34m\u001b[0m\u001b[0m\n\u001b[0m\u001b[1;32m    653\u001b[0m \u001b[0;34m\u001b[0m\u001b[0m\n\u001b[1;32m    654\u001b[0m     \u001b[0;31m#\u001b[0m\u001b[0;34m\u001b[0m\u001b[0;34m\u001b[0m\u001b[0;34m\u001b[0m\u001b[0m\n",
      "\u001b[0;32m~/.local/lib/python3.7/site-packages/geopandas/_vectorized.py\u001b[0m in \u001b[0;36munary_union\u001b[0;34m(data)\u001b[0m\n\u001b[1;32m    894\u001b[0m         \u001b[0mdata\u001b[0m \u001b[0;34m=\u001b[0m \u001b[0;34m[\u001b[0m\u001b[0mg\u001b[0m \u001b[0;32mfor\u001b[0m \u001b[0mg\u001b[0m \u001b[0;32min\u001b[0m \u001b[0mdata\u001b[0m \u001b[0;32mif\u001b[0m \u001b[0mg\u001b[0m \u001b[0;32mis\u001b[0m \u001b[0;32mnot\u001b[0m \u001b[0;32mNone\u001b[0m\u001b[0;34m]\u001b[0m\u001b[0;34m\u001b[0m\u001b[0;34m\u001b[0m\u001b[0m\n\u001b[1;32m    895\u001b[0m         \u001b[0;32mif\u001b[0m \u001b[0mdata\u001b[0m\u001b[0;34m:\u001b[0m\u001b[0;34m\u001b[0m\u001b[0;34m\u001b[0m\u001b[0m\n\u001b[0;32m--> 896\u001b[0;31m             \u001b[0;32mreturn\u001b[0m \u001b[0mshapely\u001b[0m\u001b[0;34m.\u001b[0m\u001b[0mops\u001b[0m\u001b[0;34m.\u001b[0m\u001b[0munary_union\u001b[0m\u001b[0;34m(\u001b[0m\u001b[0mdata\u001b[0m\u001b[0;34m)\u001b[0m\u001b[0;34m\u001b[0m\u001b[0;34m\u001b[0m\u001b[0m\n\u001b[0m\u001b[1;32m    897\u001b[0m         \u001b[0;32melse\u001b[0m\u001b[0;34m:\u001b[0m\u001b[0;34m\u001b[0m\u001b[0;34m\u001b[0m\u001b[0m\n\u001b[1;32m    898\u001b[0m             \u001b[0;32mreturn\u001b[0m \u001b[0;32mNone\u001b[0m\u001b[0;34m\u001b[0m\u001b[0;34m\u001b[0m\u001b[0m\n",
      "\u001b[0;32m~/.local/lib/python3.7/site-packages/shapely/ops.py\u001b[0m in \u001b[0;36munary_union\u001b[0;34m(self, geoms)\u001b[0m\n\u001b[1;32m    159\u001b[0m             \u001b[0msubs\u001b[0m\u001b[0;34m[\u001b[0m\u001b[0mi\u001b[0m\u001b[0;34m]\u001b[0m \u001b[0;34m=\u001b[0m \u001b[0mg\u001b[0m\u001b[0;34m.\u001b[0m\u001b[0m_geom\u001b[0m\u001b[0;34m\u001b[0m\u001b[0;34m\u001b[0m\u001b[0m\n\u001b[1;32m    160\u001b[0m         \u001b[0mcollection\u001b[0m \u001b[0;34m=\u001b[0m \u001b[0mlgeos\u001b[0m\u001b[0;34m.\u001b[0m\u001b[0mGEOSGeom_createCollection\u001b[0m\u001b[0;34m(\u001b[0m\u001b[0;36m6\u001b[0m\u001b[0;34m,\u001b[0m \u001b[0msubs\u001b[0m\u001b[0;34m,\u001b[0m \u001b[0mL\u001b[0m\u001b[0;34m)\u001b[0m\u001b[0;34m\u001b[0m\u001b[0;34m\u001b[0m\u001b[0m\n\u001b[0;32m--> 161\u001b[0;31m         \u001b[0;32mreturn\u001b[0m \u001b[0mgeom_factory\u001b[0m\u001b[0;34m(\u001b[0m\u001b[0mlgeos\u001b[0m\u001b[0;34m.\u001b[0m\u001b[0mmethods\u001b[0m\u001b[0;34m[\u001b[0m\u001b[0;34m'unary_union'\u001b[0m\u001b[0;34m]\u001b[0m\u001b[0;34m(\u001b[0m\u001b[0mcollection\u001b[0m\u001b[0;34m)\u001b[0m\u001b[0;34m)\u001b[0m\u001b[0;34m\u001b[0m\u001b[0;34m\u001b[0m\u001b[0m\n\u001b[0m\u001b[1;32m    162\u001b[0m \u001b[0;34m\u001b[0m\u001b[0m\n\u001b[1;32m    163\u001b[0m \u001b[0moperator\u001b[0m \u001b[0;34m=\u001b[0m \u001b[0mCollectionOperator\u001b[0m\u001b[0;34m(\u001b[0m\u001b[0;34m)\u001b[0m\u001b[0;34m\u001b[0m\u001b[0;34m\u001b[0m\u001b[0m\n",
      "\u001b[0;32m~/.local/lib/python3.7/site-packages/shapely/geometry/base.py\u001b[0m in \u001b[0;36mgeom_factory\u001b[0;34m(g, parent)\u001b[0m\n\u001b[1;32m     71\u001b[0m     \u001b[0;31m# Abstract geometry factory for use with topological methods below\u001b[0m\u001b[0;34m\u001b[0m\u001b[0;34m\u001b[0m\u001b[0;34m\u001b[0m\u001b[0m\n\u001b[1;32m     72\u001b[0m     \u001b[0;32mif\u001b[0m \u001b[0;32mnot\u001b[0m \u001b[0mg\u001b[0m\u001b[0;34m:\u001b[0m\u001b[0;34m\u001b[0m\u001b[0;34m\u001b[0m\u001b[0m\n\u001b[0;32m---> 73\u001b[0;31m         \u001b[0;32mraise\u001b[0m \u001b[0mValueError\u001b[0m\u001b[0;34m(\u001b[0m\u001b[0;34m\"No Shapely geometry can be created from null value\"\u001b[0m\u001b[0;34m)\u001b[0m\u001b[0;34m\u001b[0m\u001b[0;34m\u001b[0m\u001b[0m\n\u001b[0m\u001b[1;32m     74\u001b[0m     \u001b[0mob\u001b[0m \u001b[0;34m=\u001b[0m \u001b[0mBaseGeometry\u001b[0m\u001b[0;34m(\u001b[0m\u001b[0;34m)\u001b[0m\u001b[0;34m\u001b[0m\u001b[0;34m\u001b[0m\u001b[0m\n\u001b[1;32m     75\u001b[0m     \u001b[0mgeom_type\u001b[0m \u001b[0;34m=\u001b[0m \u001b[0mgeometry_type_name\u001b[0m\u001b[0;34m(\u001b[0m\u001b[0mg\u001b[0m\u001b[0;34m)\u001b[0m\u001b[0;34m\u001b[0m\u001b[0;34m\u001b[0m\u001b[0m\n",
      "\u001b[0;31mValueError\u001b[0m: No Shapely geometry can be created from null value"
     ]
    }
   ],
   "source": [
    "%env GAZEBO_MODEL_PATH=/home/ramiro/.gazebo/models\n",
    "\n",
    "import os\n",
    "from FrontierExploration.preprocessing.layout.reader import LayoutReader\n",
    "\n",
    "base_dir = os.getcwd()\n",
    "files_dir = f\"{base_dir}/files\"\n",
    "\n",
    "layout_reader = LayoutReader(file_name=f\"small_house_polygon\", file_extension=\"dxf\", files_dir=f\"{files_dir}/\")\n",
    "layout_reader.create_gazebo_model(output_file_dir=\"~/.gazebo\", show=True)"
   ]
  },
  {
   "cell_type": "code",
   "execution_count": 3,
   "id": "774497cb-0800-4690-be95-64d12684b3f2",
   "metadata": {},
   "outputs": [
    {
     "data": {
      "image/svg+xml": [
       "<svg xmlns=\"http://www.w3.org/2000/svg\" xmlns:xlink=\"http://www.w3.org/1999/xlink\" width=\"100.0\" height=\"100.0\" viewBox=\"-2.7839999999999985 -2.7839999999999985 75.16799999999995 61.96799999999999\" preserveAspectRatio=\"xMinYMin meet\"><g transform=\"matrix(1,0,0,-1,0,56.39999999999999)\"><g><polyline fill=\"none\" stroke=\"#66cc99\" stroke-width=\"1.503359999999999\" points=\"32.19999999999997,55.79999999999998 26.199999999999967,55.79999999999998 26.199999999999967,52.44999999999999 25.79999999999997,52.44999999999999 25.79999999999997,55.79999999999998 17.399999999999967,55.79999999999998 17.399999999999967,52.44999999999999 16.999999999999968,52.44999999999999 16.999999999999968,55.79999999999998 0.5999999999999543,55.79999999999998 0.5999999999999543,38.99999999999998 13.649999999999967,38.99999999999998 13.649999999999967,38.59999999999999 13.099999999999968,38.59999999999999 13.099999999999968,37.99999999999998 12.699999999999967,37.99999999999998 12.699999999999967,38.59999999999999 10.699999999999967,38.59999999999999 10.699999999999967,34.599999999999994 12.699999999999967,34.599999999999994 12.699999999999967,35.199999999999974 13.099999999999968,35.199999999999974 13.099999999999968,34.599999999999994 13.449999999999978,34.599999999999994 13.449999999999978,34.199999999999974 6.999999999999955,34.199999999999974 6.999999999999955,34.599999999999994 10.299999999999967,34.599999999999994 10.299999999999967,38.59999999999999 0.5999999999999543,38.59999999999999 0.5999999999999543,34.599999999999994 3.9999999999999547,34.599999999999994 3.9999999999999547,34.199999999999974 0.5999999999999543,34.19999999999999 0.5999999999999543,20.99999999999999 16.79999999999997,20.99999999999999 16.79999999999997,34.199999999999974 16.449999999999967,34.199999999999974 16.449999999999967,34.599999999999994 17.54999999999997,34.599999999999994 17.54999999999997,34.199999999999974 17.199999999999967,34.199999999999974 17.199999999999967,18.59999999999999 30.999999999999968,18.59999999999999 30.999999999999968,21.59999999999999 31.399999999999977,21.59999999999999 31.399999999999977,20.99999999999999 33.79999999999997,20.99999999999999 33.799999999999955,30.599999999999987 31.399999999999977,30.599999999999987 31.399999999999977,29.99999999999999 30.999999999999968,29.99999999999999 30.999999999999968,34.199999999999974 20.549999999999976,34.199999999999974 20.549999999999976,34.599999999999994 34.199999999999974,34.599999999999994 34.19999999999997,33.79999999999998 33.799999999999955,33.79999999999998 33.799999999999955,34.199999999999974 31.399999999999977,34.199999999999974 31.399999999999977,30.99999999999999 33.799999999999955,30.99999999999999 33.799999999999955,31.399999999999988 34.19999999999997,31.399999999999988 34.19999999999997,26.19999999999999 43.19999999999997,26.199999999999992 43.19999999999997,34.599999999999994 52.999999999999964,34.599999999999994 52.999999999999964,40.39999999999997 53.39999999999997,40.39999999999997 53.39999999999997,34.599999999999994 55.89999999999997,34.599999999999994 55.89999999999997,33.84999999999999 55.499999999999964,33.84999999999999 55.499999999999964,34.199999999999974 49.19999999999996,34.199999999999974 49.19999999999996,33.84999999999999 48.799999999999976,33.84999999999999 48.799999999999976,34.199999999999974 43.599999999999966,34.199999999999974 43.599999999999966,26.199999999999992 48.799999999999976,26.199999999999992 48.799999999999976,30.849999999999987 49.19999999999996,30.849999999999987 49.19999999999996,26.199999999999992 55.499999999999964,26.199999999999992 55.499999999999964,30.849999999999987 55.89999999999997,30.849999999999987 55.89999999999997,26.199999999999992 56.349999999999966,26.199999999999992 56.349999999999966,25.59999999999999 43.599999999999966,25.59999999999999 43.599999999999966,0.5999999999999872 68.99999999999996,0.5999999999999872 68.99999999999996,25.59999999999999 59.94999999999997,25.59999999999999 59.94999999999997,26.199999999999992 68.99999999999996,26.199999999999992 68.99999999999996,55.79999999999998 38.79999846258654,55.79999999999998 32.599999999999966,49.59999999999996 32.599999999999966,38.59999999999999 31.949999999999967,38.59999999999999 31.949999999999967,38.99999999999998 32.19999999999997,38.99999999999998 32.19999999999997,48.69999999999999 26.199999999999967,48.69999999999999 26.199999999999967,38.99999999999998 29.149999999999967,38.99999999999998 29.149999999999967,38.59999999999999 25.199999999999967,38.59999999999999 25.199999999999967,38.99999999999998 25.79999999999997,38.99999999999998 25.79999999999997,41.19999999999999 17.399999999999967,41.19999999999999 17.399999999999967,38.99999999999998 17.999999999999986,38.99999999999998 17.999999999999986,38.59999999999999 16.649999999999967,38.59999999999999 16.649999999999967,38.99999999999998 16.999999999999968,38.99999999999998 16.999999999999968,49.44999999999999 17.399999999999967,49.44999999999999 17.399999999999967,49.09999999999999 20.099999999999987,49.09999999999999 20.099999999999987,48.69999999999999 17.399999999999967,48.69999999999999 17.399999999999967,41.59999999999998 25.79999999999997,41.59999999999998 25.79999999999997,48.69999999999999 23.099999999999966,48.69999999999999 23.099999999999966,49.09999999999999 25.79999999999997,49.09999999999999 25.79999999999997,49.44999999999999 26.199999999999967,49.44999999999999 26.199999999999967,49.09999999999999 32.19999999999997,49.09999999999999 32.19999999999997,55.79999999999998\" opacity=\"0.8\" /><polyline fill=\"none\" stroke=\"#66cc99\" stroke-width=\"1.503359999999999\" points=\"32.599999999999966,55.79999999999998 32.599999999999966,50.16568599999995 38.23431399999999,55.79999999999998 32.599999999999966,55.79999999999998\" opacity=\"0.8\" /><polyline fill=\"none\" stroke=\"#66cc99\" stroke-width=\"1.503359999999999\" points=\"69.59999999999997,55.79999999999998 69.59999999999995,0.0 42.999999999999964,0.0 42.999999999999964,20.39999999999999 42.999999999999964,25.59999999999999 34.39999999999997,25.59999999999999 34.39999999999997,20.39999999999999 31.599999999999966,20.39999999999999 31.599999999999966,17.999999999999993 16.599999999999966,17.999999999999996 16.599999999999966,20.39999999999999 0.0,20.39999999999999 0.0,56.39999999999999 69.59999999999997,56.39999999999999 69.59999999999997,55.79999999999998\" opacity=\"0.8\" /></g></g></svg>"
      ],
      "text/plain": [
       "<shapely.geometry.multilinestring.MultiLineString at 0x7f0ff958e8b0>"
      ]
     },
     "execution_count": 3,
     "metadata": {},
     "output_type": "execute_result"
    }
   ],
   "source": [
    "layout_reader.layout.unary_union"
   ]
  },
  {
   "cell_type": "code",
   "execution_count": 11,
   "id": "3ba98c03-4b47-468d-a607-74bd865a78bb",
   "metadata": {},
   "outputs": [],
   "source": [
    "import matplotlib.pyplot as plt\n",
    "import geopandas as gpd"
   ]
  },
  {
   "cell_type": "code",
   "execution_count": 13,
   "id": "22509a20-94ee-499e-a237-417441ce588b",
   "metadata": {},
   "outputs": [
    {
     "data": {
      "text/plain": [
       "<AxesSubplot:>"
      ]
     },
     "execution_count": 13,
     "metadata": {},
     "output_type": "execute_result"
    },
    {
     "data": {
      "image/png": "[encoded data removed]",
      "text/plain": [
       "<Figure size 432x288 with 1 Axes>"
      ]
     },
     "metadata": {
      "needs_background": "light"
     },
     "output_type": "display_data"
    }
   ],
   "source": [
    " p = gpd.GeoSeries(layout_reader.layout.unary_union)\n",
    "p.plot()"
   ]
  }
 ],
 "metadata": {
  "kernelspec": {
   "display_name": "Python 3 (ipykernel)",
   "language": "python",
   "name": "python3"
  },
  "language_info": {
   "codemirror_mode": {
    "name": "ipython",
    "version": 3
   },
   "file_extension": ".py",
   "mimetype": "text/x-python",
   "name": "python",
   "nbconvert_exporter": "python",
   "pygments_lexer": "ipython3",
   "version": "3.7.13"
  }
 },
 "nbformat": 4,
 "nbformat_minor": 5
}
