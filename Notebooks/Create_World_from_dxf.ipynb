{
 "cells": [
  {
   "cell_type": "code",
   "execution_count": 1,
   "id": "95efa7fd-9d32-4e12-b828-4a24cd243720",
   "metadata": {},
   "outputs": [
    {
     "name": "stdout",
     "output_type": "stream",
     "text": [
      "env: GAZEBO_MODEL_PATH=/home/agusmazzeo/.gazebo/models\n"
     ]
    }
   ],
   "source": [
    "#!/usr/bin/env python\n",
    "# Copyright (c) 2020 - The Procedural Generation for Gazebo authors\n",
    "# For information on the respective copyright owner see the NOTICE file\n",
    "#\n",
    "# Licensed under the Apache License, Version 2.0 (the \"License\");\n",
    "# you may not use this file except in compliance with the License.\n",
    "# You may obtain a copy of the License at\n",
    "#\n",
    "#     http://www.apache.org/licenses/LICENSE-2.0\n",
    "#\n",
    "# Unless required by applicable law or agreed to in writing, software\n",
    "# distributed under the License is distributed on an \"AS IS\" BASIS,\n",
    "# WITHOUT WARRANTIES OR CONDITIONS OF ANY KIND, either express or implied.\n",
    "# See the License for the specific language governing permissions and\n",
    "# limitations under the License.\n",
    "%env GAZEBO_MODEL_PATH=/home/agusmazzeo/.gazebo/models\n",
    "import os\n",
    "from tqdm import tqdm\n",
    "import geopandas as gpd\n",
    "import argparse\n",
    "import datetime\n",
    "from pcg_gazebo.simulation import SimulationModel, \\\n",
    "    add_custom_gazebo_resource_path\n",
    "from pcg_gazebo.generators.creators import extrude\n",
    "from pcg_gazebo.generators.shapes import random_rectangles, \\\n",
    "    random_rectangle, random_points_to_triangulation, rectangle\n",
    "from pcg_gazebo.generators import WorldGenerator\n",
    "from shapely.geometry import shape, Polygon, MultiPolygon, box as Box, MultiLineString\n"
   ]
  },
  {
   "cell_type": "code",
   "execution_count": 6,
   "id": "43414d62-3f01-48ce-9763-6b0f5cb89183",
   "metadata": {},
   "outputs": [
    {
     "name": "stderr",
     "output_type": "stream",
     "text": [
      "100%|█████████████████████████████████████████████████████████| 3/3 [00:00<00:00, 71.85it/s]\n",
      "100%|█████████████████████████████████████████████████████████| 3/3 [00:01<00:00,  2.35it/s]"
     ]
    },
    {
     "name": "stdout",
     "output_type": "stream",
     "text": [
      "LINESTRING (32.92112059049024 37.23766084519904, 26.92112059049024 37.23766084519904, 26.92112059049024 33.88766084519904, 26.52112059049024 33.88766084519904, 26.52112059049024 37.23766084519904, 18.12112059049024 37.23766084519904, 18.12112059049024 33.88766084519904, 17.72112059049024 33.88766084519904, 17.72112059049024 37.23766084519904, 1.321120590490227 37.23766084519904, 1.321120590490227 20.43766084519903, 14.37112059049024 20.43766084519903, 14.37112059049024 20.03766084519904, 13.82112059049024 20.03766084519904, 13.82112059049024 19.43766084519903, 13.42112059049024 19.43766084519903, 13.42112059049024 20.03766084519904, 11.42112059049024 20.03766084519904, 11.42112059049024 16.03766084519905, 13.42112059049024 16.03766084519905, 13.42112059049024 16.63766084519903, 13.82112059049024 16.63766084519903, 13.82112059049024 16.03766084519905, 14.17112059049025 16.03766084519905, 14.17112059049025 15.63766084519903, 7.721120590490227 15.63766084519903, 7.721120590490227 16.03766084519905, 11.02112059049024 16.03766084519905, 11.02112059049024 20.03766084519904, 1.321120590490227 20.03766084519904, 1.321120590490227 16.03766084519905, 4.721120590490227 16.03766084519905, 4.721120590490227 15.63766084519903, 1.321120590490227 15.63766084519904, 1.321120590490227 2.437660845199042, 17.52112059049024 2.437660845199042, 17.52112059049024 15.63766084519903, 17.17112059049024 15.63766084519903, 17.17112059049024 16.03766084519905, 18.27112059049024 16.03766084519905, 18.27112059049024 15.63766084519903, 17.92112059049024 15.63766084519903, 17.92112059049024 0.0376608451990428, 31.72112059049024 0.0376608451990428, 31.72112059049024 3.037660845199043, 32.12112059049025 3.037660845199043, 32.12112059049025 2.437660845199042, 34.52112059049024 2.437660845199042, 34.52112059049023 12.03766084519904, 32.12112059049025 12.03766084519904, 32.12112059049025 11.43766084519904, 31.72112059049024 11.43766084519904, 31.72112059049024 15.63766084519903, 21.27112059049025 15.63766084519903, 21.27112059049025 16.03766084519905, 34.92112059049025 16.03766084519905, 34.92112059049024 15.23766084519903, 34.52112059049023 15.23766084519903, 34.52112059049023 15.63766084519903, 32.12112059049025 15.63766084519903, 32.12112059049025 12.43766084519904, 34.52112059049023 12.43766084519904, 34.52112059049023 12.83766084519904, 34.92112059049024 12.83766084519904, 34.92112059049024 7.637660845199042, 43.92112059049024 7.637660845199044, 43.92112059049024 16.03766084519905, 53.72112059049024 16.03766084519905, 53.72112059049024 21.83766084519902, 54.12112059049024 21.83766084519902, 54.12112059049024 16.03766084519905, 56.62112059049024 16.03766084519905, 56.62112059049024 15.28766084519904, 56.22112059049024 15.28766084519904, 56.22112059049024 15.63766084519903, 49.92112059049023 15.63766084519903, 49.92112059049023 15.28766084519904, 49.52112059049025 15.28766084519904, 49.52112059049025 15.63766084519903, 44.32112059049024 15.63766084519903, 44.32112059049024 7.637660845199044, 49.52112059049025 7.637660845199044, 49.52112059049025 12.28766084519904, 49.92112059049023 12.28766084519904, 49.92112059049023 7.637660845199044, 56.22112059049024 7.637660845199044, 56.22112059049024 12.28766084519904, 56.62112059049024 12.28766084519904, 56.62112059049024 7.637660845199044, 57.07112059049024 7.637660845199044, 57.07112059049024 7.037660845199043, 44.32112059049024 7.037660845199043, 44.32112059049024 -17.96233915480096, 69.72112059049023 -17.96233915480096, 69.72112059049023 7.037660845199043, 60.67112059049024 7.037660845199043, 60.67112059049024 7.637660845199044, 69.72112059049023 7.637660845199044, 69.72112059049023 37.23766084519904, 39.52111905307681 37.23766084519904, 33.32112059049024 31.03766084519901, 33.32112059049024 20.03766084519904, 32.67112059049024 20.03766084519904, 32.67112059049024 20.43766084519903, 32.92112059049024 20.43766084519903, 32.92112059049024 30.13766084519904, 26.92112059049024 30.13766084519904, 26.92112059049024 20.43766084519903, 29.87112059049024 20.43766084519903, 29.87112059049024 20.03766084519904, 25.92112059049024 20.03766084519904, 25.92112059049024 20.43766084519903, 26.52112059049024 20.43766084519903, 26.52112059049024 22.63766084519904, 18.12112059049024 22.63766084519904, 18.12112059049024 20.43766084519903, 18.72112059049026 20.43766084519903, 18.72112059049026 20.03766084519904, 17.37112059049024 20.03766084519904, 17.37112059049024 20.43766084519903, 17.72112059049024 20.43766084519903, 17.72112059049024 30.88766084519904, 18.12112059049024 30.88766084519904, 18.12112059049024 30.53766084519904, 20.82112059049026 30.53766084519904, 20.82112059049026 30.13766084519904, 18.12112059049024 30.13766084519904, 18.12112059049024 23.03766084519903, 26.52112059049024 23.03766084519903, 26.52112059049024 30.13766084519904, 23.82112059049024 30.13766084519904, 23.82112059049024 30.53766084519904, 26.52112059049024 30.53766084519904, 26.52112059049024 30.88766084519904, 26.92112059049024 30.88766084519904, 26.92112059049024 30.53766084519904, 32.92112059049024 30.53766084519904, 32.92112059049024 37.23766084519904)\n"
     ]
    },
    {
     "name": "stderr",
     "output_type": "stream",
     "text": [
      "\n",
      "/home/agusmazzeo/.local/lib/python3.7/site-packages/ipykernel_launcher.py:33: ShapelyDeprecationWarning: __getitem__ for multi-part geometries is deprecated and will be removed in Shapely 2.0. Use the `geoms` property to access the constituent parts of a multi-part geometry.\n"
     ]
    }
   ],
   "source": [
    "wall_thickness = 0.1\n",
    "wall_height = 5\n",
    "world_name = \"rect_falop\"\n",
    "\n",
    "block_size = 1\n",
    "# Create a world generator to place\n",
    "# objects in the world\n",
    "world_generator = WorldGenerator()\n",
    "polygons = []\n",
    "layout = gpd.read_file(f\"{os.getcwd()}/files/small_house_clean.dxf\")\n",
    "wall_lines = layout.unary_union\n",
    "# multi_poly = MultiPolygon(wall_lines)\n",
    "# Create the wall model based on the extruded\n",
    "# boundaries of the polygon\n",
    "walls_model_list = []\n",
    "for line in tqdm(wall_lines.geoms):  \n",
    "    box = Box(*line.bounds)\n",
    "    walls_model_list.append(extrude(\n",
    "        polygon=line,\n",
    "        thickness=wall_thickness,\n",
    "        height=wall_height,\n",
    "        pose=[box.centroid.x-30, box.centroid.y-10, wall_height / 2., 0, 0, 0],\n",
    "        extrude_boundaries=False,\n",
    "        color='xkcd'))\n",
    "counter = 0\n",
    "for model in tqdm(walls_model_list):\n",
    "    counter += 1\n",
    "    model.name = str(counter) + '_wall'\n",
    "    world_generator.world.add_model(\n",
    "    tag=model.name,\n",
    "    model=model)\n",
    "\n",
    "print(wall_lines[0])"
   ]
  },
  {
   "cell_type": "code",
   "execution_count": 3,
   "id": "864324d4-4298-430d-b23c-a98d6e7542aa",
   "metadata": {},
   "outputs": [
    {
     "data": {
      "text/plain": [
       "SceneViewer(width=1311, height=713)"
      ]
     },
     "execution_count": 3,
     "metadata": {},
     "output_type": "execute_result"
    }
   ],
   "source": [
    "world_generator.world.add_model(\n",
    "    tag='ground_plane',\n",
    "    model=SimulationModel.from_gazebo_model('ground_plane'))\n",
    "\n",
    "# # Retrieve the free space polygon where objects\n",
    "# # can be placed within the walls\n",
    "# free_space_polygon = world_generator.world.get_free_space_polygon(\n",
    "#     ground_plane_models=[walls_model.name],\n",
    "#     ignore_models=['ground_plane'])\n",
    "# # Add the workspace constraint to the\n",
    "# # generator\n",
    "# world_generator.add_constraint(\n",
    "#     name='room_workspace',\n",
    "#     type='workspace',\n",
    "#     frame='world',\n",
    "#     geometry_type='polygon',\n",
    "#     polygon=free_space_polygon\n",
    "# )\n",
    "\n",
    "# # Add constraint to place all object\n",
    "# # tangent to the ground\n",
    "# world_generator.add_constraint(\n",
    "#     name='tangent_to_ground_plane',\n",
    "#     type='tangent',\n",
    "#     frame='world',\n",
    "#     reference=dict(\n",
    "#         type='plane',\n",
    "#         args=dict(\n",
    "#             origin=[0, 0, 0],\n",
    "#             normal=[0, 0, 1]\n",
    "#         )\n",
    "#     )\n",
    "# )\n",
    "\n",
    "# orientation_dofs = ['yaw']\n",
    "# models = dict()\n",
    "# world_generator.add_asset(\n",
    "#     tag='box',\n",
    "#     description=dict(\n",
    "#         type='box',\n",
    "#         args=dict(\n",
    "#             size=\"__import__('numpy').random.uniform(1, 10, 3)\",\n",
    "#             name='cuboid',\n",
    "#             color='xkcd'\n",
    "#         )\n",
    "#     )\n",
    "# )\n",
    "# models['box'] = 120\n",
    "\n",
    "# # Add placement policy\n",
    "# placement_policy = dict(\n",
    "#     models=list(models.keys()),\n",
    "#     config=[\n",
    "#         dict(\n",
    "#             dofs=['x', 'y'],\n",
    "#             tag='workspace',\n",
    "#             workspace='room_workspace'\n",
    "#         ),\n",
    "#         dict(\n",
    "#             dofs=orientation_dofs,\n",
    "#             tag='uniform',\n",
    "#             mean=0,\n",
    "#             min=-3.141592653589793,\n",
    "#             max=3.141592653589793\n",
    "#         )\n",
    "#     ]\n",
    "# )\n",
    "\n",
    "# # Set local constraints\n",
    "# local_constraints = list()\n",
    "# for m in models:\n",
    "#     local_constraints.append(\n",
    "#         dict(model=m, constraint='tangent_to_ground_plane'))\n",
    "# # Place objects randomly on the free\n",
    "# # space within the walls\n",
    "# world_generator.add_engine(\n",
    "#     tag='placement_engine',\n",
    "#     engine_name='random_pose',\n",
    "#     models=list(models.keys()),\n",
    "#     max_num=models,\n",
    "#     model_picker='random',\n",
    "#     no_collision=True,\n",
    "#     min_distance=0.0,\n",
    "#     policies=[placement_policy],\n",
    "#     constraints=local_constraints\n",
    "# )\n",
    "# # Run placement engine\n",
    "# world_generator.run_engines(attach_models=True)\n",
    "    \n",
    "world_generator.world.name = world_name\n",
    "world_generator.world.show()"
   ]
  },
  {
   "cell_type": "code",
   "execution_count": 4,
   "id": "d559c999-fb95-4c9f-85ef-6071ebf7e02f",
   "metadata": {},
   "outputs": [
    {
     "name": "stdout",
     "output_type": "stream",
     "text": [
      "64\n",
      "World file: /home/agusmazzeo/.gazebo/worlds/rect_falop.world\n"
     ]
    }
   ],
   "source": [
    "import sys\n",
    "# Export world to file and walls model as Gazebo model\n",
    "export_models_dir = \"/home/agusmazzeo/.gazebo/models\"\n",
    "export_world_dir = \"/home/agusmazzeo/.gazebo/worlds\"\n",
    "add_custom_gazebo_resource_path(export_models_dir)\n",
    "print(sys.getsizeof(world_generator))\n",
    "\n",
    "full_world_filename = world_generator.export_world(\n",
    "    output_dir=export_world_dir,\n",
    "    filename=world_generator.world.name + '.world',\n",
    "    models_output_dir=export_models_dir,\n",
    "    with_default_sun=False,\n",
    "    overwrite=True)\n",
    "\n",
    "print('World file: {}'.format(full_world_filename))"
   ]
  },
  {
   "cell_type": "code",
   "execution_count": 5,
   "id": "6d5d70ff-6102-47c7-a106-0d48ceb61283",
   "metadata": {},
   "outputs": [
    {
     "name": "stdout",
     "output_type": "stream",
     "text": [
      "env: GAZEBO_MODEL_PATH=/home/agusmazzeo/.gazebo/models\n"
     ]
    },
    {
     "ename": "NameError",
     "evalue": "name 'LayoutReader' is not defined",
     "output_type": "error",
     "traceback": [
      "\u001b[0;31m---------------------------------------------------------------------------\u001b[0m",
      "\u001b[0;31mNameError\u001b[0m                                 Traceback (most recent call last)",
      "\u001b[0;32m/tmp/ipykernel_12150/1878830667.py\u001b[0m in \u001b[0;36m<module>\u001b[0;34m\u001b[0m\n\u001b[1;32m      6\u001b[0m \u001b[0mfiles_dir\u001b[0m \u001b[0;34m=\u001b[0m \u001b[0;34mf\"{base_dir}/files\"\u001b[0m\u001b[0;34m\u001b[0m\u001b[0;34m\u001b[0m\u001b[0m\n\u001b[1;32m      7\u001b[0m \u001b[0;34m\u001b[0m\u001b[0m\n\u001b[0;32m----> 8\u001b[0;31m \u001b[0mlayout_reader\u001b[0m \u001b[0;34m=\u001b[0m \u001b[0mLayoutReader\u001b[0m\u001b[0;34m(\u001b[0m\u001b[0mfile_name\u001b[0m\u001b[0;34m=\u001b[0m\u001b[0;34mf\"small_house_clean\"\u001b[0m\u001b[0;34m,\u001b[0m \u001b[0mfile_extension\u001b[0m\u001b[0;34m=\u001b[0m\u001b[0;34m\"dxf\"\u001b[0m\u001b[0;34m,\u001b[0m \u001b[0mfiles_dir\u001b[0m\u001b[0;34m=\u001b[0m\u001b[0;34mf\"{files_dir}/\"\u001b[0m\u001b[0;34m)\u001b[0m\u001b[0;34m\u001b[0m\u001b[0;34m\u001b[0m\u001b[0m\n\u001b[0m\u001b[1;32m      9\u001b[0m \u001b[0mlayout_reader\u001b[0m\u001b[0;34m.\u001b[0m\u001b[0mcreate_gazebo_model\u001b[0m\u001b[0;34m(\u001b[0m\u001b[0moutput_file_dir\u001b[0m\u001b[0;34m=\u001b[0m\u001b[0;34m\"/home/agusmazzeo/.gazebo\"\u001b[0m\u001b[0;34m,\u001b[0m \u001b[0mshow\u001b[0m\u001b[0;34m=\u001b[0m\u001b[0;32mTrue\u001b[0m\u001b[0;34m)\u001b[0m\u001b[0;34m\u001b[0m\u001b[0;34m\u001b[0m\u001b[0m\n",
      "\u001b[0;31mNameError\u001b[0m: name 'LayoutReader' is not defined"
     ]
    }
   ],
   "source": [
    "%env GAZEBO_MODEL_PATH=/home/agusmazzeo/.gazebo/models\n",
    "\n",
    "import os\n",
    "\n",
    "base_dir = os.getcwd()\n",
    "files_dir = f\"{base_dir}/files\"\n",
    "\n",
    "layout_reader = LayoutReader(file_name=f\"small_house_clean\", file_extension=\"dxf\", files_dir=f\"{files_dir}/\")\n",
    "layout_reader.create_gazebo_model(output_file_dir=\"/home/agusmazzeo/.gazebo\", show=True)"
   ]
  }
 ],
 "metadata": {
  "kernelspec": {
   "display_name": "Python 3 (ipykernel)",
   "language": "python",
   "name": "python3"
  },
  "language_info": {
   "codemirror_mode": {
    "name": "ipython",
    "version": 3
   },
   "file_extension": ".py",
   "mimetype": "text/x-python",
   "name": "python",
   "nbconvert_exporter": "python",
   "pygments_lexer": "ipython3",
   "version": "3.7.13"
  }
 },
 "nbformat": 4,
 "nbformat_minor": 5
}
