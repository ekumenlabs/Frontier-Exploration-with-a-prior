{
 "cells": [
  {
   "cell_type": "markdown",
   "metadata": {
    "id": "UGPNtbeuQZVF"
   },
   "source": [
    "# CAD layout reading"
   ]
  },
  {
   "cell_type": "markdown",
   "metadata": {
    "id": "MaDgf6dhUuwt"
   },
   "source": [
    "Tests done on [floor plan](https://drive.google.com/file/d/1Xw-cIvnZdvCMmrIfRs5FkywCXhw-ASOz/view?usp=sharing) which can be visualized using AutoCAD, [ShareCAD](https://sharecad.org/) or [Autodesk Viewer](https://viewer.autodesk.com/)"
   ]
  },
  {
   "cell_type": "code",
   "execution_count": null,
   "metadata": {
    "colab": {
     "base_uri": "https://localhost:8080/"
    },
    "id": "g-aCfjzFomxO",
    "outputId": "1886bc6d-9a08-42a1-ace3-1a113c5ff6ef"
   },
   "outputs": [],
   "source": [
    "# Uncomment if its not run inside the repository\n",
    "# !python -m pip install --no-cache git+https://github.com/ekumenlabs/Frontier-Exploration-with-a-prior.git@master"
   ]
  },
  {
   "cell_type": "code",
   "execution_count": 1,
   "metadata": {},
   "outputs": [],
   "source": [
    "import os\n",
    "\n",
    "base_dir = os.getcwd()\n",
    "files_dir = f\"{base_dir}/files\""
   ]
  },
  {
   "cell_type": "markdown",
   "metadata": {
    "id": "Uz0WeR-8Hs_f"
   },
   "source": [
    "## Layout reading in `.dxf` format"
   ]
  },
  {
   "cell_type": "code",
   "execution_count": 3,
   "metadata": {
    "id": "UJK0amD-R7ZL"
   },
   "outputs": [
    {
     "name": "stdout",
     "output_type": "stream",
     "text": [
      "here\n"
     ]
    }
   ],
   "source": [
    "from FrontierExploration.preprocessing.layout.reader import LayoutReader, OccupancyDataFrame\n",
    "\n",
    "layout_reader = LayoutReader(file_name=f\"small_house_polygon\", file_extension=\"dxf\", files_dir=f\"{files_dir}/\")\n",
    "# layout_reader.clean_and_save(f\"{files_dir}/planta_murguiondo.dxf\", f\"{files_dir}/planta_murguiondo_clean.dxf\", [\"Muro\", \"Vereda\", \"Cordón\"], [\"LINE\", \"ARC\"])\n",
    "layout_reader.create_clean_dxf(f\"{files_dir}/small_house_polygon_clean.dxf\", [\"GAZEBO\"], [\"LINE\", \"LWPOLYLINE\"])"
   ]
  },
  {
   "cell_type": "markdown",
   "metadata": {
    "id": "AdRGNEETGNA1"
   },
   "source": [
    "## Layout conversion to occupancy grid\n",
    "Once the CAD layout has been uploaded, we will create the occupancy grid, defined by squares of `square_size` size, which will be suporposed over the obtained layout.\n",
    "Having done this, the grid squares that touch the layout lines, will be the ones defined as **occupied blocks** in the occupancy grid."
   ]
  },
  {
   "cell_type": "code",
   "execution_count": null,
   "metadata": {
    "colab": {
     "base_uri": "https://localhost:8080/",
     "height": 1000
    },
    "id": "OZQ3ig-DF0s8",
    "outputId": "0d986ca8-8d7b-4e38-adac-9f61d1798414"
   },
   "outputs": [],
   "source": [
    "# occupancy_df = OccupancyDataFrame(f\"{files_dir}/planta_murguiondo_clean.dxf\", square_size=500)\n",
    "occupancy_df = OccupancyDataFrame(f\"{files_dir}/small_house_clean.dxf\", square_size=0.1)\n",
    "occupancy_df.plot(figsize=(20,20))"
   ]
  },
  {
   "cell_type": "code",
   "execution_count": null,
   "metadata": {
    "colab": {
     "base_uri": "https://localhost:8080/",
     "height": 455
    },
    "id": "foNIwcufH-xd",
    "outputId": "e4205afc-f99a-4520-865d-de6b5a830622"
   },
   "outputs": [],
   "source": [
    "occupancy_df.occupancy_df.index"
   ]
  },
  {
   "cell_type": "code",
   "execution_count": null,
   "metadata": {
    "colab": {
     "base_uri": "https://localhost:8080/",
     "height": 1000
    },
    "id": "-XEA8GPkyo6O",
    "outputId": "b8de2975-3c20-4ebd-c2b1-ba6009089cd7"
   },
   "outputs": [],
   "source": [
    "grid = occupancy_df.get_occupancy_grid()\n",
    "grid.plot()"
   ]
  },
  {
   "cell_type": "code",
   "execution_count": null,
   "metadata": {},
   "outputs": [],
   "source": [
    "import pickle\n",
    "\n",
    "# output_file = f\"{files_dir}/planta_murguiondo_grid.pkl\"\n",
    "output_file = f\"{files_dir}/small_house_grid.pkl\"\n",
    "\n",
    "with open(output_file, \"wb\") as file:\n",
    "    pickle.dump(grid, file)"
   ]
  },
  {
   "cell_type": "code",
   "execution_count": null,
   "metadata": {},
   "outputs": [],
   "source": [
    "# import geopandas as gpd\n",
    "# from shapely.geometry import shape, mapping, Polygon\n",
    "\n",
    "# layout = gpd.read_file(f\"{os.getcwd()}/files/small_house_clean.dxf\")\n",
    "# # layout.plot(figsize=(100,100))\n",
    "# x, y = layout.convex_hull[0].coords.xy\n",
    "# print(x[0])\n",
    "# print(y)"
   ]
  }
 ],
 "metadata": {
  "colab": {
   "collapsed_sections": [],
   "name": "DXFsandbox.ipynb",
   "provenance": []
  },
  "kernelspec": {
   "display_name": "Python 3 (ipykernel)",
   "language": "python",
   "name": "python3"
  },
  "language_info": {
   "codemirror_mode": {
    "name": "ipython",
    "version": 3
   },
   "file_extension": ".py",
   "mimetype": "text/x-python",
   "name": "python",
   "nbconvert_exporter": "python",
   "pygments_lexer": "ipython3",
   "version": "3.8.10"
  }
 },
 "nbformat": 4,
 "nbformat_minor": 4
}
