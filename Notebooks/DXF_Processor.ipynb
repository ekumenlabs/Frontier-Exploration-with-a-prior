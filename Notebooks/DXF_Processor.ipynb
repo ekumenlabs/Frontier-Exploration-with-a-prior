{
 "cells": [
  {
   "cell_type": "markdown",
   "metadata": {
    "id": "UGPNtbeuQZVF"
   },
   "source": [
    "# CAD layout reading"
   ]
  },
  {
   "cell_type": "markdown",
   "metadata": {
    "id": "MaDgf6dhUuwt"
   },
   "source": [
    "Tests done on [floor plan](https://drive.google.com/file/d/1Xw-cIvnZdvCMmrIfRs5FkywCXhw-ASOz/view?usp=sharing) which can be visualized using AutoCAD, [ShareCAD](https://sharecad.org/) or [Autodesk Viewer](https://viewer.autodesk.com/)"
   ]
  },
  {
   "cell_type": "code",
   "execution_count": 1,
   "metadata": {
    "colab": {
     "base_uri": "https://localhost:8080/"
    },
    "id": "g-aCfjzFomxO",
    "outputId": "1886bc6d-9a08-42a1-ace3-1a113c5ff6ef"
   },
   "outputs": [],
   "source": [
    "# Uncomment if its not run inside the repository\n",
    "# !python -m pip install --no-cache git+https://github.com/ekumenlabs/Frontier-Exploration-with-a-prior.git@master"
   ]
  },
  {
   "cell_type": "code",
   "execution_count": 2,
   "metadata": {},
   "outputs": [],
   "source": [
    "import os\n",
    "\n",
    "base_dir = os.getcwd()\n",
    "files_dir = f\"{base_dir}/files\""
   ]
  },
  {
   "cell_type": "markdown",
   "metadata": {
    "id": "Uz0WeR-8Hs_f"
   },
   "source": [
    "## Layout reading in `.dxf` format"
   ]
  },
  {
   "cell_type": "code",
   "execution_count": 4,
   "metadata": {
    "id": "UJK0amD-R7ZL"
   },
   "outputs": [
    {
     "ename": "FileNotFoundError",
     "evalue": "[Errno 2] No such file or directory: 'small_house_polygon.dxf'",
     "output_type": "error",
     "traceback": [
      "\u001b[0;31m---------------------------------------------------------------------------\u001b[0m",
      "\u001b[0;31mFileNotFoundError\u001b[0m                         Traceback (most recent call last)",
      "\u001b[0;32m/tmp/ipykernel_11575/913835317.py\u001b[0m in \u001b[0;36m<module>\u001b[0;34m\u001b[0m\n\u001b[1;32m      3\u001b[0m \u001b[0mlayout_reader\u001b[0m \u001b[0;34m=\u001b[0m \u001b[0mLayoutReader\u001b[0m\u001b[0;34m(\u001b[0m\u001b[0mfile_name\u001b[0m\u001b[0;34m=\u001b[0m\u001b[0;34mf\"small_house_polygon\"\u001b[0m\u001b[0;34m,\u001b[0m \u001b[0mfile_extension\u001b[0m\u001b[0;34m=\u001b[0m\u001b[0;34m\"dxf\"\u001b[0m\u001b[0;34m,\u001b[0m \u001b[0mfiles_dir\u001b[0m\u001b[0;34m=\u001b[0m\u001b[0;34mf\"{files_dir}/\"\u001b[0m\u001b[0;34m)\u001b[0m\u001b[0;34m\u001b[0m\u001b[0;34m\u001b[0m\u001b[0m\n\u001b[1;32m      4\u001b[0m \u001b[0;31m# layout_reader.clean_and_save(f\"{files_dir}/planta_murguiondo.dxf\", f\"{files_dir}/planta_murguiondo_clean.dxf\", [\"Muro\", \"Vereda\", \"Cordón\"], [\"LINE\", \"ARC\"])\u001b[0m\u001b[0;34m\u001b[0m\u001b[0;34m\u001b[0m\u001b[0;34m\u001b[0m\u001b[0m\n\u001b[0;32m----> 5\u001b[0;31m \u001b[0mlayout_reader\u001b[0m\u001b[0;34m.\u001b[0m\u001b[0mcreate_clean_dxf\u001b[0m\u001b[0;34m(\u001b[0m\u001b[0;34mf\"{files_dir}/small_house_clean.dxf\"\u001b[0m\u001b[0;34m,\u001b[0m \u001b[0;34m[\u001b[0m\u001b[0;34m\"GAZEBO\"\u001b[0m\u001b[0;34m]\u001b[0m\u001b[0;34m,\u001b[0m \u001b[0;34m[\u001b[0m\u001b[0;34m\"LINE\"\u001b[0m\u001b[0;34m,\u001b[0m \u001b[0;34m\"LWPOLYLINE\"\u001b[0m\u001b[0;34m]\u001b[0m\u001b[0;34m)\u001b[0m\u001b[0;34m\u001b[0m\u001b[0;34m\u001b[0m\u001b[0m\n\u001b[0m",
      "\u001b[0;32m~/Documents/UTN/Proyecto/Frontier-Exploration-with-a-prior/src/FrontierExploration/preprocessing/layout/reader.py\u001b[0m in \u001b[0;36mcreate_clean_dxf\u001b[0;34m(self, output_file_dir, layers, entity_types)\u001b[0m\n\u001b[1;32m     74\u001b[0m \u001b[0;34m\u001b[0m\u001b[0m\n\u001b[1;32m     75\u001b[0m     \u001b[0;32mdef\u001b[0m \u001b[0mcreate_clean_dxf\u001b[0m\u001b[0;34m(\u001b[0m\u001b[0mself\u001b[0m\u001b[0;34m,\u001b[0m \u001b[0moutput_file_dir\u001b[0m\u001b[0;34m:\u001b[0m \u001b[0mstr\u001b[0m\u001b[0;34m,\u001b[0m \u001b[0mlayers\u001b[0m\u001b[0;34m:\u001b[0m \u001b[0mList\u001b[0m\u001b[0;34m[\u001b[0m\u001b[0mstr\u001b[0m\u001b[0;34m]\u001b[0m\u001b[0;34m,\u001b[0m \u001b[0mentity_types\u001b[0m\u001b[0;34m:\u001b[0m \u001b[0mOptional\u001b[0m\u001b[0;34m[\u001b[0m\u001b[0mList\u001b[0m\u001b[0;34m[\u001b[0m\u001b[0mstr\u001b[0m\u001b[0;34m]\u001b[0m\u001b[0;34m]\u001b[0m\u001b[0;34m=\u001b[0m\u001b[0;34m[\u001b[0m\u001b[0;34m\"*\"\u001b[0m\u001b[0;34m]\u001b[0m\u001b[0;34m)\u001b[0m\u001b[0;34m:\u001b[0m\u001b[0;34m\u001b[0m\u001b[0;34m\u001b[0m\u001b[0m\n\u001b[0;32m---> 76\u001b[0;31m       \u001b[0mmsp\u001b[0m \u001b[0;34m=\u001b[0m \u001b[0mezdxf\u001b[0m\u001b[0;34m.\u001b[0m\u001b[0mreadfile\u001b[0m\u001b[0;34m(\u001b[0m\u001b[0;34mf\"{self.file_name}.{self.file_extension}\"\u001b[0m\u001b[0;34m)\u001b[0m\u001b[0;34m.\u001b[0m\u001b[0mmodelspace\u001b[0m\u001b[0;34m(\u001b[0m\u001b[0;34m)\u001b[0m\u001b[0;34m\u001b[0m\u001b[0;34m\u001b[0m\u001b[0m\n\u001b[0m\u001b[1;32m     77\u001b[0m       \u001b[0mclean_doc\u001b[0m \u001b[0;34m=\u001b[0m \u001b[0mezdxf\u001b[0m\u001b[0;34m.\u001b[0m\u001b[0mnew\u001b[0m\u001b[0;34m(\u001b[0m\u001b[0;34m'R2010'\u001b[0m\u001b[0;34m)\u001b[0m\u001b[0;34m\u001b[0m\u001b[0;34m\u001b[0m\u001b[0m\n\u001b[1;32m     78\u001b[0m       \u001b[0mclean_msp\u001b[0m \u001b[0;34m=\u001b[0m \u001b[0mclean_doc\u001b[0m\u001b[0;34m.\u001b[0m\u001b[0mmodelspace\u001b[0m\u001b[0;34m(\u001b[0m\u001b[0;34m)\u001b[0m\u001b[0;34m\u001b[0m\u001b[0;34m\u001b[0m\u001b[0m\n",
      "\u001b[0;32m~/.local/lib/python3.7/site-packages/ezdxf/filemanagement.py\u001b[0m in \u001b[0;36mreadfile\u001b[0;34m(filename, encoding, errors)\u001b[0m\n\u001b[1;32m    133\u001b[0m \u001b[0;34m\u001b[0m\u001b[0m\n\u001b[1;32m    134\u001b[0m     \u001b[0mfilename\u001b[0m \u001b[0;34m=\u001b[0m \u001b[0mstr\u001b[0m\u001b[0;34m(\u001b[0m\u001b[0mfilename\u001b[0m\u001b[0;34m)\u001b[0m\u001b[0;34m\u001b[0m\u001b[0;34m\u001b[0m\u001b[0m\n\u001b[0;32m--> 135\u001b[0;31m     \u001b[0;32mif\u001b[0m \u001b[0mis_binary_dxf_file\u001b[0m\u001b[0;34m(\u001b[0m\u001b[0mfilename\u001b[0m\u001b[0;34m)\u001b[0m\u001b[0;34m:\u001b[0m\u001b[0;34m\u001b[0m\u001b[0;34m\u001b[0m\u001b[0m\n\u001b[0m\u001b[1;32m    136\u001b[0m         \u001b[0;32mwith\u001b[0m \u001b[0mopen\u001b[0m\u001b[0;34m(\u001b[0m\u001b[0mfilename\u001b[0m\u001b[0;34m,\u001b[0m \u001b[0;34m\"rb\"\u001b[0m\u001b[0;34m)\u001b[0m \u001b[0;32mas\u001b[0m \u001b[0mfp\u001b[0m\u001b[0;34m:\u001b[0m\u001b[0;34m\u001b[0m\u001b[0;34m\u001b[0m\u001b[0m\n\u001b[1;32m    137\u001b[0m             \u001b[0mdata\u001b[0m \u001b[0;34m=\u001b[0m \u001b[0mfp\u001b[0m\u001b[0;34m.\u001b[0m\u001b[0mread\u001b[0m\u001b[0;34m(\u001b[0m\u001b[0;34m)\u001b[0m\u001b[0;34m\u001b[0m\u001b[0;34m\u001b[0m\u001b[0m\n",
      "\u001b[0;32m~/.local/lib/python3.7/site-packages/ezdxf/lldxf/validator.py\u001b[0m in \u001b[0;36mis_binary_dxf_file\u001b[0;34m(filename)\u001b[0m\n\u001b[1;32m    237\u001b[0m \u001b[0;32mdef\u001b[0m \u001b[0mis_binary_dxf_file\u001b[0m\u001b[0;34m(\u001b[0m\u001b[0mfilename\u001b[0m\u001b[0;34m:\u001b[0m \u001b[0mstr\u001b[0m\u001b[0;34m)\u001b[0m \u001b[0;34m->\u001b[0m \u001b[0mbool\u001b[0m\u001b[0;34m:\u001b[0m\u001b[0;34m\u001b[0m\u001b[0;34m\u001b[0m\u001b[0m\n\u001b[1;32m    238\u001b[0m     \u001b[0;34m\"\"\"Returns ``True`` if `filename` is a binary DXF file.\"\"\"\u001b[0m\u001b[0;34m\u001b[0m\u001b[0;34m\u001b[0m\u001b[0m\n\u001b[0;32m--> 239\u001b[0;31m     \u001b[0;32mwith\u001b[0m \u001b[0mopen\u001b[0m\u001b[0;34m(\u001b[0m\u001b[0mfilename\u001b[0m\u001b[0;34m,\u001b[0m \u001b[0;34m\"rb\"\u001b[0m\u001b[0;34m)\u001b[0m \u001b[0;32mas\u001b[0m \u001b[0mfp\u001b[0m\u001b[0;34m:\u001b[0m\u001b[0;34m\u001b[0m\u001b[0;34m\u001b[0m\u001b[0m\n\u001b[0m\u001b[1;32m    240\u001b[0m         \u001b[0msentinel\u001b[0m \u001b[0;34m=\u001b[0m \u001b[0mfp\u001b[0m\u001b[0;34m.\u001b[0m\u001b[0mread\u001b[0m\u001b[0;34m(\u001b[0m\u001b[0;36m22\u001b[0m\u001b[0;34m)\u001b[0m\u001b[0;34m\u001b[0m\u001b[0;34m\u001b[0m\u001b[0m\n\u001b[1;32m    241\u001b[0m     \u001b[0;32mreturn\u001b[0m \u001b[0msentinel\u001b[0m \u001b[0;34m==\u001b[0m \u001b[0;34mb\"AutoCAD Binary DXF\\r\\n\\x1a\\x00\"\u001b[0m\u001b[0;34m\u001b[0m\u001b[0;34m\u001b[0m\u001b[0m\n",
      "\u001b[0;31mFileNotFoundError\u001b[0m: [Errno 2] No such file or directory: 'small_house_polygon.dxf'"
     ]
    }
   ],
   "source": [
    "from FrontierExploration.preprocessing.layout.reader import LayoutReader, OccupancyDataFrame\n",
    "\n",
    "layout_reader = LayoutReader(file_name=f\"small_house_polygon\", file_extension=\"dxf\", files_dir=f\"{files_dir}/\")\n",
    "# layout_reader.clean_and_save(f\"{files_dir}/planta_murguiondo.dxf\", f\"{files_dir}/planta_murguiondo_clean.dxf\", [\"Muro\", \"Vereda\", \"Cordón\"], [\"LINE\", \"ARC\"])\n",
    "layout_reader.create_clean_dxf(f\"{files_dir}/small_house_clean.dxf\", [\"GAZEBO\"], [\"LINE\", \"LWPOLYLINE\"])"
   ]
  },
  {
   "cell_type": "markdown",
   "metadata": {
    "id": "AdRGNEETGNA1"
   },
   "source": [
    "## Layout conversion to occupancy grid\n",
    "Once the CAD layout has been uploaded, we will create the occupancy grid, defined by squares of `square_size` size, which will be suporposed over the obtained layout.\n",
    "Having done this, the grid squares that touch the layout lines, will be the ones defined as **occupied blocks** in the occupancy grid."
   ]
  },
  {
   "cell_type": "code",
   "execution_count": 4,
   "metadata": {
    "colab": {
     "base_uri": "https://localhost:8080/",
     "height": 1000
    },
    "id": "OZQ3ig-DF0s8",
    "outputId": "0d986ca8-8d7b-4e38-adac-9f61d1798414"
   },
   "outputs": [
    {
     "ename": "ValueError",
     "evalue": "cannot convert float NaN to integer",
     "output_type": "error",
     "traceback": [
      "\u001b[0;31m---------------------------------------------------------------------------\u001b[0m",
      "\u001b[0;31mValueError\u001b[0m                                Traceback (most recent call last)",
      "\u001b[0;32m/tmp/ipykernel_5623/844816917.py\u001b[0m in \u001b[0;36m<module>\u001b[0;34m\u001b[0m\n\u001b[1;32m      1\u001b[0m \u001b[0;31m# occupancy_df = OccupancyDataFrame(f\"{files_dir}/planta_murguiondo_clean.dxf\", square_size=500)\u001b[0m\u001b[0;34m\u001b[0m\u001b[0;34m\u001b[0m\u001b[0;34m\u001b[0m\u001b[0m\n\u001b[0;32m----> 2\u001b[0;31m \u001b[0moccupancy_df\u001b[0m \u001b[0;34m=\u001b[0m \u001b[0mOccupancyDataFrame\u001b[0m\u001b[0;34m(\u001b[0m\u001b[0;34mf\"{files_dir}/small_house_clean.dxf\"\u001b[0m\u001b[0;34m,\u001b[0m \u001b[0msquare_size\u001b[0m\u001b[0;34m=\u001b[0m\u001b[0;36m20\u001b[0m\u001b[0;34m)\u001b[0m\u001b[0;34m\u001b[0m\u001b[0;34m\u001b[0m\u001b[0m\n\u001b[0m\u001b[1;32m      3\u001b[0m \u001b[0moccupancy_df\u001b[0m\u001b[0;34m.\u001b[0m\u001b[0mplot\u001b[0m\u001b[0;34m(\u001b[0m\u001b[0mfigsize\u001b[0m\u001b[0;34m=\u001b[0m\u001b[0;34m(\u001b[0m\u001b[0;36m20\u001b[0m\u001b[0;34m,\u001b[0m\u001b[0;36m20\u001b[0m\u001b[0;34m)\u001b[0m\u001b[0;34m)\u001b[0m\u001b[0;34m\u001b[0m\u001b[0;34m\u001b[0m\u001b[0m\n",
      "\u001b[0;32m~/Documents/UTN/Proyecto/Frontier-Exploration-with-a-prior/src/FrontierExploration/preprocessing/layout/reader.py\u001b[0m in \u001b[0;36m__init__\u001b[0;34m(self, file_dir, square_size)\u001b[0m\n\u001b[1;32m     30\u001b[0m         \u001b[0mclean_layout\u001b[0m \u001b[0;34m=\u001b[0m \u001b[0mlayout\u001b[0m\u001b[0;34m[\u001b[0m\u001b[0;34m'geometry'\u001b[0m\u001b[0;34m]\u001b[0m\u001b[0;34m\u001b[0m\u001b[0;34m\u001b[0m\u001b[0m\n\u001b[1;32m     31\u001b[0m         \u001b[0mxmin\u001b[0m\u001b[0;34m,\u001b[0m \u001b[0mymin\u001b[0m\u001b[0;34m,\u001b[0m \u001b[0mxmax\u001b[0m\u001b[0;34m,\u001b[0m \u001b[0mymax\u001b[0m \u001b[0;34m=\u001b[0m \u001b[0mclean_layout\u001b[0m\u001b[0;34m.\u001b[0m\u001b[0mtotal_bounds\u001b[0m\u001b[0;34m\u001b[0m\u001b[0;34m\u001b[0m\u001b[0m\n\u001b[0;32m---> 32\u001b[0;31m         \u001b[0;32mfor\u001b[0m \u001b[0mxstart\u001b[0m \u001b[0;32min\u001b[0m \u001b[0mnp\u001b[0m\u001b[0;34m.\u001b[0m\u001b[0mnditer\u001b[0m\u001b[0;34m(\u001b[0m\u001b[0mnp\u001b[0m\u001b[0;34m.\u001b[0m\u001b[0marange\u001b[0m\u001b[0;34m(\u001b[0m\u001b[0mint\u001b[0m\u001b[0;34m(\u001b[0m\u001b[0mxmin\u001b[0m\u001b[0;34m)\u001b[0m \u001b[0;34m-\u001b[0m \u001b[0msquare_size\u001b[0m\u001b[0;34m,\u001b[0m \u001b[0mint\u001b[0m\u001b[0;34m(\u001b[0m\u001b[0mxmax\u001b[0m\u001b[0;34m)\u001b[0m\u001b[0;34m,\u001b[0m \u001b[0msquare_size\u001b[0m\u001b[0;34m)\u001b[0m\u001b[0;34m)\u001b[0m\u001b[0;34m:\u001b[0m\u001b[0;34m\u001b[0m\u001b[0;34m\u001b[0m\u001b[0m\n\u001b[0m\u001b[1;32m     33\u001b[0m             \u001b[0;32mfor\u001b[0m \u001b[0mystart\u001b[0m \u001b[0;32min\u001b[0m  \u001b[0mnp\u001b[0m\u001b[0;34m.\u001b[0m\u001b[0mnditer\u001b[0m\u001b[0;34m(\u001b[0m\u001b[0mnp\u001b[0m\u001b[0;34m.\u001b[0m\u001b[0marange\u001b[0m\u001b[0;34m(\u001b[0m\u001b[0mint\u001b[0m\u001b[0;34m(\u001b[0m\u001b[0mymin\u001b[0m\u001b[0;34m)\u001b[0m \u001b[0;34m-\u001b[0m \u001b[0msquare_size\u001b[0m\u001b[0;34m,\u001b[0m \u001b[0mint\u001b[0m\u001b[0;34m(\u001b[0m\u001b[0mymax\u001b[0m\u001b[0;34m)\u001b[0m\u001b[0;34m,\u001b[0m \u001b[0msquare_size\u001b[0m\u001b[0;34m)\u001b[0m\u001b[0;34m)\u001b[0m\u001b[0;34m:\u001b[0m\u001b[0;34m\u001b[0m\u001b[0;34m\u001b[0m\u001b[0m\n\u001b[1;32m     34\u001b[0m                 \u001b[0mpolygons_list\u001b[0m\u001b[0;34m.\u001b[0m\u001b[0mappend\u001b[0m\u001b[0;34m(\u001b[0m\u001b[0mSquare\u001b[0m\u001b[0;34m(\u001b[0m\u001b[0msquare_size\u001b[0m\u001b[0;34m,\u001b[0m \u001b[0mxstart\u001b[0m\u001b[0;34m,\u001b[0m \u001b[0mystart\u001b[0m\u001b[0;34m)\u001b[0m\u001b[0;34m)\u001b[0m\u001b[0;34m\u001b[0m\u001b[0;34m\u001b[0m\u001b[0m\n",
      "\u001b[0;31mValueError\u001b[0m: cannot convert float NaN to integer"
     ]
    }
   ],
   "source": [
    "# occupancy_df = OccupancyDataFrame(f\"{files_dir}/planta_murguiondo_clean.dxf\", square_size=500)\n",
    "occupancy_df = OccupancyDataFrame(f\"{files_dir}/small_house_clean.dxf\", square_size=20)\n",
    "occupancy_df.plot(figsize=(20,20))"
   ]
  },
  {
   "cell_type": "code",
   "execution_count": null,
   "metadata": {
    "colab": {
     "base_uri": "https://localhost:8080/",
     "height": 455
    },
    "id": "foNIwcufH-xd",
    "outputId": "e4205afc-f99a-4520-865d-de6b5a830622"
   },
   "outputs": [],
   "source": [
    "occupancy_df.occupancy_df"
   ]
  },
  {
   "cell_type": "code",
   "execution_count": null,
   "metadata": {
    "colab": {
     "base_uri": "https://localhost:8080/",
     "height": 1000
    },
    "id": "-XEA8GPkyo6O",
    "outputId": "b8de2975-3c20-4ebd-c2b1-ba6009089cd7"
   },
   "outputs": [],
   "source": [
    "grid = occupancy_df.get_occupancy_grid()\n",
    "grid.plot(figsize=(100,100))"
   ]
  },
  {
   "cell_type": "code",
   "execution_count": null,
   "metadata": {},
   "outputs": [],
   "source": [
    "import pickle\n",
    "\n",
    "# output_file = f\"{files_dir}/planta_murguiondo_grid.pkl\"\n",
    "output_file = f\"{files_dir}/small_house_grid.pkl\"\n",
    "\n",
    "with open(output_file, \"wb\") as file:\n",
    "    pickle.dump(grid, file)"
   ]
  },
  {
   "cell_type": "code",
   "execution_count": null,
   "metadata": {},
   "outputs": [],
   "source": [
    "import geopandas as gpd\n",
    "from shapely.geometry import shape, mapping, Polygon\n",
    "\n",
    "layout = gpd.read_file(f\"{os.getcwd()}/files/small_house_clean.dxf\")\n",
    "# layout.plot(figsize=(100,100))\n",
    "x, y = layout.convex_hull[0].coords.xy\n",
    "print(x[0])\n",
    "print(y)"
   ]
  }
 ],
 "metadata": {
  "colab": {
   "collapsed_sections": [],
   "name": "DXFsandbox.ipynb",
   "provenance": []
  },
  "kernelspec": {
   "display_name": "Python 3 (ipykernel)",
   "language": "python",
   "name": "python3"
  },
  "language_info": {
   "codemirror_mode": {
    "name": "ipython",
    "version": 3
   },
   "file_extension": ".py",
   "mimetype": "text/x-python",
   "name": "python",
   "nbconvert_exporter": "python",
   "pygments_lexer": "ipython3",
   "version": "3.7.13"
  }
 },
 "nbformat": 4,
 "nbformat_minor": 4
}
