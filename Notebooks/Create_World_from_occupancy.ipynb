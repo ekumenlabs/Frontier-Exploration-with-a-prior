{
 "cells": [
  {
   "cell_type": "code",
   "execution_count": 14,
   "id": "95efa7fd-9d32-4e12-b828-4a24cd243720",
   "metadata": {},
   "outputs": [],
   "source": [
    "#!/usr/bin/env python\n",
    "# Copyright (c) 2020 - The Procedural Generation for Gazebo authors\n",
    "# For information on the respective copyright owner see the NOTICE file\n",
    "#\n",
    "# Licensed under the Apache License, Version 2.0 (the \"License\");\n",
    "# you may not use this file except in compliance with the License.\n",
    "# You may obtain a copy of the License at\n",
    "#\n",
    "#     http://www.apache.org/licenses/LICENSE-2.0\n",
    "#\n",
    "# Unless required by applicable law or agreed to in writing, software\n",
    "# distributed under the License is distributed on an \"AS IS\" BASIS,\n",
    "# WITHOUT WARRANTIES OR CONDITIONS OF ANY KIND, either express or implied.\n",
    "# See the License for the specific language governing permissions and\n",
    "# limitations under the License.\n",
    "import os\n",
    "from tqdm import tqdm\n",
    "import geopandas as gpd\n",
    "import argparse\n",
    "import datetime\n",
    "from pcg_gazebo.simulation import SimulationModel, \\\n",
    "    add_custom_gazebo_resource_path\n",
    "from pcg_gazebo.generators.creators import extrude\n",
    "from pcg_gazebo.generators.shapes import random_rectangles, \\\n",
    "    random_rectangle, random_points_to_triangulation, rectangle\n",
    "from pcg_gazebo.generators import WorldGenerator\n",
    "from shapely.ops import unary_union\n",
    "from shapely.geometry import shape, Polygon\n",
    "from trimesh.creation import extrude_polygon\n"
   ]
  },
  {
   "cell_type": "code",
   "execution_count": 36,
   "id": "43414d62-3f01-48ce-9763-6b0f5cb89183",
   "metadata": {},
   "outputs": [
    {
     "data": {
      "image/svg+xml": [
       "<svg xmlns=\"http://www.w3.org/2000/svg\" xmlns:xlink=\"http://www.w3.org/1999/xlink\" width=\"300\" height=\"300\" viewBox=\"-680.4529260275799 -248.31286823843618 855.3599999999997 627.36\" preserveAspectRatio=\"xMinYMin meet\"><g transform=\"matrix(1,0,0,-1,0,130.73426352312765)\"><g><polyline fill=\"none\" stroke=\"#66cc99\" stroke-width=\"5.702399999999998\" points=\"-294.7729260275802,39.36713176156377 -304.7729260275802,39.36713176156377\" opacity=\"0.8\" /><polyline fill=\"none\" stroke=\"#66cc99\" stroke-width=\"5.702399999999998\" points=\"-306.7729260275802,45.36713176156378 -294.7729260275802,45.36713176156378\" opacity=\"0.8\" /><polyline fill=\"none\" stroke=\"#66cc99\" stroke-width=\"5.702399999999998\" points=\"-332.7729260275802,347.3671317615638 -220.7729260275802,347.3671317615638\" opacity=\"0.8\" /><polyline fill=\"none\" stroke=\"#66cc99\" stroke-width=\"5.702399999999998\" points=\"-220.7729260275802,341.3671317615638 -260.7729414017144,341.3671317615638\" opacity=\"0.8\" /><polyline fill=\"none\" stroke=\"#66cc99\" stroke-width=\"5.702399999999998\" points=\"-260.7729414017144,341.3671317615638 -260.7729414017145,341.3671317615638\" opacity=\"0.8\" /><polyline fill=\"none\" stroke=\"#66cc99\" stroke-width=\"5.702399999999998\" points=\"-216.7729260275802,45.36713176156378 -216.7729260275802,129.3671317615638\" opacity=\"0.8\" /><polyline fill=\"none\" stroke=\"#66cc99\" stroke-width=\"5.702399999999998\" points=\"-212.7729260275802,125.3671317615637 -212.7729260275802,45.36713176156378\" opacity=\"0.8\" /><polyline fill=\"none\" stroke=\"#66cc99\" stroke-width=\"5.702399999999998\" points=\"47.22707397241982,92.36713176156375 47.22707397241982,-216.6328682384362\" opacity=\"0.8\" /><polyline fill=\"none\" stroke=\"#66cc99\" stroke-width=\"5.702399999999998\" points=\"41.22707397241979,-210.6328682384362 41.22707397241979,39.36713176156377\" opacity=\"0.8\" /><polyline fill=\"none\" stroke=\"#66cc99\" stroke-width=\"5.702399999999998\" points=\"47.22707397241982,-216.6328682384362 10.22707397241982,-216.6328682384362\" opacity=\"0.8\" /><polyline fill=\"none\" stroke=\"#66cc99\" stroke-width=\"5.702399999999998\" points=\"10.22707397241982,-210.6328682384362 41.22707397241979,-210.6328682384362\" opacity=\"0.8\" /><polyline fill=\"none\" stroke=\"#66cc99\" stroke-width=\"5.702399999999998\" points=\"41.22707397241979,45.36713176156378 41.22707397241979,92.36713176156375\" opacity=\"0.8\" /><polyline fill=\"none\" stroke=\"#66cc99\" stroke-width=\"5.702399999999998\" points=\"-218.7729260275802,-216.6328682384362 -218.7729260275802,-12.63286823843623\" opacity=\"0.8\" /><polyline fill=\"none\" stroke=\"#66cc99\" stroke-width=\"5.702399999999998\" points=\"-218.7729260275802,-12.63286823843623 -218.7729260275802,39.36713176156377\" opacity=\"0.8\" /><polyline fill=\"none\" stroke=\"#66cc99\" stroke-width=\"5.702399999999998\" points=\"-212.7729260275802,39.36713176156377 -212.7729260275802,-210.6328682384362\" opacity=\"0.8\" /><polyline fill=\"none\" stroke=\"#66cc99\" stroke-width=\"5.702399999999998\" points=\"-181.7729260275802,-216.6328682384362 -218.7729260275802,-216.6328682384362\" opacity=\"0.8\" /><polyline fill=\"none\" stroke=\"#66cc99\" stroke-width=\"5.702399999999998\" points=\"-212.7729260275802,-210.6328682384362 -181.7729260275802,-210.6328682384362\" opacity=\"0.8\" /><polyline fill=\"none\" stroke=\"#66cc99\" stroke-width=\"5.702399999999998\" points=\"-85.27292602758018,39.36713176156377 -212.7729260275802,39.36713176156377\" opacity=\"0.8\" /><polyline fill=\"none\" stroke=\"#66cc99\" stroke-width=\"5.702399999999998\" points=\"-212.7729260275802,45.36713176156378 -160.7729260275801,45.36713176156378\" opacity=\"0.8\" /><polyline fill=\"none\" stroke=\"#66cc99\" stroke-width=\"5.702399999999998\" points=\"-156.7729260275802,45.36713176156378 -93.77292602758018,45.36713176156378\" opacity=\"0.8\" /><polyline fill=\"none\" stroke=\"#66cc99\" stroke-width=\"5.702399999999998\" points=\"-93.77292602758018,45.36713176156378 -93.77292602758018,91.86713176156375\" opacity=\"0.8\" /><polyline fill=\"none\" stroke=\"#66cc99\" stroke-width=\"5.702399999999998\" points=\"-89.77292602758017,91.86713176156375 -89.77292602758017,45.36713176156378\" opacity=\"0.8\" /><polyline fill=\"none\" stroke=\"#66cc99\" stroke-width=\"5.702399999999998\" points=\"-89.77292602758017,45.36713176156378 -85.27292602758018,45.36713176156378\" opacity=\"0.8\" /><polyline fill=\"none\" stroke=\"#66cc99\" stroke-width=\"5.702399999999998\" points=\"-160.7729260275801,45.36713176156378 -160.7729260275801,91.86713176156375\" opacity=\"0.8\" /><polyline fill=\"none\" stroke=\"#66cc99\" stroke-width=\"5.702399999999998\" points=\"-156.7729260275802,91.86713176156375 -156.7729260275802,45.36713176156378\" opacity=\"0.8\" /><polyline fill=\"none\" stroke=\"#66cc99\" stroke-width=\"5.702399999999998\" points=\"-218.7729260275802,39.36713176156377 -228.7729260275802,39.36713176156377\" opacity=\"0.8\" /><polyline fill=\"none\" stroke=\"#66cc99\" stroke-width=\"5.702399999999998\" points=\"-228.7729260275802,45.36713176156378 -216.7729260275802,45.36713176156378\" opacity=\"0.8\" /><polyline fill=\"none\" stroke=\"#66cc99\" stroke-width=\"5.702399999999998\" points=\"-264.7729260275802,39.36713176156377 -276.7729260275802,39.36713176156377\" opacity=\"0.8\" /><polyline fill=\"none\" stroke=\"#66cc99\" stroke-width=\"5.702399999999998\" points=\"-276.7729260275802,45.36713176156378 -264.7729260275802,45.36713176156378\" opacity=\"0.8\" /><polyline fill=\"none\" stroke=\"#66cc99\" stroke-width=\"5.702399999999998\" points=\"-94.77292602758014,341.3671317615638 -148.7729260275802,341.3671317615638\" opacity=\"0.8\" /><polyline fill=\"none\" stroke=\"#66cc99\" stroke-width=\"5.702399999999998\" points=\"47.22707397241982,225.3671317615637 47.22707397241982,128.3671317615638\" opacity=\"0.8\" /><polyline fill=\"none\" stroke=\"#66cc99\" stroke-width=\"5.702399999999998\" points=\"41.22707397241979,128.3671317615638 41.22707397241979,225.3671317615637\" opacity=\"0.8\" /><polyline fill=\"none\" stroke=\"#66cc99\" stroke-width=\"5.702399999999998\" points=\"9.227073972419817,347.3671317615638 -70.77292602758018,347.3671317615638\" opacity=\"0.8\" /><polyline fill=\"none\" stroke=\"#66cc99\" stroke-width=\"5.702399999999998\" points=\"-70.77292602758018,341.3671317615638 9.227073972419817,341.3671317615638\" opacity=\"0.8\" /><polyline fill=\"none\" stroke=\"#66cc99\" stroke-width=\"5.702399999999998\" points=\"41.22707397241979,341.3671317615638 41.2270739724197,297.3671317615638\" opacity=\"0.8\" /><polyline fill=\"none\" stroke=\"#66cc99\" stroke-width=\"5.702399999999998\" points=\"47.22707397241982,347.3671317615638 33.22707397241982,347.3671317615638\" opacity=\"0.8\" /><polyline fill=\"none\" stroke=\"#66cc99\" stroke-width=\"5.702399999999998\" points=\"33.22707397241982,341.3671317615638 41.22707397241979,341.3671317615638\" opacity=\"0.8\" /><polyline fill=\"none\" stroke=\"#66cc99\" stroke-width=\"5.702399999999998\" points=\"-216.7729260275802,129.3671317615638 -118.7729260275802,129.3671317615638\" opacity=\"0.8\" /><polyline fill=\"none\" stroke=\"#66cc99\" stroke-width=\"5.702399999999998\" points=\"-160.7729260275801,125.3671317615637 -212.7729260275802,125.3671317615637\" opacity=\"0.8\" /><polyline fill=\"none\" stroke=\"#66cc99\" stroke-width=\"5.702399999999998\" points=\"-93.77292602758018,125.3671317615637 -156.7729260275802,125.3671317615637\" opacity=\"0.8\" /><polyline fill=\"none\" stroke=\"#66cc99\" stroke-width=\"5.702399999999998\" points=\"-118.7729260275802,129.3671317615638 -118.7729260275802,187.3671317615636\" opacity=\"0.8\" /><polyline fill=\"none\" stroke=\"#66cc99\" stroke-width=\"5.702399999999998\" points=\"-114.7729260275802,187.3671317615636 -114.7729260275802,129.3671317615638\" opacity=\"0.8\" /><polyline fill=\"none\" stroke=\"#66cc99\" stroke-width=\"5.702399999999998\" points=\"-114.7729260275802,129.3671317615638 -89.77292602758017,129.3671317615638\" opacity=\"0.8\" /><polyline fill=\"none\" stroke=\"#66cc99\" stroke-width=\"5.702399999999998\" points=\"-89.77292602758017,129.3671317615638 -89.77292602758017,121.8671317615637\" opacity=\"0.8\" /><polyline fill=\"none\" stroke=\"#66cc99\" stroke-width=\"5.702399999999998\" points=\"-93.77292602758018,121.8671317615637 -93.77292602758018,125.3671317615637\" opacity=\"0.8\" /><polyline fill=\"none\" stroke=\"#66cc99\" stroke-width=\"5.702399999999998\" points=\"-118.7729260275802,187.3671317615636 -114.7729260275802,187.3671317615636\" opacity=\"0.8\" /><polyline fill=\"none\" stroke=\"#66cc99\" stroke-width=\"5.702399999999998\" points=\"-156.7729260275802,125.3671317615637 -156.7729260275802,121.8671317615637\" opacity=\"0.8\" /><polyline fill=\"none\" stroke=\"#66cc99\" stroke-width=\"5.702399999999998\" points=\"-160.7729260275801,121.8671317615637 -160.7729260275801,125.3671317615637\" opacity=\"0.8\" /><polyline fill=\"none\" stroke=\"#66cc99\" stroke-width=\"5.702399999999998\" points=\"-148.7729260275802,347.3671317615638 -94.77292602758014,347.3671317615638\" opacity=\"0.8\" /><polyline fill=\"none\" stroke=\"#66cc99\" stroke-width=\"5.702399999999998\" points=\"-480.7729260275801,-6.63286823843623 -480.7729260275801,125.3671317615637\" opacity=\"0.8\" /><polyline fill=\"none\" stroke=\"#66cc99\" stroke-width=\"5.702399999999998\" points=\"-476.7729260275801,125.3671317615637 -476.7729260275801,-12.63286823843623\" opacity=\"0.8\" /><polyline fill=\"none\" stroke=\"#66cc99\" stroke-width=\"5.702399999999998\" points=\"-642.7729260275802,125.3671317615637 -642.7729260275802,-6.63286823843623\" opacity=\"0.8\" /><polyline fill=\"none\" stroke=\"#66cc99\" stroke-width=\"5.702399999999998\" points=\"-648.77292602758,-12.63286823843623 -648.77292602758,347.3671317615638\" opacity=\"0.8\" /><polyline fill=\"none\" stroke=\"#66cc99\" stroke-width=\"5.702399999999998\" points=\"-531.7729260275803,-6.63286823843623 -480.7729260275801,-6.63286823843623\" opacity=\"0.8\" /><polyline fill=\"none\" stroke=\"#66cc99\" stroke-width=\"5.702399999999998\" points=\"-482.7729260275801,-12.63286823843623 -531.7729260275803,-12.63286823843623\" opacity=\"0.8\" /><polyline fill=\"none\" stroke=\"#66cc99\" stroke-width=\"5.702399999999998\" points=\"-310.7729260275802,-6.63286823843623 -310.7729260275803,89.36713176156375\" opacity=\"0.8\" /><polyline fill=\"none\" stroke=\"#66cc99\" stroke-width=\"5.702399999999998\" points=\"-304.7729260275802,39.36713176156377 -304.7729260275802,-12.63286823843623\" opacity=\"0.8\" /><polyline fill=\"none\" stroke=\"#66cc99\" stroke-width=\"5.702399999999998\" points=\"-377.7729260275802,-30.63286823843623 -338.7729260275802,-30.63286823843623\" opacity=\"0.8\" /><polyline fill=\"none\" stroke=\"#66cc99\" stroke-width=\"5.702399999999998\" points=\"-332.7729260275802,-36.63286823843622 -377.7729260275802,-36.63286823843622\" opacity=\"0.8\" /><polyline fill=\"none\" stroke=\"#66cc99\" stroke-width=\"5.702399999999998\" points=\"-338.7729260275802,-30.63286823843623 -338.7729260275802,-0.632868238436231\" opacity=\"0.8\" /><polyline fill=\"none\" stroke=\"#66cc99\" stroke-width=\"5.702399999999998\" points=\"-332.7729260275802,-12.63286823843623 -332.7729260275802,-36.63286823843622\" opacity=\"0.8\" /><polyline fill=\"none\" stroke=\"#66cc99\" stroke-width=\"5.702399999999998\" points=\"-334.7729260275802,-6.63286823843623 -310.7729260275802,-6.63286823843623\" opacity=\"0.8\" /><polyline fill=\"none\" stroke=\"#66cc99\" stroke-width=\"5.702399999999998\" points=\"-304.7729260275802,-12.63286823843623 -332.7729260275802,-12.63286823843623\" opacity=\"0.8\" /><polyline fill=\"none\" stroke=\"#66cc99\" stroke-width=\"5.702399999999998\" points=\"-334.7729260275802,125.3671317615637 -334.7729260275803,93.36713176156375\" opacity=\"0.8\" /><polyline fill=\"none\" stroke=\"#66cc99\" stroke-width=\"5.702399999999998\" points=\"-306.7729260275802,129.3671317615638 -306.7729260275802,121.3671317615637\" opacity=\"0.8\" /><polyline fill=\"none\" stroke=\"#66cc99\" stroke-width=\"5.702399999999998\" points=\"-476.7729260275801,-30.63286823843623 -437.7729260275802,-30.63286823843623\" opacity=\"0.8\" /><polyline fill=\"none\" stroke=\"#66cc99\" stroke-width=\"5.702399999999998\" points=\"-437.7729260275802,-36.63286823843622 -482.7729260275801,-36.63286823843622\" opacity=\"0.8\" /><polyline fill=\"none\" stroke=\"#66cc99\" stroke-width=\"5.702399999999998\" points=\"-476.7729260275801,-12.63286823843623 -476.7729260275801,-30.63286823843623\" opacity=\"0.8\" /><polyline fill=\"none\" stroke=\"#66cc99\" stroke-width=\"5.702399999999998\" points=\"-482.7729260275801,-36.63286823843622 -482.7729260275801,-12.63286823843623\" opacity=\"0.8\" /><polyline fill=\"none\" stroke=\"#66cc99\" stroke-width=\"5.702399999999998\" points=\"-642.7729260275802,-6.63286823843623 -591.7729260275803,-6.63286823843623\" opacity=\"0.8\" /><polyline fill=\"none\" stroke=\"#66cc99\" stroke-width=\"5.702399999999998\" points=\"-591.7729260275803,-12.63286823843623 -648.77292602758,-12.63286823843623\" opacity=\"0.8\" /><polyline fill=\"none\" stroke=\"#66cc99\" stroke-width=\"5.702399999999998\" points=\"-517.7729260275802,129.3671317615638 -514.2729260275801,129.3671317615638\" opacity=\"0.8\" /><polyline fill=\"none\" stroke=\"#66cc99\" stroke-width=\"5.702399999999998\" points=\"-514.2729260275801,125.3671317615637 -578.7729260275803,125.3671317615637\" opacity=\"0.8\" /><polyline fill=\"none\" stroke=\"#66cc99\" stroke-width=\"5.702399999999998\" points=\"-642.7729260275802,173.3671317615637 -512.2729260275802,173.3671317615637\" opacity=\"0.8\" /><polyline fill=\"none\" stroke=\"#66cc99\" stroke-width=\"5.702399999999998\" points=\"-512.2729260275802,169.3671317615637 -517.7729260275802,169.3671317615637\" opacity=\"0.8\" /><polyline fill=\"none\" stroke=\"#66cc99\" stroke-width=\"5.702399999999998\" points=\"-478.7729260275802,341.3671317615638 -524.7729260275802,341.3671317615638\" opacity=\"0.8\" /><polyline fill=\"none\" stroke=\"#66cc99\" stroke-width=\"5.702399999999998\" points=\"-524.7729260275802,347.3671317615638 -380.7729260275802,347.3671317615638\" opacity=\"0.8\" /><polyline fill=\"none\" stroke=\"#66cc99\" stroke-width=\"5.702399999999998\" points=\"-478.7729260275802,307.8671317615638 -478.7729260275802,341.3671317615638\" opacity=\"0.8\" /><polyline fill=\"none\" stroke=\"#66cc99\" stroke-width=\"5.702399999999998\" points=\"-474.7729260275802,341.3671317615638 -474.7729260275802,307.8671317615638\" opacity=\"0.8\" /><polyline fill=\"none\" stroke=\"#66cc99\" stroke-width=\"5.702399999999998\" points=\"-390.7729260275802,307.8671317615638 -390.7729260275802,341.3671317615638\" opacity=\"0.8\" /><polyline fill=\"none\" stroke=\"#66cc99\" stroke-width=\"5.702399999999998\" points=\"-386.7729260275802,341.3671317615638 -386.7729260275802,307.8671317615638\" opacity=\"0.8\" /><polyline fill=\"none\" stroke=\"#66cc99\" stroke-width=\"5.702399999999998\" points=\"-326.7729260275802,274.3671317615638 -326.7729260275802,341.3671317615638\" opacity=\"0.8\" /><polyline fill=\"none\" stroke=\"#66cc99\" stroke-width=\"5.702399999999998\" points=\"-322.7729260275802,341.3671317615638 -322.7729260275802,285.0239917615636\" opacity=\"0.8\" /><polyline fill=\"none\" stroke=\"#66cc99\" stroke-width=\"5.702399999999998\" points=\"-322.7729260275802,285.0239917615636 -322.7729260275802,285.0239917615634\" opacity=\"0.8\" /><polyline fill=\"none\" stroke=\"#66cc99\" stroke-width=\"5.702399999999998\" points=\"-443.2729260275801,129.3671317615638 -306.7729260275802,129.3671317615638\" opacity=\"0.8\" /><polyline fill=\"none\" stroke=\"#66cc99\" stroke-width=\"5.702399999999998\" points=\"-390.7729260275802,195.3671317615637 -474.7729260275802,195.3671317615637\" opacity=\"0.8\" /><polyline fill=\"none\" stroke=\"#66cc99\" stroke-width=\"5.702399999999998\" points=\"-474.7729260275802,199.3671317615637 -390.7729260275802,199.3671317615637\" opacity=\"0.8\" /><polyline fill=\"none\" stroke=\"#66cc99\" stroke-width=\"5.702399999999998\" points=\"-390.7729260275802,270.3671317615638 -417.7729260275802,270.3671317615638\" opacity=\"0.8\" /><polyline fill=\"none\" stroke=\"#66cc99\" stroke-width=\"5.702399999999998\" points=\"-417.7729260275802,274.3671317615638 -390.7729260275802,274.3671317615638\" opacity=\"0.8\" /><polyline fill=\"none\" stroke=\"#66cc99\" stroke-width=\"5.702399999999998\" points=\"-386.7729260275802,270.3671317615638 -386.7729260275802,173.3671317615637\" opacity=\"0.8\" /><polyline fill=\"none\" stroke=\"#66cc99\" stroke-width=\"5.702399999999998\" points=\"-390.7729260275802,199.3671317615637 -390.7729260275802,270.3671317615638\" opacity=\"0.8\" /><polyline fill=\"none\" stroke=\"#66cc99\" stroke-width=\"5.702399999999998\" points=\"-326.7729260275802,173.3671317615637 -326.7729260275802,270.3671317615638\" opacity=\"0.8\" /><polyline fill=\"none\" stroke=\"#66cc99\" stroke-width=\"5.702399999999998\" points=\"-322.7729260275802,169.3671317615637 -329.2729260275802,169.3671317615637\" opacity=\"0.8\" /><polyline fill=\"none\" stroke=\"#66cc99\" stroke-width=\"5.702399999999998\" points=\"-329.2729260275802,173.3671317615637 -326.7729260275802,173.3671317615637\" opacity=\"0.8\" /><polyline fill=\"none\" stroke=\"#66cc99\" stroke-width=\"5.702399999999998\" points=\"-386.7729260275802,173.3671317615637 -357.2729260275802,173.3671317615637\" opacity=\"0.8\" /><polyline fill=\"none\" stroke=\"#66cc99\" stroke-width=\"5.702399999999998\" points=\"-357.2729260275802,169.3671317615637 -396.7729260275802,169.3671317615637\" opacity=\"0.8\" /><polyline fill=\"none\" stroke=\"#66cc99\" stroke-width=\"5.702399999999998\" points=\"-390.7729260275802,173.3671317615637 -390.7729260275802,195.3671317615637\" opacity=\"0.8\" /><polyline fill=\"none\" stroke=\"#66cc99\" stroke-width=\"5.702399999999998\" points=\"-396.7729260275802,173.3671317615637 -390.7729260275802,173.3671317615637\" opacity=\"0.8\" /><polyline fill=\"none\" stroke=\"#66cc99\" stroke-width=\"5.702399999999998\" points=\"-326.7729260275802,270.3671317615638 -386.7729260275802,270.3671317615638\" opacity=\"0.8\" /><polyline fill=\"none\" stroke=\"#66cc99\" stroke-width=\"5.702399999999998\" points=\"-386.7729260275802,274.3671317615638 -326.7729260275802,274.3671317615638\" opacity=\"0.8\" /><polyline fill=\"none\" stroke=\"#66cc99\" stroke-width=\"5.702399999999998\" points=\"-386.7729260275802,277.8671317615638 -386.7729260275802,274.3671317615638\" opacity=\"0.8\" /><polyline fill=\"none\" stroke=\"#66cc99\" stroke-width=\"5.702399999999998\" points=\"-390.7729260275802,274.3671317615638 -390.7729260275802,277.8671317615638\" opacity=\"0.8\" /><polyline fill=\"none\" stroke=\"#66cc99\" stroke-width=\"5.702399999999998\" points=\"-478.7729260275802,173.3671317615637 -478.7729260275802,277.8671317615638\" opacity=\"0.8\" /><polyline fill=\"none\" stroke=\"#66cc99\" stroke-width=\"5.702399999999998\" points=\"-474.7729260275802,270.3671317615638 -474.7729260275802,199.3671317615637\" opacity=\"0.8\" /><polyline fill=\"none\" stroke=\"#66cc99\" stroke-width=\"5.702399999999998\" points=\"-439.7729260275801,125.3671317615637 -443.2729260275801,125.3671317615637\" opacity=\"0.8\" /><polyline fill=\"none\" stroke=\"#66cc99\" stroke-width=\"5.702399999999998\" points=\"-473.2729260275801,125.3671317615637 -476.7729260275801,125.3671317615637\" opacity=\"0.8\" /><polyline fill=\"none\" stroke=\"#66cc99\" stroke-width=\"5.702399999999998\" points=\"-478.7729260275802,129.3671317615638 -473.2729260275801,129.3671317615638\" opacity=\"0.8\" /><polyline fill=\"none\" stroke=\"#66cc99\" stroke-width=\"5.702399999999998\" points=\"-484.2729260275802,129.3671317615638 -478.7729260275802,129.3671317615638\" opacity=\"0.8\" /><polyline fill=\"none\" stroke=\"#66cc99\" stroke-width=\"5.702399999999998\" points=\"-480.7729260275801,125.3671317615637 -484.2729260275802,125.3671317615637\" opacity=\"0.8\" /><polyline fill=\"none\" stroke=\"#66cc99\" stroke-width=\"5.702399999999998\" points=\"-474.7729260275802,195.3671317615637 -474.7729260275802,173.3671317615637\" opacity=\"0.8\" /><polyline fill=\"none\" stroke=\"#66cc99\" stroke-width=\"5.702399999999998\" points=\"-482.2729260275801,173.3671317615637 -478.7729260275802,173.3671317615637\" opacity=\"0.8\" /><polyline fill=\"none\" stroke=\"#66cc99\" stroke-width=\"5.702399999999998\" points=\"-476.7729260275801,169.3671317615637 -482.2729260275801,169.3671317615637\" opacity=\"0.8\" /><polyline fill=\"none\" stroke=\"#66cc99\" stroke-width=\"5.702399999999998\" points=\"-474.7729260275802,173.3671317615637 -468.77292602758,173.3671317615637\" opacity=\"0.8\" /><polyline fill=\"none\" stroke=\"#66cc99\" stroke-width=\"5.702399999999998\" points=\"-468.77292602758,169.3671317615637 -476.7729260275801,169.3671317615637\" opacity=\"0.8\" /><polyline fill=\"none\" stroke=\"#66cc99\" stroke-width=\"5.702399999999998\" points=\"-447.77292602758,270.3671317615638 -474.7729260275802,270.3671317615638\" opacity=\"0.8\" /><polyline fill=\"none\" stroke=\"#66cc99\" stroke-width=\"5.702399999999998\" points=\"-474.7729260275802,274.3671317615638 -447.77292602758,274.3671317615638\" opacity=\"0.8\" /><polyline fill=\"none\" stroke=\"#66cc99\" stroke-width=\"5.702399999999998\" points=\"-474.7729260275802,277.8671317615638 -474.7729260275802,274.3671317615638\" opacity=\"0.8\" /><polyline fill=\"none\" stroke=\"#66cc99\" stroke-width=\"5.702399999999998\" points=\"-390.7729260275802,341.3671317615638 -474.7729260275802,341.3671317615638\" opacity=\"0.8\" /><polyline fill=\"none\" stroke=\"#66cc99\" stroke-width=\"5.702399999999998\" points=\"-326.7729260275802,341.3671317615638 -332.7729260275802,341.3671317615638\" opacity=\"0.8\" /><polyline fill=\"none\" stroke=\"#66cc99\" stroke-width=\"5.702399999999998\" points=\"-380.7729260275802,341.3671317615638 -386.7729260275802,341.3671317615638\" opacity=\"0.8\" /><polyline fill=\"none\" stroke=\"#66cc99\" stroke-width=\"5.702399999999998\" points=\"-642.7729260275802,341.3671317615638 -642.7729260275802,173.3671317615637\" opacity=\"0.8\" /><polyline fill=\"none\" stroke=\"#66cc99\" stroke-width=\"5.702399999999998\" points=\"-642.7729260275802,129.3671317615638 -608.7729260275803,129.3671317615638\" opacity=\"0.8\" /><polyline fill=\"none\" stroke=\"#66cc99\" stroke-width=\"5.702399999999998\" points=\"-608.7729260275803,125.3671317615637 -642.7729260275802,125.3671317615637\" opacity=\"0.8\" /><polyline fill=\"none\" stroke=\"#66cc99\" stroke-width=\"5.702399999999998\" points=\"-545.7729260275802,169.3671317615637 -642.7729260275802,169.3671317615637\" opacity=\"0.8\" /><polyline fill=\"none\" stroke=\"#66cc99\" stroke-width=\"5.702399999999998\" points=\"-578.7729260275803,129.3671317615638 -545.7729260275802,129.3671317615638\" opacity=\"0.8\" /><polyline fill=\"none\" stroke=\"#66cc99\" stroke-width=\"5.702399999999998\" points=\"-521.7729260275802,163.3671317615636 -521.7729260275802,169.3671317615637\" opacity=\"0.8\" /><polyline fill=\"none\" stroke=\"#66cc99\" stroke-width=\"5.702399999999998\" points=\"-517.7729260275802,169.3671317615637 -517.7729260275802,163.3671317615636\" opacity=\"0.8\" /><polyline fill=\"none\" stroke=\"#66cc99\" stroke-width=\"5.702399999999998\" points=\"-545.7729260275802,129.3671317615638 -545.7729260275802,169.3671317615637\" opacity=\"0.8\" /><polyline fill=\"none\" stroke=\"#66cc99\" stroke-width=\"5.702399999999998\" points=\"-541.7729260275802,169.3671317615637 -541.7729260275802,129.3671317615638\" opacity=\"0.8\" /><polyline fill=\"none\" stroke=\"#66cc99\" stroke-width=\"5.702399999999998\" points=\"-517.7729260275802,135.3671317615637 -517.7729260275802,129.3671317615638\" opacity=\"0.8\" /><polyline fill=\"none\" stroke=\"#66cc99\" stroke-width=\"5.702399999999998\" points=\"-541.7729260275802,129.3671317615638 -521.7729260275802,129.3671317615638\" opacity=\"0.8\" /><polyline fill=\"none\" stroke=\"#66cc99\" stroke-width=\"5.702399999999998\" points=\"-521.7729260275802,129.3671317615638 -521.7729260275802,135.3671317615637\" opacity=\"0.8\" /><polyline fill=\"none\" stroke=\"#66cc99\" stroke-width=\"5.702399999999998\" points=\"-521.7729260275802,169.3671317615637 -541.7729260275802,169.3671317615637\" opacity=\"0.8\" /><polyline fill=\"none\" stroke=\"#66cc99\" stroke-width=\"5.702399999999998\" points=\"-642.7729260275802,169.3671317615637 -642.7729260275802,129.3671317615638\" opacity=\"0.8\" /><polyline fill=\"none\" stroke=\"#66cc99\" stroke-width=\"5.702399999999998\" points=\"-596.7729260275802,341.3671317615638 -642.7729260275802,341.3671317615638\" opacity=\"0.8\" /><polyline fill=\"none\" stroke=\"#66cc99\" stroke-width=\"5.702399999999998\" points=\"-648.77292602758,347.3671317615638 -596.7729260275802,347.3671317615638\" opacity=\"0.8\" /><polyline fill=\"none\" stroke=\"#66cc99\" stroke-width=\"5.702399999999998\" points=\"-304.7729260275802,-12.63286823843623 -218.7729260275802,-12.63286823843623\" opacity=\"0.8\" /><polyline fill=\"none\" stroke=\"#66cc99\" stroke-width=\"5.702399999999998\" points=\"41.22707397241979,39.36713176156377 -49.27292602758019,39.36713176156377\" opacity=\"0.8\" /><polyline fill=\"none\" stroke=\"#66cc99\" stroke-width=\"5.702399999999998\" points=\"-49.27292602758019,45.36713176156378 41.22707397241979,45.36713176156378\" opacity=\"0.8\" /><polyline fill=\"none\" stroke=\"#66cc99\" stroke-width=\"5.702399999999998\" points=\"-338.7729260275802,83.36713176156377 -338.7729260275802,125.3671317615637\" opacity=\"0.8\" /><polyline fill=\"none\" stroke=\"#66cc99\" stroke-width=\"5.702399999999998\" points=\"-334.7729260275802,-0.632868238436231 -334.7729260275802,-6.63286823843623\" opacity=\"0.8\" /><polyline fill=\"none\" stroke=\"#66cc99\" stroke-width=\"5.702399999999998\" points=\"47.2270739724197,297.3671317615638 47.22707397241982,347.3671317615638\" opacity=\"0.8\" /><polyline fill=\"none\" stroke=\"#66cc99\" stroke-width=\"5.702399999999998\" points=\"-439.7729260275801,125.3671317615637 -338.7729260275802,125.3671317615637\" opacity=\"0.8\" /><polyline fill=\"none\" stroke=\"#66cc99\" stroke-width=\"5.702399999999998\" points=\"-334.7729260275802,125.3671317615637 -310.7729260275803,125.3671317615637\" opacity=\"0.8\" /><polyline fill=\"none\" stroke=\"#66cc99\" stroke-width=\"5.702399999999998\" points=\"-334.7729260275802,93.36713176156375 -310.7729260275803,93.36713176156375\" opacity=\"0.8\" /><polyline fill=\"none\" stroke=\"#66cc99\" stroke-width=\"5.702399999999998\" points=\"-334.7729260275802,89.36713176156375 -310.7729260275803,89.36713176156375\" opacity=\"0.8\" /><polyline fill=\"none\" stroke=\"#66cc99\" stroke-width=\"5.702399999999998\" points=\"-334.7729260275803,89.36713176156375 -334.7729260275802,83.36713176156377\" opacity=\"0.8\" /><polyline fill=\"none\" stroke=\"#66cc99\" stroke-width=\"5.702399999999998\" points=\"-310.7729260275803,93.36713176156375 -310.7729260275803,97.36713176156378\" opacity=\"0.8\" /><polyline fill=\"none\" stroke=\"#66cc99\" stroke-width=\"5.702399999999998\" points=\"-306.7729260275802,121.3671317615637 -310.7729260275803,121.3671317615637\" opacity=\"0.8\" /><polyline fill=\"none\" stroke=\"#66cc99\" stroke-width=\"5.702399999999998\" points=\"-306.7729260275802,97.36713176156378 -310.7729260275803,97.36713176156378\" opacity=\"0.8\" /><polyline fill=\"none\" stroke=\"#66cc99\" stroke-width=\"5.702399999999998\" points=\"-310.7729260275803,121.3671317615637 -310.7729260275803,125.3671317615637\" opacity=\"0.8\" /><polyline fill=\"none\" stroke=\"#66cc99\" stroke-width=\"5.702399999999998\" points=\"-306.7729260275802,97.36713176156378 -306.7729260275802,45.36713176156378\" opacity=\"0.8\" /><polyline fill=\"none\" stroke=\"#66cc99\" stroke-width=\"5.702399999999998\" points=\"-334.7729260275802,83.36713176156377 -338.7729260275802,83.36713176156377\" opacity=\"0.8\" /><polyline fill=\"none\" stroke=\"#66cc99\" stroke-width=\"5.702399999999998\" points=\"143.2270739724198,144.8671317615637 141.2270739724198,142.8671317615637\" opacity=\"0.8\" /><polyline fill=\"none\" stroke=\"#66cc99\" stroke-width=\"5.702399999999998\" points=\"141.2270739724198,142.8671317615637 139.2270739724198,140.8671317615637\" opacity=\"0.8\" /><polyline fill=\"none\" stroke=\"#66cc99\" stroke-width=\"5.702399999999998\" points=\"139.2270739724198,144.8671317615637 141.2270739724198,142.8671317615637\" opacity=\"0.8\" /><polyline fill=\"none\" stroke=\"#66cc99\" stroke-width=\"5.702399999999998\" points=\"141.2270739724198,142.8671317615637 143.2270739724198,140.8671317615637\" opacity=\"0.8\" /><polyline fill=\"none\" stroke=\"#66cc99\" stroke-width=\"5.702399999999998\" points=\"143.2270739724198,227.3671317615638 141.2270739724198,225.36713176156377\" opacity=\"0.8\" /><polyline fill=\"none\" stroke=\"#66cc99\" stroke-width=\"5.702399999999998\" points=\"141.2270739724198,225.36713176156377 139.2270739724198,223.3671317615637\" opacity=\"0.8\" /><polyline fill=\"none\" stroke=\"#66cc99\" stroke-width=\"5.702399999999998\" points=\"139.2270739724198,227.3671317615638 141.2270739724198,225.36713176156377\" opacity=\"0.8\" /><polyline fill=\"none\" stroke=\"#66cc99\" stroke-width=\"5.702399999999998\" points=\"141.2270739724198,225.36713176156377 143.2270739724198,223.3671317615637\" opacity=\"0.8\" /><polyline fill=\"none\" stroke=\"#66cc99\" stroke-width=\"5.702399999999998\" points=\"139.2270739724198,305.8671317615638 141.2270739724198,307.8671317615638\" opacity=\"0.8\" /><polyline fill=\"none\" stroke=\"#66cc99\" stroke-width=\"5.702399999999998\" points=\"141.2270739724198,307.8671317615638 143.2270739724198,309.8671317615638\" opacity=\"0.8\" /><polyline fill=\"none\" stroke=\"#66cc99\" stroke-width=\"5.702399999999998\" points=\"143.2270739724198,305.8671317615638 141.2270739724198,307.8671317615638\" opacity=\"0.8\" /><polyline fill=\"none\" stroke=\"#66cc99\" stroke-width=\"5.702399999999998\" points=\"141.2270739724198,307.8671317615638 139.2270739724198,309.8671317615638\" opacity=\"0.8\" /><polyline fill=\"none\" stroke=\"#66cc99\" stroke-width=\"5.702399999999998\" points=\"-260.7729414017144,341.3671317615638 -322.7729260275802,279.3671317615635\" opacity=\"0.8\" /><polyline fill=\"none\" stroke=\"#66cc99\" stroke-width=\"5.702399999999998\" points=\"-322.7729260275802,285.0239917615636 -266.4297860275801,341.3671317615638\" opacity=\"0.8\" /><polyline fill=\"none\" stroke=\"#66cc99\" stroke-width=\"5.702399999999998\" points=\"-266.4297860275801,341.3671317615638 -322.7729260275802,341.3671317615638\" opacity=\"0.8\" /><polyline fill=\"none\" stroke=\"#66cc99\" stroke-width=\"5.702399999999998\" points=\"-266.42978602758,341.3671317615638 -266.4297860275801,341.3671317615638\" opacity=\"0.8\" /><polyline fill=\"none\" stroke=\"#66cc99\" stroke-width=\"5.702399999999998\" points=\"-322.7729260275802,279.3671317615635 -322.7729260275802,169.3671317615637\" opacity=\"0.8\" /></g></g></svg>"
      ],
      "text/plain": [
       "<shapely.geometry.multilinestring.MultiLineString at 0x7f56e9a6b290>"
      ]
     },
     "execution_count": 36,
     "metadata": {},
     "output_type": "execute_result"
    }
   ],
   "source": [
    "x_room_range = 50\n",
    "y_room_range = 50\n",
    "n_rectangles = 10\n",
    "wall_thickness = 0.1\n",
    "wall_height = 5\n",
    "world_name = \"rect_falop\"\n",
    "\n",
    "block_size = 1\n",
    "from shapely.geometry import Polygon\n",
    "\n",
    "def line_to_wall(line, z_start, z_end):\n",
    "    start, end = line.coords.xy\n",
    "    return Polygon(\n",
    "        [(start[0], start[1], z_start), \n",
    "        (end[0], end[1], z_start), \n",
    "        (end[0], end[1], z_end), \n",
    "        (start[0], start[1], z_end)]\n",
    "    )\n",
    "# wall_polygon = random_rectangles(\n",
    "#     n_rect=n_rectangles,\n",
    "#     x_center_min=-x_room_range / 2.,\n",
    "#     x_center_max=x_room_range / 2.,\n",
    "#     y_center_min=-y_room_range / 2.,\n",
    "#     y_center_max=y_room_range / 2.,\n",
    "#     delta_x_min=x_room_range / 2.,\n",
    "#     delta_x_max=x_room_range,\n",
    "#     delta_y_min=y_room_range / 2.,\n",
    "#     delta_y_max=y_room_range)\n",
    "# Create a world generator to place\n",
    "# objects in the world\n",
    "world_generator = WorldGenerator()\n",
    "# polygons = []\n",
    "layout = gpd.read_file(f\"{os.getcwd()}/files/small_house_clean.dxf\")\n",
    "wall_polygon = layout.convex_hull.unary_union\n",
    "# counter = 0\n",
    "# # for line_polygon in tqdm(layout.convex_hull):\n",
    "# # Create the wall model based on the extruded\n",
    "# # boundaries of the polygon\n",
    "\n",
    "# walls_model = extrude(\n",
    "#     polygon=wall_polygon,\n",
    "#     thickness=wall_thickness,\n",
    "#     height=wall_height,\n",
    "#     pose=[0, 0, wall_height / 2., 0, 0, 0],\n",
    "#     extrude_boundaries=False,\n",
    "#     color='xkcd')\n",
    "# walls_model.name = world_name + '_walls'\n",
    "\n",
    "# # Add walls and ground plane to the world\n",
    "# world_generator.world.add_model(\n",
    "#     tag=walls_model.name,\n",
    "#     model=walls_model)\n",
    "\n",
    "# wall_polygon = layout.convex_hull[101]\n",
    "\n",
    "# walls_model = extrude(\n",
    "#     polygon=wall_polygon,\n",
    "#     thickness=wall_thickness,\n",
    "#     height=wall_height,\n",
    "#     pose=[0, 0, wall_height / 2., 0, 0, 0],\n",
    "#     extrude_boundaries=True,\n",
    "#     color='xkcd')\n",
    "# walls_model.name = world_name + '_walls'\n",
    "\n",
    "# # Add walls and ground plane to the world\n",
    "# world_generator.world.add_model(\n",
    "#     tag=walls_model.name,\n",
    "#     model=walls_model)\n",
    "wall_polygon"
   ]
  },
  {
   "cell_type": "code",
   "execution_count": 31,
   "id": "864324d4-4298-430d-b23c-a98d6e7542aa",
   "metadata": {},
   "outputs": [
    {
     "data": {
      "text/plain": [
       "'ground_plane'"
      ]
     },
     "execution_count": 31,
     "metadata": {},
     "output_type": "execute_result"
    }
   ],
   "source": [
    "world_generator.world.add_model(\n",
    "    tag='ground_plane',\n",
    "    model=SimulationModel.from_gazebo_model('ground_plane'))\n",
    "\n",
    "# # Retrieve the free space polygon where objects\n",
    "# # can be placed within the walls\n",
    "# free_space_polygon = world_generator.world.get_free_space_polygon(\n",
    "#     ground_plane_models=[walls_model.name],\n",
    "#     ignore_models=['ground_plane'])"
   ]
  },
  {
   "cell_type": "code",
   "execution_count": 32,
   "id": "47fe37c2-8e2e-4731-9e25-38b8e3ed7215",
   "metadata": {},
   "outputs": [
    {
     "data": {
      "text/plain": [
       "SceneViewer(width=1311, height=713)"
      ]
     },
     "execution_count": 32,
     "metadata": {},
     "output_type": "execute_result"
    }
   ],
   "source": [
    "world_generator.world.name = world_name\n",
    "world_generator.world.show()"
   ]
  },
  {
   "cell_type": "code",
   "execution_count": null,
   "id": "d559c999-fb95-4c9f-85ef-6071ebf7e02f",
   "metadata": {},
   "outputs": [],
   "source": [
    "# Export world to file and walls model as Gazebo model\n",
    "export_models_dir = \"/home/agusmazzeo/.gazebo/models\"\n",
    "export_world_dir = \"/home/agusmazzeo/.gazebo/worlds\"\n",
    "\n",
    "add_custom_gazebo_resource_path(export_models_dir)\n",
    "\n",
    "full_world_filename = world_generator.export_world(\n",
    "    output_dir=export_world_dir,\n",
    "    filename=world_generator.world.name + '.world',\n",
    "    models_output_dir=export_models_dir,\n",
    "    overwrite=True)\n",
    "\n",
    "print('World file: {}'.format(full_world_filename))"
   ]
  }
 ],
 "metadata": {
  "kernelspec": {
   "display_name": "Python 3 (ipykernel)",
   "language": "python",
   "name": "python3"
  },
  "language_info": {
   "codemirror_mode": {
    "name": "ipython",
    "version": 3
   },
   "file_extension": ".py",
   "mimetype": "text/x-python",
   "name": "python",
   "nbconvert_exporter": "python",
   "pygments_lexer": "ipython3",
   "version": "3.7.13"
  }
 },
 "nbformat": 4,
 "nbformat_minor": 5
}
