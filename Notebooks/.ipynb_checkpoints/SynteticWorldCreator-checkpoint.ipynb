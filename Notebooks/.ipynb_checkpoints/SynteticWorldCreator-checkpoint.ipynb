{
 "cells": [
  {
   "cell_type": "code",
   "execution_count": 25,
   "id": "3c7700cd-00bf-4a1c-b76e-c111b423f1df",
   "metadata": {},
   "outputs": [
    {
     "name": "stderr",
     "output_type": "stream",
     "text": [
      "/home/agusmazzeo/.local/lib/python3.7/site-packages/pcg_gazebo/generators/occupancy.py:478: ShapelyDeprecationWarning: The 'almost_equals()' method is deprecated and will be removed in Shapely 2.0\n",
      "  decimal=3) or diff.area < 1e-3:\n",
      "/home/agusmazzeo/.local/lib/python3.7/site-packages/pcg_gazebo/generators/occupancy.py:478: ShapelyDeprecationWarning: The 'almost_equals()' method is deprecated and will be removed in Shapely 2.0\n",
      "  decimal=3) or diff.area < 1e-3:\n",
      "/home/agusmazzeo/.local/lib/python3.7/site-packages/pcg_gazebo/generators/occupancy.py:478: ShapelyDeprecationWarning: The 'almost_equals()' method is deprecated and will be removed in Shapely 2.0\n",
      "  decimal=3) or diff.area < 1e-3:\n"
     ]
    },
    {
     "name": "stdout",
     "output_type": "stream",
     "text": [
      "2022-10-09 13:14:03,305 | ERROR | random_pose_engine | No model was provided for fixed pose engine\n"
     ]
    }
   ],
   "source": [
    "import random\n",
    "from tqdm import tqdm\n",
    "from concurrent.futures import ProcessPoolExecutor, as_completed\n",
    "from FrontierExploration.preprocessing.layout.syntetic import SynteticWorld\n",
    "\n",
    "worlds = {}\n",
    "ids = [id for id in range(3)]\n",
    "\n",
    "def create_and_save(id: int):\n",
    "    name = f\"falop_world_{id}\"\n",
    "    world = SynteticWorld(name, \"/home/agusmazzeo/Documents/UTN/Proyecto/Frontier-Exploration-with-a-prior/Notebooks/files/\", n_rectangles=random.randint(1, 10), n_in_rectangles=0)\n",
    "    world.create_world(n_cubes=random.randint(0, 5), cube_size=10, show=False)\n",
    "    return name, world\n",
    "\n",
    "# for id in tqdm(ids):\n",
    "#     name, world = create_and_save(id)\n",
    "#     worlds[name] = world\n",
    "\n",
    "with ProcessPoolExecutor(max_workers=10) as executor:\n",
    "    futures = [executor.submit(create_and_save, id=id) for id in ids]\n",
    "    for future in as_completed(futures):\n",
    "        name, world = future.result()\n",
    "        worlds[name] = {\"world\":world}"
   ]
  },
  {
   "cell_type": "code",
   "execution_count": 55,
   "id": "eee13402-bcf5-4733-a33b-747b9104a586",
   "metadata": {},
   "outputs": [
    {
     "data": {
      "text/plain": [
       "'/home/agusmazzeo/Documents/UTN/Proyecto/Frontier-Exploration-with-a-prior/Notebooks/files//worlds/test_3.world'"
      ]
     },
     "execution_count": 55,
     "metadata": {},
     "output_type": "execute_result"
    }
   ],
   "source": [
    "import pandas as pd\n",
    "output_file_dir = \"/home/agusmazzeo/Documents/UTN/Proyecto/Frontier-Exploration-with-a-prior/\"\n",
    "with open(\"/home/agusmazzeo/Documents/UTN/Proyecto/Frontier-Exploration-with-a-prior/Notebooks/files/worlds_df.pkl\", \"rb\") as f:\n",
    "    worlds_df = pickle.load(f)\n",
    "worlds_df[\"world_dir\"][0]"
   ]
  },
  {
   "cell_type": "code",
   "execution_count": 46,
   "id": "28f77a37-656b-4eee-a87f-768f51359a4b",
   "metadata": {},
   "outputs": [
    {
     "data": {
      "text/plain": [
       "world             <FrontierExploration.preprocessing.layout.synt...\n",
       "starting_point                (29.04602455942136, 1.44888366715184)\n",
       "free_area                                               2984.071945\n",
       "Name: test_0, dtype: object"
      ]
     },
     "execution_count": 46,
     "metadata": {},
     "output_type": "execute_result"
    }
   ],
   "source": [
    "worlds_df.loc['test_0']"
   ]
  },
  {
   "cell_type": "code",
   "execution_count": 4,
   "id": "9d36ecfd-15ad-4d83-b14d-4c018ca0c118",
   "metadata": {},
   "outputs": [
    {
     "ename": "TypeError",
     "evalue": "object of type 'int' has no len()",
     "output_type": "error",
     "traceback": [
      "\u001b[0;31m---------------------------------------------------------------------------\u001b[0m",
      "\u001b[0;31mAttributeError\u001b[0m                            Traceback (most recent call last)",
      "\u001b[0;32m~/.local/lib/python3.7/site-packages/shapely/speedups/_speedups.pyx\u001b[0m in \u001b[0;36mshapely.speedups._speedups.geos_linearring_from_py\u001b[0;34m()\u001b[0m\n",
      "\u001b[0;31mAttributeError\u001b[0m: 'list' object has no attribute '__array_interface__'",
      "\nDuring handling of the above exception, another exception occurred:\n",
      "\u001b[0;31mTypeError\u001b[0m                                 Traceback (most recent call last)",
      "\u001b[0;32m/tmp/ipykernel_5135/3250559402.py\u001b[0m in \u001b[0;36m<module>\u001b[0;34m\u001b[0m\n\u001b[1;32m      2\u001b[0m \u001b[0;32mimport\u001b[0m \u001b[0mgeopandas\u001b[0m \u001b[0;32mas\u001b[0m \u001b[0mgpd\u001b[0m\u001b[0;34m\u001b[0m\u001b[0;34m\u001b[0m\u001b[0m\n\u001b[1;32m      3\u001b[0m \u001b[0;34m\u001b[0m\u001b[0m\n\u001b[0;32m----> 4\u001b[0;31m \u001b[0mseen_polygon\u001b[0m \u001b[0;34m=\u001b[0m \u001b[0mPolygon\u001b[0m\u001b[0;34m(\u001b[0m\u001b[0;34m[\u001b[0m\u001b[0;36m1\u001b[0m\u001b[0;34m,\u001b[0m\u001b[0;36m0\u001b[0m\u001b[0;34m]\u001b[0m\u001b[0;34m)\u001b[0m\u001b[0;34m\u001b[0m\u001b[0;34m\u001b[0m\u001b[0m\n\u001b[0m\u001b[1;32m      5\u001b[0m layout_polygons = [{\n\u001b[1;32m      6\u001b[0m         \u001b[0;34m\"geometry\"\u001b[0m\u001b[0;34m:\u001b[0m \u001b[0mseen_polygon\u001b[0m\u001b[0;34m,\u001b[0m\u001b[0;34m\u001b[0m\u001b[0;34m\u001b[0m\u001b[0m\n",
      "\u001b[0;32m~/.local/lib/python3.7/site-packages/shapely/geometry/polygon.py\u001b[0m in \u001b[0;36m__init__\u001b[0;34m(self, shell, holes)\u001b[0m\n\u001b[1;32m    259\u001b[0m \u001b[0;34m\u001b[0m\u001b[0m\n\u001b[1;32m    260\u001b[0m         \u001b[0;32mif\u001b[0m \u001b[0mshell\u001b[0m \u001b[0;32mis\u001b[0m \u001b[0;32mnot\u001b[0m \u001b[0;32mNone\u001b[0m\u001b[0;34m:\u001b[0m\u001b[0;34m\u001b[0m\u001b[0;34m\u001b[0m\u001b[0m\n\u001b[0;32m--> 261\u001b[0;31m             \u001b[0mret\u001b[0m \u001b[0;34m=\u001b[0m \u001b[0mgeos_polygon_from_py\u001b[0m\u001b[0;34m(\u001b[0m\u001b[0mshell\u001b[0m\u001b[0;34m,\u001b[0m \u001b[0mholes\u001b[0m\u001b[0;34m)\u001b[0m\u001b[0;34m\u001b[0m\u001b[0;34m\u001b[0m\u001b[0m\n\u001b[0m\u001b[1;32m    262\u001b[0m             \u001b[0;32mif\u001b[0m \u001b[0mret\u001b[0m \u001b[0;32mis\u001b[0m \u001b[0;32mnot\u001b[0m \u001b[0;32mNone\u001b[0m\u001b[0;34m:\u001b[0m\u001b[0;34m\u001b[0m\u001b[0;34m\u001b[0m\u001b[0m\n\u001b[1;32m    263\u001b[0m                 \u001b[0mgeom\u001b[0m\u001b[0;34m,\u001b[0m \u001b[0mn\u001b[0m \u001b[0;34m=\u001b[0m \u001b[0mret\u001b[0m\u001b[0;34m\u001b[0m\u001b[0;34m\u001b[0m\u001b[0m\n",
      "\u001b[0;32m~/.local/lib/python3.7/site-packages/shapely/geometry/polygon.py\u001b[0m in \u001b[0;36mgeos_polygon_from_py\u001b[0;34m(shell, holes)\u001b[0m\n\u001b[1;32m    537\u001b[0m \u001b[0;34m\u001b[0m\u001b[0m\n\u001b[1;32m    538\u001b[0m     \u001b[0;32mif\u001b[0m \u001b[0mshell\u001b[0m \u001b[0;32mis\u001b[0m \u001b[0;32mnot\u001b[0m \u001b[0;32mNone\u001b[0m\u001b[0;34m:\u001b[0m\u001b[0;34m\u001b[0m\u001b[0;34m\u001b[0m\u001b[0m\n\u001b[0;32m--> 539\u001b[0;31m         \u001b[0mret\u001b[0m \u001b[0;34m=\u001b[0m \u001b[0mgeos_linearring_from_py\u001b[0m\u001b[0;34m(\u001b[0m\u001b[0mshell\u001b[0m\u001b[0;34m)\u001b[0m\u001b[0;34m\u001b[0m\u001b[0;34m\u001b[0m\u001b[0m\n\u001b[0m\u001b[1;32m    540\u001b[0m         \u001b[0;32mif\u001b[0m \u001b[0mret\u001b[0m \u001b[0;32mis\u001b[0m \u001b[0;32mNone\u001b[0m\u001b[0;34m:\u001b[0m\u001b[0;34m\u001b[0m\u001b[0;34m\u001b[0m\u001b[0m\n\u001b[1;32m    541\u001b[0m             \u001b[0;32mreturn\u001b[0m \u001b[0;32mNone\u001b[0m\u001b[0;34m\u001b[0m\u001b[0;34m\u001b[0m\u001b[0m\n",
      "\u001b[0;32m~/.local/lib/python3.7/site-packages/shapely/speedups/_speedups.pyx\u001b[0m in \u001b[0;36mshapely.speedups._speedups.geos_linearring_from_py\u001b[0;34m()\u001b[0m\n",
      "\u001b[0;31mTypeError\u001b[0m: object of type 'int' has no len()"
     ]
    }
   ],
   "source": [
    "from shapely.geometry import Polygon\n",
    "import geopandas as gpd\n",
    "\n",
    "seen_polygon = Polygon([(1,0),(1,1),(0,1)])\n",
    "layout_polygons = [{\n",
    "        \"geometry\": seen_polygon,\n",
    "        \"status\": 50\n",
    "    },\n",
    "    {\n",
    "        \"geometry\": unknown_polygon,\n",
    "        \"status\": -1\n",
    "    },\n",
    "    {\n",
    "        \"geometry\": occupied_polygon,\n",
    "        \"status\": 100\n",
    "    }\n",
    "]\n",
    "layout_df = gpd.GeoDataFrame(layout_polygons)"
   ]
  },
  {
   "cell_type": "code",
   "execution_count": null,
   "id": "28798b62-9722-4869-a069-15759fa5467b",
   "metadata": {},
   "outputs": [],
   "source": []
  }
 ],
 "metadata": {
  "kernelspec": {
   "display_name": "Python 3 (ipykernel)",
   "language": "python",
   "name": "python3"
  },
  "language_info": {
   "codemirror_mode": {
    "name": "ipython",
    "version": 3
   },
   "file_extension": ".py",
   "mimetype": "text/x-python",
   "name": "python",
   "nbconvert_exporter": "python",
   "pygments_lexer": "ipython3",
   "version": "3.7.14"
  }
 },
 "nbformat": 4,
 "nbformat_minor": 5
}
