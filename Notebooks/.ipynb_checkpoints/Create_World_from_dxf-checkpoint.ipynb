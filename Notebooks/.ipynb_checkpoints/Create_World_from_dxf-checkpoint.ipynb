{
 "cells": [
  {
   "cell_type": "code",
   "execution_count": 1,
   "id": "95efa7fd-9d32-4e12-b828-4a24cd243720",
   "metadata": {},
   "outputs": [
    {
     "name": "stdout",
     "output_type": "stream",
     "text": [
      "env: GAZEBO_MODEL_PATH=/home/agusmazzeo/.gazebo/models\n"
     ]
    }
   ],
   "source": [
    "#!/usr/bin/env python\n",
    "# Copyright (c) 2020 - The Procedural Generation for Gazebo authors\n",
    "# For information on the respective copyright owner see the NOTICE file\n",
    "#\n",
    "# Licensed under the Apache License, Version 2.0 (the \"License\");\n",
    "# you may not use this file except in compliance with the License.\n",
    "# You may obtain a copy of the License at\n",
    "#\n",
    "#     http://www.apache.org/licenses/LICENSE-2.0\n",
    "#\n",
    "# Unless required by applicable law or agreed to in writing, software\n",
    "# distributed under the License is distributed on an \"AS IS\" BASIS,\n",
    "# WITHOUT WARRANTIES OR CONDITIONS OF ANY KIND, either express or implied.\n",
    "# See the License for the specific language governing permissions and\n",
    "# limitations under the License.\n",
    "%env GAZEBO_MODEL_PATH=/home/agusmazzeo/.gazebo/models\n",
    "import os\n",
    "from tqdm import tqdm\n",
    "import geopandas as gpd\n",
    "import argparse\n",
    "import datetime\n",
    "from pcg_gazebo.simulation import SimulationModel, \\\n",
    "    add_custom_gazebo_resource_path\n",
    "from pcg_gazebo.generators.creators import extrude\n",
    "from pcg_gazebo.generators.shapes import random_rectangles, \\\n",
    "    random_rectangle, random_points_to_triangulation, rectangle\n",
    "from pcg_gazebo.generators import WorldGenerator\n",
    "from shapely.geometry import shape, Polygon, MultiPolygon, box as Box, MultiLineString\n",
    "\n"
   ]
  },
  {
   "cell_type": "code",
   "execution_count": 6,
   "id": "797dcd0c-54de-4e99-9ab2-2cf83287955a",
   "metadata": {},
   "outputs": [
    {
     "name": "stdout",
     "output_type": "stream",
     "text": [
      "Defaulting to user installation because normal site-packages is not writeable\n",
      "Collecting rasterio\n",
      "  Downloading rasterio-1.3.2-cp38-cp38-manylinux_2_17_x86_64.manylinux2014_x86_64.whl (20.9 MB)\n",
      "\u001b[2K     \u001b[38;2;114;156;31m━━━━━━━━━━━━━━━━━━━━━━━━━━━━━━━━━━━━━━━━\u001b[0m \u001b[32m20.9/20.9 MB\u001b[0m \u001b[31m13.2 MB/s\u001b[0m eta \u001b[36m0:00:00\u001b[0mm eta \u001b[36m0:00:01\u001b[0m[36m0:00:01\u001b[0m\n",
      "\u001b[?25hRequirement already satisfied: certifi in /usr/lib/python3/dist-packages (from rasterio) (2019.11.28)\n",
      "Requirement already satisfied: attrs in /home/ramiro/.local/lib/python3.8/site-packages (from rasterio) (21.4.0)\n",
      "Collecting affine\n",
      "  Downloading affine-2.3.1-py2.py3-none-any.whl (16 kB)\n",
      "Requirement already satisfied: setuptools in /home/ramiro/.local/lib/python3.8/site-packages (from rasterio) (63.2.0)\n",
      "Requirement already satisfied: cligj>=0.5 in /home/ramiro/.local/lib/python3.8/site-packages (from rasterio) (0.7.2)\n",
      "Requirement already satisfied: click-plugins in /home/ramiro/.local/lib/python3.8/site-packages (from rasterio) (1.1.1)\n",
      "Collecting snuggs>=1.4.1\n",
      "  Downloading snuggs-1.4.7-py3-none-any.whl (5.4 kB)\n",
      "Requirement already satisfied: numpy>=1.18 in /home/ramiro/.local/lib/python3.8/site-packages (from rasterio) (1.22.3)\n",
      "Requirement already satisfied: click>=4.0 in /usr/lib/python3/dist-packages (from rasterio) (7.0)\n",
      "Requirement already satisfied: pyparsing>=2.1.6 in /home/ramiro/.local/lib/python3.8/site-packages (from snuggs>=1.4.1->rasterio) (3.0.8)\n",
      "Installing collected packages: affine, snuggs, rasterio\n",
      "Successfully installed affine-2.3.1 rasterio-1.3.2 snuggs-1.4.7\n",
      "--- Logging error ---\n",
      "Traceback (most recent call last):\n",
      "  File \"/home/ramiro/.local/lib/python3.8/site-packages/pip/_internal/utils/logging.py\", line 177, in emit\n",
      "    self.console.print(renderable, overflow=\"ignore\", crop=False, style=style)\n",
      "  File \"/home/ramiro/.local/lib/python3.8/site-packages/pip/_vendor/rich/console.py\", line 1752, in print\n",
      "    extend(render(renderable, render_options))\n",
      "  File \"/home/ramiro/.local/lib/python3.8/site-packages/pip/_vendor/rich/console.py\", line 1390, in render\n",
      "    for render_output in iter_render:\n",
      "  File \"/home/ramiro/.local/lib/python3.8/site-packages/pip/_internal/utils/logging.py\", line 134, in __rich_console__\n",
      "    for line in lines:\n",
      "  File \"/home/ramiro/.local/lib/python3.8/site-packages/pip/_vendor/rich/segment.py\", line 245, in split_lines\n",
      "    for segment in segments:\n",
      "  File \"/home/ramiro/.local/lib/python3.8/site-packages/pip/_vendor/rich/console.py\", line 1368, in render\n",
      "    renderable = rich_cast(renderable)\n",
      "  File \"/home/ramiro/.local/lib/python3.8/site-packages/pip/_vendor/rich/protocol.py\", line 36, in rich_cast\n",
      "    renderable = cast_method()\n",
      "  File \"/home/ramiro/.local/lib/python3.8/site-packages/pip/_internal/self_outdated_check.py\", line 130, in __rich__\n",
      "    pip_cmd = get_best_invocation_for_this_pip()\n",
      "  File \"/home/ramiro/.local/lib/python3.8/site-packages/pip/_internal/utils/entrypoints.py\", line 58, in get_best_invocation_for_this_pip\n",
      "    if found_executable and os.path.samefile(\n",
      "  File \"/usr/lib/python3.8/genericpath.py\", line 101, in samefile\n",
      "    s2 = os.stat(f2)\n",
      "FileNotFoundError: [Errno 2] No such file or directory: '/usr/bin/pip3.8'\n",
      "Call stack:\n",
      "  File \"/usr/lib/python3.8/runpy.py\", line 194, in _run_module_as_main\n",
      "    return _run_code(code, main_globals, None,\n",
      "  File \"/usr/lib/python3.8/runpy.py\", line 87, in _run_code\n",
      "    exec(code, run_globals)\n",
      "  File \"/home/ramiro/.local/lib/python3.8/site-packages/pip/__main__.py\", line 31, in <module>\n",
      "    sys.exit(_main())\n",
      "  File \"/home/ramiro/.local/lib/python3.8/site-packages/pip/_internal/cli/main.py\", line 70, in main\n",
      "    return command.main(cmd_args)\n",
      "  File \"/home/ramiro/.local/lib/python3.8/site-packages/pip/_internal/cli/base_command.py\", line 101, in main\n",
      "    return self._main(args)\n",
      "  File \"/home/ramiro/.local/lib/python3.8/site-packages/pip/_internal/cli/base_command.py\", line 223, in _main\n",
      "    self.handle_pip_version_check(options)\n",
      "  File \"/home/ramiro/.local/lib/python3.8/site-packages/pip/_internal/cli/req_command.py\", line 148, in handle_pip_version_check\n",
      "    pip_self_version_check(session, options)\n",
      "  File \"/home/ramiro/.local/lib/python3.8/site-packages/pip/_internal/self_outdated_check.py\", line 237, in pip_self_version_check\n",
      "    logger.info(\"[present-rich] %s\", upgrade_prompt)\n",
      "  File \"/usr/lib/python3.8/logging/__init__.py\", line 1446, in info\n",
      "    self._log(INFO, msg, args, **kwargs)\n",
      "  File \"/usr/lib/python3.8/logging/__init__.py\", line 1589, in _log\n",
      "    self.handle(record)\n",
      "  File \"/usr/lib/python3.8/logging/__init__.py\", line 1599, in handle\n",
      "    self.callHandlers(record)\n",
      "  File \"/usr/lib/python3.8/logging/__init__.py\", line 1661, in callHandlers\n",
      "    hdlr.handle(record)\n",
      "  File \"/usr/lib/python3.8/logging/__init__.py\", line 954, in handle\n",
      "    self.emit(record)\n",
      "  File \"/home/ramiro/.local/lib/python3.8/site-packages/pip/_internal/utils/logging.py\", line 179, in emit\n",
      "    self.handleError(record)\n",
      "Message: '[present-rich] %s'\n",
      "Arguments: (UpgradePrompt(old='22.1.2', new='22.2.2'),)\n"
     ]
    }
   ],
   "source": [
    "!python3.8 -m pip install rasterio"
   ]
  },
  {
   "cell_type": "code",
   "execution_count": 190,
   "id": "04d85b4b-a6f0-44fd-9296-83cfebb57803",
   "metadata": {},
   "outputs": [],
   "source": [
    "from shapely.geometry import Polygon, LineString, MultiLineString\n",
    "import rasterio.features\n",
    "import shapely\n",
    "import matplotlib.pyplot as plt\n",
    "from FrontierExploration.preprocessing.grid.occupancy_grid import OccupancyGrid\n",
    "import numpy as np\n",
    "num_rays = 16\n",
    "ALLOWED_MOVEMENTS = [(np.cos(angle), np.sin(angle)) for angle in np.linspace(0, 2 * np.pi, num=num_rays, endpoint=False)]"
   ]
  },
  {
   "cell_type": "code",
   "execution_count": 272,
   "id": "ce03450e-b911-4f12-82d9-ae1e54afee47",
   "metadata": {},
   "outputs": [
    {
     "data": {
      "text/plain": [
       "<matplotlib.image.AxesImage at 0x7f3753139940>"
      ]
     },
     "execution_count": 272,
     "metadata": {},
     "output_type": "execute_result"
    },
    {
     "data": {
      "image/png": "[encoded data removed]",
      "text/plain": [
       "<Figure size 432x288 with 1 Axes>"
      ]
     },
     "metadata": {
      "needs_background": "light"
     },
     "output_type": "display_data"
    }
   ],
   "source": [
    "wall_lines_transformed = shapely.affinity.affine_transform(wall_lines.buffer(0.5), [50 ,0 , 0, 50, 0 ,0 ])\n",
    "\n",
    "# (minx, miny, maxx, maxy)\n",
    "bounds = wall_lines_transformed.bounds\n",
    "\n",
    "# [a, b, d, e, xoff, yoff]\n",
    "tf_to_zero = [1, 0, 0, 1, -bounds[0], -bounds[1]]\n",
    "img_size = (int(bounds[3] - bounds[1]), int(bounds[2] - bounds[0]))\n",
    "wall_lines_transformed = shapely.affinity.affine_transform(wall_lines_transformed, tf_to_zero)\n",
    "\n",
    "img = rasterio.features.rasterize([wall_lines_transformed], out_shape=img_size, fill=0, default_value=100)\n",
    "plt.imshow(img)\n",
    "\n",
    "# print(img)"
   ]
  },
  {
   "cell_type": "code",
   "execution_count": 137,
   "id": "2572874d-17cd-4a94-9458-c3a9c1236c1f",
   "metadata": {},
   "outputs": [],
   "source": [
    "from rasterio.features import shapes"
   ]
  },
  {
   "cell_type": "code",
   "execution_count": 293,
   "id": "dac33c2c-60e2-4c61-b205-6685c3a33a17",
   "metadata": {},
   "outputs": [
    {
     "data": {
      "image/svg+xml": [
       "<svg xmlns=\"http://www.w3.org/2000/svg\" xmlns:xlink=\"http://www.w3.org/1999/xlink\" width=\"300\" height=\"300\" viewBox=\"-141.16 -141.16 3811.3199999999997 3151.3199999999997\" preserveAspectRatio=\"xMinYMin meet\"><g transform=\"matrix(1,0,0,-1,0,2869.0)\"><g><path fill-rule=\"evenodd\" fill=\"#66cc99\" stroke=\"#555555\" stroke-width=\"25.4088\" opacity=\"0.6\" d=\"M 3516.0,2.0 L 3525.0,9.0 L 3529.0,17.0 L 3529.0,0.0 L 3516.0,2.0 z\" /><path fill-rule=\"evenodd\" fill=\"#66cc99\" stroke=\"#555555\" stroke-width=\"25.4088\" opacity=\"0.6\" d=\"M 1.0,1037.0 L 20.0,1020.0 L 830.0,1020.0 L 830.0,920.0 L 850.0,900.0 L 1610.0,900.0 L 1630.0,920.0 L 1630.0,1020.0 L 1750.0,1020.0 L 1768.0,1034.0 L 1770.0,1280.0 L 2150.0,1280.0 L 2150.0,20.0 L 2170.0,0.0 L 0.0,0.0 L 1.0,1037.0 z\" /><path fill-rule=\"evenodd\" fill=\"#66cc99\" stroke=\"#555555\" stroke-width=\"25.4088\" opacity=\"0.6\" d=\"M 2847.0,1281.0 L 2867.0,1298.0 L 2867.0,1342.0 L 2845.0,1360.0 L 2845.0,1572.0 L 2827.0,1592.0 L 2790.0,1591.0 L 2775.0,1572.0 L 2775.0,1360.0 L 2510.0,1360.0 L 2510.0,1572.0 L 2492.0,1592.0 L 2455.0,1591.0 L 2440.0,1572.0 L 2440.0,1360.0 L 2230.0,1360.0 L 2230.0,1710.0 L 2441.0,1710.0 L 2465.0,1692.0 L 2509.0,1710.0 L 2776.0,1710.0 L 2800.0,1692.0 L 2841.0,1703.0 L 2845.0,1760.0 L 2833.0,1777.0 L 2720.0,1780.0 L 2720.0,2050.0 L 2706.0,2068.0 L 2670.0,2070.0 L 2650.0,2050.0 L 2650.0,1780.0 L 2165.0,1771.0 L 2160.0,1360.0 L 1760.0,1360.0 L 1757.0,1608.0 L 1710.0,1620.0 L 1691.0,1600.0 L 1620.0,1600.0 L 1620.0,1710.0 L 1748.0,1693.0 L 1760.0,1760.0 L 1746.0,1778.0 L 1038.0,1776.0 L 1028.0,1728.0 L 1048.0,1710.0 L 1550.0,1710.0 L 1555.0,1509.0 L 1600.0,1500.0 L 1620.0,1530.0 L 1690.0,1530.0 L 1690.0,1100.0 L 1620.0,1100.0 L 1606.0,1128.0 L 1559.0,1125.0 L 1550.0,980.0 L 910.0,980.0 L 910.0,1711.0 L 926.0,1725.0 L 927.0,1762.0 L 907.0,1780.0 L 839.0,1779.0 L 822.0,1755.0 L 840.0,1711.0 L 840.0,1100.0 L 80.0,1100.0 L 80.0,1710.0 L 230.0,1710.0 L 250.0,1730.0 L 248.0,1766.0 L 230.0,1780.0 L 80.0,1780.0 L 80.0,1930.0 L 515.0,1930.0 L 515.0,1780.0 L 364.0,1778.0 L 350.0,1760.0 L 355.0,1719.0 L 702.0,1710.0 L 721.0,1725.0 L 722.0,1762.0 L 693.0,1807.0 L 655.0,1810.0 L 635.0,1780.0 L 585.0,1780.0 L 585.0,1930.0 L 635.0,1930.0 L 647.0,1903.0 L 685.0,1900.0 L 732.0,1948.0 L 731.0,1985.0 L 712.0,2000.0 L 80.0,2000.0 L 80.0,2790.0 L 850.0,2790.0 L 850.0,2643.0 L 875.0,2622.0 L 919.0,2639.0 L 920.0,2790.0 L 1290.0,2790.0 L 1290.0,2643.0 L 1315.0,2622.0 L 1359.0,2639.0 L 1360.0,2790.0 L 1610.0,2790.0 L 1610.0,2505.0 L 1359.0,2505.0 L 1345.0,2521.0 L 1308.0,2522.0 L 1291.0,2505.0 L 1175.0,2505.0 L 1157.0,2491.0 L 1169.0,2437.0 L 1290.0,2435.0 L 1290.0,2130.0 L 920.0,2130.0 L 920.0,2435.0 L 1041.0,2437.0 L 1055.0,2485.0 L 1035.0,2505.0 L 919.0,2505.0 L 902.0,2522.0 L 854.0,2512.0 L 850.0,1999.0 L 832.0,1975.0 L 834.0,1945.0 L 853.0,1930.0 L 947.0,1942.0 L 948.0,1986.0 L 920.0,2000.0 L 920.0,2060.0 L 1290.0,2060.0 L 1290.0,2000.0 L 1260.0,1980.0 L 1272.0,1933.0 L 1497.0,1934.0 L 1507.0,1982.0 L 1491.0,1999.0 L 1360.0,2000.0 L 1360.0,2435.0 L 1610.0,2435.0 L 1610.0,1996.0 L 1597.0,1955.0 L 1614.0,1931.0 L 1671.0,1935.0 L 1680.0,2495.0 L 1975.0,2790.0 L 3450.0,2790.0 L 3450.0,1360.0 L 3018.0,1360.0 L 2997.0,1335.0 L 2999.0,1295.0 L 3018.0,1280.0 L 3450.0,1280.0 L 3450.0,80.0 L 2230.0,80.0 L 2230.0,1280.0 L 2847.0,1281.0 z\" /><path fill-rule=\"evenodd\" fill=\"#66cc99\" stroke=\"#555555\" stroke-width=\"25.4088\" opacity=\"0.6\" d=\"M 1876.0,2790.0 L 1876.0,2789.0 L 1680.0,2594.0 L 1680.0,2790.0 L 1876.0,2790.0 z\" /><path fill-rule=\"evenodd\" fill=\"#66cc99\" stroke=\"#555555\" stroke-width=\"25.4088\" opacity=\"0.6\" d=\"M 0.0,2869.0 L 17.0,2869.0 L 1.0,2850.0 L 0.0,2850.0 L 0.0,2869.0 z\" /><path fill-rule=\"evenodd\" fill=\"#66cc99\" stroke=\"#555555\" stroke-width=\"25.4088\" opacity=\"0.6\" d=\"M 3528.0,2856.0 L 3521.0,2865.0 L 3513.0,2869.0 L 3529.0,2869.0 L 3528.0,2856.0 z\" /></g></g></svg>"
      ],
      "text/plain": [
       "<shapely.geometry.multipolygon.MultiPolygon at 0x7f37531fb610>"
      ]
     },
     "execution_count": 293,
     "metadata": {},
     "output_type": "execute_result"
    }
   ],
   "source": [
    "shape = None\n",
    "for s in shapes(img):\n",
    "    # print(s[0][\"coordinates\"])\n",
    "    if shape is None:\n",
    "        shape = Polygon(*s[0][\"coordinates\"])\n",
    "    try:\n",
    "        shape = shape.union(Polygon(*s[0][\"coordinates\"]))\n",
    "    except:\n",
    "        # print(s)\n",
    "        pass\n",
    "        \n",
    "        \n",
    "shape\n",
    "\n",
    "shape.simplify(10)\n"
   ]
  },
  {
   "cell_type": "code",
   "execution_count": 296,
   "id": "dffa8003-56dc-40bf-b5f2-807315aab5e6",
   "metadata": {},
   "outputs": [
    {
     "data": {
      "image/svg+xml": [
       "<svg xmlns=\"http://www.w3.org/2000/svg\" xmlns:xlink=\"http://www.w3.org/1999/xlink\" width=\"100.0\" height=\"100.0\" viewBox=\"-1.08 -1.08 2.16 2.16\" preserveAspectRatio=\"xMinYMin meet\"><g transform=\"matrix(1,0,0,-1,0,0.0)\"><g><polyline fill=\"none\" stroke=\"#66cc99\" stroke-width=\"0.0432\" points=\"0.0,0.0 1.0,0.0\" opacity=\"0.8\" /><polyline fill=\"none\" stroke=\"#66cc99\" stroke-width=\"0.0432\" points=\"0.0,0.0 0.9238795325112866,0.3826834323650898\" opacity=\"0.8\" /><polyline fill=\"none\" stroke=\"#66cc99\" stroke-width=\"0.0432\" points=\"0.0,0.0 0.7071067811865477,0.7071067811865476\" opacity=\"0.8\" /><polyline fill=\"none\" stroke=\"#66cc99\" stroke-width=\"0.0432\" points=\"0.0,0.0 0.38268343236508984,0.9238795325112866\" opacity=\"0.8\" /><polyline fill=\"none\" stroke=\"#66cc99\" stroke-width=\"0.0432\" points=\"0.0,0.0 6.123233995736766e-17,1.0\" opacity=\"0.8\" /><polyline fill=\"none\" stroke=\"#66cc99\" stroke-width=\"0.0432\" points=\"0.0,0.0 -0.3826834323650897,0.9238795325112867\" opacity=\"0.8\" /><polyline fill=\"none\" stroke=\"#66cc99\" stroke-width=\"0.0432\" points=\"0.0,0.0 -0.7071067811865475,0.7071067811865477\" opacity=\"0.8\" /><polyline fill=\"none\" stroke=\"#66cc99\" stroke-width=\"0.0432\" points=\"0.0,0.0 -0.9238795325112866,0.3826834323650899\" opacity=\"0.8\" /><polyline fill=\"none\" stroke=\"#66cc99\" stroke-width=\"0.0432\" points=\"0.0,0.0 -1.0,1.2246467991473532e-16\" opacity=\"0.8\" /><polyline fill=\"none\" stroke=\"#66cc99\" stroke-width=\"0.0432\" points=\"0.0,0.0 -0.9238795325112867,-0.38268343236508967\" opacity=\"0.8\" /><polyline fill=\"none\" stroke=\"#66cc99\" stroke-width=\"0.0432\" points=\"0.0,0.0 -0.7071067811865477,-0.7071067811865475\" opacity=\"0.8\" /><polyline fill=\"none\" stroke=\"#66cc99\" stroke-width=\"0.0432\" points=\"0.0,0.0 -0.38268343236509034,-0.9238795325112864\" opacity=\"0.8\" /><polyline fill=\"none\" stroke=\"#66cc99\" stroke-width=\"0.0432\" points=\"0.0,0.0 -1.8369701987210297e-16,-1.0\" opacity=\"0.8\" /><polyline fill=\"none\" stroke=\"#66cc99\" stroke-width=\"0.0432\" points=\"0.0,0.0 0.38268343236509006,-0.9238795325112866\" opacity=\"0.8\" /><polyline fill=\"none\" stroke=\"#66cc99\" stroke-width=\"0.0432\" points=\"0.0,0.0 0.7071067811865474,-0.7071067811865477\" opacity=\"0.8\" /><polyline fill=\"none\" stroke=\"#66cc99\" stroke-width=\"0.0432\" points=\"0.0,0.0 0.9238795325112864,-0.3826834323650904\" opacity=\"0.8\" /></g></g></svg>"
      ],
      "text/plain": [
       "<shapely.geometry.multilinestring.MultiLineString at 0x7f37531c4910>"
      ]
     },
     "execution_count": 296,
     "metadata": {},
     "output_type": "execute_result"
    }
   ],
   "source": [
    "rays = LineString([[0, 0], ALLOWED_MOVEMENTS[0]* 20 * 120])\n",
    "for movement in ALLOWED_MOVEMENTS:\n",
    "    rays = rays.union(LineString([[0, 0], movement* 20 * 12]))\n",
    "\n",
    "rays"
   ]
  },
  {
   "cell_type": "code",
   "execution_count": 297,
   "id": "c4a8d23f-3e13-4f34-afec-3eea3bba0db2",
   "metadata": {},
   "outputs": [],
   "source": [
    "rays = shapely.affinity.affine_transform(rays.buffer(10), [1, 0, 0, 1, 1500, 1000])\n"
   ]
  },
  {
   "cell_type": "code",
   "execution_count": 299,
   "id": "99190790-e5b4-450d-9e8a-10b9d60d8a13",
   "metadata": {},
   "outputs": [
    {
     "data": {
      "image/svg+xml": [
       "<svg xmlns=\"http://www.w3.org/2000/svg\" xmlns:xlink=\"http://www.w3.org/1999/xlink\" width=\"300\" height=\"300\" viewBox=\"-141.16 -141.16 3811.3199999999997 3151.3199999999997\" preserveAspectRatio=\"xMinYMin meet\"><g transform=\"matrix(1,0,0,-1,0,2869.0)\"><g><path fill-rule=\"evenodd\" fill=\"#66cc99\" stroke=\"#555555\" stroke-width=\"25.4088\" opacity=\"0.6\" d=\"M 3516.0,3.0 L 3518.0,3.0 L 3518.0,4.0 L 3519.0,4.0 L 3519.0,5.0 L 3521.0,5.0 L 3521.0,6.0 L 3522.0,6.0 L 3522.0,7.0 L 3523.0,7.0 L 3523.0,8.0 L 3524.0,8.0 L 3524.0,9.0 L 3525.0,9.0 L 3525.0,11.0 L 3526.0,11.0 L 3526.0,12.0 L 3527.0,12.0 L 3527.0,14.0 L 3528.0,14.0 L 3528.0,17.0 L 3529.0,17.0 L 3529.0,0.0 L 3510.0,0.0 L 3510.0,1.0 L 3513.0,1.0 L 3513.0,2.0 L 3516.0,2.0 L 3516.0,3.0 z\" /><path fill-rule=\"evenodd\" fill=\"#66cc99\" stroke=\"#555555\" stroke-width=\"25.4088\" opacity=\"0.6\" d=\"M 2.0,1037.0 L 2.0,1034.0 L 3.0,1034.0 L 3.0,1032.0 L 4.0,1032.0 L 4.0,1031.0 L 5.0,1031.0 L 5.0,1029.0 L 6.0,1029.0 L 6.0,1028.0 L 7.0,1028.0 L 7.0,1027.0 L 8.0,1027.0 L 8.0,1026.0 L 9.0,1026.0 L 9.0,1025.0 L 11.0,1025.0 L 11.0,1024.0 L 12.0,1024.0 L 12.0,1023.0 L 14.0,1023.0 L 14.0,1022.0 L 17.0,1022.0 L 17.0,1021.0 L 20.0,1021.0 L 20.0,1020.0 L 830.0,1020.0 L 830.0,920.0 L 831.0,920.0 L 831.0,917.0 L 832.0,917.0 L 832.0,914.0 L 833.0,914.0 L 833.0,912.0 L 834.0,912.0 L 834.0,911.0 L 835.0,911.0 L 835.0,909.0 L 836.0,909.0 L 836.0,908.0 L 837.0,908.0 L 837.0,907.0 L 838.0,907.0 L 838.0,906.0 L 839.0,906.0 L 839.0,905.0 L 841.0,905.0 L 841.0,904.0 L 842.0,904.0 L 842.0,903.0 L 844.0,903.0 L 844.0,902.0 L 847.0,902.0 L 847.0,901.0 L 850.0,901.0 L 850.0,900.0 L 1610.0,900.0 L 1610.0,901.0 L 1613.0,901.0 L 1613.0,902.0 L 1616.0,902.0 L 1616.0,903.0 L 1618.0,903.0 L 1618.0,904.0 L 1619.0,904.0 L 1619.0,905.0 L 1621.0,905.0 L 1621.0,906.0 L 1622.0,906.0 L 1622.0,907.0 L 1623.0,907.0 L 1623.0,908.0 L 1624.0,908.0 L 1624.0,909.0 L 1625.0,909.0 L 1625.0,911.0 L 1626.0,911.0 L 1626.0,912.0 L 1627.0,912.0 L 1627.0,914.0 L 1628.0,914.0 L 1628.0,917.0 L 1629.0,917.0 L 1629.0,920.0 L 1630.0,920.0 L 1630.0,1020.0 L 1750.0,1020.0 L 1750.0,1021.0 L 1753.0,1021.0 L 1753.0,1022.0 L 1756.0,1022.0 L 1756.0,1023.0 L 1758.0,1023.0 L 1758.0,1024.0 L 1759.0,1024.0 L 1759.0,1025.0 L 1761.0,1025.0 L 1761.0,1026.0 L 1762.0,1026.0 L 1762.0,1027.0 L 1763.0,1027.0 L 1763.0,1028.0 L 1764.0,1028.0 L 1764.0,1029.0 L 1765.0,1029.0 L 1765.0,1031.0 L 1766.0,1031.0 L 1766.0,1032.0 L 1767.0,1032.0 L 1767.0,1034.0 L 1768.0,1034.0 L 1768.0,1037.0 L 1769.0,1037.0 L 1769.0,1040.0 L 1770.0,1040.0 L 1770.0,1280.0 L 2150.0,1280.0 L 2150.0,20.0 L 2151.0,20.0 L 2151.0,17.0 L 2152.0,17.0 L 2152.0,14.0 L 2153.0,14.0 L 2153.0,12.0 L 2154.0,12.0 L 2154.0,11.0 L 2155.0,11.0 L 2155.0,9.0 L 2156.0,9.0 L 2156.0,8.0 L 2157.0,8.0 L 2157.0,7.0 L 2158.0,7.0 L 2158.0,6.0 L 2159.0,6.0 L 2159.0,5.0 L 2161.0,5.0 L 2161.0,4.0 L 2162.0,4.0 L 2162.0,3.0 L 2164.0,3.0 L 2164.0,2.0 L 2167.0,2.0 L 2167.0,1.0 L 2170.0,1.0 L 2170.0,0.0 L 0.0,0.0 L 0.0,1040.0 L 1.0,1040.0 L 1.0,1037.0 L 2.0,1037.0 z\" /><path fill-rule=\"evenodd\" fill=\"#66cc99\" stroke=\"#555555\" stroke-width=\"25.4088\" opacity=\"0.6\" d=\"M 2851.0,1281.0 L 2851.0,1282.0 L 2853.0,1282.0 L 2853.0,1283.0 L 2855.0,1283.0 L 2855.0,1284.0 L 2857.0,1284.0 L 2857.0,1285.0 L 2858.0,1285.0 L 2858.0,1286.0 L 2859.0,1286.0 L 2859.0,1287.0 L 2860.0,1287.0 L 2860.0,1288.0 L 2861.0,1288.0 L 2861.0,1289.0 L 2862.0,1289.0 L 2862.0,1290.0 L 2863.0,1290.0 L 2863.0,1291.0 L 2864.0,1291.0 L 2864.0,1293.0 L 2865.0,1293.0 L 2865.0,1295.0 L 2866.0,1295.0 L 2866.0,1298.0 L 2867.0,1298.0 L 2867.0,1342.0 L 2866.0,1342.0 L 2866.0,1345.0 L 2865.0,1345.0 L 2865.0,1347.0 L 2864.0,1347.0 L 2864.0,1349.0 L 2863.0,1349.0 L 2863.0,1350.0 L 2862.0,1350.0 L 2862.0,1351.0 L 2861.0,1351.0 L 2861.0,1352.0 L 2860.0,1352.0 L 2860.0,1353.0 L 2859.0,1353.0 L 2859.0,1354.0 L 2858.0,1354.0 L 2858.0,1355.0 L 2857.0,1355.0 L 2857.0,1356.0 L 2855.0,1356.0 L 2855.0,1357.0 L 2853.0,1357.0 L 2853.0,1358.0 L 2851.0,1358.0 L 2851.0,1359.0 L 2847.0,1359.0 L 2847.0,1360.0 L 2845.0,1360.0 L 2845.0,1572.0 L 2844.0,1572.0 L 2844.0,1576.0 L 2843.0,1576.0 L 2843.0,1578.0 L 2842.0,1578.0 L 2842.0,1580.0 L 2841.0,1580.0 L 2841.0,1582.0 L 2840.0,1582.0 L 2840.0,1583.0 L 2839.0,1583.0 L 2839.0,1584.0 L 2838.0,1584.0 L 2838.0,1585.0 L 2837.0,1585.0 L 2837.0,1586.0 L 2836.0,1586.0 L 2836.0,1587.0 L 2835.0,1587.0 L 2835.0,1588.0 L 2834.0,1588.0 L 2834.0,1589.0 L 2832.0,1589.0 L 2832.0,1590.0 L 2830.0,1590.0 L 2830.0,1591.0 L 2827.0,1591.0 L 2827.0,1592.0 L 2793.0,1592.0 L 2793.0,1591.0 L 2790.0,1591.0 L 2790.0,1590.0 L 2788.0,1590.0 L 2788.0,1589.0 L 2786.0,1589.0 L 2786.0,1588.0 L 2785.0,1588.0 L 2785.0,1587.0 L 2784.0,1587.0 L 2784.0,1586.0 L 2783.0,1586.0 L 2783.0,1585.0 L 2782.0,1585.0 L 2782.0,1584.0 L 2781.0,1584.0 L 2781.0,1583.0 L 2780.0,1583.0 L 2780.0,1582.0 L 2779.0,1582.0 L 2779.0,1580.0 L 2778.0,1580.0 L 2778.0,1578.0 L 2777.0,1578.0 L 2777.0,1576.0 L 2776.0,1576.0 L 2776.0,1572.0 L 2775.0,1572.0 L 2775.0,1360.0 L 2510.0,1360.0 L 2510.0,1572.0 L 2509.0,1572.0 L 2509.0,1576.0 L 2508.0,1576.0 L 2508.0,1578.0 L 2507.0,1578.0 L 2507.0,1580.0 L 2506.0,1580.0 L 2506.0,1582.0 L 2505.0,1582.0 L 2505.0,1583.0 L 2504.0,1583.0 L 2504.0,1584.0 L 2503.0,1584.0 L 2503.0,1585.0 L 2502.0,1585.0 L 2502.0,1586.0 L 2501.0,1586.0 L 2501.0,1587.0 L 2500.0,1587.0 L 2500.0,1588.0 L 2499.0,1588.0 L 2499.0,1589.0 L 2497.0,1589.0 L 2497.0,1590.0 L 2495.0,1590.0 L 2495.0,1591.0 L 2492.0,1591.0 L 2492.0,1592.0 L 2458.0,1592.0 L 2458.0,1591.0 L 2455.0,1591.0 L 2455.0,1590.0 L 2453.0,1590.0 L 2453.0,1589.0 L 2451.0,1589.0 L 2451.0,1588.0 L 2450.0,1588.0 L 2450.0,1587.0 L 2449.0,1587.0 L 2449.0,1586.0 L 2448.0,1586.0 L 2448.0,1585.0 L 2447.0,1585.0 L 2447.0,1584.0 L 2446.0,1584.0 L 2446.0,1583.0 L 2445.0,1583.0 L 2445.0,1582.0 L 2444.0,1582.0 L 2444.0,1580.0 L 2443.0,1580.0 L 2443.0,1578.0 L 2442.0,1578.0 L 2442.0,1576.0 L 2441.0,1576.0 L 2441.0,1572.0 L 2440.0,1572.0 L 2440.0,1360.0 L 2230.0,1360.0 L 2230.0,1710.0 L 2441.0,1710.0 L 2441.0,1709.0 L 2442.0,1709.0 L 2442.0,1707.0 L 2443.0,1707.0 L 2443.0,1705.0 L 2444.0,1705.0 L 2444.0,1703.0 L 2445.0,1703.0 L 2445.0,1702.0 L 2446.0,1702.0 L 2446.0,1701.0 L 2447.0,1701.0 L 2447.0,1700.0 L 2448.0,1700.0 L 2448.0,1699.0 L 2449.0,1699.0 L 2449.0,1698.0 L 2450.0,1698.0 L 2450.0,1697.0 L 2451.0,1697.0 L 2451.0,1696.0 L 2453.0,1696.0 L 2453.0,1695.0 L 2455.0,1695.0 L 2455.0,1694.0 L 2458.0,1694.0 L 2458.0,1693.0 L 2465.0,1693.0 L 2465.0,1692.0 L 2485.0,1692.0 L 2485.0,1693.0 L 2492.0,1693.0 L 2492.0,1694.0 L 2495.0,1694.0 L 2495.0,1695.0 L 2497.0,1695.0 L 2497.0,1696.0 L 2499.0,1696.0 L 2499.0,1697.0 L 2500.0,1697.0 L 2500.0,1698.0 L 2501.0,1698.0 L 2501.0,1699.0 L 2502.0,1699.0 L 2502.0,1700.0 L 2503.0,1700.0 L 2503.0,1701.0 L 2504.0,1701.0 L 2504.0,1702.0 L 2505.0,1702.0 L 2505.0,1703.0 L 2506.0,1703.0 L 2506.0,1705.0 L 2507.0,1705.0 L 2507.0,1707.0 L 2508.0,1707.0 L 2508.0,1709.0 L 2509.0,1709.0 L 2509.0,1710.0 L 2776.0,1710.0 L 2776.0,1709.0 L 2777.0,1709.0 L 2777.0,1707.0 L 2778.0,1707.0 L 2778.0,1705.0 L 2779.0,1705.0 L 2779.0,1703.0 L 2780.0,1703.0 L 2780.0,1702.0 L 2781.0,1702.0 L 2781.0,1701.0 L 2782.0,1701.0 L 2782.0,1700.0 L 2783.0,1700.0 L 2783.0,1699.0 L 2784.0,1699.0 L 2784.0,1698.0 L 2785.0,1698.0 L 2785.0,1697.0 L 2786.0,1697.0 L 2786.0,1696.0 L 2788.0,1696.0 L 2788.0,1695.0 L 2790.0,1695.0 L 2790.0,1694.0 L 2793.0,1694.0 L 2793.0,1693.0 L 2800.0,1693.0 L 2800.0,1692.0 L 2820.0,1692.0 L 2820.0,1693.0 L 2827.0,1693.0 L 2827.0,1694.0 L 2830.0,1694.0 L 2830.0,1695.0 L 2832.0,1695.0 L 2832.0,1696.0 L 2834.0,1696.0 L 2834.0,1697.0 L 2835.0,1697.0 L 2835.0,1698.0 L 2836.0,1698.0 L 2836.0,1699.0 L 2837.0,1699.0 L 2837.0,1700.0 L 2838.0,1700.0 L 2838.0,1701.0 L 2839.0,1701.0 L 2839.0,1702.0 L 2840.0,1702.0 L 2840.0,1703.0 L 2841.0,1703.0 L 2841.0,1705.0 L 2842.0,1705.0 L 2842.0,1707.0 L 2843.0,1707.0 L 2843.0,1709.0 L 2844.0,1709.0 L 2844.0,1713.0 L 2845.0,1713.0 L 2845.0,1760.0 L 2844.0,1760.0 L 2844.0,1763.0 L 2843.0,1763.0 L 2843.0,1766.0 L 2842.0,1766.0 L 2842.0,1768.0 L 2841.0,1768.0 L 2841.0,1769.0 L 2840.0,1769.0 L 2840.0,1771.0 L 2839.0,1771.0 L 2839.0,1772.0 L 2838.0,1772.0 L 2838.0,1773.0 L 2837.0,1773.0 L 2837.0,1774.0 L 2836.0,1774.0 L 2836.0,1775.0 L 2834.0,1775.0 L 2834.0,1776.0 L 2833.0,1776.0 L 2833.0,1777.0 L 2831.0,1777.0 L 2831.0,1778.0 L 2828.0,1778.0 L 2828.0,1779.0 L 2825.0,1779.0 L 2825.0,1780.0 L 2720.0,1780.0 L 2720.0,2050.0 L 2719.0,2050.0 L 2719.0,2053.0 L 2718.0,2053.0 L 2718.0,2056.0 L 2717.0,2056.0 L 2717.0,2058.0 L 2716.0,2058.0 L 2716.0,2059.0 L 2715.0,2059.0 L 2715.0,2061.0 L 2714.0,2061.0 L 2714.0,2062.0 L 2713.0,2062.0 L 2713.0,2063.0 L 2712.0,2063.0 L 2712.0,2064.0 L 2711.0,2064.0 L 2711.0,2065.0 L 2709.0,2065.0 L 2709.0,2066.0 L 2708.0,2066.0 L 2708.0,2067.0 L 2706.0,2067.0 L 2706.0,2068.0 L 2703.0,2068.0 L 2703.0,2069.0 L 2700.0,2069.0 L 2700.0,2070.0 L 2670.0,2070.0 L 2670.0,2069.0 L 2667.0,2069.0 L 2667.0,2068.0 L 2664.0,2068.0 L 2664.0,2067.0 L 2662.0,2067.0 L 2662.0,2066.0 L 2661.0,2066.0 L 2661.0,2065.0 L 2659.0,2065.0 L 2659.0,2064.0 L 2658.0,2064.0 L 2658.0,2063.0 L 2657.0,2063.0 L 2657.0,2062.0 L 2656.0,2062.0 L 2656.0,2061.0 L 2655.0,2061.0 L 2655.0,2059.0 L 2654.0,2059.0 L 2654.0,2058.0 L 2653.0,2058.0 L 2653.0,2056.0 L 2652.0,2056.0 L 2652.0,2053.0 L 2651.0,2053.0 L 2651.0,2050.0 L 2650.0,2050.0 L 2650.0,1780.0 L 2180.0,1780.0 L 2180.0,1779.0 L 2177.0,1779.0 L 2177.0,1778.0 L 2174.0,1778.0 L 2174.0,1777.0 L 2172.0,1777.0 L 2172.0,1776.0 L 2171.0,1776.0 L 2171.0,1775.0 L 2169.0,1775.0 L 2169.0,1774.0 L 2168.0,1774.0 L 2168.0,1773.0 L 2167.0,1773.0 L 2167.0,1772.0 L 2166.0,1772.0 L 2166.0,1771.0 L 2165.0,1771.0 L 2165.0,1769.0 L 2164.0,1769.0 L 2164.0,1768.0 L 2163.0,1768.0 L 2163.0,1766.0 L 2162.0,1766.0 L 2162.0,1763.0 L 2161.0,1763.0 L 2161.0,1760.0 L 2160.0,1760.0 L 2160.0,1360.0 L 1760.0,1360.0 L 1760.0,1600.0 L 1759.0,1600.0 L 1759.0,1603.0 L 1758.0,1603.0 L 1758.0,1606.0 L 1757.0,1606.0 L 1757.0,1608.0 L 1756.0,1608.0 L 1756.0,1609.0 L 1755.0,1609.0 L 1755.0,1611.0 L 1754.0,1611.0 L 1754.0,1612.0 L 1753.0,1612.0 L 1753.0,1613.0 L 1752.0,1613.0 L 1752.0,1614.0 L 1751.0,1614.0 L 1751.0,1615.0 L 1749.0,1615.0 L 1749.0,1616.0 L 1748.0,1616.0 L 1748.0,1617.0 L 1746.0,1617.0 L 1746.0,1618.0 L 1743.0,1618.0 L 1743.0,1619.0 L 1740.0,1619.0 L 1740.0,1620.0 L 1710.0,1620.0 L 1710.0,1619.0 L 1707.0,1619.0 L 1707.0,1618.0 L 1704.0,1618.0 L 1704.0,1617.0 L 1702.0,1617.0 L 1702.0,1616.0 L 1701.0,1616.0 L 1701.0,1615.0 L 1699.0,1615.0 L 1699.0,1614.0 L 1698.0,1614.0 L 1698.0,1613.0 L 1697.0,1613.0 L 1697.0,1612.0 L 1696.0,1612.0 L 1696.0,1611.0 L 1695.0,1611.0 L 1695.0,1609.0 L 1694.0,1609.0 L 1694.0,1608.0 L 1693.0,1608.0 L 1693.0,1606.0 L 1692.0,1606.0 L 1692.0,1603.0 L 1691.0,1603.0 L 1691.0,1600.0 L 1620.0,1600.0 L 1620.0,1710.0 L 1691.0,1710.0 L 1691.0,1707.0 L 1692.0,1707.0 L 1692.0,1704.0 L 1693.0,1704.0 L 1693.0,1702.0 L 1694.0,1702.0 L 1694.0,1701.0 L 1695.0,1701.0 L 1695.0,1699.0 L 1696.0,1699.0 L 1696.0,1698.0 L 1697.0,1698.0 L 1697.0,1697.0 L 1698.0,1697.0 L 1698.0,1696.0 L 1699.0,1696.0 L 1699.0,1695.0 L 1701.0,1695.0 L 1701.0,1694.0 L 1702.0,1694.0 L 1702.0,1693.0 L 1704.0,1693.0 L 1704.0,1692.0 L 1707.0,1692.0 L 1707.0,1691.0 L 1710.0,1691.0 L 1710.0,1690.0 L 1740.0,1690.0 L 1740.0,1691.0 L 1743.0,1691.0 L 1743.0,1692.0 L 1746.0,1692.0 L 1746.0,1693.0 L 1748.0,1693.0 L 1748.0,1694.0 L 1749.0,1694.0 L 1749.0,1695.0 L 1751.0,1695.0 L 1751.0,1696.0 L 1752.0,1696.0 L 1752.0,1697.0 L 1753.0,1697.0 L 1753.0,1698.0 L 1754.0,1698.0 L 1754.0,1699.0 L 1755.0,1699.0 L 1755.0,1701.0 L 1756.0,1701.0 L 1756.0,1702.0 L 1757.0,1702.0 L 1757.0,1704.0 L 1758.0,1704.0 L 1758.0,1707.0 L 1759.0,1707.0 L 1759.0,1710.0 L 1760.0,1710.0 L 1760.0,1760.0 L 1759.0,1760.0 L 1759.0,1763.0 L 1758.0,1763.0 L 1758.0,1766.0 L 1757.0,1766.0 L 1757.0,1768.0 L 1756.0,1768.0 L 1756.0,1769.0 L 1755.0,1769.0 L 1755.0,1771.0 L 1754.0,1771.0 L 1754.0,1772.0 L 1753.0,1772.0 L 1753.0,1773.0 L 1752.0,1773.0 L 1752.0,1774.0 L 1751.0,1774.0 L 1751.0,1775.0 L 1749.0,1775.0 L 1749.0,1776.0 L 1748.0,1776.0 L 1748.0,1777.0 L 1746.0,1777.0 L 1746.0,1778.0 L 1743.0,1778.0 L 1743.0,1779.0 L 1740.0,1779.0 L 1740.0,1780.0 L 1048.0,1780.0 L 1048.0,1779.0 L 1044.0,1779.0 L 1044.0,1778.0 L 1042.0,1778.0 L 1042.0,1777.0 L 1040.0,1777.0 L 1040.0,1776.0 L 1038.0,1776.0 L 1038.0,1775.0 L 1037.0,1775.0 L 1037.0,1774.0 L 1036.0,1774.0 L 1036.0,1773.0 L 1035.0,1773.0 L 1035.0,1772.0 L 1034.0,1772.0 L 1034.0,1771.0 L 1033.0,1771.0 L 1033.0,1770.0 L 1032.0,1770.0 L 1032.0,1769.0 L 1031.0,1769.0 L 1031.0,1767.0 L 1030.0,1767.0 L 1030.0,1765.0 L 1029.0,1765.0 L 1029.0,1762.0 L 1028.0,1762.0 L 1028.0,1755.0 L 1027.0,1755.0 L 1027.0,1735.0 L 1028.0,1735.0 L 1028.0,1728.0 L 1029.0,1728.0 L 1029.0,1725.0 L 1030.0,1725.0 L 1030.0,1723.0 L 1031.0,1723.0 L 1031.0,1721.0 L 1032.0,1721.0 L 1032.0,1720.0 L 1033.0,1720.0 L 1033.0,1719.0 L 1034.0,1719.0 L 1034.0,1718.0 L 1035.0,1718.0 L 1035.0,1717.0 L 1036.0,1717.0 L 1036.0,1716.0 L 1037.0,1716.0 L 1037.0,1715.0 L 1038.0,1715.0 L 1038.0,1714.0 L 1040.0,1714.0 L 1040.0,1713.0 L 1042.0,1713.0 L 1042.0,1712.0 L 1044.0,1712.0 L 1044.0,1711.0 L 1048.0,1711.0 L 1048.0,1710.0 L 1550.0,1710.0 L 1550.0,1520.0 L 1551.0,1520.0 L 1551.0,1517.0 L 1552.0,1517.0 L 1552.0,1514.0 L 1553.0,1514.0 L 1553.0,1512.0 L 1554.0,1512.0 L 1554.0,1511.0 L 1555.0,1511.0 L 1555.0,1509.0 L 1556.0,1509.0 L 1556.0,1508.0 L 1557.0,1508.0 L 1557.0,1507.0 L 1558.0,1507.0 L 1558.0,1506.0 L 1559.0,1506.0 L 1559.0,1505.0 L 1561.0,1505.0 L 1561.0,1504.0 L 1562.0,1504.0 L 1562.0,1503.0 L 1564.0,1503.0 L 1564.0,1502.0 L 1567.0,1502.0 L 1567.0,1501.0 L 1570.0,1501.0 L 1570.0,1500.0 L 1600.0,1500.0 L 1600.0,1501.0 L 1603.0,1501.0 L 1603.0,1502.0 L 1606.0,1502.0 L 1606.0,1503.0 L 1608.0,1503.0 L 1608.0,1504.0 L 1609.0,1504.0 L 1609.0,1505.0 L 1611.0,1505.0 L 1611.0,1506.0 L 1612.0,1506.0 L 1612.0,1507.0 L 1613.0,1507.0 L 1613.0,1508.0 L 1614.0,1508.0 L 1614.0,1509.0 L 1615.0,1509.0 L 1615.0,1511.0 L 1616.0,1511.0 L 1616.0,1512.0 L 1617.0,1512.0 L 1617.0,1514.0 L 1618.0,1514.0 L 1618.0,1517.0 L 1619.0,1517.0 L 1619.0,1520.0 L 1620.0,1520.0 L 1620.0,1530.0 L 1690.0,1530.0 L 1690.0,1100.0 L 1620.0,1100.0 L 1620.0,1110.0 L 1619.0,1110.0 L 1619.0,1113.0 L 1618.0,1113.0 L 1618.0,1116.0 L 1617.0,1116.0 L 1617.0,1118.0 L 1616.0,1118.0 L 1616.0,1119.0 L 1615.0,1119.0 L 1615.0,1121.0 L 1614.0,1121.0 L 1614.0,1122.0 L 1613.0,1122.0 L 1613.0,1123.0 L 1612.0,1123.0 L 1612.0,1124.0 L 1611.0,1124.0 L 1611.0,1125.0 L 1609.0,1125.0 L 1609.0,1126.0 L 1608.0,1126.0 L 1608.0,1127.0 L 1606.0,1127.0 L 1606.0,1128.0 L 1603.0,1128.0 L 1603.0,1129.0 L 1600.0,1129.0 L 1600.0,1130.0 L 1570.0,1130.0 L 1570.0,1129.0 L 1567.0,1129.0 L 1567.0,1128.0 L 1564.0,1128.0 L 1564.0,1127.0 L 1562.0,1127.0 L 1562.0,1126.0 L 1561.0,1126.0 L 1561.0,1125.0 L 1559.0,1125.0 L 1559.0,1124.0 L 1558.0,1124.0 L 1558.0,1123.0 L 1557.0,1123.0 L 1557.0,1122.0 L 1556.0,1122.0 L 1556.0,1121.0 L 1555.0,1121.0 L 1555.0,1119.0 L 1554.0,1119.0 L 1554.0,1118.0 L 1553.0,1118.0 L 1553.0,1116.0 L 1552.0,1116.0 L 1552.0,1113.0 L 1551.0,1113.0 L 1551.0,1110.0 L 1550.0,1110.0 L 1550.0,980.0 L 910.0,980.0 L 910.0,1711.0 L 911.0,1711.0 L 911.0,1712.0 L 913.0,1712.0 L 913.0,1713.0 L 915.0,1713.0 L 915.0,1714.0 L 917.0,1714.0 L 917.0,1715.0 L 918.0,1715.0 L 918.0,1716.0 L 919.0,1716.0 L 919.0,1717.0 L 920.0,1717.0 L 920.0,1718.0 L 921.0,1718.0 L 921.0,1719.0 L 922.0,1719.0 L 922.0,1720.0 L 923.0,1720.0 L 923.0,1721.0 L 924.0,1721.0 L 924.0,1723.0 L 925.0,1723.0 L 925.0,1725.0 L 926.0,1725.0 L 926.0,1728.0 L 927.0,1728.0 L 927.0,1762.0 L 926.0,1762.0 L 926.0,1765.0 L 925.0,1765.0 L 925.0,1767.0 L 924.0,1767.0 L 924.0,1769.0 L 923.0,1769.0 L 923.0,1770.0 L 922.0,1770.0 L 922.0,1771.0 L 921.0,1771.0 L 921.0,1772.0 L 920.0,1772.0 L 920.0,1773.0 L 919.0,1773.0 L 919.0,1774.0 L 918.0,1774.0 L 918.0,1775.0 L 917.0,1775.0 L 917.0,1776.0 L 915.0,1776.0 L 915.0,1777.0 L 913.0,1777.0 L 913.0,1778.0 L 911.0,1778.0 L 911.0,1779.0 L 907.0,1779.0 L 907.0,1780.0 L 843.0,1780.0 L 843.0,1779.0 L 839.0,1779.0 L 839.0,1778.0 L 837.0,1778.0 L 837.0,1777.0 L 835.0,1777.0 L 835.0,1776.0 L 833.0,1776.0 L 833.0,1775.0 L 832.0,1775.0 L 832.0,1774.0 L 831.0,1774.0 L 831.0,1773.0 L 830.0,1773.0 L 830.0,1772.0 L 829.0,1772.0 L 829.0,1771.0 L 828.0,1771.0 L 828.0,1770.0 L 827.0,1770.0 L 827.0,1769.0 L 826.0,1769.0 L 826.0,1767.0 L 825.0,1767.0 L 825.0,1765.0 L 824.0,1765.0 L 824.0,1762.0 L 823.0,1762.0 L 823.0,1755.0 L 822.0,1755.0 L 822.0,1735.0 L 823.0,1735.0 L 823.0,1728.0 L 824.0,1728.0 L 824.0,1725.0 L 825.0,1725.0 L 825.0,1723.0 L 826.0,1723.0 L 826.0,1721.0 L 827.0,1721.0 L 827.0,1720.0 L 828.0,1720.0 L 828.0,1719.0 L 829.0,1719.0 L 829.0,1718.0 L 830.0,1718.0 L 830.0,1717.0 L 831.0,1717.0 L 831.0,1716.0 L 832.0,1716.0 L 832.0,1715.0 L 833.0,1715.0 L 833.0,1714.0 L 835.0,1714.0 L 835.0,1713.0 L 837.0,1713.0 L 837.0,1712.0 L 839.0,1712.0 L 839.0,1711.0 L 840.0,1711.0 L 840.0,1100.0 L 80.0,1100.0 L 80.0,1710.0 L 230.0,1710.0 L 230.0,1711.0 L 233.0,1711.0 L 233.0,1712.0 L 236.0,1712.0 L 236.0,1713.0 L 238.0,1713.0 L 238.0,1714.0 L 239.0,1714.0 L 239.0,1715.0 L 241.0,1715.0 L 241.0,1716.0 L 242.0,1716.0 L 242.0,1717.0 L 243.0,1717.0 L 243.0,1718.0 L 244.0,1718.0 L 244.0,1719.0 L 245.0,1719.0 L 245.0,1721.0 L 246.0,1721.0 L 246.0,1722.0 L 247.0,1722.0 L 247.0,1724.0 L 248.0,1724.0 L 248.0,1727.0 L 249.0,1727.0 L 249.0,1730.0 L 250.0,1730.0 L 250.0,1760.0 L 249.0,1760.0 L 249.0,1763.0 L 248.0,1763.0 L 248.0,1766.0 L 247.0,1766.0 L 247.0,1768.0 L 246.0,1768.0 L 246.0,1769.0 L 245.0,1769.0 L 245.0,1771.0 L 244.0,1771.0 L 244.0,1772.0 L 243.0,1772.0 L 243.0,1773.0 L 242.0,1773.0 L 242.0,1774.0 L 241.0,1774.0 L 241.0,1775.0 L 239.0,1775.0 L 239.0,1776.0 L 238.0,1776.0 L 238.0,1777.0 L 236.0,1777.0 L 236.0,1778.0 L 233.0,1778.0 L 233.0,1779.0 L 230.0,1779.0 L 230.0,1780.0 L 80.0,1780.0 L 80.0,1930.0 L 515.0,1930.0 L 515.0,1780.0 L 370.0,1780.0 L 370.0,1779.0 L 367.0,1779.0 L 367.0,1778.0 L 364.0,1778.0 L 364.0,1777.0 L 362.0,1777.0 L 362.0,1776.0 L 361.0,1776.0 L 361.0,1775.0 L 359.0,1775.0 L 359.0,1774.0 L 358.0,1774.0 L 358.0,1773.0 L 357.0,1773.0 L 357.0,1772.0 L 356.0,1772.0 L 356.0,1771.0 L 355.0,1771.0 L 355.0,1769.0 L 354.0,1769.0 L 354.0,1768.0 L 353.0,1768.0 L 353.0,1766.0 L 352.0,1766.0 L 352.0,1763.0 L 351.0,1763.0 L 351.0,1760.0 L 350.0,1760.0 L 350.0,1730.0 L 351.0,1730.0 L 351.0,1727.0 L 352.0,1727.0 L 352.0,1724.0 L 353.0,1724.0 L 353.0,1722.0 L 354.0,1722.0 L 354.0,1721.0 L 355.0,1721.0 L 355.0,1719.0 L 356.0,1719.0 L 356.0,1718.0 L 357.0,1718.0 L 357.0,1717.0 L 358.0,1717.0 L 358.0,1716.0 L 359.0,1716.0 L 359.0,1715.0 L 361.0,1715.0 L 361.0,1714.0 L 362.0,1714.0 L 362.0,1713.0 L 364.0,1713.0 L 364.0,1712.0 L 367.0,1712.0 L 367.0,1711.0 L 370.0,1711.0 L 370.0,1710.0 L 702.0,1710.0 L 702.0,1711.0 L 706.0,1711.0 L 706.0,1712.0 L 708.0,1712.0 L 708.0,1713.0 L 710.0,1713.0 L 710.0,1714.0 L 712.0,1714.0 L 712.0,1715.0 L 713.0,1715.0 L 713.0,1716.0 L 714.0,1716.0 L 714.0,1717.0 L 715.0,1717.0 L 715.0,1718.0 L 716.0,1718.0 L 716.0,1719.0 L 717.0,1719.0 L 717.0,1720.0 L 718.0,1720.0 L 718.0,1721.0 L 719.0,1721.0 L 719.0,1723.0 L 720.0,1723.0 L 720.0,1725.0 L 721.0,1725.0 L 721.0,1728.0 L 722.0,1728.0 L 722.0,1762.0 L 721.0,1762.0 L 721.0,1765.0 L 720.0,1765.0 L 720.0,1767.0 L 719.0,1767.0 L 719.0,1769.0 L 718.0,1769.0 L 718.0,1770.0 L 717.0,1770.0 L 717.0,1771.0 L 716.0,1771.0 L 716.0,1772.0 L 715.0,1772.0 L 715.0,1773.0 L 714.0,1773.0 L 714.0,1774.0 L 713.0,1774.0 L 713.0,1775.0 L 712.0,1775.0 L 712.0,1776.0 L 710.0,1776.0 L 710.0,1777.0 L 708.0,1777.0 L 708.0,1778.0 L 706.0,1778.0 L 706.0,1779.0 L 705.0,1779.0 L 705.0,1790.0 L 704.0,1790.0 L 704.0,1793.0 L 703.0,1793.0 L 703.0,1796.0 L 702.0,1796.0 L 702.0,1798.0 L 701.0,1798.0 L 701.0,1799.0 L 700.0,1799.0 L 700.0,1801.0 L 699.0,1801.0 L 699.0,1802.0 L 698.0,1802.0 L 698.0,1803.0 L 697.0,1803.0 L 697.0,1804.0 L 696.0,1804.0 L 696.0,1805.0 L 694.0,1805.0 L 694.0,1806.0 L 693.0,1806.0 L 693.0,1807.0 L 691.0,1807.0 L 691.0,1808.0 L 688.0,1808.0 L 688.0,1809.0 L 685.0,1809.0 L 685.0,1810.0 L 655.0,1810.0 L 655.0,1809.0 L 652.0,1809.0 L 652.0,1808.0 L 649.0,1808.0 L 649.0,1807.0 L 647.0,1807.0 L 647.0,1806.0 L 646.0,1806.0 L 646.0,1805.0 L 644.0,1805.0 L 644.0,1804.0 L 643.0,1804.0 L 643.0,1803.0 L 642.0,1803.0 L 642.0,1802.0 L 641.0,1802.0 L 641.0,1801.0 L 640.0,1801.0 L 640.0,1799.0 L 639.0,1799.0 L 639.0,1798.0 L 638.0,1798.0 L 638.0,1796.0 L 637.0,1796.0 L 637.0,1793.0 L 636.0,1793.0 L 636.0,1790.0 L 635.0,1790.0 L 635.0,1780.0 L 585.0,1780.0 L 585.0,1930.0 L 635.0,1930.0 L 635.0,1920.0 L 636.0,1920.0 L 636.0,1917.0 L 637.0,1917.0 L 637.0,1914.0 L 638.0,1914.0 L 638.0,1912.0 L 639.0,1912.0 L 639.0,1911.0 L 640.0,1911.0 L 640.0,1909.0 L 641.0,1909.0 L 641.0,1908.0 L 642.0,1908.0 L 642.0,1907.0 L 643.0,1907.0 L 643.0,1906.0 L 644.0,1906.0 L 644.0,1905.0 L 646.0,1905.0 L 646.0,1904.0 L 647.0,1904.0 L 647.0,1903.0 L 649.0,1903.0 L 649.0,1902.0 L 652.0,1902.0 L 652.0,1901.0 L 655.0,1901.0 L 655.0,1900.0 L 685.0,1900.0 L 685.0,1901.0 L 688.0,1901.0 L 688.0,1902.0 L 691.0,1902.0 L 691.0,1903.0 L 693.0,1903.0 L 693.0,1904.0 L 694.0,1904.0 L 694.0,1905.0 L 696.0,1905.0 L 696.0,1906.0 L 697.0,1906.0 L 697.0,1907.0 L 698.0,1907.0 L 698.0,1908.0 L 699.0,1908.0 L 699.0,1909.0 L 700.0,1909.0 L 700.0,1911.0 L 701.0,1911.0 L 701.0,1912.0 L 702.0,1912.0 L 702.0,1914.0 L 703.0,1914.0 L 703.0,1917.0 L 704.0,1917.0 L 704.0,1920.0 L 705.0,1920.0 L 705.0,1930.0 L 712.0,1930.0 L 712.0,1931.0 L 716.0,1931.0 L 716.0,1932.0 L 718.0,1932.0 L 718.0,1933.0 L 720.0,1933.0 L 720.0,1934.0 L 722.0,1934.0 L 722.0,1935.0 L 723.0,1935.0 L 723.0,1936.0 L 724.0,1936.0 L 724.0,1937.0 L 725.0,1937.0 L 725.0,1938.0 L 726.0,1938.0 L 726.0,1939.0 L 727.0,1939.0 L 727.0,1940.0 L 728.0,1940.0 L 728.0,1941.0 L 729.0,1941.0 L 729.0,1943.0 L 730.0,1943.0 L 730.0,1945.0 L 731.0,1945.0 L 731.0,1948.0 L 732.0,1948.0 L 732.0,1982.0 L 731.0,1982.0 L 731.0,1985.0 L 730.0,1985.0 L 730.0,1987.0 L 729.0,1987.0 L 729.0,1989.0 L 728.0,1989.0 L 728.0,1990.0 L 727.0,1990.0 L 727.0,1991.0 L 726.0,1991.0 L 726.0,1992.0 L 725.0,1992.0 L 725.0,1993.0 L 724.0,1993.0 L 724.0,1994.0 L 723.0,1994.0 L 723.0,1995.0 L 722.0,1995.0 L 722.0,1996.0 L 720.0,1996.0 L 720.0,1997.0 L 718.0,1997.0 L 718.0,1998.0 L 716.0,1998.0 L 716.0,1999.0 L 712.0,1999.0 L 712.0,2000.0 L 80.0,2000.0 L 80.0,2790.0 L 850.0,2790.0 L 850.0,2643.0 L 851.0,2643.0 L 851.0,2639.0 L 852.0,2639.0 L 852.0,2637.0 L 853.0,2637.0 L 853.0,2635.0 L 854.0,2635.0 L 854.0,2633.0 L 855.0,2633.0 L 855.0,2632.0 L 856.0,2632.0 L 856.0,2631.0 L 857.0,2631.0 L 857.0,2630.0 L 858.0,2630.0 L 858.0,2629.0 L 859.0,2629.0 L 859.0,2628.0 L 860.0,2628.0 L 860.0,2627.0 L 861.0,2627.0 L 861.0,2626.0 L 863.0,2626.0 L 863.0,2625.0 L 865.0,2625.0 L 865.0,2624.0 L 868.0,2624.0 L 868.0,2623.0 L 875.0,2623.0 L 875.0,2622.0 L 895.0,2622.0 L 895.0,2623.0 L 902.0,2623.0 L 902.0,2624.0 L 905.0,2624.0 L 905.0,2625.0 L 907.0,2625.0 L 907.0,2626.0 L 909.0,2626.0 L 909.0,2627.0 L 910.0,2627.0 L 910.0,2628.0 L 911.0,2628.0 L 911.0,2629.0 L 912.0,2629.0 L 912.0,2630.0 L 913.0,2630.0 L 913.0,2631.0 L 914.0,2631.0 L 914.0,2632.0 L 915.0,2632.0 L 915.0,2633.0 L 916.0,2633.0 L 916.0,2635.0 L 917.0,2635.0 L 917.0,2637.0 L 918.0,2637.0 L 918.0,2639.0 L 919.0,2639.0 L 919.0,2643.0 L 920.0,2643.0 L 920.0,2790.0 L 1290.0,2790.0 L 1290.0,2643.0 L 1291.0,2643.0 L 1291.0,2639.0 L 1292.0,2639.0 L 1292.0,2637.0 L 1293.0,2637.0 L 1293.0,2635.0 L 1294.0,2635.0 L 1294.0,2633.0 L 1295.0,2633.0 L 1295.0,2632.0 L 1296.0,2632.0 L 1296.0,2631.0 L 1297.0,2631.0 L 1297.0,2630.0 L 1298.0,2630.0 L 1298.0,2629.0 L 1299.0,2629.0 L 1299.0,2628.0 L 1300.0,2628.0 L 1300.0,2627.0 L 1301.0,2627.0 L 1301.0,2626.0 L 1303.0,2626.0 L 1303.0,2625.0 L 1305.0,2625.0 L 1305.0,2624.0 L 1308.0,2624.0 L 1308.0,2623.0 L 1315.0,2623.0 L 1315.0,2622.0 L 1335.0,2622.0 L 1335.0,2623.0 L 1342.0,2623.0 L 1342.0,2624.0 L 1345.0,2624.0 L 1345.0,2625.0 L 1347.0,2625.0 L 1347.0,2626.0 L 1349.0,2626.0 L 1349.0,2627.0 L 1350.0,2627.0 L 1350.0,2628.0 L 1351.0,2628.0 L 1351.0,2629.0 L 1352.0,2629.0 L 1352.0,2630.0 L 1353.0,2630.0 L 1353.0,2631.0 L 1354.0,2631.0 L 1354.0,2632.0 L 1355.0,2632.0 L 1355.0,2633.0 L 1356.0,2633.0 L 1356.0,2635.0 L 1357.0,2635.0 L 1357.0,2637.0 L 1358.0,2637.0 L 1358.0,2639.0 L 1359.0,2639.0 L 1359.0,2643.0 L 1360.0,2643.0 L 1360.0,2790.0 L 1610.0,2790.0 L 1610.0,2505.0 L 1359.0,2505.0 L 1359.0,2506.0 L 1358.0,2506.0 L 1358.0,2508.0 L 1357.0,2508.0 L 1357.0,2510.0 L 1356.0,2510.0 L 1356.0,2512.0 L 1355.0,2512.0 L 1355.0,2513.0 L 1354.0,2513.0 L 1354.0,2514.0 L 1353.0,2514.0 L 1353.0,2515.0 L 1352.0,2515.0 L 1352.0,2516.0 L 1351.0,2516.0 L 1351.0,2517.0 L 1350.0,2517.0 L 1350.0,2518.0 L 1349.0,2518.0 L 1349.0,2519.0 L 1347.0,2519.0 L 1347.0,2520.0 L 1345.0,2520.0 L 1345.0,2521.0 L 1342.0,2521.0 L 1342.0,2522.0 L 1308.0,2522.0 L 1308.0,2521.0 L 1305.0,2521.0 L 1305.0,2520.0 L 1303.0,2520.0 L 1303.0,2519.0 L 1301.0,2519.0 L 1301.0,2518.0 L 1300.0,2518.0 L 1300.0,2517.0 L 1299.0,2517.0 L 1299.0,2516.0 L 1298.0,2516.0 L 1298.0,2515.0 L 1297.0,2515.0 L 1297.0,2514.0 L 1296.0,2514.0 L 1296.0,2513.0 L 1295.0,2513.0 L 1295.0,2512.0 L 1294.0,2512.0 L 1294.0,2510.0 L 1293.0,2510.0 L 1293.0,2508.0 L 1292.0,2508.0 L 1292.0,2506.0 L 1291.0,2506.0 L 1291.0,2505.0 L 1175.0,2505.0 L 1175.0,2504.0 L 1172.0,2504.0 L 1172.0,2503.0 L 1169.0,2503.0 L 1169.0,2502.0 L 1167.0,2502.0 L 1167.0,2501.0 L 1166.0,2501.0 L 1166.0,2500.0 L 1164.0,2500.0 L 1164.0,2499.0 L 1163.0,2499.0 L 1163.0,2498.0 L 1162.0,2498.0 L 1162.0,2497.0 L 1161.0,2497.0 L 1161.0,2496.0 L 1160.0,2496.0 L 1160.0,2494.0 L 1159.0,2494.0 L 1159.0,2493.0 L 1158.0,2493.0 L 1158.0,2491.0 L 1157.0,2491.0 L 1157.0,2488.0 L 1156.0,2488.0 L 1156.0,2485.0 L 1155.0,2485.0 L 1155.0,2455.0 L 1156.0,2455.0 L 1156.0,2452.0 L 1157.0,2452.0 L 1157.0,2449.0 L 1158.0,2449.0 L 1158.0,2447.0 L 1159.0,2447.0 L 1159.0,2446.0 L 1160.0,2446.0 L 1160.0,2444.0 L 1161.0,2444.0 L 1161.0,2443.0 L 1162.0,2443.0 L 1162.0,2442.0 L 1163.0,2442.0 L 1163.0,2441.0 L 1164.0,2441.0 L 1164.0,2440.0 L 1166.0,2440.0 L 1166.0,2439.0 L 1167.0,2439.0 L 1167.0,2438.0 L 1169.0,2438.0 L 1169.0,2437.0 L 1172.0,2437.0 L 1172.0,2436.0 L 1175.0,2436.0 L 1175.0,2435.0 L 1290.0,2435.0 L 1290.0,2130.0 L 920.0,2130.0 L 920.0,2435.0 L 1035.0,2435.0 L 1035.0,2436.0 L 1038.0,2436.0 L 1038.0,2437.0 L 1041.0,2437.0 L 1041.0,2438.0 L 1043.0,2438.0 L 1043.0,2439.0 L 1044.0,2439.0 L 1044.0,2440.0 L 1046.0,2440.0 L 1046.0,2441.0 L 1047.0,2441.0 L 1047.0,2442.0 L 1048.0,2442.0 L 1048.0,2443.0 L 1049.0,2443.0 L 1049.0,2444.0 L 1050.0,2444.0 L 1050.0,2446.0 L 1051.0,2446.0 L 1051.0,2447.0 L 1052.0,2447.0 L 1052.0,2449.0 L 1053.0,2449.0 L 1053.0,2452.0 L 1054.0,2452.0 L 1054.0,2455.0 L 1055.0,2455.0 L 1055.0,2485.0 L 1054.0,2485.0 L 1054.0,2488.0 L 1053.0,2488.0 L 1053.0,2491.0 L 1052.0,2491.0 L 1052.0,2493.0 L 1051.0,2493.0 L 1051.0,2494.0 L 1050.0,2494.0 L 1050.0,2496.0 L 1049.0,2496.0 L 1049.0,2497.0 L 1048.0,2497.0 L 1048.0,2498.0 L 1047.0,2498.0 L 1047.0,2499.0 L 1046.0,2499.0 L 1046.0,2500.0 L 1044.0,2500.0 L 1044.0,2501.0 L 1043.0,2501.0 L 1043.0,2502.0 L 1041.0,2502.0 L 1041.0,2503.0 L 1038.0,2503.0 L 1038.0,2504.0 L 1035.0,2504.0 L 1035.0,2505.0 L 919.0,2505.0 L 919.0,2506.0 L 918.0,2506.0 L 918.0,2508.0 L 917.0,2508.0 L 917.0,2510.0 L 916.0,2510.0 L 916.0,2512.0 L 915.0,2512.0 L 915.0,2513.0 L 914.0,2513.0 L 914.0,2514.0 L 913.0,2514.0 L 913.0,2515.0 L 912.0,2515.0 L 912.0,2516.0 L 911.0,2516.0 L 911.0,2517.0 L 910.0,2517.0 L 910.0,2518.0 L 909.0,2518.0 L 909.0,2519.0 L 907.0,2519.0 L 907.0,2520.0 L 905.0,2520.0 L 905.0,2521.0 L 902.0,2521.0 L 902.0,2522.0 L 868.0,2522.0 L 868.0,2521.0 L 865.0,2521.0 L 865.0,2520.0 L 863.0,2520.0 L 863.0,2519.0 L 861.0,2519.0 L 861.0,2518.0 L 860.0,2518.0 L 860.0,2517.0 L 859.0,2517.0 L 859.0,2516.0 L 858.0,2516.0 L 858.0,2515.0 L 857.0,2515.0 L 857.0,2514.0 L 856.0,2514.0 L 856.0,2513.0 L 855.0,2513.0 L 855.0,2512.0 L 854.0,2512.0 L 854.0,2510.0 L 853.0,2510.0 L 853.0,2508.0 L 852.0,2508.0 L 852.0,2506.0 L 851.0,2506.0 L 851.0,2502.0 L 850.0,2502.0 L 850.0,1999.0 L 849.0,1999.0 L 849.0,1998.0 L 847.0,1998.0 L 847.0,1997.0 L 845.0,1997.0 L 845.0,1996.0 L 843.0,1996.0 L 843.0,1995.0 L 842.0,1995.0 L 842.0,1994.0 L 841.0,1994.0 L 841.0,1993.0 L 840.0,1993.0 L 840.0,1992.0 L 839.0,1992.0 L 839.0,1991.0 L 838.0,1991.0 L 838.0,1990.0 L 837.0,1990.0 L 837.0,1989.0 L 836.0,1989.0 L 836.0,1987.0 L 835.0,1987.0 L 835.0,1985.0 L 834.0,1985.0 L 834.0,1982.0 L 833.0,1982.0 L 833.0,1975.0 L 832.0,1975.0 L 832.0,1955.0 L 833.0,1955.0 L 833.0,1948.0 L 834.0,1948.0 L 834.0,1945.0 L 835.0,1945.0 L 835.0,1943.0 L 836.0,1943.0 L 836.0,1941.0 L 837.0,1941.0 L 837.0,1940.0 L 838.0,1940.0 L 838.0,1939.0 L 839.0,1939.0 L 839.0,1938.0 L 840.0,1938.0 L 840.0,1937.0 L 841.0,1937.0 L 841.0,1936.0 L 842.0,1936.0 L 842.0,1935.0 L 843.0,1935.0 L 843.0,1934.0 L 845.0,1934.0 L 845.0,1933.0 L 847.0,1933.0 L 847.0,1932.0 L 849.0,1932.0 L 849.0,1931.0 L 853.0,1931.0 L 853.0,1930.0 L 930.0,1930.0 L 930.0,1931.0 L 933.0,1931.0 L 933.0,1932.0 L 936.0,1932.0 L 936.0,1933.0 L 938.0,1933.0 L 938.0,1934.0 L 939.0,1934.0 L 939.0,1935.0 L 941.0,1935.0 L 941.0,1936.0 L 942.0,1936.0 L 942.0,1937.0 L 943.0,1937.0 L 943.0,1938.0 L 944.0,1938.0 L 944.0,1939.0 L 945.0,1939.0 L 945.0,1941.0 L 946.0,1941.0 L 946.0,1942.0 L 947.0,1942.0 L 947.0,1944.0 L 948.0,1944.0 L 948.0,1947.0 L 949.0,1947.0 L 949.0,1950.0 L 950.0,1950.0 L 950.0,1980.0 L 949.0,1980.0 L 949.0,1983.0 L 948.0,1983.0 L 948.0,1986.0 L 947.0,1986.0 L 947.0,1988.0 L 946.0,1988.0 L 946.0,1989.0 L 945.0,1989.0 L 945.0,1991.0 L 944.0,1991.0 L 944.0,1992.0 L 943.0,1992.0 L 943.0,1993.0 L 942.0,1993.0 L 942.0,1994.0 L 941.0,1994.0 L 941.0,1995.0 L 939.0,1995.0 L 939.0,1996.0 L 938.0,1996.0 L 938.0,1997.0 L 936.0,1997.0 L 936.0,1998.0 L 933.0,1998.0 L 933.0,1999.0 L 930.0,1999.0 L 930.0,2000.0 L 920.0,2000.0 L 920.0,2060.0 L 1290.0,2060.0 L 1290.0,2000.0 L 1280.0,2000.0 L 1280.0,1999.0 L 1277.0,1999.0 L 1277.0,1998.0 L 1274.0,1998.0 L 1274.0,1997.0 L 1272.0,1997.0 L 1272.0,1996.0 L 1271.0,1996.0 L 1271.0,1995.0 L 1269.0,1995.0 L 1269.0,1994.0 L 1268.0,1994.0 L 1268.0,1993.0 L 1267.0,1993.0 L 1267.0,1992.0 L 1266.0,1992.0 L 1266.0,1991.0 L 1265.0,1991.0 L 1265.0,1989.0 L 1264.0,1989.0 L 1264.0,1988.0 L 1263.0,1988.0 L 1263.0,1986.0 L 1262.0,1986.0 L 1262.0,1983.0 L 1261.0,1983.0 L 1261.0,1980.0 L 1260.0,1980.0 L 1260.0,1950.0 L 1261.0,1950.0 L 1261.0,1947.0 L 1262.0,1947.0 L 1262.0,1944.0 L 1263.0,1944.0 L 1263.0,1942.0 L 1264.0,1942.0 L 1264.0,1941.0 L 1265.0,1941.0 L 1265.0,1939.0 L 1266.0,1939.0 L 1266.0,1938.0 L 1267.0,1938.0 L 1267.0,1937.0 L 1268.0,1937.0 L 1268.0,1936.0 L 1269.0,1936.0 L 1269.0,1935.0 L 1271.0,1935.0 L 1271.0,1934.0 L 1272.0,1934.0 L 1272.0,1933.0 L 1274.0,1933.0 L 1274.0,1932.0 L 1277.0,1932.0 L 1277.0,1931.0 L 1280.0,1931.0 L 1280.0,1930.0 L 1487.0,1930.0 L 1487.0,1931.0 L 1491.0,1931.0 L 1491.0,1932.0 L 1493.0,1932.0 L 1493.0,1933.0 L 1495.0,1933.0 L 1495.0,1934.0 L 1497.0,1934.0 L 1497.0,1935.0 L 1498.0,1935.0 L 1498.0,1936.0 L 1499.0,1936.0 L 1499.0,1937.0 L 1500.0,1937.0 L 1500.0,1938.0 L 1501.0,1938.0 L 1501.0,1939.0 L 1502.0,1939.0 L 1502.0,1940.0 L 1503.0,1940.0 L 1503.0,1941.0 L 1504.0,1941.0 L 1504.0,1943.0 L 1505.0,1943.0 L 1505.0,1945.0 L 1506.0,1945.0 L 1506.0,1948.0 L 1507.0,1948.0 L 1507.0,1982.0 L 1506.0,1982.0 L 1506.0,1985.0 L 1505.0,1985.0 L 1505.0,1987.0 L 1504.0,1987.0 L 1504.0,1989.0 L 1503.0,1989.0 L 1503.0,1990.0 L 1502.0,1990.0 L 1502.0,1991.0 L 1501.0,1991.0 L 1501.0,1992.0 L 1500.0,1992.0 L 1500.0,1993.0 L 1499.0,1993.0 L 1499.0,1994.0 L 1498.0,1994.0 L 1498.0,1995.0 L 1497.0,1995.0 L 1497.0,1996.0 L 1495.0,1996.0 L 1495.0,1997.0 L 1493.0,1997.0 L 1493.0,1998.0 L 1491.0,1998.0 L 1491.0,1999.0 L 1487.0,1999.0 L 1487.0,2000.0 L 1360.0,2000.0 L 1360.0,2435.0 L 1610.0,2435.0 L 1610.0,1996.0 L 1608.0,1996.0 L 1608.0,1995.0 L 1607.0,1995.0 L 1607.0,1994.0 L 1606.0,1994.0 L 1606.0,1993.0 L 1605.0,1993.0 L 1605.0,1992.0 L 1604.0,1992.0 L 1604.0,1991.0 L 1603.0,1991.0 L 1603.0,1990.0 L 1602.0,1990.0 L 1602.0,1989.0 L 1601.0,1989.0 L 1601.0,1987.0 L 1600.0,1987.0 L 1600.0,1985.0 L 1599.0,1985.0 L 1599.0,1982.0 L 1598.0,1982.0 L 1598.0,1975.0 L 1597.0,1975.0 L 1597.0,1955.0 L 1598.0,1955.0 L 1598.0,1948.0 L 1599.0,1948.0 L 1599.0,1945.0 L 1600.0,1945.0 L 1600.0,1943.0 L 1601.0,1943.0 L 1601.0,1941.0 L 1602.0,1941.0 L 1602.0,1940.0 L 1603.0,1940.0 L 1603.0,1939.0 L 1604.0,1939.0 L 1604.0,1938.0 L 1605.0,1938.0 L 1605.0,1937.0 L 1606.0,1937.0 L 1606.0,1936.0 L 1607.0,1936.0 L 1607.0,1935.0 L 1608.0,1935.0 L 1608.0,1934.0 L 1610.0,1934.0 L 1610.0,1933.0 L 1612.0,1933.0 L 1612.0,1932.0 L 1614.0,1932.0 L 1614.0,1931.0 L 1618.0,1931.0 L 1618.0,1930.0 L 1660.0,1930.0 L 1660.0,1931.0 L 1663.0,1931.0 L 1663.0,1932.0 L 1666.0,1932.0 L 1666.0,1933.0 L 1668.0,1933.0 L 1668.0,1934.0 L 1669.0,1934.0 L 1669.0,1935.0 L 1671.0,1935.0 L 1671.0,1936.0 L 1672.0,1936.0 L 1672.0,1937.0 L 1673.0,1937.0 L 1673.0,1938.0 L 1674.0,1938.0 L 1674.0,1939.0 L 1675.0,1939.0 L 1675.0,1941.0 L 1676.0,1941.0 L 1676.0,1942.0 L 1677.0,1942.0 L 1677.0,1944.0 L 1678.0,1944.0 L 1678.0,1947.0 L 1679.0,1947.0 L 1679.0,1950.0 L 1680.0,1950.0 L 1680.0,2495.0 L 1681.0,2495.0 L 1681.0,2496.0 L 1682.0,2496.0 L 1682.0,2497.0 L 1683.0,2497.0 L 1683.0,2498.0 L 1684.0,2498.0 L 1684.0,2499.0 L 1685.0,2499.0 L 1685.0,2500.0 L 1686.0,2500.0 L 1686.0,2501.0 L 1687.0,2501.0 L 1687.0,2502.0 L 1688.0,2502.0 L 1688.0,2503.0 L 1689.0,2503.0 L 1689.0,2504.0 L 1690.0,2504.0 L 1690.0,2505.0 L 1691.0,2505.0 L 1691.0,2506.0 L 1692.0,2506.0 L 1692.0,2507.0 L 1693.0,2507.0 L 1693.0,2508.0 L 1694.0,2508.0 L 1694.0,2509.0 L 1695.0,2509.0 L 1695.0,2510.0 L 1696.0,2510.0 L 1696.0,2511.0 L 1697.0,2511.0 L 1697.0,2512.0 L 1698.0,2512.0 L 1698.0,2513.0 L 1699.0,2513.0 L 1699.0,2514.0 L 1700.0,2514.0 L 1700.0,2515.0 L 1701.0,2515.0 L 1701.0,2516.0 L 1702.0,2516.0 L 1702.0,2517.0 L 1703.0,2517.0 L 1703.0,2518.0 L 1704.0,2518.0 L 1704.0,2519.0 L 1705.0,2519.0 L 1705.0,2520.0 L 1706.0,2520.0 L 1706.0,2521.0 L 1707.0,2521.0 L 1707.0,2522.0 L 1708.0,2522.0 L 1708.0,2523.0 L 1709.0,2523.0 L 1709.0,2524.0 L 1710.0,2524.0 L 1710.0,2525.0 L 1711.0,2525.0 L 1711.0,2526.0 L 1712.0,2526.0 L 1712.0,2527.0 L 1713.0,2527.0 L 1713.0,2528.0 L 1714.0,2528.0 L 1714.0,2529.0 L 1715.0,2529.0 L 1715.0,2530.0 L 1716.0,2530.0 L 1716.0,2531.0 L 1717.0,2531.0 L 1717.0,2532.0 L 1718.0,2532.0 L 1718.0,2533.0 L 1719.0,2533.0 L 1719.0,2534.0 L 1720.0,2534.0 L 1720.0,2535.0 L 1721.0,2535.0 L 1721.0,2536.0 L 1722.0,2536.0 L 1722.0,2537.0 L 1723.0,2537.0 L 1723.0,2538.0 L 1724.0,2538.0 L 1724.0,2539.0 L 1725.0,2539.0 L 1725.0,2540.0 L 1726.0,2540.0 L 1726.0,2541.0 L 1727.0,2541.0 L 1727.0,2542.0 L 1728.0,2542.0 L 1728.0,2543.0 L 1729.0,2543.0 L 1729.0,2544.0 L 1730.0,2544.0 L 1730.0,2545.0 L 1731.0,2545.0 L 1731.0,2546.0 L 1732.0,2546.0 L 1732.0,2547.0 L 1733.0,2547.0 L 1733.0,2548.0 L 1734.0,2548.0 L 1734.0,2549.0 L 1735.0,2549.0 L 1735.0,2550.0 L 1736.0,2550.0 L 1736.0,2551.0 L 1737.0,2551.0 L 1737.0,2552.0 L 1738.0,2552.0 L 1738.0,2553.0 L 1739.0,2553.0 L 1739.0,2554.0 L 1740.0,2554.0 L 1740.0,2555.0 L 1741.0,2555.0 L 1741.0,2556.0 L 1742.0,2556.0 L 1742.0,2557.0 L 1743.0,2557.0 L 1743.0,2558.0 L 1744.0,2558.0 L 1744.0,2559.0 L 1745.0,2559.0 L 1745.0,2560.0 L 1746.0,2560.0 L 1746.0,2561.0 L 1747.0,2561.0 L 1747.0,2562.0 L 1748.0,2562.0 L 1748.0,2563.0 L 1749.0,2563.0 L 1749.0,2564.0 L 1750.0,2564.0 L 1750.0,2565.0 L 1751.0,2565.0 L 1751.0,2566.0 L 1752.0,2566.0 L 1752.0,2567.0 L 1753.0,2567.0 L 1753.0,2568.0 L 1754.0,2568.0 L 1754.0,2569.0 L 1755.0,2569.0 L 1755.0,2570.0 L 1756.0,2570.0 L 1756.0,2571.0 L 1757.0,2571.0 L 1757.0,2572.0 L 1758.0,2572.0 L 1758.0,2573.0 L 1759.0,2573.0 L 1759.0,2574.0 L 1760.0,2574.0 L 1760.0,2575.0 L 1761.0,2575.0 L 1761.0,2576.0 L 1762.0,2576.0 L 1762.0,2577.0 L 1763.0,2577.0 L 1763.0,2578.0 L 1764.0,2578.0 L 1764.0,2579.0 L 1765.0,2579.0 L 1765.0,2580.0 L 1766.0,2580.0 L 1766.0,2581.0 L 1767.0,2581.0 L 1767.0,2582.0 L 1768.0,2582.0 L 1768.0,2583.0 L 1769.0,2583.0 L 1769.0,2584.0 L 1770.0,2584.0 L 1770.0,2585.0 L 1771.0,2585.0 L 1771.0,2586.0 L 1772.0,2586.0 L 1772.0,2587.0 L 1773.0,2587.0 L 1773.0,2588.0 L 1774.0,2588.0 L 1774.0,2589.0 L 1775.0,2589.0 L 1775.0,2590.0 L 1776.0,2590.0 L 1776.0,2591.0 L 1777.0,2591.0 L 1777.0,2592.0 L 1778.0,2592.0 L 1778.0,2593.0 L 1779.0,2593.0 L 1779.0,2594.0 L 1780.0,2594.0 L 1780.0,2595.0 L 1781.0,2595.0 L 1781.0,2596.0 L 1782.0,2596.0 L 1782.0,2597.0 L 1783.0,2597.0 L 1783.0,2598.0 L 1784.0,2598.0 L 1784.0,2599.0 L 1785.0,2599.0 L 1785.0,2600.0 L 1786.0,2600.0 L 1786.0,2601.0 L 1787.0,2601.0 L 1787.0,2602.0 L 1788.0,2602.0 L 1788.0,2603.0 L 1789.0,2603.0 L 1789.0,2604.0 L 1790.0,2604.0 L 1790.0,2605.0 L 1791.0,2605.0 L 1791.0,2606.0 L 1792.0,2606.0 L 1792.0,2607.0 L 1793.0,2607.0 L 1793.0,2608.0 L 1794.0,2608.0 L 1794.0,2609.0 L 1795.0,2609.0 L 1795.0,2610.0 L 1796.0,2610.0 L 1796.0,2611.0 L 1797.0,2611.0 L 1797.0,2612.0 L 1798.0,2612.0 L 1798.0,2613.0 L 1799.0,2613.0 L 1799.0,2614.0 L 1800.0,2614.0 L 1800.0,2615.0 L 1801.0,2615.0 L 1801.0,2616.0 L 1802.0,2616.0 L 1802.0,2617.0 L 1803.0,2617.0 L 1803.0,2618.0 L 1804.0,2618.0 L 1804.0,2619.0 L 1805.0,2619.0 L 1805.0,2620.0 L 1806.0,2620.0 L 1806.0,2621.0 L 1807.0,2621.0 L 1807.0,2622.0 L 1808.0,2622.0 L 1808.0,2623.0 L 1809.0,2623.0 L 1809.0,2624.0 L 1810.0,2624.0 L 1810.0,2625.0 L 1811.0,2625.0 L 1811.0,2626.0 L 1812.0,2626.0 L 1812.0,2627.0 L 1813.0,2627.0 L 1813.0,2628.0 L 1814.0,2628.0 L 1814.0,2629.0 L 1815.0,2629.0 L 1815.0,2630.0 L 1816.0,2630.0 L 1816.0,2631.0 L 1817.0,2631.0 L 1817.0,2632.0 L 1818.0,2632.0 L 1818.0,2633.0 L 1819.0,2633.0 L 1819.0,2634.0 L 1820.0,2634.0 L 1820.0,2635.0 L 1821.0,2635.0 L 1821.0,2636.0 L 1822.0,2636.0 L 1822.0,2637.0 L 1823.0,2637.0 L 1823.0,2638.0 L 1824.0,2638.0 L 1824.0,2639.0 L 1825.0,2639.0 L 1825.0,2640.0 L 1826.0,2640.0 L 1826.0,2641.0 L 1827.0,2641.0 L 1827.0,2642.0 L 1828.0,2642.0 L 1828.0,2643.0 L 1829.0,2643.0 L 1829.0,2644.0 L 1830.0,2644.0 L 1830.0,2645.0 L 1831.0,2645.0 L 1831.0,2646.0 L 1832.0,2646.0 L 1832.0,2647.0 L 1833.0,2647.0 L 1833.0,2648.0 L 1834.0,2648.0 L 1834.0,2649.0 L 1835.0,2649.0 L 1835.0,2650.0 L 1836.0,2650.0 L 1836.0,2651.0 L 1837.0,2651.0 L 1837.0,2652.0 L 1838.0,2652.0 L 1838.0,2653.0 L 1839.0,2653.0 L 1839.0,2654.0 L 1840.0,2654.0 L 1840.0,2655.0 L 1841.0,2655.0 L 1841.0,2656.0 L 1842.0,2656.0 L 1842.0,2657.0 L 1843.0,2657.0 L 1843.0,2658.0 L 1844.0,2658.0 L 1844.0,2659.0 L 1845.0,2659.0 L 1845.0,2660.0 L 1846.0,2660.0 L 1846.0,2661.0 L 1847.0,2661.0 L 1847.0,2662.0 L 1848.0,2662.0 L 1848.0,2663.0 L 1849.0,2663.0 L 1849.0,2664.0 L 1850.0,2664.0 L 1850.0,2665.0 L 1851.0,2665.0 L 1851.0,2666.0 L 1852.0,2666.0 L 1852.0,2667.0 L 1853.0,2667.0 L 1853.0,2668.0 L 1854.0,2668.0 L 1854.0,2669.0 L 1855.0,2669.0 L 1855.0,2670.0 L 1856.0,2670.0 L 1856.0,2671.0 L 1857.0,2671.0 L 1857.0,2672.0 L 1858.0,2672.0 L 1858.0,2673.0 L 1859.0,2673.0 L 1859.0,2674.0 L 1860.0,2674.0 L 1860.0,2675.0 L 1861.0,2675.0 L 1861.0,2676.0 L 1862.0,2676.0 L 1862.0,2677.0 L 1863.0,2677.0 L 1863.0,2678.0 L 1864.0,2678.0 L 1864.0,2679.0 L 1865.0,2679.0 L 1865.0,2680.0 L 1866.0,2680.0 L 1866.0,2681.0 L 1867.0,2681.0 L 1867.0,2682.0 L 1868.0,2682.0 L 1868.0,2683.0 L 1869.0,2683.0 L 1869.0,2684.0 L 1870.0,2684.0 L 1870.0,2685.0 L 1871.0,2685.0 L 1871.0,2686.0 L 1872.0,2686.0 L 1872.0,2687.0 L 1873.0,2687.0 L 1873.0,2688.0 L 1874.0,2688.0 L 1874.0,2689.0 L 1875.0,2689.0 L 1875.0,2690.0 L 1876.0,2690.0 L 1876.0,2691.0 L 1877.0,2691.0 L 1877.0,2692.0 L 1878.0,2692.0 L 1878.0,2693.0 L 1879.0,2693.0 L 1879.0,2694.0 L 1880.0,2694.0 L 1880.0,2695.0 L 1881.0,2695.0 L 1881.0,2696.0 L 1882.0,2696.0 L 1882.0,2697.0 L 1883.0,2697.0 L 1883.0,2698.0 L 1884.0,2698.0 L 1884.0,2699.0 L 1885.0,2699.0 L 1885.0,2700.0 L 1886.0,2700.0 L 1886.0,2701.0 L 1887.0,2701.0 L 1887.0,2702.0 L 1888.0,2702.0 L 1888.0,2703.0 L 1889.0,2703.0 L 1889.0,2704.0 L 1890.0,2704.0 L 1890.0,2705.0 L 1891.0,2705.0 L 1891.0,2706.0 L 1892.0,2706.0 L 1892.0,2707.0 L 1893.0,2707.0 L 1893.0,2708.0 L 1894.0,2708.0 L 1894.0,2709.0 L 1895.0,2709.0 L 1895.0,2710.0 L 1896.0,2710.0 L 1896.0,2711.0 L 1897.0,2711.0 L 1897.0,2712.0 L 1898.0,2712.0 L 1898.0,2713.0 L 1899.0,2713.0 L 1899.0,2714.0 L 1900.0,2714.0 L 1900.0,2715.0 L 1901.0,2715.0 L 1901.0,2716.0 L 1902.0,2716.0 L 1902.0,2717.0 L 1903.0,2717.0 L 1903.0,2718.0 L 1904.0,2718.0 L 1904.0,2719.0 L 1905.0,2719.0 L 1905.0,2720.0 L 1906.0,2720.0 L 1906.0,2721.0 L 1907.0,2721.0 L 1907.0,2722.0 L 1908.0,2722.0 L 1908.0,2723.0 L 1909.0,2723.0 L 1909.0,2724.0 L 1910.0,2724.0 L 1910.0,2725.0 L 1911.0,2725.0 L 1911.0,2726.0 L 1912.0,2726.0 L 1912.0,2727.0 L 1913.0,2727.0 L 1913.0,2728.0 L 1914.0,2728.0 L 1914.0,2729.0 L 1915.0,2729.0 L 1915.0,2730.0 L 1916.0,2730.0 L 1916.0,2731.0 L 1917.0,2731.0 L 1917.0,2732.0 L 1918.0,2732.0 L 1918.0,2733.0 L 1919.0,2733.0 L 1919.0,2734.0 L 1920.0,2734.0 L 1920.0,2735.0 L 1921.0,2735.0 L 1921.0,2736.0 L 1922.0,2736.0 L 1922.0,2737.0 L 1923.0,2737.0 L 1923.0,2738.0 L 1924.0,2738.0 L 1924.0,2739.0 L 1925.0,2739.0 L 1925.0,2740.0 L 1926.0,2740.0 L 1926.0,2741.0 L 1927.0,2741.0 L 1927.0,2742.0 L 1928.0,2742.0 L 1928.0,2743.0 L 1929.0,2743.0 L 1929.0,2744.0 L 1930.0,2744.0 L 1930.0,2745.0 L 1931.0,2745.0 L 1931.0,2746.0 L 1932.0,2746.0 L 1932.0,2747.0 L 1933.0,2747.0 L 1933.0,2748.0 L 1934.0,2748.0 L 1934.0,2749.0 L 1935.0,2749.0 L 1935.0,2750.0 L 1936.0,2750.0 L 1936.0,2751.0 L 1937.0,2751.0 L 1937.0,2752.0 L 1938.0,2752.0 L 1938.0,2753.0 L 1939.0,2753.0 L 1939.0,2754.0 L 1940.0,2754.0 L 1940.0,2755.0 L 1941.0,2755.0 L 1941.0,2756.0 L 1942.0,2756.0 L 1942.0,2757.0 L 1943.0,2757.0 L 1943.0,2758.0 L 1944.0,2758.0 L 1944.0,2759.0 L 1945.0,2759.0 L 1945.0,2760.0 L 1946.0,2760.0 L 1946.0,2761.0 L 1947.0,2761.0 L 1947.0,2762.0 L 1948.0,2762.0 L 1948.0,2763.0 L 1949.0,2763.0 L 1949.0,2764.0 L 1950.0,2764.0 L 1950.0,2765.0 L 1951.0,2765.0 L 1951.0,2766.0 L 1952.0,2766.0 L 1952.0,2767.0 L 1953.0,2767.0 L 1953.0,2768.0 L 1954.0,2768.0 L 1954.0,2769.0 L 1955.0,2769.0 L 1955.0,2770.0 L 1956.0,2770.0 L 1956.0,2771.0 L 1957.0,2771.0 L 1957.0,2772.0 L 1958.0,2772.0 L 1958.0,2773.0 L 1959.0,2773.0 L 1959.0,2774.0 L 1960.0,2774.0 L 1960.0,2775.0 L 1961.0,2775.0 L 1961.0,2776.0 L 1962.0,2776.0 L 1962.0,2777.0 L 1963.0,2777.0 L 1963.0,2778.0 L 1964.0,2778.0 L 1964.0,2779.0 L 1965.0,2779.0 L 1965.0,2780.0 L 1966.0,2780.0 L 1966.0,2781.0 L 1967.0,2781.0 L 1967.0,2782.0 L 1968.0,2782.0 L 1968.0,2783.0 L 1969.0,2783.0 L 1969.0,2784.0 L 1970.0,2784.0 L 1970.0,2785.0 L 1971.0,2785.0 L 1971.0,2786.0 L 1972.0,2786.0 L 1972.0,2787.0 L 1973.0,2787.0 L 1973.0,2788.0 L 1974.0,2788.0 L 1974.0,2789.0 L 1975.0,2789.0 L 1975.0,2790.0 L 3450.0,2790.0 L 3450.0,1360.0 L 3018.0,1360.0 L 3018.0,1359.0 L 3014.0,1359.0 L 3014.0,1358.0 L 3012.0,1358.0 L 3012.0,1357.0 L 3010.0,1357.0 L 3010.0,1356.0 L 3008.0,1356.0 L 3008.0,1355.0 L 3007.0,1355.0 L 3007.0,1354.0 L 3006.0,1354.0 L 3006.0,1353.0 L 3005.0,1353.0 L 3005.0,1352.0 L 3004.0,1352.0 L 3004.0,1351.0 L 3003.0,1351.0 L 3003.0,1350.0 L 3002.0,1350.0 L 3002.0,1349.0 L 3001.0,1349.0 L 3001.0,1347.0 L 3000.0,1347.0 L 3000.0,1345.0 L 2999.0,1345.0 L 2999.0,1342.0 L 2998.0,1342.0 L 2998.0,1335.0 L 2997.0,1335.0 L 2997.0,1305.0 L 2998.0,1305.0 L 2998.0,1298.0 L 2999.0,1298.0 L 2999.0,1295.0 L 3000.0,1295.0 L 3000.0,1293.0 L 3001.0,1293.0 L 3001.0,1291.0 L 3002.0,1291.0 L 3002.0,1290.0 L 3003.0,1290.0 L 3003.0,1289.0 L 3004.0,1289.0 L 3004.0,1288.0 L 3005.0,1288.0 L 3005.0,1287.0 L 3006.0,1287.0 L 3006.0,1286.0 L 3007.0,1286.0 L 3007.0,1285.0 L 3008.0,1285.0 L 3008.0,1284.0 L 3010.0,1284.0 L 3010.0,1283.0 L 3012.0,1283.0 L 3012.0,1282.0 L 3014.0,1282.0 L 3014.0,1281.0 L 3018.0,1281.0 L 3018.0,1280.0 L 3450.0,1280.0 L 3450.0,80.0 L 2230.0,80.0 L 2230.0,1280.0 L 2847.0,1280.0 L 2847.0,1281.0 L 2851.0,1281.0 z\" /><path fill-rule=\"evenodd\" fill=\"#66cc99\" stroke=\"#555555\" stroke-width=\"25.4088\" opacity=\"0.6\" d=\"M 1876.0,2789.0 L 1875.0,2789.0 L 1875.0,2788.0 L 1874.0,2788.0 L 1874.0,2787.0 L 1873.0,2787.0 L 1873.0,2786.0 L 1872.0,2786.0 L 1872.0,2785.0 L 1871.0,2785.0 L 1871.0,2784.0 L 1870.0,2784.0 L 1870.0,2783.0 L 1869.0,2783.0 L 1869.0,2782.0 L 1868.0,2782.0 L 1868.0,2781.0 L 1867.0,2781.0 L 1867.0,2780.0 L 1866.0,2780.0 L 1866.0,2779.0 L 1865.0,2779.0 L 1865.0,2778.0 L 1864.0,2778.0 L 1864.0,2777.0 L 1863.0,2777.0 L 1863.0,2776.0 L 1862.0,2776.0 L 1862.0,2775.0 L 1861.0,2775.0 L 1861.0,2774.0 L 1860.0,2774.0 L 1860.0,2773.0 L 1859.0,2773.0 L 1859.0,2772.0 L 1858.0,2772.0 L 1858.0,2771.0 L 1857.0,2771.0 L 1857.0,2770.0 L 1856.0,2770.0 L 1856.0,2769.0 L 1855.0,2769.0 L 1855.0,2768.0 L 1854.0,2768.0 L 1854.0,2767.0 L 1853.0,2767.0 L 1853.0,2766.0 L 1852.0,2766.0 L 1852.0,2765.0 L 1851.0,2765.0 L 1851.0,2764.0 L 1850.0,2764.0 L 1850.0,2763.0 L 1849.0,2763.0 L 1849.0,2762.0 L 1848.0,2762.0 L 1848.0,2761.0 L 1847.0,2761.0 L 1847.0,2760.0 L 1846.0,2760.0 L 1846.0,2759.0 L 1845.0,2759.0 L 1845.0,2758.0 L 1844.0,2758.0 L 1844.0,2757.0 L 1843.0,2757.0 L 1843.0,2756.0 L 1842.0,2756.0 L 1842.0,2755.0 L 1841.0,2755.0 L 1841.0,2754.0 L 1840.0,2754.0 L 1840.0,2753.0 L 1839.0,2753.0 L 1839.0,2752.0 L 1838.0,2752.0 L 1838.0,2751.0 L 1837.0,2751.0 L 1837.0,2750.0 L 1836.0,2750.0 L 1836.0,2749.0 L 1835.0,2749.0 L 1835.0,2748.0 L 1834.0,2748.0 L 1834.0,2747.0 L 1833.0,2747.0 L 1833.0,2746.0 L 1832.0,2746.0 L 1832.0,2745.0 L 1831.0,2745.0 L 1831.0,2744.0 L 1830.0,2744.0 L 1830.0,2743.0 L 1829.0,2743.0 L 1829.0,2742.0 L 1828.0,2742.0 L 1828.0,2741.0 L 1827.0,2741.0 L 1827.0,2740.0 L 1826.0,2740.0 L 1826.0,2739.0 L 1825.0,2739.0 L 1825.0,2738.0 L 1824.0,2738.0 L 1824.0,2737.0 L 1823.0,2737.0 L 1823.0,2736.0 L 1822.0,2736.0 L 1822.0,2735.0 L 1821.0,2735.0 L 1821.0,2734.0 L 1820.0,2734.0 L 1820.0,2733.0 L 1819.0,2733.0 L 1819.0,2732.0 L 1818.0,2732.0 L 1818.0,2731.0 L 1817.0,2731.0 L 1817.0,2730.0 L 1816.0,2730.0 L 1816.0,2729.0 L 1815.0,2729.0 L 1815.0,2728.0 L 1814.0,2728.0 L 1814.0,2727.0 L 1813.0,2727.0 L 1813.0,2726.0 L 1812.0,2726.0 L 1812.0,2725.0 L 1811.0,2725.0 L 1811.0,2724.0 L 1810.0,2724.0 L 1810.0,2723.0 L 1809.0,2723.0 L 1809.0,2722.0 L 1808.0,2722.0 L 1808.0,2721.0 L 1807.0,2721.0 L 1807.0,2720.0 L 1806.0,2720.0 L 1806.0,2719.0 L 1805.0,2719.0 L 1805.0,2718.0 L 1804.0,2718.0 L 1804.0,2717.0 L 1803.0,2717.0 L 1803.0,2716.0 L 1802.0,2716.0 L 1802.0,2715.0 L 1801.0,2715.0 L 1801.0,2714.0 L 1800.0,2714.0 L 1800.0,2713.0 L 1799.0,2713.0 L 1799.0,2712.0 L 1798.0,2712.0 L 1798.0,2711.0 L 1797.0,2711.0 L 1797.0,2710.0 L 1796.0,2710.0 L 1796.0,2709.0 L 1795.0,2709.0 L 1795.0,2708.0 L 1794.0,2708.0 L 1794.0,2707.0 L 1793.0,2707.0 L 1793.0,2706.0 L 1792.0,2706.0 L 1792.0,2705.0 L 1791.0,2705.0 L 1791.0,2704.0 L 1790.0,2704.0 L 1790.0,2703.0 L 1789.0,2703.0 L 1789.0,2702.0 L 1788.0,2702.0 L 1788.0,2701.0 L 1787.0,2701.0 L 1787.0,2700.0 L 1786.0,2700.0 L 1786.0,2699.0 L 1785.0,2699.0 L 1785.0,2698.0 L 1784.0,2698.0 L 1784.0,2697.0 L 1783.0,2697.0 L 1783.0,2696.0 L 1782.0,2696.0 L 1782.0,2695.0 L 1781.0,2695.0 L 1781.0,2694.0 L 1780.0,2694.0 L 1780.0,2693.0 L 1779.0,2693.0 L 1779.0,2692.0 L 1778.0,2692.0 L 1778.0,2691.0 L 1777.0,2691.0 L 1777.0,2690.0 L 1776.0,2690.0 L 1776.0,2689.0 L 1775.0,2689.0 L 1775.0,2688.0 L 1774.0,2688.0 L 1774.0,2687.0 L 1773.0,2687.0 L 1773.0,2686.0 L 1772.0,2686.0 L 1772.0,2685.0 L 1771.0,2685.0 L 1771.0,2684.0 L 1770.0,2684.0 L 1770.0,2683.0 L 1769.0,2683.0 L 1769.0,2682.0 L 1768.0,2682.0 L 1768.0,2681.0 L 1767.0,2681.0 L 1767.0,2680.0 L 1766.0,2680.0 L 1766.0,2679.0 L 1765.0,2679.0 L 1765.0,2678.0 L 1764.0,2678.0 L 1764.0,2677.0 L 1763.0,2677.0 L 1763.0,2676.0 L 1762.0,2676.0 L 1762.0,2675.0 L 1761.0,2675.0 L 1761.0,2674.0 L 1760.0,2674.0 L 1760.0,2673.0 L 1759.0,2673.0 L 1759.0,2672.0 L 1758.0,2672.0 L 1758.0,2671.0 L 1757.0,2671.0 L 1757.0,2670.0 L 1756.0,2670.0 L 1756.0,2669.0 L 1755.0,2669.0 L 1755.0,2668.0 L 1754.0,2668.0 L 1754.0,2667.0 L 1753.0,2667.0 L 1753.0,2666.0 L 1752.0,2666.0 L 1752.0,2665.0 L 1751.0,2665.0 L 1751.0,2664.0 L 1750.0,2664.0 L 1750.0,2663.0 L 1749.0,2663.0 L 1749.0,2662.0 L 1748.0,2662.0 L 1748.0,2661.0 L 1747.0,2661.0 L 1747.0,2660.0 L 1746.0,2660.0 L 1746.0,2659.0 L 1745.0,2659.0 L 1745.0,2658.0 L 1744.0,2658.0 L 1744.0,2657.0 L 1743.0,2657.0 L 1743.0,2656.0 L 1742.0,2656.0 L 1742.0,2655.0 L 1741.0,2655.0 L 1741.0,2654.0 L 1740.0,2654.0 L 1740.0,2653.0 L 1739.0,2653.0 L 1739.0,2652.0 L 1738.0,2652.0 L 1738.0,2651.0 L 1737.0,2651.0 L 1737.0,2650.0 L 1736.0,2650.0 L 1736.0,2649.0 L 1735.0,2649.0 L 1735.0,2648.0 L 1734.0,2648.0 L 1734.0,2647.0 L 1733.0,2647.0 L 1733.0,2646.0 L 1732.0,2646.0 L 1732.0,2645.0 L 1731.0,2645.0 L 1731.0,2644.0 L 1730.0,2644.0 L 1730.0,2643.0 L 1729.0,2643.0 L 1729.0,2642.0 L 1728.0,2642.0 L 1728.0,2641.0 L 1727.0,2641.0 L 1727.0,2640.0 L 1726.0,2640.0 L 1726.0,2639.0 L 1725.0,2639.0 L 1725.0,2638.0 L 1724.0,2638.0 L 1724.0,2637.0 L 1723.0,2637.0 L 1723.0,2636.0 L 1722.0,2636.0 L 1722.0,2635.0 L 1721.0,2635.0 L 1721.0,2634.0 L 1720.0,2634.0 L 1720.0,2633.0 L 1719.0,2633.0 L 1719.0,2632.0 L 1718.0,2632.0 L 1718.0,2631.0 L 1717.0,2631.0 L 1717.0,2630.0 L 1716.0,2630.0 L 1716.0,2629.0 L 1715.0,2629.0 L 1715.0,2628.0 L 1714.0,2628.0 L 1714.0,2627.0 L 1713.0,2627.0 L 1713.0,2626.0 L 1712.0,2626.0 L 1712.0,2625.0 L 1711.0,2625.0 L 1711.0,2624.0 L 1710.0,2624.0 L 1710.0,2623.0 L 1709.0,2623.0 L 1709.0,2622.0 L 1708.0,2622.0 L 1708.0,2621.0 L 1707.0,2621.0 L 1707.0,2620.0 L 1706.0,2620.0 L 1706.0,2619.0 L 1705.0,2619.0 L 1705.0,2618.0 L 1704.0,2618.0 L 1704.0,2617.0 L 1703.0,2617.0 L 1703.0,2616.0 L 1702.0,2616.0 L 1702.0,2615.0 L 1701.0,2615.0 L 1701.0,2614.0 L 1700.0,2614.0 L 1700.0,2613.0 L 1699.0,2613.0 L 1699.0,2612.0 L 1698.0,2612.0 L 1698.0,2611.0 L 1697.0,2611.0 L 1697.0,2610.0 L 1696.0,2610.0 L 1696.0,2609.0 L 1695.0,2609.0 L 1695.0,2608.0 L 1694.0,2608.0 L 1694.0,2607.0 L 1693.0,2607.0 L 1693.0,2606.0 L 1692.0,2606.0 L 1692.0,2605.0 L 1691.0,2605.0 L 1691.0,2604.0 L 1690.0,2604.0 L 1690.0,2603.0 L 1689.0,2603.0 L 1689.0,2602.0 L 1688.0,2602.0 L 1688.0,2601.0 L 1687.0,2601.0 L 1687.0,2600.0 L 1686.0,2600.0 L 1686.0,2599.0 L 1685.0,2599.0 L 1685.0,2598.0 L 1684.0,2598.0 L 1684.0,2597.0 L 1683.0,2597.0 L 1683.0,2596.0 L 1682.0,2596.0 L 1682.0,2595.0 L 1681.0,2595.0 L 1681.0,2594.0 L 1680.0,2594.0 L 1680.0,2790.0 L 1876.0,2790.0 L 1876.0,2789.0 z\" /><path fill-rule=\"evenodd\" fill=\"#66cc99\" stroke=\"#555555\" stroke-width=\"25.4088\" opacity=\"0.6\" d=\"M 17.0,2869.0 L 17.0,2868.0 L 14.0,2868.0 L 14.0,2867.0 L 12.0,2867.0 L 12.0,2866.0 L 11.0,2866.0 L 11.0,2865.0 L 9.0,2865.0 L 9.0,2864.0 L 8.0,2864.0 L 8.0,2863.0 L 7.0,2863.0 L 7.0,2862.0 L 6.0,2862.0 L 6.0,2861.0 L 5.0,2861.0 L 5.0,2859.0 L 4.0,2859.0 L 4.0,2858.0 L 3.0,2858.0 L 3.0,2856.0 L 2.0,2856.0 L 2.0,2853.0 L 1.0,2853.0 L 1.0,2850.0 L 0.0,2850.0 L 0.0,2869.0 L 17.0,2869.0 z\" /><path fill-rule=\"evenodd\" fill=\"#66cc99\" stroke=\"#555555\" stroke-width=\"25.4088\" opacity=\"0.6\" d=\"M 3527.0,2856.0 L 3527.0,2858.0 L 3526.0,2858.0 L 3526.0,2859.0 L 3525.0,2859.0 L 3525.0,2861.0 L 3524.0,2861.0 L 3524.0,2862.0 L 3523.0,2862.0 L 3523.0,2863.0 L 3522.0,2863.0 L 3522.0,2864.0 L 3521.0,2864.0 L 3521.0,2865.0 L 3519.0,2865.0 L 3519.0,2866.0 L 3518.0,2866.0 L 3518.0,2867.0 L 3516.0,2867.0 L 3516.0,2868.0 L 3513.0,2868.0 L 3513.0,2869.0 L 3529.0,2869.0 L 3529.0,2853.0 L 3528.0,2853.0 L 3528.0,2856.0 L 3527.0,2856.0 z\" /></g></g></svg>"
      ],
      "text/plain": [
       "<shapely.geometry.multipolygon.MultiPolygon at 0x7f375c83ea90>"
      ]
     },
     "execution_count": 299,
     "metadata": {},
     "output_type": "execute_result"
    }
   ],
   "source": [
    "rays.union(shape)"
   ]
  },
  {
   "cell_type": "code",
   "execution_count": 118,
   "id": "6298769b-9be9-4065-9dfd-ad4cfe070e2c",
   "metadata": {},
   "outputs": [],
   "source": [
    "grid = OccupancyGrid(0.05, x_cells=img_size[0], y_cells=img_size[1])\n",
    "grid._grid = img\n",
    "# grid.plot()\n",
    "# for cell in raycast:\n",
    "#     grid[tuple(cell)] = 100\n",
    "# grid.plot()\n"
   ]
  },
  {
   "cell_type": "code",
   "execution_count": 114,
   "id": "676a1ebf-6a71-441a-8776-2ade2e5f9b06",
   "metadata": {},
   "outputs": [],
   "source": [
    "raycast = raycast_in_every_direction(start_cell=(50, 50), available_cells=grid.get_empty_cells(), range_in_cells=1, squarify=False, outermost=False)"
   ]
  },
  {
   "cell_type": "code",
   "execution_count": 266,
   "id": "43414d62-3f01-48ce-9763-6b0f5cb89183",
   "metadata": {},
   "outputs": [
    {
     "data": {
      "image/svg+xml": [
       "<svg xmlns=\"http://www.w3.org/2000/svg\" xmlns:xlink=\"http://www.w3.org/1999/xlink\" width=\"100.0\" height=\"100.0\" viewBox=\"-2.062879409509726 -21.346339154800948 75.16799999999995 61.96799999999999\" preserveAspectRatio=\"xMinYMin meet\"><g transform=\"matrix(1,0,0,-1,0,19.27532169039809)\"><g><polyline fill=\"none\" stroke=\"#66cc99\" stroke-width=\"1.503359999999999\" points=\"32.92112059049024,37.23766084519904 26.92112059049024,37.23766084519904 26.92112059049024,33.88766084519904 26.52112059049024,33.88766084519904 26.52112059049024,37.23766084519904 18.12112059049024,37.23766084519904 18.12112059049024,33.88766084519904 17.72112059049024,33.88766084519904 17.72112059049024,37.23766084519904 1.321120590490227,37.23766084519904 1.321120590490227,20.43766084519903 14.37112059049024,20.43766084519903 14.37112059049024,20.03766084519904 13.82112059049024,20.03766084519904 13.82112059049024,19.43766084519903 13.42112059049024,19.43766084519903 13.42112059049024,20.03766084519904 11.42112059049024,20.03766084519904 11.42112059049024,16.03766084519905 13.42112059049024,16.03766084519905 13.42112059049024,16.63766084519903 13.82112059049024,16.63766084519903 13.82112059049024,16.03766084519905 14.17112059049025,16.03766084519905 14.17112059049025,15.63766084519903 7.721120590490227,15.63766084519903 7.721120590490227,16.03766084519905 11.02112059049024,16.03766084519905 11.02112059049024,20.03766084519904 1.321120590490227,20.03766084519904 1.321120590490227,16.03766084519905 4.721120590490227,16.03766084519905 4.721120590490227,15.63766084519903 1.321120590490227,15.63766084519904 1.321120590490227,2.437660845199042 17.52112059049024,2.437660845199042 17.52112059049024,15.63766084519903 17.17112059049024,15.63766084519903 17.17112059049024,16.03766084519905 18.27112059049024,16.03766084519905 18.27112059049024,15.63766084519903 17.92112059049024,15.63766084519903 17.92112059049024,0.0376608451990428 31.72112059049024,0.0376608451990428 31.72112059049024,3.037660845199043 32.12112059049025,3.037660845199043 32.12112059049025,2.437660845199042 34.52112059049024,2.437660845199042 34.52112059049023,12.03766084519904 32.12112059049025,12.03766084519904 32.12112059049025,11.43766084519904 31.72112059049024,11.43766084519904 31.72112059049024,15.63766084519903 21.27112059049025,15.63766084519903 21.27112059049025,16.03766084519905 34.92112059049025,16.03766084519905 34.92112059049024,15.23766084519903 34.52112059049023,15.23766084519903 34.52112059049023,15.63766084519903 32.12112059049025,15.63766084519903 32.12112059049025,12.43766084519904 34.52112059049023,12.43766084519904 34.52112059049023,12.83766084519904 34.92112059049024,12.83766084519904 34.92112059049024,7.637660845199042 43.92112059049024,7.637660845199044 43.92112059049024,16.03766084519905 53.72112059049024,16.03766084519905 53.72112059049024,21.83766084519902 54.12112059049024,21.83766084519902 54.12112059049024,16.03766084519905 56.62112059049024,16.03766084519905 56.62112059049024,15.28766084519904 56.22112059049024,15.28766084519904 56.22112059049024,15.63766084519903 49.92112059049023,15.63766084519903 49.92112059049023,15.28766084519904 49.52112059049025,15.28766084519904 49.52112059049025,15.63766084519903 44.32112059049024,15.63766084519903 44.32112059049024,7.637660845199044 49.52112059049025,7.637660845199044 49.52112059049025,12.28766084519904 49.92112059049023,12.28766084519904 49.92112059049023,7.637660845199044 56.22112059049024,7.637660845199044 56.22112059049024,12.28766084519904 56.62112059049024,12.28766084519904 56.62112059049024,7.637660845199044 57.07112059049024,7.637660845199044 57.07112059049024,7.037660845199043 44.32112059049024,7.037660845199043 44.32112059049024,-17.96233915480096 69.72112059049023,-17.96233915480096 69.72112059049023,7.037660845199043 60.67112059049024,7.037660845199043 60.67112059049024,7.637660845199044 69.72112059049023,7.637660845199044 69.72112059049023,37.23766084519904 39.52111905307681,37.23766084519904 33.32112059049024,31.03766084519901 33.32112059049024,20.03766084519904 32.67112059049024,20.03766084519904 32.67112059049024,20.43766084519903 32.92112059049024,20.43766084519903 32.92112059049024,30.13766084519904 26.92112059049024,30.13766084519904 26.92112059049024,20.43766084519903 29.87112059049024,20.43766084519903 29.87112059049024,20.03766084519904 25.92112059049024,20.03766084519904 25.92112059049024,20.43766084519903 26.52112059049024,20.43766084519903 26.52112059049024,22.63766084519904 18.12112059049024,22.63766084519904 18.12112059049024,20.43766084519903 18.72112059049026,20.43766084519903 18.72112059049026,20.03766084519904 17.37112059049024,20.03766084519904 17.37112059049024,20.43766084519903 17.72112059049024,20.43766084519903 17.72112059049024,30.88766084519904 18.12112059049024,30.88766084519904 18.12112059049024,30.53766084519904 20.82112059049026,30.53766084519904 20.82112059049026,30.13766084519904 18.12112059049024,30.13766084519904 18.12112059049024,23.03766084519903 26.52112059049024,23.03766084519903 26.52112059049024,30.13766084519904 23.82112059049024,30.13766084519904 23.82112059049024,30.53766084519904 26.52112059049024,30.53766084519904 26.52112059049024,30.88766084519904 26.92112059049024,30.88766084519904 26.92112059049024,30.53766084519904 32.92112059049024,30.53766084519904 32.92112059049024,37.23766084519904\" opacity=\"0.8\" /><polyline fill=\"none\" stroke=\"#66cc99\" stroke-width=\"1.503359999999999\" points=\"33.32112059049024,37.23766084519904 33.32112059049024,31.603346845199 38.95543459049026,37.23766084519904 33.32112059049024,37.23766084519904\" opacity=\"0.8\" /><polyline fill=\"none\" stroke=\"#66cc99\" stroke-width=\"1.503359999999999\" points=\"70.32112059049024,37.23766084519904 70.32112059049022,-18.56233915480095 43.72112059049024,-18.56233915480095 43.72112059049024,1.837660845199042 43.72112059049024,7.037660845199043 35.12112059049024,7.037660845199043 35.12112059049024,1.837660845199043 32.32112059049024,1.837660845199042 32.32112059049024,-0.5623391548009558 17.32112059049024,-0.5623391548009536 17.32112059049024,1.837660845199042 0.7211205904902727,1.837660845199042 0.7211205904902727,37.83766084519904 70.32112059049024,37.83766084519904 70.32112059049024,37.23766084519904\" opacity=\"0.8\" /></g></g></svg>"
      ],
      "text/plain": [
       "<shapely.geometry.multilinestring.MultiLineString at 0x7f375942c820>"
      ]
     },
     "execution_count": 266,
     "metadata": {},
     "output_type": "execute_result"
    }
   ],
   "source": [
    "wall_thickness = 0.1\n",
    "wall_height = 5\n",
    "world_name = \"rect_falop\"\n",
    "\n",
    "block_size = 1\n",
    "# Create a world generator to place\n",
    "# objects in the world\n",
    "world_generator = WorldGenerator()\n",
    "polygons = []\n",
    "layout = gpd.read_file(f\"{os.getcwd()}/files/small_house_clean.dxf\")\n",
    "wall_lines = layout.unary_union\n",
    "wall_lines"
   ]
  },
  {
   "cell_type": "code",
   "execution_count": 3,
   "id": "864324d4-4298-430d-b23c-a98d6e7542aa",
   "metadata": {},
   "outputs": [
    {
     "data": {
      "text/plain": [
       "SceneViewer(width=1311, height=713)"
      ]
     },
     "execution_count": 3,
     "metadata": {},
     "output_type": "execute_result"
    }
   ],
   "source": [
    "world_generator.world.add_model(\n",
    "    tag='ground_plane',\n",
    "    model=SimulationModel.from_gazebo_model('ground_plane'))\n",
    "\n",
    "# # Retrieve the free space polygon where objects\n",
    "# # can be placed within the walls\n",
    "# free_space_polygon = world_generator.world.get_free_space_polygon(\n",
    "#     ground_plane_models=[walls_model.name],\n",
    "#     ignore_models=['ground_plane'])\n",
    "# # Add the workspace constraint to the\n",
    "# # generator\n",
    "# world_generator.add_constraint(\n",
    "#     name='room_workspace',\n",
    "#     type='workspace',\n",
    "#     frame='world',\n",
    "#     geometry_type='polygon',\n",
    "#     polygon=free_space_polygon\n",
    "# )\n",
    "\n",
    "# # Add constraint to place all object\n",
    "# # tangent to the ground\n",
    "# world_generator.add_constraint(\n",
    "#     name='tangent_to_ground_plane',\n",
    "#     type='tangent',\n",
    "#     frame='world',\n",
    "#     reference=dict(\n",
    "#         type='plane',\n",
    "#         args=dict(\n",
    "#             origin=[0, 0, 0],\n",
    "#             normal=[0, 0, 1]\n",
    "#         )\n",
    "#     )\n",
    "# )\n",
    "\n",
    "# orientation_dofs = ['yaw']\n",
    "# models = dict()\n",
    "# world_generator.add_asset(\n",
    "#     tag='box',\n",
    "#     description=dict(\n",
    "#         type='box',\n",
    "#         args=dict(\n",
    "#             size=\"__import__('numpy').random.uniform(1, 10, 3)\",\n",
    "#             name='cuboid',\n",
    "#             color='xkcd'\n",
    "#         )\n",
    "#     )\n",
    "# )\n",
    "# models['box'] = 120\n",
    "\n",
    "# # Add placement policy\n",
    "# placement_policy = dict(\n",
    "#     models=list(models.keys()),\n",
    "#     config=[\n",
    "#         dict(\n",
    "#             dofs=['x', 'y'],\n",
    "#             tag='workspace',\n",
    "#             workspace='room_workspace'\n",
    "#         ),\n",
    "#         dict(\n",
    "#             dofs=orientation_dofs,\n",
    "#             tag='uniform',\n",
    "#             mean=0,\n",
    "#             min=-3.141592653589793,\n",
    "#             max=3.141592653589793\n",
    "#         )\n",
    "#     ]\n",
    "# )\n",
    "\n",
    "# # Set local constraints\n",
    "# local_constraints = list()\n",
    "# for m in models:\n",
    "#     local_constraints.append(\n",
    "#         dict(model=m, constraint='tangent_to_ground_plane'))\n",
    "# # Place objects randomly on the free\n",
    "# # space within the walls\n",
    "# world_generator.add_engine(\n",
    "#     tag='placement_engine',\n",
    "#     engine_name='random_pose',\n",
    "#     models=list(models.keys()),\n",
    "#     max_num=models,\n",
    "#     model_picker='random',\n",
    "#     no_collision=True,\n",
    "#     min_distance=0.0,\n",
    "#     policies=[placement_policy],\n",
    "#     constraints=local_constraints\n",
    "# )\n",
    "# # Run placement engine\n",
    "# world_generator.run_engines(attach_models=True)\n",
    "    \n",
    "world_generator.world.name = world_name\n",
    "world_generator.world.show()"
   ]
  },
  {
   "cell_type": "code",
   "execution_count": 4,
   "id": "d559c999-fb95-4c9f-85ef-6071ebf7e02f",
   "metadata": {},
   "outputs": [
    {
     "name": "stdout",
     "output_type": "stream",
     "text": [
      "64\n",
      "World file: /home/agusmazzeo/.gazebo/worlds/rect_falop.world\n"
     ]
    }
   ],
   "source": [
    "import sys\n",
    "# Export world to file and walls model as Gazebo model\n",
    "export_models_dir = \"/home/agusmazzeo/.gazebo/models\"\n",
    "export_world_dir = \"/home/agusmazzeo/.gazebo/worlds\"\n",
    "add_custom_gazebo_resource_path(export_models_dir)\n",
    "print(sys.getsizeof(world_generator))\n",
    "\n",
    "full_world_filename = world_generator.export_world(\n",
    "    output_dir=export_world_dir,\n",
    "    filename=world_generator.world.name + '.world',\n",
    "    models_output_dir=export_models_dir,\n",
    "    with_default_sun=False,\n",
    "    overwrite=True)\n",
    "\n",
    "print('World file: {}'.format(full_world_filename))"
   ]
  },
  {
   "cell_type": "code",
   "execution_count": 5,
   "id": "6d5d70ff-6102-47c7-a106-0d48ceb61283",
   "metadata": {},
   "outputs": [
    {
     "name": "stdout",
     "output_type": "stream",
     "text": [
      "env: GAZEBO_MODEL_PATH=/home/agusmazzeo/.gazebo/models\n"
     ]
    },
    {
     "ename": "NameError",
     "evalue": "name 'LayoutReader' is not defined",
     "output_type": "error",
     "traceback": [
      "\u001b[0;31m---------------------------------------------------------------------------\u001b[0m",
      "\u001b[0;31mNameError\u001b[0m                                 Traceback (most recent call last)",
      "\u001b[0;32m/tmp/ipykernel_12150/1878830667.py\u001b[0m in \u001b[0;36m<module>\u001b[0;34m\u001b[0m\n\u001b[1;32m      6\u001b[0m \u001b[0mfiles_dir\u001b[0m \u001b[0;34m=\u001b[0m \u001b[0;34mf\"{base_dir}/files\"\u001b[0m\u001b[0;34m\u001b[0m\u001b[0;34m\u001b[0m\u001b[0m\n\u001b[1;32m      7\u001b[0m \u001b[0;34m\u001b[0m\u001b[0m\n\u001b[0;32m----> 8\u001b[0;31m \u001b[0mlayout_reader\u001b[0m \u001b[0;34m=\u001b[0m \u001b[0mLayoutReader\u001b[0m\u001b[0;34m(\u001b[0m\u001b[0mfile_name\u001b[0m\u001b[0;34m=\u001b[0m\u001b[0;34mf\"small_house_clean\"\u001b[0m\u001b[0;34m,\u001b[0m \u001b[0mfile_extension\u001b[0m\u001b[0;34m=\u001b[0m\u001b[0;34m\"dxf\"\u001b[0m\u001b[0;34m,\u001b[0m \u001b[0mfiles_dir\u001b[0m\u001b[0;34m=\u001b[0m\u001b[0;34mf\"{files_dir}/\"\u001b[0m\u001b[0;34m)\u001b[0m\u001b[0;34m\u001b[0m\u001b[0;34m\u001b[0m\u001b[0m\n\u001b[0m\u001b[1;32m      9\u001b[0m \u001b[0mlayout_reader\u001b[0m\u001b[0;34m.\u001b[0m\u001b[0mcreate_gazebo_model\u001b[0m\u001b[0;34m(\u001b[0m\u001b[0moutput_file_dir\u001b[0m\u001b[0;34m=\u001b[0m\u001b[0;34m\"/home/agusmazzeo/.gazebo\"\u001b[0m\u001b[0;34m,\u001b[0m \u001b[0mshow\u001b[0m\u001b[0;34m=\u001b[0m\u001b[0;32mTrue\u001b[0m\u001b[0;34m)\u001b[0m\u001b[0;34m\u001b[0m\u001b[0;34m\u001b[0m\u001b[0m\n",
      "\u001b[0;31mNameError\u001b[0m: name 'LayoutReader' is not defined"
     ]
    }
   ],
   "source": [
    "%env GAZEBO_MODEL_PATH=/home/agusmazzeo/.gazebo/models\n",
    "\n",
    "import os\n",
    "\n",
    "base_dir = os.getcwd()\n",
    "files_dir = f\"{base_dir}/files\"\n",
    "\n",
    "layout_reader = LayoutReader(file_name=f\"small_house_clean\", file_extension=\"dxf\", files_dir=f\"{files_dir}/\")\n",
    "layout_reader.create_gazebo_model(output_file_dir=\"/home/agusmazzeo/.gazebo\", show=True)"
   ]
  }
 ],
 "metadata": {
  "kernelspec": {
   "display_name": "Python 3 (ipykernel)",
   "language": "python",
   "name": "python3"
  },
  "language_info": {
   "codemirror_mode": {
    "name": "ipython",
    "version": 3
   },
   "file_extension": ".py",
   "mimetype": "text/x-python",
   "name": "python",
   "nbconvert_exporter": "python",
   "pygments_lexer": "ipython3",
   "version": "3.8.10"
  }
 },
 "nbformat": 4,
 "nbformat_minor": 5
}
