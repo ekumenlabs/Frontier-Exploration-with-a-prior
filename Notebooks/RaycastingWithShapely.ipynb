{
 "cells": [
  {
   "cell_type": "code",
   "execution_count": 1,
   "id": "2ce375e4-8090-45f3-b701-915254c41b7a",
   "metadata": {},
   "outputs": [],
   "source": [
    "import os\n",
    "from tqdm import tqdm\n",
    "import geopandas as gpd\n",
    "import numpy as np\n",
    "import pandas as pd\n",
    "\n",
    "from enum import Enum\n",
    "\n",
    "from FrontierExploration.preprocessing.layout.polygons import Square\n",
    "\n",
    "\n",
    "base_dir = os.getcwd()\n",
    "files_dir = f\"{base_dir}/files\"\n",
    "file_dir = f\"{files_dir}/small_house_clean.dxf\"\n",
    "\n",
    "def get_center(item):\n",
    "    xmin, ymin, xmax, ymax = item[\"geometry\"].bounds\n",
    "    return pd.Series([(xmax+xmin)/2, (ymax+ymin)/2, int(item[\"intersects\"])], index=['axis_x', 'axis_y', 'occuped'])"
   ]
  },
  {
   "cell_type": "code",
   "execution_count": 10,
   "id": "a7b5ff68-2c74-4a20-9af1-fa8b661569c7",
   "metadata": {},
   "outputs": [],
   "source": [
    "class BlockStatus(Enum):\n",
    "    Free = 0\n",
    "    Occuped = 1\n",
    "    Unknown = 2\n",
    "\n",
    "polygons_list = []\n",
    "square_size = 1\n",
    "layout = gpd.read_file(file_dir)\n",
    "clean_layout = layout['geometry']\n",
    "xmin, ymin, xmax, ymax = clean_layout.total_bounds\n",
    "for xstart in np.nditer(np.arange(int(xmin) - square_size, int(xmax), square_size)):\n",
    "    for ystart in  np.nditer(np.arange(int(ymin) - square_size, int(ymax), square_size)):\n",
    "        polygons_list.append(Square(square_size, xstart, ystart))\n",
    "\n",
    "layout_df = gpd.GeoDataFrame(geometry=polygons_list)\n",
    "layout_df[\"intersects\"]= layout_df.intersects(clean_layout.unary_union)\n",
    "layout_df.loc[layout_df[\"intersects\"] == True, \"status\"] = BlockStatus.Occuped.value\n",
    "layout_df.loc[layout_df[\"intersects\"] == False, \"status\"] = BlockStatus.Unknown.value"
   ]
  },
  {
   "cell_type": "code",
   "execution_count": 17,
   "id": "50dae6f0-7f71-4f16-ae95-5ddac27f2ae7",
   "metadata": {},
   "outputs": [
    {
     "data": {
      "text/plain": [
       "<AxesSubplot:>"
      ]
     },
     "execution_count": 17,
     "metadata": {},
     "output_type": "execute_result"
    },
    {
     "data": {
      "image/png": "[encoded data removed]",
      "text/plain": [
       "<Figure size 432x288 with 1 Axes>"
      ]
     },
     "metadata": {
      "needs_background": "light"
     },
     "output_type": "display_data"
    }
   ],
   "source": [
    "layout_df.loc[layout_df[\"status\"] == BlockStatus.Occuped.value].plot()"
   ]
  },
  {
   "cell_type": "code",
   "execution_count": 108,
   "id": "56ab0c45-dd6a-4944-b0bf-10b3cd6a8fd1",
   "metadata": {},
   "outputs": [],
   "source": [
    "from shapely.geometry import Polygon, LineString, Point, MultiLineString, MultiPolygon\n",
    "\n",
    "class RayCast:\n",
    "    def __init__(self, num_rays: int, ray_range: float, start_x: float = 0, start_y: float = 0):\n",
    "        self.start_x = start_x\n",
    "        self.start_y = start_y\n",
    "        self._num_rays = num_rays\n",
    "        self._ray_range = ray_range\n",
    "        self.raycast_df = gpd.GeoDataFrame(geometry=[LineString([(start_x, start_y), movement]) for movement in self.directions])\n",
    "\n",
    "    def run_on_df(self, layout_df: gpd.GeoDataFrame):\n",
    "        for index in tqdm(layout_df.index):\n",
    "            raycast.intersect_with_polygon(layout_df['geometry'][index],layout_df['status'][index])\n",
    "        \n",
    "            \n",
    "    def intersect_with_polygon(self, polygon: Polygon, block_status: BlockStatus):\n",
    "        if block_status == BlockStatus.Occuped.value:\n",
    "            self.raycast_df[\"geometry\"] = self.raycast_df[\"geometry\"].apply(self.get_line_to_intersection, args=(polygon,))\n",
    "        if block_status == BlockStatus.Free.value:\n",
    "            poly_df = gpd.GeoDataFrame(geometry=[poly])\n",
    "            self.raycast_df[\"geometry\"] = self.raycast_df.overlay(poly_df, how='difference')[\"geometry\"]\n",
    "    \n",
    "    def get_line_to_intersection(self, line: LineString, polygon: Polygon):\n",
    "        origin = self.origin_point\n",
    "        if line.intersects(polygon):\n",
    "            lines_distances = {}\n",
    "            for point in line.intersection(polygon).coords:\n",
    "                line = LineString([origin,point])\n",
    "                lines_distances[line.length] = line\n",
    "            shorter = lines_distances[min(lines_distances.keys())] if len(lines_distances)!=0 else line\n",
    "        else:\n",
    "            shorter = line\n",
    "        return shorter        \n",
    "\n",
    "    @property\n",
    "    def visibility_percentage(self):\n",
    "        return 100*self.visibility/self._ray_range\n",
    "    \n",
    "    @property\n",
    "    def visibility(self):\n",
    "        self.raycast_df['length'] = self.raycast_df.apply(lambda row: row[0].length, axis=1)\n",
    "        return self.raycast_df['length'].mean()\n",
    "    \n",
    "    @property\n",
    "    def origin_point(self):\n",
    "        return Point(self.start_x, self.start_y)\n",
    "    \n",
    "    @property\n",
    "    def directions(self):\n",
    "        return [(self._ray_range*np.cos(angle)+self.start_x, self._ray_range*np.sin(angle)+self.start_y) for angle in np.linspace(0, 2 * np.pi, num=self._num_rays, endpoint=False)]\n",
    "\n",
    "    def plot(self, *args, **kwargs):\n",
    "        self.raycast_df.plot( *args, **kwargs)"
   ]
  },
  {
   "cell_type": "code",
   "execution_count": 109,
   "id": "3c5d3616-404b-414f-83a6-2cbec080ee4c",
   "metadata": {},
   "outputs": [],
   "source": [
    "# circle = Point(2, 2).buffer(0.5)\n",
    "# poly = Polygon([(1.5,1.5),(1.5,2),(2,2),(4,2),(4,1.5)])\n",
    "# raycast.intersect_with_polygon(circle, BlockStatus.Occuped.value)\n",
    "# raycast.plot()"
   ]
  },
  {
   "cell_type": "code",
   "execution_count": 116,
   "id": "4416d370-9bef-4b10-9e6f-3d25c597f8f5",
   "metadata": {},
   "outputs": [
    {
     "name": "stderr",
     "output_type": "stream",
     "text": [
      "100%|██████████████████████████████████████████████████████████████████████████████████████████████████████████████████████████████████████████████| 3976/3976 [00:01<00:00, 2776.89it/s]\n"
     ]
    },
    {
     "name": "stdout",
     "output_type": "stream",
     "text": [
      "78.85710030409845\n"
     ]
    },
    {
     "data": {
      "text/plain": [
       "<AxesSubplot:>"
      ]
     },
     "execution_count": 116,
     "metadata": {},
     "output_type": "execute_result"
    },
    {
     "data": {
      "image/png": "[encoded data removed]",
      "text/plain": [
       "<Figure size 432x288 with 1 Axes>"
      ]
     },
     "metadata": {
      "needs_background": "light"
     },
     "output_type": "display_data"
    }
   ],
   "source": [
    "raycast = RayCast(num_rays=50, ray_range=10, start_x=25, start_y=10)\n",
    "raycast.run_on_df(layout_df)\n",
    "print(raycast.visibility_percentage)\n",
    "raycast.raycast_df.append(layout_df.loc[layout_df[\"status\"]==BlockStatus.Occuped.value]).plot()"
   ]
  }
 ],
 "metadata": {
  "kernelspec": {
   "display_name": "Python 3 (ipykernel)",
   "language": "python",
   "name": "python3"
  },
  "language_info": {
   "codemirror_mode": {
    "name": "ipython",
    "version": 3
   },
   "file_extension": ".py",
   "mimetype": "text/x-python",
   "name": "python",
   "nbconvert_exporter": "python",
   "pygments_lexer": "ipython3",
   "version": "3.7.13"
  }
 },
 "nbformat": 4,
 "nbformat_minor": 5
}
