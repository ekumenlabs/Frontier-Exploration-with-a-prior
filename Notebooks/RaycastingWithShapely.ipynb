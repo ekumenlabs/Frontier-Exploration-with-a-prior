{
 "cells": [
  {
   "cell_type": "code",
   "execution_count": 1,
   "id": "2ce375e4-8090-45f3-b701-915254c41b7a",
   "metadata": {},
   "outputs": [],
   "source": [
    "import os\n",
    "from tqdm import tqdm\n",
    "import geopandas as gpd\n",
    "import numpy as np\n",
    "import pandas as pd\n",
    "import shapely\n",
    "\n",
    "from enum import Enum\n",
    "\n",
    "from FrontierExploration.preprocessing.layout.polygons import Square\n",
    "from FrontierExploration.preprocessing.grid.visibility_grid import VisibilityGrid\n",
    "\n",
    "base_dir = os.getcwd()\n",
    "files_dir = f\"{base_dir}/files\"\n",
    "file_dir = f\"{files_dir}/small_house_clean.dxf\"\n"
   ]
  },
  {
   "cell_type": "code",
   "execution_count": 2,
   "id": "56ab0c45-dd6a-4944-b0bf-10b3cd6a8fd1",
   "metadata": {},
   "outputs": [],
   "source": [
    "from shapely.geometry import Polygon, LineString, Point, MultiLineString, MultiPolygon\n",
    "\n",
    "UNKNOWN = -1\n",
    "OCCUPIED = 100\n",
    "SEEN = 50\n",
    "\n",
    "class BlockStatus(Enum):\n",
    "    Seen = SEEN\n",
    "    Occupied = OCCUPIED\n",
    "    Unknown = UNKNOWN\n",
    "    Raycasted = 125\n",
    "\n",
    "class RayCast:\n",
    "    def __init__(self, num_rays: int, ray_range: float, start_x: float = 0, start_y: float = 0):\n",
    "        self.start_x = start_x\n",
    "        self.start_y = start_y\n",
    "        self._num_rays = num_rays\n",
    "        self._ray_range = ray_range\n",
    "        self.raycast_df = gpd.GeoDataFrame(geometry=[LineString([(start_x, start_y), movement]) for movement in self.directions])\n",
    "        self.raycast_df[\"status\"] = BlockStatus.Raycasted.value\n",
    "\n",
    "    def run_on_df(self, layout_df: gpd.GeoDataFrame):\n",
    "        for index in tqdm(layout_df[layout_df[\"status\"] == BlockStatus.Occupied.value].index):\n",
    "            self.intersect_with_polygon(layout_df['geometry'][index],layout_df['status'][index])\n",
    "\n",
    "        for index in tqdm(layout_df[layout_df[\"status\"] == BlockStatus.Seen.value].index):\n",
    "            self.intersect_with_polygon(layout_df['geometry'][index], BlockStatus.Seen.value)\n",
    "        \n",
    "            \n",
    "    def intersect_with_polygon(self, polygon: Polygon, block_status: BlockStatus):\n",
    "        if block_status == BlockStatus.Occupied.value:\n",
    "            self.raycast_df[\"geometry\"] = self.raycast_df[\"geometry\"].apply(self.get_line_to_intersection, args=(polygon,))\n",
    "        if block_status == BlockStatus.Seen.value:\n",
    "            poly_df = gpd.GeoDataFrame(geometry=[polygon])\n",
    "            self.raycast_df[\"geometry\"] = self.raycast_df.overlay(poly_df, how='difference')[\"geometry\"]\n",
    "            self.raycast_df.dropna(inplace=True)\n",
    "    \n",
    "    def get_line_to_intersection(self, line: LineString, polygon: Polygon):\n",
    "        origin = self.origin_point\n",
    "        if line.intersects(polygon):\n",
    "            inter_line = line.difference(polygon)\n",
    "            if isinstance(inter_line, MultiLineString):\n",
    "                return inter_line[0]\n",
    "            return inter_line\n",
    "        return line        \n",
    "\n",
    "    @property\n",
    "    def visibility_percentage(self):\n",
    "        return 100*self.visibility/self._ray_range\n",
    "    \n",
    "    @property\n",
    "    def visibility(self):\n",
    "        self.raycast_df.dropna(inplace=True)\n",
    "        self.raycast_df['length'] = self.raycast_df.apply(lambda row: row[0].length, axis=1)\n",
    "        return self.raycast_df['length'].mean()\n",
    "    \n",
    "    @property\n",
    "    def origin_point(self):\n",
    "        return Point(self.start_x, self.start_y)\n",
    "    \n",
    "    @property\n",
    "    def directions(self):\n",
    "        return [(self._ray_range*np.cos(angle)+self.start_x, self._ray_range*np.sin(angle)+self.start_y) for angle in np.linspace(0, 2 * np.pi, num=self._num_rays, endpoint=False)]\n",
    "\n",
    "    def plot(self, *args, **kwargs):\n",
    "        self.raycast_df.plot( *args, **kwargs)"
   ]
  },
  {
   "cell_type": "code",
   "execution_count": 7,
   "id": "4416d370-9bef-4b10-9e6f-3d25c597f8f5",
   "metadata": {},
   "outputs": [
    {
     "name": "stderr",
     "output_type": "stream",
     "text": [
      "  0%|                                                                                                                                                              | 0/1 [00:00<?, ?it/s]/home/agusmazzeo/Documents/UTN/Proyecto/Frontier-Exploration-with-a-prior/src/FrontierExploration/preprocessing/grid/raycasting.py:106: ShapelyDeprecationWarning: __getitem__ for multi-part geometries is deprecated and will be removed in Shapely 2.0. Use the `geoms` property to access the constituent parts of a multi-part geometry.\n",
      "  return inter_line[0]\n",
      "100%|██████████████████████████████████████████████████████████████████████████████████████████████████████████████████████████████████████████████████████| 1/1 [00:00<00:00, 82.72it/s]\n",
      "0it [00:00, ?it/s]\n"
     ]
    },
    {
     "data": {
      "image/png": "[encoded data removed]",
      "text/plain": [
       "<Figure size 432x288 with 1 Axes>"
      ]
     },
     "metadata": {
      "needs_background": "light"
     },
     "output_type": "display_data"
    }
   ],
   "source": [
    "layout = gpd.read_file(file_dir)\n",
    "bounds = layout.unary_union.bounds\n",
    "tf_to_zero = [1, 0, 0, 1, -bounds[0], -bounds[1]]\n",
    "layout = layout[\"geometry\"].apply(lambda x: shapely.affinity.affine_transform(x, tf_to_zero)).unary_union.buffer(0.3)\n",
    "visibility_grid = VisibilityGrid(layout=layout, square_size=0.05)\n",
    "# raycast = RayCast(num_rays=50, ray_range=200, start_x=200, start_y=600)\n",
    "# raycast.run_on_df(visibility_grid._occupancy_df)\n",
    "# raycast.raycast_df.append(visibility_grid._occupancy_df).plot(column=\"status\", figsize=(15, 10))\n",
    "visibility_grid.visibility(10, 20)\n",
    "visibility_grid.plot()"
   ]
  }
 ],
 "metadata": {
  "kernelspec": {
   "display_name": "Python 3 (ipykernel)",
   "language": "python",
   "name": "python3"
  },
  "language_info": {
   "codemirror_mode": {
    "name": "ipython",
    "version": 3
   },
   "file_extension": ".py",
   "mimetype": "text/x-python",
   "name": "python",
   "nbconvert_exporter": "python",
   "pygments_lexer": "ipython3",
   "version": "3.7.13"
  }
 },
 "nbformat": 4,
 "nbformat_minor": 5
}
